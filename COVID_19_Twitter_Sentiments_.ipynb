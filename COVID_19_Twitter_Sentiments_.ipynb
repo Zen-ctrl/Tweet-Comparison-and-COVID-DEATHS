{
  "nbformat": 4,
  "nbformat_minor": 0,
  "metadata": {
    "colab": {
      "name": "COVID-19 Twitter Sentiments .ipynb",
      "provenance": []
    },
    "kernelspec": {
      "name": "python3",
      "display_name": "Python 3"
    },
    "language_info": {
      "name": "python"
    }
  },
  "cells": [
    {
      "cell_type": "code",
      "metadata": {
        "id": "ZqcBJxbZxs62"
      },
      "source": [
        "import pandas as pd\n",
        "import numpy as np\n",
        "import matplotlib.pyplot as plt"
      ],
      "execution_count": 206,
      "outputs": []
    },
    {
      "cell_type": "markdown",
      "metadata": {
        "id": "oR9bLIwMqyPw"
      },
      "source": [
        "# **COVID-19 Twitter Sentiments**"
      ]
    },
    {
      "cell_type": "markdown",
      "source": [
        "# A. **Problem**: Do Twitter-tweet sentiments have any correlations with COVID19 death counts? That is, do states with higher death counts have a particular sentiment correlated to its tweets?\n"
      ],
      "metadata": {
        "id": "Kfgn4a3j9l-J"
      }
    },
    {
      "cell_type": "markdown",
      "source": [
        "# **B. Datasets used**"
      ],
      "metadata": {
        "id": "RQYjlDEv_Dla"
      }
    },
    {
      "cell_type": "markdown",
      "source": [
        "## Tweet Source:\n",
        "I constructed the twextual dataset by using a guide on twitter webscraping. I used the Twint library to construct a twitter webscraper that did not need to use Twitter's API. \n",
        "https://pypi.org/project/twint/ \n",
        "\n",
        "Twint allowed me to filter by tweet date, querey (keyword being COIVD19), number of tweets that are to be scraped, location of the tweet (state), and finally an output file in `.csv` of the scarped data.  \n",
        "\n",
        "The code can be found on my github. The code may be ran in an UNIX-Based OS via terminal. If that's not possible, one could make an args data class and delete the argparse part from the code.\n",
        "\n",
        "Code: https://github.com/kwxk/twitter-textual-scraper with comments for each line. \n",
        "\n",
        "Here is the general format for the crawler within the argparse of the code:\n",
        "\n",
        "`python tweet_crawler -q [write here query] -d [write here since date] -c [write here how many tweets you want from each state] -s [provide here a list of states each state between quotation marks] -o [write here output file name]`\n",
        "\n",
        "So for example: `python tweet_crawler -q covid19 -d 2020-01-01 -c 100 -s \"New Jersey\" \"Florida\" -o output.csv`\n",
        "\n",
        "Tweets were collected from a year to date (Decemeber 01, 2021).\n",
        "\n",
        "**I treated this as if it were an ETL pipeline.**"
      ],
      "metadata": {
        "id": "37HGBmqY_ikZ"
      }
    },
    {
      "cell_type": "markdown",
      "metadata": {
        "id": "JtKodC0ozLTK"
      },
      "source": [
        "## **Tweet Dataset**"
      ]
    },
    {
      "cell_type": "markdown",
      "source": [
        "The main dataset must be split between states and english (en) tweets must be preserved in each dataset."
      ],
      "metadata": {
        "id": "VFEDsYpkhOty"
      }
    },
    {
      "cell_type": "markdown",
      "source": [
        "### **Main tweet data frame**"
      ],
      "metadata": {
        "id": "oRNz3Q6YHOQq"
      }
    },
    {
      "cell_type": "code",
      "metadata": {
        "colab": {
          "base_uri": "https://localhost:8080/",
          "height": 0
        },
        "id": "rSaVXoYpzXde",
        "outputId": "04220fa6-4679-4d3d-fdbb-6ff55ec30072"
      },
      "source": [
        "df = pd.read_csv('covid19.csv')\n",
        "df.head()"
      ],
      "execution_count": 301,
      "outputs": [
        {
          "output_type": "execute_result",
          "data": {
            "text/html": [
              "<div>\n",
              "<style scoped>\n",
              "    .dataframe tbody tr th:only-of-type {\n",
              "        vertical-align: middle;\n",
              "    }\n",
              "\n",
              "    .dataframe tbody tr th {\n",
              "        vertical-align: top;\n",
              "    }\n",
              "\n",
              "    .dataframe thead th {\n",
              "        text-align: right;\n",
              "    }\n",
              "</style>\n",
              "<table border=\"1\" class=\"dataframe\">\n",
              "  <thead>\n",
              "    <tr style=\"text-align: right;\">\n",
              "      <th></th>\n",
              "      <th>Unnamed: 0</th>\n",
              "      <th>username</th>\n",
              "      <th>tweet</th>\n",
              "      <th>link</th>\n",
              "      <th>date</th>\n",
              "      <th>language</th>\n",
              "      <th>near</th>\n",
              "    </tr>\n",
              "  </thead>\n",
              "  <tbody>\n",
              "    <tr>\n",
              "      <th>0</th>\n",
              "      <td>0</td>\n",
              "      <td>StephenMeyerRDC</td>\n",
              "      <td>Haven’t slept 1 second yet thanks to the COVID...</td>\n",
              "      <td>https://twitter.com/StephenMeyerRDC/status/146...</td>\n",
              "      <td>2021-12-01 10:19:22</td>\n",
              "      <td>en</td>\n",
              "      <td>New Jersey</td>\n",
              "    </tr>\n",
              "    <tr>\n",
              "      <th>1</th>\n",
              "      <td>1</td>\n",
              "      <td>KazuMajiQueen</td>\n",
              "      <td>Jeez even the glory holes aren't safe from cov...</td>\n",
              "      <td>https://twitter.com/KazuMajiQueen/status/14659...</td>\n",
              "      <td>2021-12-01 09:52:13</td>\n",
              "      <td>en</td>\n",
              "      <td>New Jersey</td>\n",
              "    </tr>\n",
              "    <tr>\n",
              "      <th>2</th>\n",
              "      <td>2</td>\n",
              "      <td>Fury1184</td>\n",
              "      <td>Supporting humanitarian scientific research is...</td>\n",
              "      <td>https://twitter.com/Fury1184/status/1465919854...</td>\n",
              "      <td>2021-12-01 08:45:03</td>\n",
              "      <td>en</td>\n",
              "      <td>New Jersey</td>\n",
              "    </tr>\n",
              "    <tr>\n",
              "      <th>3</th>\n",
              "      <td>3</td>\n",
              "      <td>hoodietrades</td>\n",
              "      <td>@dingersandks @simplerusername @EricTopol Hosp...</td>\n",
              "      <td>https://twitter.com/hoodietrades/status/146591...</td>\n",
              "      <td>2021-12-01 08:23:18</td>\n",
              "      <td>en</td>\n",
              "      <td>New Jersey</td>\n",
              "    </tr>\n",
              "    <tr>\n",
              "      <th>4</th>\n",
              "      <td>4</td>\n",
              "      <td>_AJCarroll</td>\n",
              "      <td>@IDeclareSuccess Dude, me too. After COVID las...</td>\n",
              "      <td>https://twitter.com/_AJCarroll/status/14659065...</td>\n",
              "      <td>2021-12-01 07:52:17</td>\n",
              "      <td>en</td>\n",
              "      <td>New Jersey</td>\n",
              "    </tr>\n",
              "  </tbody>\n",
              "</table>\n",
              "</div>"
            ],
            "text/plain": [
              "   Unnamed: 0         username  ... language        near\n",
              "0           0  StephenMeyerRDC  ...       en  New Jersey\n",
              "1           1    KazuMajiQueen  ...       en  New Jersey\n",
              "2           2         Fury1184  ...       en  New Jersey\n",
              "3           3     hoodietrades  ...       en  New Jersey\n",
              "4           4       _AJCarroll  ...       en  New Jersey\n",
              "\n",
              "[5 rows x 7 columns]"
            ]
          },
          "metadata": {},
          "execution_count": 301
        }
      ]
    },
    {
      "cell_type": "markdown",
      "source": [
        "## **Split Tweet Dataframe (split by states)**"
      ],
      "metadata": {
        "id": "V2I8D0dxHXNC"
      }
    },
    {
      "cell_type": "code",
      "metadata": {
        "colab": {
          "base_uri": "https://localhost:8080/",
          "height": 0
        },
        "id": "lW0CmjZ705Uq",
        "outputId": "39ac5989-5583-402a-9fc4-2652d8bcc977"
      },
      "source": [
        "flp = df[df['near'].str.contains('Florida',na=False)]\n",
        "fl = flp[flp['language'].str.contains('en',na=False)]\n",
        "fl"
      ],
      "execution_count": 302,
      "outputs": [
        {
          "output_type": "execute_result",
          "data": {
            "text/html": [
              "<div>\n",
              "<style scoped>\n",
              "    .dataframe tbody tr th:only-of-type {\n",
              "        vertical-align: middle;\n",
              "    }\n",
              "\n",
              "    .dataframe tbody tr th {\n",
              "        vertical-align: top;\n",
              "    }\n",
              "\n",
              "    .dataframe thead th {\n",
              "        text-align: right;\n",
              "    }\n",
              "</style>\n",
              "<table border=\"1\" class=\"dataframe\">\n",
              "  <thead>\n",
              "    <tr style=\"text-align: right;\">\n",
              "      <th></th>\n",
              "      <th>Unnamed: 0</th>\n",
              "      <th>username</th>\n",
              "      <th>tweet</th>\n",
              "      <th>link</th>\n",
              "      <th>date</th>\n",
              "      <th>language</th>\n",
              "      <th>near</th>\n",
              "    </tr>\n",
              "  </thead>\n",
              "  <tbody>\n",
              "    <tr>\n",
              "      <th>1210</th>\n",
              "      <td>1210</td>\n",
              "      <td>affliction23</td>\n",
              "      <td>@yodjetpilot @ElectionWiz California is ranked...</td>\n",
              "      <td>https://twitter.com/affliction23/status/146594...</td>\n",
              "      <td>2021-12-01 10:06:56</td>\n",
              "      <td>en</td>\n",
              "      <td>Florida</td>\n",
              "    </tr>\n",
              "    <tr>\n",
              "      <th>1211</th>\n",
              "      <td>1211</td>\n",
              "      <td>TR76News</td>\n",
              "      <td>Germany's New Chancellor Says Mandatory Covid ...</td>\n",
              "      <td>https://twitter.com/TR76News/status/1465939852...</td>\n",
              "      <td>2021-12-01 10:04:31</td>\n",
              "      <td>en</td>\n",
              "      <td>Florida</td>\n",
              "    </tr>\n",
              "    <tr>\n",
              "      <th>1212</th>\n",
              "      <td>1212</td>\n",
              "      <td>AnthonyTalk</td>\n",
              "      <td>Dr. Tony Fauci belongs in jail @CNN #CNN . He ...</td>\n",
              "      <td>https://twitter.com/AnthonyTalk/status/1465935...</td>\n",
              "      <td>2021-12-01 09:47:53</td>\n",
              "      <td>en</td>\n",
              "      <td>Florida</td>\n",
              "    </tr>\n",
              "    <tr>\n",
              "      <th>1213</th>\n",
              "      <td>1213</td>\n",
              "      <td>DebB65762723</td>\n",
              "      <td>@Fight4usaNet @TonyHui99 More have died in 202...</td>\n",
              "      <td>https://twitter.com/DebB65762723/status/146593...</td>\n",
              "      <td>2021-12-01 09:45:33</td>\n",
              "      <td>en</td>\n",
              "      <td>Florida</td>\n",
              "    </tr>\n",
              "    <tr>\n",
              "      <th>1214</th>\n",
              "      <td>1214</td>\n",
              "      <td>TR76News</td>\n",
              "      <td>Biden Admin Considering Seven-Day Home Quarant...</td>\n",
              "      <td>https://twitter.com/TR76News/status/1465932010...</td>\n",
              "      <td>2021-12-01 09:33:21</td>\n",
              "      <td>en</td>\n",
              "      <td>Florida</td>\n",
              "    </tr>\n",
              "    <tr>\n",
              "      <th>...</th>\n",
              "      <td>...</td>\n",
              "      <td>...</td>\n",
              "      <td>...</td>\n",
              "      <td>...</td>\n",
              "      <td>...</td>\n",
              "      <td>...</td>\n",
              "      <td>...</td>\n",
              "    </tr>\n",
              "    <tr>\n",
              "      <th>3272</th>\n",
              "      <td>3272</td>\n",
              "      <td>NoLiarInChief</td>\n",
              "      <td>Hello from almost sunny Florida where Republic...</td>\n",
              "      <td>https://twitter.com/NoLiarInChief/status/14627...</td>\n",
              "      <td>2021-11-22 16:33:43</td>\n",
              "      <td>en</td>\n",
              "      <td>Florida</td>\n",
              "    </tr>\n",
              "    <tr>\n",
              "      <th>3273</th>\n",
              "      <td>3273</td>\n",
              "      <td>JCRaskaus</td>\n",
              "      <td>@MarySte83140111 @PattyButts No kidding the #C...</td>\n",
              "      <td>https://twitter.com/JCRaskaus/status/146277392...</td>\n",
              "      <td>2021-11-22 16:24:14</td>\n",
              "      <td>en</td>\n",
              "      <td>Florida</td>\n",
              "    </tr>\n",
              "    <tr>\n",
              "      <th>3274</th>\n",
              "      <td>3274</td>\n",
              "      <td>HankBuldawg</td>\n",
              "      <td>@Darth_Mommie Freaking terrible. My Uncle pass...</td>\n",
              "      <td>https://twitter.com/HankBuldawg/status/1462772...</td>\n",
              "      <td>2021-11-22 16:19:06</td>\n",
              "      <td>en</td>\n",
              "      <td>Florida</td>\n",
              "    </tr>\n",
              "    <tr>\n",
              "      <th>3275</th>\n",
              "      <td>3275</td>\n",
              "      <td>RaySchneid</td>\n",
              "      <td>@CWSpackler @barbcraig7 I'm sorry, this is a t...</td>\n",
              "      <td>https://twitter.com/RaySchneid/status/14627721...</td>\n",
              "      <td>2021-11-22 16:17:22</td>\n",
              "      <td>en</td>\n",
              "      <td>Florida</td>\n",
              "    </tr>\n",
              "    <tr>\n",
              "      <th>3276</th>\n",
              "      <td>3276</td>\n",
              "      <td>GRITSfl</td>\n",
              "      <td>@beyouonlybetter Supplements and eating health...</td>\n",
              "      <td>https://twitter.com/GRITSfl/status/14627710914...</td>\n",
              "      <td>2021-11-22 16:12:59</td>\n",
              "      <td>en</td>\n",
              "      <td>Florida</td>\n",
              "    </tr>\n",
              "  </tbody>\n",
              "</table>\n",
              "<p>1940 rows × 7 columns</p>\n",
              "</div>"
            ],
            "text/plain": [
              "      Unnamed: 0       username  ... language     near\n",
              "1210        1210   affliction23  ...       en  Florida\n",
              "1211        1211       TR76News  ...       en  Florida\n",
              "1212        1212    AnthonyTalk  ...       en  Florida\n",
              "1213        1213   DebB65762723  ...       en  Florida\n",
              "1214        1214       TR76News  ...       en  Florida\n",
              "...          ...            ...  ...      ...      ...\n",
              "3272        3272  NoLiarInChief  ...       en  Florida\n",
              "3273        3273      JCRaskaus  ...       en  Florida\n",
              "3274        3274    HankBuldawg  ...       en  Florida\n",
              "3275        3275     RaySchneid  ...       en  Florida\n",
              "3276        3276        GRITSfl  ...       en  Florida\n",
              "\n",
              "[1940 rows x 7 columns]"
            ]
          },
          "metadata": {},
          "execution_count": 302
        }
      ]
    },
    {
      "cell_type": "code",
      "metadata": {
        "colab": {
          "base_uri": "https://localhost:8080/",
          "height": 0
        },
        "id": "3nJrLLDs1gks",
        "outputId": "1032fa27-9b59-41d0-a8e4-9a413670d36b"
      },
      "source": [
        "txp = df[df['near'].str.contains('Texas',na=False)]\n",
        "tx = txp[txp['language'].str.contains('en',na=False)]\n",
        "tx"
      ],
      "execution_count": 303,
      "outputs": [
        {
          "output_type": "execute_result",
          "data": {
            "text/html": [
              "<div>\n",
              "<style scoped>\n",
              "    .dataframe tbody tr th:only-of-type {\n",
              "        vertical-align: middle;\n",
              "    }\n",
              "\n",
              "    .dataframe tbody tr th {\n",
              "        vertical-align: top;\n",
              "    }\n",
              "\n",
              "    .dataframe thead th {\n",
              "        text-align: right;\n",
              "    }\n",
              "</style>\n",
              "<table border=\"1\" class=\"dataframe\">\n",
              "  <thead>\n",
              "    <tr style=\"text-align: right;\">\n",
              "      <th></th>\n",
              "      <th>Unnamed: 0</th>\n",
              "      <th>username</th>\n",
              "      <th>tweet</th>\n",
              "      <th>link</th>\n",
              "      <th>date</th>\n",
              "      <th>language</th>\n",
              "      <th>near</th>\n",
              "    </tr>\n",
              "  </thead>\n",
              "  <tbody>\n",
              "    <tr>\n",
              "      <th>3277</th>\n",
              "      <td>3277</td>\n",
              "      <td>patriot4evva</td>\n",
              "      <td>LeBron James Forced To Isolate Under NBA Covid...</td>\n",
              "      <td>https://twitter.com/patriot4evva/status/146595...</td>\n",
              "      <td>2021-12-01 10:55:37</td>\n",
              "      <td>en</td>\n",
              "      <td>Texas</td>\n",
              "    </tr>\n",
              "    <tr>\n",
              "      <th>3278</th>\n",
              "      <td>3278</td>\n",
              "      <td>Keds1250878727</td>\n",
              "      <td>How interesting. They also made record profits...</td>\n",
              "      <td>https://twitter.com/Keds1250878727/status/1465...</td>\n",
              "      <td>2021-12-01 10:54:05</td>\n",
              "      <td>en</td>\n",
              "      <td>Texas</td>\n",
              "    </tr>\n",
              "    <tr>\n",
              "      <th>3279</th>\n",
              "      <td>3279</td>\n",
              "      <td>autodilla</td>\n",
              "      <td>WATCH: Dan Bongino reveals details of painful ...</td>\n",
              "      <td>https://twitter.com/autodilla/status/146595028...</td>\n",
              "      <td>2021-12-01 10:45:58</td>\n",
              "      <td>en</td>\n",
              "      <td>Texas</td>\n",
              "    </tr>\n",
              "    <tr>\n",
              "      <th>3280</th>\n",
              "      <td>3280</td>\n",
              "      <td>Keds1250878727</td>\n",
              "      <td>But its Biden’s fault we’re still dealing with...</td>\n",
              "      <td>https://twitter.com/Keds1250878727/status/1465...</td>\n",
              "      <td>2021-12-01 10:41:47</td>\n",
              "      <td>en</td>\n",
              "      <td>Texas</td>\n",
              "    </tr>\n",
              "    <tr>\n",
              "      <th>3281</th>\n",
              "      <td>3281</td>\n",
              "      <td>MaryMary0414</td>\n",
              "      <td>@xj6response @dingersandks @EricTopol I notice...</td>\n",
              "      <td>https://twitter.com/MaryMary0414/status/146594...</td>\n",
              "      <td>2021-12-01 10:36:55</td>\n",
              "      <td>en</td>\n",
              "      <td>Texas</td>\n",
              "    </tr>\n",
              "    <tr>\n",
              "      <th>...</th>\n",
              "      <td>...</td>\n",
              "      <td>...</td>\n",
              "      <td>...</td>\n",
              "      <td>...</td>\n",
              "      <td>...</td>\n",
              "      <td>...</td>\n",
              "      <td>...</td>\n",
              "    </tr>\n",
              "    <tr>\n",
              "      <th>8286</th>\n",
              "      <td>8286</td>\n",
              "      <td>MangusColorado</td>\n",
              "      <td>Mortality Rate Among European Cancer Patients ...</td>\n",
              "      <td>https://twitter.com/MangusColorado/status/1463...</td>\n",
              "      <td>2021-11-25 17:48:55</td>\n",
              "      <td>en</td>\n",
              "      <td>Texas</td>\n",
              "    </tr>\n",
              "    <tr>\n",
              "      <th>8287</th>\n",
              "      <td>8287</td>\n",
              "      <td>WixomAndrew</td>\n",
              "      <td>@PervertedWriter @jacquel19826381 @steveyzzzz ...</td>\n",
              "      <td>https://twitter.com/WixomAndrew/status/1463882...</td>\n",
              "      <td>2021-11-25 17:48:04</td>\n",
              "      <td>en</td>\n",
              "      <td>Texas</td>\n",
              "    </tr>\n",
              "    <tr>\n",
              "      <th>8288</th>\n",
              "      <td>8288</td>\n",
              "      <td>O341Marine</td>\n",
              "      <td>@6ximsm @eyebeesteve @Jim_Jordan Again. What w...</td>\n",
              "      <td>https://twitter.com/O341Marine/status/14638819...</td>\n",
              "      <td>2021-11-25 17:47:08</td>\n",
              "      <td>en</td>\n",
              "      <td>Texas</td>\n",
              "    </tr>\n",
              "    <tr>\n",
              "      <th>8289</th>\n",
              "      <td>8289</td>\n",
              "      <td>iloanya1</td>\n",
              "      <td>So don't let em get away with it...any Republi...</td>\n",
              "      <td>https://twitter.com/iloanya1/status/1463881876...</td>\n",
              "      <td>2021-11-25 17:46:51</td>\n",
              "      <td>en</td>\n",
              "      <td>Texas</td>\n",
              "    </tr>\n",
              "    <tr>\n",
              "      <th>8290</th>\n",
              "      <td>8290</td>\n",
              "      <td>SeiferA</td>\n",
              "      <td>@JimBevan85 Without spoiling the details of th...</td>\n",
              "      <td>https://twitter.com/SeiferA/status/14638816351...</td>\n",
              "      <td>2021-11-25 17:45:54</td>\n",
              "      <td>en</td>\n",
              "      <td>Texas</td>\n",
              "    </tr>\n",
              "  </tbody>\n",
              "</table>\n",
              "<p>4903 rows × 7 columns</p>\n",
              "</div>"
            ],
            "text/plain": [
              "      Unnamed: 0        username  ... language   near\n",
              "3277        3277    patriot4evva  ...       en  Texas\n",
              "3278        3278  Keds1250878727  ...       en  Texas\n",
              "3279        3279       autodilla  ...       en  Texas\n",
              "3280        3280  Keds1250878727  ...       en  Texas\n",
              "3281        3281    MaryMary0414  ...       en  Texas\n",
              "...          ...             ...  ...      ...    ...\n",
              "8286        8286  MangusColorado  ...       en  Texas\n",
              "8287        8287     WixomAndrew  ...       en  Texas\n",
              "8288        8288      O341Marine  ...       en  Texas\n",
              "8289        8289        iloanya1  ...       en  Texas\n",
              "8290        8290         SeiferA  ...       en  Texas\n",
              "\n",
              "[4903 rows x 7 columns]"
            ]
          },
          "metadata": {},
          "execution_count": 303
        }
      ]
    },
    {
      "cell_type": "code",
      "metadata": {
        "colab": {
          "base_uri": "https://localhost:8080/",
          "height": 0
        },
        "id": "tfQr3CM01Px2",
        "outputId": "36c54acd-a2d9-4019-f2f6-999bcf588fed"
      },
      "source": [
        "njp = df[df['near'].str.contains('New Jersey',na=False)]\n",
        "njp = njp[njp['language'].str.contains('en',na=False)]\n",
        "nj"
      ],
      "execution_count": 304,
      "outputs": [
        {
          "output_type": "execute_result",
          "data": {
            "text/html": [
              "<div>\n",
              "<style scoped>\n",
              "    .dataframe tbody tr th:only-of-type {\n",
              "        vertical-align: middle;\n",
              "    }\n",
              "\n",
              "    .dataframe tbody tr th {\n",
              "        vertical-align: top;\n",
              "    }\n",
              "\n",
              "    .dataframe thead th {\n",
              "        text-align: right;\n",
              "    }\n",
              "</style>\n",
              "<table border=\"1\" class=\"dataframe\">\n",
              "  <thead>\n",
              "    <tr style=\"text-align: right;\">\n",
              "      <th></th>\n",
              "      <th>Unnamed: 0</th>\n",
              "      <th>username</th>\n",
              "      <th>tweet</th>\n",
              "      <th>link</th>\n",
              "      <th>date</th>\n",
              "      <th>language</th>\n",
              "      <th>near</th>\n",
              "    </tr>\n",
              "  </thead>\n",
              "  <tbody>\n",
              "    <tr>\n",
              "      <th>0</th>\n",
              "      <td>0</td>\n",
              "      <td>StephenMeyerRDC</td>\n",
              "      <td>Haven’t slept 1 second yet thanks to the COVID...</td>\n",
              "      <td>https://twitter.com/StephenMeyerRDC/status/146...</td>\n",
              "      <td>2021-12-01 10:19:22</td>\n",
              "      <td>en</td>\n",
              "      <td>New Jersey</td>\n",
              "    </tr>\n",
              "    <tr>\n",
              "      <th>1</th>\n",
              "      <td>1</td>\n",
              "      <td>KazuMajiQueen</td>\n",
              "      <td>Jeez even the glory holes aren't safe from cov...</td>\n",
              "      <td>https://twitter.com/KazuMajiQueen/status/14659...</td>\n",
              "      <td>2021-12-01 09:52:13</td>\n",
              "      <td>en</td>\n",
              "      <td>New Jersey</td>\n",
              "    </tr>\n",
              "    <tr>\n",
              "      <th>2</th>\n",
              "      <td>2</td>\n",
              "      <td>Fury1184</td>\n",
              "      <td>Supporting humanitarian scientific research is...</td>\n",
              "      <td>https://twitter.com/Fury1184/status/1465919854...</td>\n",
              "      <td>2021-12-01 08:45:03</td>\n",
              "      <td>en</td>\n",
              "      <td>New Jersey</td>\n",
              "    </tr>\n",
              "    <tr>\n",
              "      <th>3</th>\n",
              "      <td>3</td>\n",
              "      <td>hoodietrades</td>\n",
              "      <td>@dingersandks @simplerusername @EricTopol Hosp...</td>\n",
              "      <td>https://twitter.com/hoodietrades/status/146591...</td>\n",
              "      <td>2021-12-01 08:23:18</td>\n",
              "      <td>en</td>\n",
              "      <td>New Jersey</td>\n",
              "    </tr>\n",
              "    <tr>\n",
              "      <th>4</th>\n",
              "      <td>4</td>\n",
              "      <td>_AJCarroll</td>\n",
              "      <td>@IDeclareSuccess Dude, me too. After COVID las...</td>\n",
              "      <td>https://twitter.com/_AJCarroll/status/14659065...</td>\n",
              "      <td>2021-12-01 07:52:17</td>\n",
              "      <td>en</td>\n",
              "      <td>New Jersey</td>\n",
              "    </tr>\n",
              "    <tr>\n",
              "      <th>...</th>\n",
              "      <td>...</td>\n",
              "      <td>...</td>\n",
              "      <td>...</td>\n",
              "      <td>...</td>\n",
              "      <td>...</td>\n",
              "      <td>...</td>\n",
              "      <td>...</td>\n",
              "    </tr>\n",
              "    <tr>\n",
              "      <th>1205</th>\n",
              "      <td>1205</td>\n",
              "      <td>selvynk</td>\n",
              "      <td>Whoever wins in #trinidadandtobago General Ele...</td>\n",
              "      <td>https://twitter.com/selvynk/status/12921868967...</td>\n",
              "      <td>2020-08-08 22:52:18</td>\n",
              "      <td>en</td>\n",
              "      <td>New Jersey</td>\n",
              "    </tr>\n",
              "    <tr>\n",
              "      <th>1206</th>\n",
              "      <td>1206</td>\n",
              "      <td>dbookee</td>\n",
              "      <td>And I’m the midst of all the COVID-19 chaos, t...</td>\n",
              "      <td>https://twitter.com/dbookee/status/12898819344...</td>\n",
              "      <td>2020-08-02 14:13:12</td>\n",
              "      <td>en</td>\n",
              "      <td>New Jersey</td>\n",
              "    </tr>\n",
              "    <tr>\n",
              "      <th>1207</th>\n",
              "      <td>1207</td>\n",
              "      <td>popstarjames</td>\n",
              "      <td>Geera pork #foodporn #food #kitchennazi #covid...</td>\n",
              "      <td>https://twitter.com/popstarjames/status/128539...</td>\n",
              "      <td>2020-07-21 05:03:01</td>\n",
              "      <td>pt</td>\n",
              "      <td>New Jersey</td>\n",
              "    </tr>\n",
              "    <tr>\n",
              "      <th>1208</th>\n",
              "      <td>1208</td>\n",
              "      <td>MsAKing</td>\n",
              "      <td>Despite the covid putting a pause on construct...</td>\n",
              "      <td>https://twitter.com/MsAKing/status/12820460852...</td>\n",
              "      <td>2020-07-11 23:16:20</td>\n",
              "      <td>en</td>\n",
              "      <td>New Jersey</td>\n",
              "    </tr>\n",
              "    <tr>\n",
              "      <th>1209</th>\n",
              "      <td>1209</td>\n",
              "      <td>littleaprendiz</td>\n",
              "      <td>#travel #viaje Hoy toca ir a Madrid #madrid #t...</td>\n",
              "      <td>https://twitter.com/littleaprendiz/status/1280...</td>\n",
              "      <td>2020-07-08 18:34:39</td>\n",
              "      <td>es</td>\n",
              "      <td>New Jersey</td>\n",
              "    </tr>\n",
              "  </tbody>\n",
              "</table>\n",
              "<p>1210 rows × 7 columns</p>\n",
              "</div>"
            ],
            "text/plain": [
              "      Unnamed: 0         username  ... language        near\n",
              "0              0  StephenMeyerRDC  ...       en  New Jersey\n",
              "1              1    KazuMajiQueen  ...       en  New Jersey\n",
              "2              2         Fury1184  ...       en  New Jersey\n",
              "3              3     hoodietrades  ...       en  New Jersey\n",
              "4              4       _AJCarroll  ...       en  New Jersey\n",
              "...          ...              ...  ...      ...         ...\n",
              "1205        1205          selvynk  ...       en  New Jersey\n",
              "1206        1206          dbookee  ...       en  New Jersey\n",
              "1207        1207     popstarjames  ...       pt  New Jersey\n",
              "1208        1208          MsAKing  ...       en  New Jersey\n",
              "1209        1209   littleaprendiz  ...       es  New Jersey\n",
              "\n",
              "[1210 rows x 7 columns]"
            ]
          },
          "metadata": {},
          "execution_count": 304
        }
      ]
    },
    {
      "cell_type": "code",
      "metadata": {
        "colab": {
          "base_uri": "https://localhost:8080/",
          "height": 0
        },
        "id": "-aEadmbU1V-a",
        "outputId": "98666483-f5be-40d4-b2e5-396d48ce44b5"
      },
      "source": [
        "nyp = df[df['near'].str.contains('New York',na=False)]\n",
        "ny = nyp[nyp['language'].str.contains('en',na=False)]\n",
        "ny"
      ],
      "execution_count": 305,
      "outputs": [
        {
          "output_type": "execute_result",
          "data": {
            "text/html": [
              "<div>\n",
              "<style scoped>\n",
              "    .dataframe tbody tr th:only-of-type {\n",
              "        vertical-align: middle;\n",
              "    }\n",
              "\n",
              "    .dataframe tbody tr th {\n",
              "        vertical-align: top;\n",
              "    }\n",
              "\n",
              "    .dataframe thead th {\n",
              "        text-align: right;\n",
              "    }\n",
              "</style>\n",
              "<table border=\"1\" class=\"dataframe\">\n",
              "  <thead>\n",
              "    <tr style=\"text-align: right;\">\n",
              "      <th></th>\n",
              "      <th>Unnamed: 0</th>\n",
              "      <th>username</th>\n",
              "      <th>tweet</th>\n",
              "      <th>link</th>\n",
              "      <th>date</th>\n",
              "      <th>language</th>\n",
              "      <th>near</th>\n",
              "    </tr>\n",
              "  </thead>\n",
              "  <tbody>\n",
              "    <tr>\n",
              "      <th>8291</th>\n",
              "      <td>8291</td>\n",
              "      <td>gamezbyte</td>\n",
              "      <td>Opinion | Let’s End the Covid Blame Games - Th...</td>\n",
              "      <td>https://twitter.com/gamezbyte/status/146595282...</td>\n",
              "      <td>2021-12-01 10:56:04</td>\n",
              "      <td>en</td>\n",
              "      <td>New York</td>\n",
              "    </tr>\n",
              "    <tr>\n",
              "      <th>8292</th>\n",
              "      <td>8292</td>\n",
              "      <td>AENMAD</td>\n",
              "      <td>@MarcScottEmery Me too.  And I can’t catch Cov...</td>\n",
              "      <td>https://twitter.com/AENMAD/status/146595269990...</td>\n",
              "      <td>2021-12-01 10:55:34</td>\n",
              "      <td>en</td>\n",
              "      <td>New York</td>\n",
              "    </tr>\n",
              "    <tr>\n",
              "      <th>8293</th>\n",
              "      <td>8293</td>\n",
              "      <td>TuSaludMag</td>\n",
              "      <td>FDA Advisors Recommend Antiviral Pill for Earl...</td>\n",
              "      <td>https://twitter.com/TuSaludMag/status/14659525...</td>\n",
              "      <td>2021-12-01 10:55:08</td>\n",
              "      <td>en</td>\n",
              "      <td>New York</td>\n",
              "    </tr>\n",
              "    <tr>\n",
              "      <th>8294</th>\n",
              "      <td>8294</td>\n",
              "      <td>kylenabecker</td>\n",
              "      <td>@CosmoS6173 Lesson of the day: Never turn in y...</td>\n",
              "      <td>https://twitter.com/kylenabecker/status/146595...</td>\n",
              "      <td>2021-12-01 10:55:08</td>\n",
              "      <td>en</td>\n",
              "      <td>New York</td>\n",
              "    </tr>\n",
              "    <tr>\n",
              "      <th>8295</th>\n",
              "      <td>8295</td>\n",
              "      <td>pozmagazine</td>\n",
              "      <td>FDA Advisors Recommend Antiviral Pill for Earl...</td>\n",
              "      <td>https://twitter.com/pozmagazine/status/1465952...</td>\n",
              "      <td>2021-12-01 10:54:56</td>\n",
              "      <td>en</td>\n",
              "      <td>New York</td>\n",
              "    </tr>\n",
              "    <tr>\n",
              "      <th>...</th>\n",
              "      <td>...</td>\n",
              "      <td>...</td>\n",
              "      <td>...</td>\n",
              "      <td>...</td>\n",
              "      <td>...</td>\n",
              "      <td>...</td>\n",
              "      <td>...</td>\n",
              "    </tr>\n",
              "    <tr>\n",
              "      <th>13292</th>\n",
              "      <td>13292</td>\n",
              "      <td>PageSix</td>\n",
              "      <td>Keira Knightley 'feeling pretty rubbish' after...</td>\n",
              "      <td>https://twitter.com/PageSix/status/14654859937...</td>\n",
              "      <td>2021-11-30 04:01:02</td>\n",
              "      <td>en</td>\n",
              "      <td>New York</td>\n",
              "    </tr>\n",
              "    <tr>\n",
              "      <th>13293</th>\n",
              "      <td>13293</td>\n",
              "      <td>interpretantion</td>\n",
              "      <td>I suppose maybe there'd be some stalemate if t...</td>\n",
              "      <td>https://twitter.com/interpretantion/status/146...</td>\n",
              "      <td>2021-11-30 04:01:00</td>\n",
              "      <td>en</td>\n",
              "      <td>New York</td>\n",
              "    </tr>\n",
              "    <tr>\n",
              "      <th>13294</th>\n",
              "      <td>13294</td>\n",
              "      <td>WSJ</td>\n",
              "      <td>Waiting longer between the first and second do...</td>\n",
              "      <td>https://twitter.com/WSJ/status/146548582033327...</td>\n",
              "      <td>2021-11-30 04:00:21</td>\n",
              "      <td>en</td>\n",
              "      <td>New York</td>\n",
              "    </tr>\n",
              "    <tr>\n",
              "      <th>13296</th>\n",
              "      <td>13296</td>\n",
              "      <td>Power1051</td>\n",
              "      <td>The World Health Organization said the new omi...</td>\n",
              "      <td>https://twitter.com/Power1051/status/146548573...</td>\n",
              "      <td>2021-11-30 04:00:01</td>\n",
              "      <td>en</td>\n",
              "      <td>New York</td>\n",
              "    </tr>\n",
              "    <tr>\n",
              "      <th>13298</th>\n",
              "      <td>13298</td>\n",
              "      <td>medicaremermaid</td>\n",
              "      <td>@BarbaraHaysSmi1 @RonFilipkowski Everyone has ...</td>\n",
              "      <td>https://twitter.com/medicaremermaid/status/146...</td>\n",
              "      <td>2021-11-30 03:59:43</td>\n",
              "      <td>en</td>\n",
              "      <td>New York</td>\n",
              "    </tr>\n",
              "  </tbody>\n",
              "</table>\n",
              "<p>4785 rows × 7 columns</p>\n",
              "</div>"
            ],
            "text/plain": [
              "       Unnamed: 0         username  ... language      near\n",
              "8291         8291        gamezbyte  ...       en  New York\n",
              "8292         8292           AENMAD  ...       en  New York\n",
              "8293         8293       TuSaludMag  ...       en  New York\n",
              "8294         8294     kylenabecker  ...       en  New York\n",
              "8295         8295      pozmagazine  ...       en  New York\n",
              "...           ...              ...  ...      ...       ...\n",
              "13292       13292          PageSix  ...       en  New York\n",
              "13293       13293  interpretantion  ...       en  New York\n",
              "13294       13294              WSJ  ...       en  New York\n",
              "13296       13296        Power1051  ...       en  New York\n",
              "13298       13298  medicaremermaid  ...       en  New York\n",
              "\n",
              "[4785 rows x 7 columns]"
            ]
          },
          "metadata": {},
          "execution_count": 305
        }
      ]
    },
    {
      "cell_type": "markdown",
      "metadata": {
        "id": "nz669M5pNog9"
      },
      "source": [
        "## **Stopwords**"
      ]
    },
    {
      "cell_type": "code",
      "metadata": {
        "id": "wVxoxyCbNw4M"
      },
      "source": [
        "### Stopwords List\n",
        "stop= open(\"stopwords.txt\").read().replace(\"\\n\",' ').split(\" \")[:-1]"
      ],
      "execution_count": 306,
      "outputs": []
    },
    {
      "cell_type": "code",
      "metadata": {
        "colab": {
          "base_uri": "https://localhost:8080/",
          "height": 0
        },
        "id": "iOM3hYOueLr2",
        "outputId": "a1c9ca1b-354c-40b6-e4d0-59c3aaab5cab"
      },
      "source": [
        "stat = pd.read_csv('us-states.csv')\n",
        "stat"
      ],
      "execution_count": 307,
      "outputs": [
        {
          "output_type": "execute_result",
          "data": {
            "text/html": [
              "<div>\n",
              "<style scoped>\n",
              "    .dataframe tbody tr th:only-of-type {\n",
              "        vertical-align: middle;\n",
              "    }\n",
              "\n",
              "    .dataframe tbody tr th {\n",
              "        vertical-align: top;\n",
              "    }\n",
              "\n",
              "    .dataframe thead th {\n",
              "        text-align: right;\n",
              "    }\n",
              "</style>\n",
              "<table border=\"1\" class=\"dataframe\">\n",
              "  <thead>\n",
              "    <tr style=\"text-align: right;\">\n",
              "      <th></th>\n",
              "      <th>date</th>\n",
              "      <th>state</th>\n",
              "      <th>fips</th>\n",
              "      <th>cases</th>\n",
              "      <th>deaths</th>\n",
              "    </tr>\n",
              "  </thead>\n",
              "  <tbody>\n",
              "    <tr>\n",
              "      <th>0</th>\n",
              "      <td>2020-01-21</td>\n",
              "      <td>Washington</td>\n",
              "      <td>53</td>\n",
              "      <td>1</td>\n",
              "      <td>0</td>\n",
              "    </tr>\n",
              "    <tr>\n",
              "      <th>1</th>\n",
              "      <td>2020-01-22</td>\n",
              "      <td>Washington</td>\n",
              "      <td>53</td>\n",
              "      <td>1</td>\n",
              "      <td>0</td>\n",
              "    </tr>\n",
              "    <tr>\n",
              "      <th>2</th>\n",
              "      <td>2020-01-23</td>\n",
              "      <td>Washington</td>\n",
              "      <td>53</td>\n",
              "      <td>1</td>\n",
              "      <td>0</td>\n",
              "    </tr>\n",
              "    <tr>\n",
              "      <th>3</th>\n",
              "      <td>2020-01-24</td>\n",
              "      <td>Illinois</td>\n",
              "      <td>17</td>\n",
              "      <td>1</td>\n",
              "      <td>0</td>\n",
              "    </tr>\n",
              "    <tr>\n",
              "      <th>4</th>\n",
              "      <td>2020-01-24</td>\n",
              "      <td>Washington</td>\n",
              "      <td>53</td>\n",
              "      <td>1</td>\n",
              "      <td>0</td>\n",
              "    </tr>\n",
              "    <tr>\n",
              "      <th>...</th>\n",
              "      <td>...</td>\n",
              "      <td>...</td>\n",
              "      <td>...</td>\n",
              "      <td>...</td>\n",
              "      <td>...</td>\n",
              "    </tr>\n",
              "    <tr>\n",
              "      <th>35673</th>\n",
              "      <td>2021-12-09</td>\n",
              "      <td>Virginia</td>\n",
              "      <td>51</td>\n",
              "      <td>991221</td>\n",
              "      <td>14868</td>\n",
              "    </tr>\n",
              "    <tr>\n",
              "      <th>35674</th>\n",
              "      <td>2021-12-09</td>\n",
              "      <td>Washington</td>\n",
              "      <td>53</td>\n",
              "      <td>791832</td>\n",
              "      <td>9584</td>\n",
              "    </tr>\n",
              "    <tr>\n",
              "      <th>35675</th>\n",
              "      <td>2021-12-09</td>\n",
              "      <td>West Virginia</td>\n",
              "      <td>54</td>\n",
              "      <td>304355</td>\n",
              "      <td>5055</td>\n",
              "    </tr>\n",
              "    <tr>\n",
              "      <th>35676</th>\n",
              "      <td>2021-12-09</td>\n",
              "      <td>Wisconsin</td>\n",
              "      <td>55</td>\n",
              "      <td>1017528</td>\n",
              "      <td>10330</td>\n",
              "    </tr>\n",
              "    <tr>\n",
              "      <th>35677</th>\n",
              "      <td>2021-12-09</td>\n",
              "      <td>Wyoming</td>\n",
              "      <td>56</td>\n",
              "      <td>112731</td>\n",
              "      <td>1472</td>\n",
              "    </tr>\n",
              "  </tbody>\n",
              "</table>\n",
              "<p>35678 rows × 5 columns</p>\n",
              "</div>"
            ],
            "text/plain": [
              "             date          state  fips    cases  deaths\n",
              "0      2020-01-21     Washington    53        1       0\n",
              "1      2020-01-22     Washington    53        1       0\n",
              "2      2020-01-23     Washington    53        1       0\n",
              "3      2020-01-24       Illinois    17        1       0\n",
              "4      2020-01-24     Washington    53        1       0\n",
              "...           ...            ...   ...      ...     ...\n",
              "35673  2021-12-09       Virginia    51   991221   14868\n",
              "35674  2021-12-09     Washington    53   791832    9584\n",
              "35675  2021-12-09  West Virginia    54   304355    5055\n",
              "35676  2021-12-09      Wisconsin    55  1017528   10330\n",
              "35677  2021-12-09        Wyoming    56   112731    1472\n",
              "\n",
              "[35678 rows x 5 columns]"
            ]
          },
          "metadata": {},
          "execution_count": 307
        }
      ]
    },
    {
      "cell_type": "code",
      "metadata": {
        "id": "-TYxMys6eVT9"
      },
      "source": [
        "ny_stat = stat[stat['state'].str.contains('New York',na=False)]\n",
        "nystat2 = ny_stat.drop(['fips','cases','state'], axis = 1)"
      ],
      "execution_count": 308,
      "outputs": []
    },
    {
      "cell_type": "code",
      "metadata": {
        "id": "sc-b9yQ7my6W"
      },
      "source": [
        "nj_stat = stat[stat['state'].str.contains('New Jersey',na=False)]\n",
        "njstat2 = nj_stat.drop(['fips','cases','state'], axis = 1)"
      ],
      "execution_count": 309,
      "outputs": []
    },
    {
      "cell_type": "code",
      "metadata": {
        "id": "G6NoOu1GnHaF"
      },
      "source": [
        "tx_stat = stat[stat['state'].str.contains('Texas',na=False)]\n",
        "txstat2 = tx_stat.drop(['fips','cases','state'], axis = 1)"
      ],
      "execution_count": 310,
      "outputs": []
    },
    {
      "cell_type": "code",
      "metadata": {
        "id": "uiq_SEVTgV5B"
      },
      "source": [
        "fl_stat = stat[stat['state'].str.contains('Florida',na=False)]\n",
        "flstat2 = fl_stat.drop(['fips','cases','state'], axis = 1)"
      ],
      "execution_count": 311,
      "outputs": []
    },
    {
      "cell_type": "code",
      "metadata": {
        "colab": {
          "base_uri": "https://localhost:8080/",
          "height": 0
        },
        "id": "Nn5GBo3ChnBx",
        "outputId": "adebb123-efb1-4c1c-c345-4d0b268e65f9"
      },
      "source": [
        "fl_stat = stat[stat['state'].str.contains('Florida',na=False)]\n",
        "fl_stat"
      ],
      "execution_count": 312,
      "outputs": [
        {
          "output_type": "execute_result",
          "data": {
            "text/html": [
              "<div>\n",
              "<style scoped>\n",
              "    .dataframe tbody tr th:only-of-type {\n",
              "        vertical-align: middle;\n",
              "    }\n",
              "\n",
              "    .dataframe tbody tr th {\n",
              "        vertical-align: top;\n",
              "    }\n",
              "\n",
              "    .dataframe thead th {\n",
              "        text-align: right;\n",
              "    }\n",
              "</style>\n",
              "<table border=\"1\" class=\"dataframe\">\n",
              "  <thead>\n",
              "    <tr style=\"text-align: right;\">\n",
              "      <th></th>\n",
              "      <th>date</th>\n",
              "      <th>state</th>\n",
              "      <th>fips</th>\n",
              "      <th>cases</th>\n",
              "      <th>deaths</th>\n",
              "    </tr>\n",
              "  </thead>\n",
              "  <tbody>\n",
              "    <tr>\n",
              "      <th>242</th>\n",
              "      <td>2020-03-01</td>\n",
              "      <td>Florida</td>\n",
              "      <td>12</td>\n",
              "      <td>2</td>\n",
              "      <td>0</td>\n",
              "    </tr>\n",
              "    <tr>\n",
              "      <th>255</th>\n",
              "      <td>2020-03-02</td>\n",
              "      <td>Florida</td>\n",
              "      <td>12</td>\n",
              "      <td>2</td>\n",
              "      <td>0</td>\n",
              "    </tr>\n",
              "    <tr>\n",
              "      <th>270</th>\n",
              "      <td>2020-03-03</td>\n",
              "      <td>Florida</td>\n",
              "      <td>12</td>\n",
              "      <td>3</td>\n",
              "      <td>0</td>\n",
              "    </tr>\n",
              "    <tr>\n",
              "      <th>286</th>\n",
              "      <td>2020-03-04</td>\n",
              "      <td>Florida</td>\n",
              "      <td>12</td>\n",
              "      <td>3</td>\n",
              "      <td>0</td>\n",
              "    </tr>\n",
              "    <tr>\n",
              "      <th>304</th>\n",
              "      <td>2020-03-05</td>\n",
              "      <td>Florida</td>\n",
              "      <td>12</td>\n",
              "      <td>4</td>\n",
              "      <td>0</td>\n",
              "    </tr>\n",
              "    <tr>\n",
              "      <th>...</th>\n",
              "      <td>...</td>\n",
              "      <td>...</td>\n",
              "      <td>...</td>\n",
              "      <td>...</td>\n",
              "      <td>...</td>\n",
              "    </tr>\n",
              "    <tr>\n",
              "      <th>35408</th>\n",
              "      <td>2021-12-05</td>\n",
              "      <td>Florida</td>\n",
              "      <td>12</td>\n",
              "      <td>3699624</td>\n",
              "      <td>61701</td>\n",
              "    </tr>\n",
              "    <tr>\n",
              "      <th>35464</th>\n",
              "      <td>2021-12-06</td>\n",
              "      <td>Florida</td>\n",
              "      <td>12</td>\n",
              "      <td>3702338</td>\n",
              "      <td>61789</td>\n",
              "    </tr>\n",
              "    <tr>\n",
              "      <th>35520</th>\n",
              "      <td>2021-12-07</td>\n",
              "      <td>Florida</td>\n",
              "      <td>12</td>\n",
              "      <td>3704013</td>\n",
              "      <td>61789</td>\n",
              "    </tr>\n",
              "    <tr>\n",
              "      <th>35576</th>\n",
              "      <td>2021-12-08</td>\n",
              "      <td>Florida</td>\n",
              "      <td>12</td>\n",
              "      <td>3705899</td>\n",
              "      <td>61789</td>\n",
              "    </tr>\n",
              "    <tr>\n",
              "      <th>35632</th>\n",
              "      <td>2021-12-09</td>\n",
              "      <td>Florida</td>\n",
              "      <td>12</td>\n",
              "      <td>3708204</td>\n",
              "      <td>62007</td>\n",
              "    </tr>\n",
              "  </tbody>\n",
              "</table>\n",
              "<p>649 rows × 5 columns</p>\n",
              "</div>"
            ],
            "text/plain": [
              "             date    state  fips    cases  deaths\n",
              "242    2020-03-01  Florida    12        2       0\n",
              "255    2020-03-02  Florida    12        2       0\n",
              "270    2020-03-03  Florida    12        3       0\n",
              "286    2020-03-04  Florida    12        3       0\n",
              "304    2020-03-05  Florida    12        4       0\n",
              "...           ...      ...   ...      ...     ...\n",
              "35408  2021-12-05  Florida    12  3699624   61701\n",
              "35464  2021-12-06  Florida    12  3702338   61789\n",
              "35520  2021-12-07  Florida    12  3704013   61789\n",
              "35576  2021-12-08  Florida    12  3705899   61789\n",
              "35632  2021-12-09  Florida    12  3708204   62007\n",
              "\n",
              "[649 rows x 5 columns]"
            ]
          },
          "metadata": {},
          "execution_count": 312
        }
      ]
    },
    {
      "cell_type": "markdown",
      "source": [
        "## **Sentiment Analysis**"
      ],
      "metadata": {
        "id": "CBKnIFmx3VVX"
      }
    },
    {
      "cell_type": "code",
      "source": [
        "from nltk.stem.wordnet import WordNetLemmatizer\n",
        "from gensim import corpora, models\n",
        "from nltk.tokenize import word_tokenize\n",
        "import gensim\n",
        "#import pyLDAvis.gensim_models as gensimvis\n",
        "from gensim import corpora\n",
        "from matplotlib.patches import Rectangle\n",
        "import pandas as pd\n",
        "import numpy as np\n",
        "import nltk\n",
        "nltk.downloader.download('vader_lexicon')\n",
        "nltk.downloader.download('stopwords')\n",
        "from nltk.corpus import stopwords\n",
        "from nltk.tokenize import RegexpTokenizer\n",
        "from wordcloud import WordCloud, STOPWORDS\n",
        "import matplotlib.colors as mcolors\n",
        "import string\n",
        "import matplotlib.pyplot as plt\n",
        "import seaborn as sns\n",
        "from wordcloud import WordCloud \n",
        "import itertools\n",
        "import collections\n",
        "import re\n",
        "import nltk\n",
        "from nltk.corpus import stopwords\n",
        "import re\n",
        "import networkx\n",
        "from textblob import TextBlob\n"
      ],
      "metadata": {
        "colab": {
          "base_uri": "https://localhost:8080/"
        },
        "id": "pUm5v69f3S7z",
        "outputId": "ef696292-572e-4cfe-e014-3349da786c51"
      },
      "execution_count": 315,
      "outputs": [
        {
          "output_type": "stream",
          "name": "stdout",
          "text": [
            "[nltk_data] Downloading package vader_lexicon to /root/nltk_data...\n",
            "[nltk_data]   Package vader_lexicon is already up-to-date!\n",
            "[nltk_data] Downloading package stopwords to /root/nltk_data...\n",
            "[nltk_data]   Package stopwords is already up-to-date!\n"
          ]
        }
      ]
    },
    {
      "cell_type": "code",
      "source": [
        "df1= df.copy()\n",
        "df1.drop([\"Unnamed: 0\",\"username\",\"link\",\"language\"],axis=1, inplace=True)\n",
        "df1"
      ],
      "metadata": {
        "colab": {
          "base_uri": "https://localhost:8080/",
          "height": 0
        },
        "id": "H7Gnlx_O7eLf",
        "outputId": "02474d8c-401b-43df-c06a-deed889b70a2"
      },
      "execution_count": 316,
      "outputs": [
        {
          "output_type": "execute_result",
          "data": {
            "text/html": [
              "<div>\n",
              "<style scoped>\n",
              "    .dataframe tbody tr th:only-of-type {\n",
              "        vertical-align: middle;\n",
              "    }\n",
              "\n",
              "    .dataframe tbody tr th {\n",
              "        vertical-align: top;\n",
              "    }\n",
              "\n",
              "    .dataframe thead th {\n",
              "        text-align: right;\n",
              "    }\n",
              "</style>\n",
              "<table border=\"1\" class=\"dataframe\">\n",
              "  <thead>\n",
              "    <tr style=\"text-align: right;\">\n",
              "      <th></th>\n",
              "      <th>tweet</th>\n",
              "      <th>date</th>\n",
              "      <th>near</th>\n",
              "    </tr>\n",
              "  </thead>\n",
              "  <tbody>\n",
              "    <tr>\n",
              "      <th>0</th>\n",
              "      <td>Haven’t slept 1 second yet thanks to the COVID...</td>\n",
              "      <td>2021-12-01 10:19:22</td>\n",
              "      <td>New Jersey</td>\n",
              "    </tr>\n",
              "    <tr>\n",
              "      <th>1</th>\n",
              "      <td>Jeez even the glory holes aren't safe from cov...</td>\n",
              "      <td>2021-12-01 09:52:13</td>\n",
              "      <td>New Jersey</td>\n",
              "    </tr>\n",
              "    <tr>\n",
              "      <th>2</th>\n",
              "      <td>Supporting humanitarian scientific research is...</td>\n",
              "      <td>2021-12-01 08:45:03</td>\n",
              "      <td>New Jersey</td>\n",
              "    </tr>\n",
              "    <tr>\n",
              "      <th>3</th>\n",
              "      <td>@dingersandks @simplerusername @EricTopol Hosp...</td>\n",
              "      <td>2021-12-01 08:23:18</td>\n",
              "      <td>New Jersey</td>\n",
              "    </tr>\n",
              "    <tr>\n",
              "      <th>4</th>\n",
              "      <td>@IDeclareSuccess Dude, me too. After COVID las...</td>\n",
              "      <td>2021-12-01 07:52:17</td>\n",
              "      <td>New Jersey</td>\n",
              "    </tr>\n",
              "    <tr>\n",
              "      <th>...</th>\n",
              "      <td>...</td>\n",
              "      <td>...</td>\n",
              "      <td>...</td>\n",
              "    </tr>\n",
              "    <tr>\n",
              "      <th>13294</th>\n",
              "      <td>Waiting longer between the first and second do...</td>\n",
              "      <td>2021-11-30 04:00:21</td>\n",
              "      <td>New York</td>\n",
              "    </tr>\n",
              "    <tr>\n",
              "      <th>13295</th>\n",
              "      <td>#Conciertos|La iniciativa procura celebrar la ...</td>\n",
              "      <td>2021-11-30 04:00:02</td>\n",
              "      <td>New York</td>\n",
              "    </tr>\n",
              "    <tr>\n",
              "      <th>13296</th>\n",
              "      <td>The World Health Organization said the new omi...</td>\n",
              "      <td>2021-11-30 04:00:01</td>\n",
              "      <td>New York</td>\n",
              "    </tr>\n",
              "    <tr>\n",
              "      <th>13297</th>\n",
              "      <td>Presidente de #Sudáfrica, 🇿🇦 #CyrilRamaphosa, ...</td>\n",
              "      <td>2021-11-30 04:00:00</td>\n",
              "      <td>New York</td>\n",
              "    </tr>\n",
              "    <tr>\n",
              "      <th>13298</th>\n",
              "      <td>@BarbaraHaysSmi1 @RonFilipkowski Everyone has ...</td>\n",
              "      <td>2021-11-30 03:59:43</td>\n",
              "      <td>New York</td>\n",
              "    </tr>\n",
              "  </tbody>\n",
              "</table>\n",
              "<p>13299 rows × 3 columns</p>\n",
              "</div>"
            ],
            "text/plain": [
              "                                                   tweet  ...        near\n",
              "0      Haven’t slept 1 second yet thanks to the COVID...  ...  New Jersey\n",
              "1      Jeez even the glory holes aren't safe from cov...  ...  New Jersey\n",
              "2      Supporting humanitarian scientific research is...  ...  New Jersey\n",
              "3      @dingersandks @simplerusername @EricTopol Hosp...  ...  New Jersey\n",
              "4      @IDeclareSuccess Dude, me too. After COVID las...  ...  New Jersey\n",
              "...                                                  ...  ...         ...\n",
              "13294  Waiting longer between the first and second do...  ...    New York\n",
              "13295  #Conciertos|La iniciativa procura celebrar la ...  ...    New York\n",
              "13296  The World Health Organization said the new omi...  ...    New York\n",
              "13297  Presidente de #Sudáfrica, 🇿🇦 #CyrilRamaphosa, ...  ...    New York\n",
              "13298  @BarbaraHaysSmi1 @RonFilipkowski Everyone has ...  ...    New York\n",
              "\n",
              "[13299 rows x 3 columns]"
            ]
          },
          "metadata": {},
          "execution_count": 316
        }
      ]
    },
    {
      "cell_type": "code",
      "source": [
        "def cleaner(text):\n",
        "    text = re.sub(\"@[A-Za-z0-9]+\",\"\",text)\n",
        "    text = re.sub(\"#[A-Za-z0-9]+\",\"\",text)#Remove @ sign\n",
        "    text = re.sub(r\"(?:\\@|http?\\://|https?\\://|www)\\S+\", \"\", text) #Remove http links\n",
        "    text = text.replace(\"\\n\", \"\")\n",
        "    text=text.lower()\n",
        "    return text\n",
        "df1['tweet'] = df1['tweet'].map(lambda x: cleaner(x))"
      ],
      "metadata": {
        "id": "Ewe3XmIt3S1C"
      },
      "execution_count": 317,
      "outputs": []
    },
    {
      "cell_type": "code",
      "source": [
        "punct = \"\\n\\r\"+string.punctuation\n",
        "df1['tweet'] = df1['tweet'].str.translate(str.maketrans('','',punct))"
      ],
      "metadata": {
        "id": "_USoatzF3SlF"
      },
      "execution_count": 318,
      "outputs": []
    },
    {
      "cell_type": "code",
      "source": [
        "def clean_sentence(val):\n",
        "    \"remove chars that are not letters or number or down case then remove\"\n",
        "    regex=re.compile('([^\\sa-zA-Z0-9]|_)+')\n",
        "    sentence=regex.sub('',val).lower()\n",
        "    sentence = sentence.replace('\\n',\" \")\n",
        "    sentence = sentence.replace(',',\" \")\n",
        "    sentence = sentence.replace('\\\\~',\" \")\n",
        "    sentence = sentence.replace('QAQ\\\\~\\\\~',\" \")\n",
        "    sentence=sentence.split(\" \")\n",
        "    for word in list(sentence):\n",
        "        if word in  stop:\n",
        "            sentence.remove(word)\n",
        "    sentence=\" \".join(sentence)\n",
        "    return sentence\n"
      ],
      "metadata": {
        "id": "qFGwLSOS91kK"
      },
      "execution_count": 319,
      "outputs": []
    },
    {
      "cell_type": "code",
      "source": [
        "def clean_dataframe(data):\n",
        "    \"drop nans,thenb apply clean sentence function to description\"\n",
        "#     data=data.dropna(how=\"any\")\n",
        "\n",
        "    for col in ['tweet']:\n",
        "        df1[col]=df1[col].apply(clean_sentence)\n",
        "    return df1\n",
        "cleaned_text = clean_dataframe(df1)"
      ],
      "metadata": {
        "id": "6OI3X4ZP91YX"
      },
      "execution_count": 320,
      "outputs": []
    },
    {
      "cell_type": "code",
      "source": [
        "# Create textblob objects of the tweets\n",
        "sentiment_objects = [TextBlob(text) for text in df1['tweet']]\n",
        "\n",
        "sentiment_objects[2].polarity, sentiment_objects[0]\n",
        "sentiment_values = [[text.sentiment.polarity, str(text)] for text in sentiment_objects]\n",
        "sentiment_df = pd.DataFrame(sentiment_values, columns=[\"polarity\", \"tweet\"])\n",
        "\n",
        "a=sentiment_df['polarity'].round(2)\n"
      ],
      "metadata": {
        "id": "FBVlGkhP3ShP"
      },
      "execution_count": 321,
      "outputs": []
    },
    {
      "cell_type": "code",
      "source": [
        "b=list(a)\n",
        "sentiment_df['Polar']=b\n",
        "new_list=[]\n",
        "for i in range(len(sentiment_df['Polar'])):\n",
        "    a = sentiment_df['Polar'][i] \n",
        "    if a == 0:\n",
        "        new_list.append(\"Neutral\")\n",
        "        continue\n",
        "    if a >0:\n",
        "        new_list.append(\"Positive\")\n",
        "        continue\n",
        "    if a <0:\n",
        "        new_list.append(\"Negative\")\n",
        "        continue"
      ],
      "metadata": {
        "id": "GBCgNOO780O8"
      },
      "execution_count": 322,
      "outputs": []
    },
    {
      "cell_type": "code",
      "source": [
        "sentiment_df['Sentiments']=new_list\n",
        "sentiment_df"
      ],
      "metadata": {
        "colab": {
          "base_uri": "https://localhost:8080/",
          "height": 0
        },
        "id": "KAifJcF180KU",
        "outputId": "109c82eb-237b-4667-c439-a7e3e7004d3a"
      },
      "execution_count": 323,
      "outputs": [
        {
          "output_type": "execute_result",
          "data": {
            "text/html": [
              "<div>\n",
              "<style scoped>\n",
              "    .dataframe tbody tr th:only-of-type {\n",
              "        vertical-align: middle;\n",
              "    }\n",
              "\n",
              "    .dataframe tbody tr th {\n",
              "        vertical-align: top;\n",
              "    }\n",
              "\n",
              "    .dataframe thead th {\n",
              "        text-align: right;\n",
              "    }\n",
              "</style>\n",
              "<table border=\"1\" class=\"dataframe\">\n",
              "  <thead>\n",
              "    <tr style=\"text-align: right;\">\n",
              "      <th></th>\n",
              "      <th>polarity</th>\n",
              "      <th>tweet</th>\n",
              "      <th>Polar</th>\n",
              "      <th>Sentiments</th>\n",
              "    </tr>\n",
              "  </thead>\n",
              "  <tbody>\n",
              "    <tr>\n",
              "      <th>0</th>\n",
              "      <td>0.500</td>\n",
              "      <td>havent slept 1 covidflu vax combo feel death 1...</td>\n",
              "      <td>0.50</td>\n",
              "      <td>Positive</td>\n",
              "    </tr>\n",
              "    <tr>\n",
              "      <th>1</th>\n",
              "      <td>0.500</td>\n",
              "      <td>jeez glory holes arent safe covid</td>\n",
              "      <td>0.50</td>\n",
              "      <td>Positive</td>\n",
              "    </tr>\n",
              "    <tr>\n",
              "      <th>2</th>\n",
              "      <td>0.325</td>\n",
              "      <td>supporting humanitarian scientific research im...</td>\n",
              "      <td>0.32</td>\n",
              "      <td>Positive</td>\n",
              "    </tr>\n",
              "    <tr>\n",
              "      <th>3</th>\n",
              "      <td>0.100</td>\n",
              "      <td>hospitalization death covid facts straight mor...</td>\n",
              "      <td>0.10</td>\n",
              "      <td>Positive</td>\n",
              "    </tr>\n",
              "    <tr>\n",
              "      <th>4</th>\n",
              "      <td>0.000</td>\n",
              "      <td>dude covid breath lungs sooooooooooo</td>\n",
              "      <td>0.00</td>\n",
              "      <td>Neutral</td>\n",
              "    </tr>\n",
              "    <tr>\n",
              "      <th>...</th>\n",
              "      <td>...</td>\n",
              "      <td>...</td>\n",
              "      <td>...</td>\n",
              "      <td>...</td>\n",
              "    </tr>\n",
              "    <tr>\n",
              "      <th>13294</th>\n",
              "      <td>0.000</td>\n",
              "      <td>waiting longer doses covid19 vaccine build imm...</td>\n",
              "      <td>0.00</td>\n",
              "      <td>Neutral</td>\n",
              "    </tr>\n",
              "    <tr>\n",
              "      <th>13295</th>\n",
              "      <td>0.000</td>\n",
              "      <td>la iniciativa procura celebrar la importancia ...</td>\n",
              "      <td>0.00</td>\n",
              "      <td>Neutral</td>\n",
              "    </tr>\n",
              "    <tr>\n",
              "      <th>13296</th>\n",
              "      <td>0.080</td>\n",
              "      <td>world health organization omicron variant covi...</td>\n",
              "      <td>0.08</td>\n",
              "      <td>Positive</td>\n",
              "    </tr>\n",
              "    <tr>\n",
              "      <th>13297</th>\n",
              "      <td>0.000</td>\n",
              "      <td>presidente de frica ha denunciado las prohibic...</td>\n",
              "      <td>0.00</td>\n",
              "      <td>Neutral</td>\n",
              "    </tr>\n",
              "    <tr>\n",
              "      <th>13298</th>\n",
              "      <td>-0.600</td>\n",
              "      <td>choose mandate children unvaccinated measles m...</td>\n",
              "      <td>-0.60</td>\n",
              "      <td>Negative</td>\n",
              "    </tr>\n",
              "  </tbody>\n",
              "</table>\n",
              "<p>13299 rows × 4 columns</p>\n",
              "</div>"
            ],
            "text/plain": [
              "       polarity  ... Sentiments\n",
              "0         0.500  ...   Positive\n",
              "1         0.500  ...   Positive\n",
              "2         0.325  ...   Positive\n",
              "3         0.100  ...   Positive\n",
              "4         0.000  ...    Neutral\n",
              "...         ...  ...        ...\n",
              "13294     0.000  ...    Neutral\n",
              "13295     0.000  ...    Neutral\n",
              "13296     0.080  ...   Positive\n",
              "13297     0.000  ...    Neutral\n",
              "13298    -0.600  ...   Negative\n",
              "\n",
              "[13299 rows x 4 columns]"
            ]
          },
          "metadata": {},
          "execution_count": 323
        }
      ]
    },
    {
      "cell_type": "code",
      "source": [
        "df1['Sentiments']=sentiment_df['Sentiments']\n",
        "df1['Polar']=sentiment_df['Polar']\n"
      ],
      "metadata": {
        "id": "BL_hI6EsAaOn"
      },
      "execution_count": 324,
      "outputs": []
    },
    {
      "cell_type": "code",
      "source": [
        "df1"
      ],
      "metadata": {
        "colab": {
          "base_uri": "https://localhost:8080/",
          "height": 0
        },
        "id": "A-tlFxw2AaJO",
        "outputId": "b0d418f0-b840-4719-a252-328f5ac8ea8b"
      },
      "execution_count": 325,
      "outputs": [
        {
          "output_type": "execute_result",
          "data": {
            "text/html": [
              "<div>\n",
              "<style scoped>\n",
              "    .dataframe tbody tr th:only-of-type {\n",
              "        vertical-align: middle;\n",
              "    }\n",
              "\n",
              "    .dataframe tbody tr th {\n",
              "        vertical-align: top;\n",
              "    }\n",
              "\n",
              "    .dataframe thead th {\n",
              "        text-align: right;\n",
              "    }\n",
              "</style>\n",
              "<table border=\"1\" class=\"dataframe\">\n",
              "  <thead>\n",
              "    <tr style=\"text-align: right;\">\n",
              "      <th></th>\n",
              "      <th>tweet</th>\n",
              "      <th>date</th>\n",
              "      <th>near</th>\n",
              "      <th>Sentiments</th>\n",
              "      <th>Polar</th>\n",
              "    </tr>\n",
              "  </thead>\n",
              "  <tbody>\n",
              "    <tr>\n",
              "      <th>0</th>\n",
              "      <td>havent slept 1 covidflu vax combo feel death 1...</td>\n",
              "      <td>2021-12-01 10:19:22</td>\n",
              "      <td>New Jersey</td>\n",
              "      <td>Positive</td>\n",
              "      <td>0.50</td>\n",
              "    </tr>\n",
              "    <tr>\n",
              "      <th>1</th>\n",
              "      <td>jeez glory holes arent safe covid</td>\n",
              "      <td>2021-12-01 09:52:13</td>\n",
              "      <td>New Jersey</td>\n",
              "      <td>Positive</td>\n",
              "      <td>0.50</td>\n",
              "    </tr>\n",
              "    <tr>\n",
              "      <th>2</th>\n",
              "      <td>supporting humanitarian scientific research im...</td>\n",
              "      <td>2021-12-01 08:45:03</td>\n",
              "      <td>New Jersey</td>\n",
              "      <td>Positive</td>\n",
              "      <td>0.32</td>\n",
              "    </tr>\n",
              "    <tr>\n",
              "      <th>3</th>\n",
              "      <td>hospitalization death covid facts straight mor...</td>\n",
              "      <td>2021-12-01 08:23:18</td>\n",
              "      <td>New Jersey</td>\n",
              "      <td>Positive</td>\n",
              "      <td>0.10</td>\n",
              "    </tr>\n",
              "    <tr>\n",
              "      <th>4</th>\n",
              "      <td>dude covid breath lungs sooooooooooo</td>\n",
              "      <td>2021-12-01 07:52:17</td>\n",
              "      <td>New Jersey</td>\n",
              "      <td>Neutral</td>\n",
              "      <td>0.00</td>\n",
              "    </tr>\n",
              "    <tr>\n",
              "      <th>...</th>\n",
              "      <td>...</td>\n",
              "      <td>...</td>\n",
              "      <td>...</td>\n",
              "      <td>...</td>\n",
              "      <td>...</td>\n",
              "    </tr>\n",
              "    <tr>\n",
              "      <th>13294</th>\n",
              "      <td>waiting longer doses covid19 vaccine build imm...</td>\n",
              "      <td>2021-11-30 04:00:21</td>\n",
              "      <td>New York</td>\n",
              "      <td>Neutral</td>\n",
              "      <td>0.00</td>\n",
              "    </tr>\n",
              "    <tr>\n",
              "      <th>13295</th>\n",
              "      <td>la iniciativa procura celebrar la importancia ...</td>\n",
              "      <td>2021-11-30 04:00:02</td>\n",
              "      <td>New York</td>\n",
              "      <td>Neutral</td>\n",
              "      <td>0.00</td>\n",
              "    </tr>\n",
              "    <tr>\n",
              "      <th>13296</th>\n",
              "      <td>world health organization omicron variant covi...</td>\n",
              "      <td>2021-11-30 04:00:01</td>\n",
              "      <td>New York</td>\n",
              "      <td>Positive</td>\n",
              "      <td>0.08</td>\n",
              "    </tr>\n",
              "    <tr>\n",
              "      <th>13297</th>\n",
              "      <td>presidente de frica ha denunciado las prohibic...</td>\n",
              "      <td>2021-11-30 04:00:00</td>\n",
              "      <td>New York</td>\n",
              "      <td>Neutral</td>\n",
              "      <td>0.00</td>\n",
              "    </tr>\n",
              "    <tr>\n",
              "      <th>13298</th>\n",
              "      <td>choose mandate children unvaccinated measles m...</td>\n",
              "      <td>2021-11-30 03:59:43</td>\n",
              "      <td>New York</td>\n",
              "      <td>Negative</td>\n",
              "      <td>-0.60</td>\n",
              "    </tr>\n",
              "  </tbody>\n",
              "</table>\n",
              "<p>13299 rows × 5 columns</p>\n",
              "</div>"
            ],
            "text/plain": [
              "                                                   tweet  ... Polar\n",
              "0      havent slept 1 covidflu vax combo feel death 1...  ...  0.50\n",
              "1                      jeez glory holes arent safe covid  ...  0.50\n",
              "2      supporting humanitarian scientific research im...  ...  0.32\n",
              "3      hospitalization death covid facts straight mor...  ...  0.10\n",
              "4                   dude covid breath lungs sooooooooooo  ...  0.00\n",
              "...                                                  ...  ...   ...\n",
              "13294  waiting longer doses covid19 vaccine build imm...  ...  0.00\n",
              "13295  la iniciativa procura celebrar la importancia ...  ...  0.00\n",
              "13296  world health organization omicron variant covi...  ...  0.08\n",
              "13297  presidente de frica ha denunciado las prohibic...  ...  0.00\n",
              "13298  choose mandate children unvaccinated measles m...  ... -0.60\n",
              "\n",
              "[13299 rows x 5 columns]"
            ]
          },
          "metadata": {},
          "execution_count": 325
        }
      ]
    },
    {
      "cell_type": "markdown",
      "source": [
        "## **Florida Sentiments Analysis**\n"
      ],
      "metadata": {
        "id": "V4ZP27hPEJ7V"
      }
    },
    {
      "cell_type": "code",
      "source": [
        "df_fl= df1[df1['near']==\"Florida\"].reset_index(drop=True)\n",
        "df_fl"
      ],
      "metadata": {
        "colab": {
          "base_uri": "https://localhost:8080/",
          "height": 0
        },
        "outputId": "99423e38-d3d9-4dd5-9e5e-6d021155e398",
        "id": "QjDGSLpZEJ7W"
      },
      "execution_count": 326,
      "outputs": [
        {
          "output_type": "execute_result",
          "data": {
            "text/html": [
              "<div>\n",
              "<style scoped>\n",
              "    .dataframe tbody tr th:only-of-type {\n",
              "        vertical-align: middle;\n",
              "    }\n",
              "\n",
              "    .dataframe tbody tr th {\n",
              "        vertical-align: top;\n",
              "    }\n",
              "\n",
              "    .dataframe thead th {\n",
              "        text-align: right;\n",
              "    }\n",
              "</style>\n",
              "<table border=\"1\" class=\"dataframe\">\n",
              "  <thead>\n",
              "    <tr style=\"text-align: right;\">\n",
              "      <th></th>\n",
              "      <th>tweet</th>\n",
              "      <th>date</th>\n",
              "      <th>near</th>\n",
              "      <th>Sentiments</th>\n",
              "      <th>Polar</th>\n",
              "    </tr>\n",
              "  </thead>\n",
              "  <tbody>\n",
              "    <tr>\n",
              "      <th>0</th>\n",
              "      <td>california ranked 35th state guidelines initia...</td>\n",
              "      <td>2021-12-01 10:06:56</td>\n",
              "      <td>Florida</td>\n",
              "      <td>Negative</td>\n",
              "      <td>-0.27</td>\n",
              "    </tr>\n",
              "    <tr>\n",
              "      <th>1</th>\n",
              "      <td>germanys chancellor mandatory covid jabs wave</td>\n",
              "      <td>2021-12-01 10:04:31</td>\n",
              "      <td>Florida</td>\n",
              "      <td>Neutral</td>\n",
              "      <td>0.00</td>\n",
              "    </tr>\n",
              "    <tr>\n",
              "      <th>2</th>\n",
              "      <td>dr tony fauci belongs jail responsible deaths ...</td>\n",
              "      <td>2021-12-01 09:47:53</td>\n",
              "      <td>Florida</td>\n",
              "      <td>Negative</td>\n",
              "      <td>-0.04</td>\n",
              "    </tr>\n",
              "    <tr>\n",
              "      <th>3</th>\n",
              "      <td>died 2021 vaccines entire died covid 2020 vacc...</td>\n",
              "      <td>2021-12-01 09:45:33</td>\n",
              "      <td>Florida</td>\n",
              "      <td>Neutral</td>\n",
              "      <td>0.00</td>\n",
              "    </tr>\n",
              "    <tr>\n",
              "      <th>4</th>\n",
              "      <td>biden admin sevenday home quarantine americans...</td>\n",
              "      <td>2021-12-01 09:33:21</td>\n",
              "      <td>Florida</td>\n",
              "      <td>Negative</td>\n",
              "      <td>-0.30</td>\n",
              "    </tr>\n",
              "    <tr>\n",
              "      <th>...</th>\n",
              "      <td>...</td>\n",
              "      <td>...</td>\n",
              "      <td>...</td>\n",
              "      <td>...</td>\n",
              "      <td>...</td>\n",
              "    </tr>\n",
              "    <tr>\n",
              "      <th>2062</th>\n",
              "      <td>sunny florida republicans led hitler wannabe s...</td>\n",
              "      <td>2021-11-22 16:33:43</td>\n",
              "      <td>Florida</td>\n",
              "      <td>Neutral</td>\n",
              "      <td>0.00</td>\n",
              "    </tr>\n",
              "    <tr>\n",
              "      <th>2063</th>\n",
              "      <td>kidding 38 effective covid 995 survivable pree...</td>\n",
              "      <td>2021-11-22 16:24:14</td>\n",
              "      <td>Florida</td>\n",
              "      <td>Positive</td>\n",
              "      <td>0.60</td>\n",
              "    </tr>\n",
              "    <tr>\n",
              "      <th>2064</th>\n",
              "      <td>mommie freaking terrible uncle passed covid li...</td>\n",
              "      <td>2021-11-22 16:19:06</td>\n",
              "      <td>Florida</td>\n",
              "      <td>Negative</td>\n",
              "      <td>-0.54</td>\n",
              "    </tr>\n",
              "    <tr>\n",
              "      <th>2065</th>\n",
              "      <td>im thing happened shed allowed share anecdotal...</td>\n",
              "      <td>2021-11-22 16:17:22</td>\n",
              "      <td>Florida</td>\n",
              "      <td>Negative</td>\n",
              "      <td>-0.70</td>\n",
              "    </tr>\n",
              "    <tr>\n",
              "      <th>2066</th>\n",
              "      <td>supplements eating healthy key staying risky a...</td>\n",
              "      <td>2021-11-22 16:12:59</td>\n",
              "      <td>Florida</td>\n",
              "      <td>Negative</td>\n",
              "      <td>-0.05</td>\n",
              "    </tr>\n",
              "  </tbody>\n",
              "</table>\n",
              "<p>2067 rows × 5 columns</p>\n",
              "</div>"
            ],
            "text/plain": [
              "                                                  tweet  ... Polar\n",
              "0     california ranked 35th state guidelines initia...  ... -0.27\n",
              "1         germanys chancellor mandatory covid jabs wave  ...  0.00\n",
              "2     dr tony fauci belongs jail responsible deaths ...  ... -0.04\n",
              "3     died 2021 vaccines entire died covid 2020 vacc...  ...  0.00\n",
              "4     biden admin sevenday home quarantine americans...  ... -0.30\n",
              "...                                                 ...  ...   ...\n",
              "2062  sunny florida republicans led hitler wannabe s...  ...  0.00\n",
              "2063  kidding 38 effective covid 995 survivable pree...  ...  0.60\n",
              "2064  mommie freaking terrible uncle passed covid li...  ... -0.54\n",
              "2065  im thing happened shed allowed share anecdotal...  ... -0.70\n",
              "2066  supplements eating healthy key staying risky a...  ... -0.05\n",
              "\n",
              "[2067 rows x 5 columns]"
            ]
          },
          "metadata": {},
          "execution_count": 326
        }
      ]
    },
    {
      "cell_type": "markdown",
      "source": [
        "## **New York Sentiments Analysis**\n"
      ],
      "metadata": {
        "id": "psshTmAhGpEd"
      }
    },
    {
      "cell_type": "code",
      "source": [
        "df_ny= df1[df1['near']==\"New York\"].reset_index(drop=True)\n",
        "df_ny"
      ],
      "metadata": {
        "colab": {
          "base_uri": "https://localhost:8080/",
          "height": 0
        },
        "outputId": "2726a8d2-0dda-4eb5-93cb-d9bcae3f3d26",
        "id": "A4a0_N6BGpEe"
      },
      "execution_count": 327,
      "outputs": [
        {
          "output_type": "execute_result",
          "data": {
            "text/html": [
              "<div>\n",
              "<style scoped>\n",
              "    .dataframe tbody tr th:only-of-type {\n",
              "        vertical-align: middle;\n",
              "    }\n",
              "\n",
              "    .dataframe tbody tr th {\n",
              "        vertical-align: top;\n",
              "    }\n",
              "\n",
              "    .dataframe thead th {\n",
              "        text-align: right;\n",
              "    }\n",
              "</style>\n",
              "<table border=\"1\" class=\"dataframe\">\n",
              "  <thead>\n",
              "    <tr style=\"text-align: right;\">\n",
              "      <th></th>\n",
              "      <th>tweet</th>\n",
              "      <th>date</th>\n",
              "      <th>near</th>\n",
              "      <th>Sentiments</th>\n",
              "      <th>Polar</th>\n",
              "    </tr>\n",
              "  </thead>\n",
              "  <tbody>\n",
              "    <tr>\n",
              "      <th>0</th>\n",
              "      <td>opinion lets end covid blame games york times</td>\n",
              "      <td>2021-12-01 10:56:04</td>\n",
              "      <td>New York</td>\n",
              "      <td>Neutral</td>\n",
              "      <td>0.00</td>\n",
              "    </tr>\n",
              "    <tr>\n",
              "      <th>1</th>\n",
              "      <td>catch covid</td>\n",
              "      <td>2021-12-01 10:55:34</td>\n",
              "      <td>New York</td>\n",
              "      <td>Neutral</td>\n",
              "      <td>0.00</td>\n",
              "    </tr>\n",
              "    <tr>\n",
              "      <th>2</th>\n",
              "      <td>fda advisors recommend antiviral pill early co...</td>\n",
              "      <td>2021-12-01 10:55:08</td>\n",
              "      <td>New York</td>\n",
              "      <td>Positive</td>\n",
              "      <td>0.10</td>\n",
              "    </tr>\n",
              "    <tr>\n",
              "      <th>3</th>\n",
              "      <td>lesson turn guns government circumstances less...</td>\n",
              "      <td>2021-12-01 10:55:08</td>\n",
              "      <td>New York</td>\n",
              "      <td>Negative</td>\n",
              "      <td>-0.80</td>\n",
              "    </tr>\n",
              "    <tr>\n",
              "      <th>4</th>\n",
              "      <td>fda advisors recommend antiviral pill early co...</td>\n",
              "      <td>2021-12-01 10:54:56</td>\n",
              "      <td>New York</td>\n",
              "      <td>Positive</td>\n",
              "      <td>0.10</td>\n",
              "    </tr>\n",
              "    <tr>\n",
              "      <th>...</th>\n",
              "      <td>...</td>\n",
              "      <td>...</td>\n",
              "      <td>...</td>\n",
              "      <td>...</td>\n",
              "      <td>...</td>\n",
              "    </tr>\n",
              "    <tr>\n",
              "      <th>5003</th>\n",
              "      <td>waiting longer doses covid19 vaccine build imm...</td>\n",
              "      <td>2021-11-30 04:00:21</td>\n",
              "      <td>New York</td>\n",
              "      <td>Neutral</td>\n",
              "      <td>0.00</td>\n",
              "    </tr>\n",
              "    <tr>\n",
              "      <th>5004</th>\n",
              "      <td>la iniciativa procura celebrar la importancia ...</td>\n",
              "      <td>2021-11-30 04:00:02</td>\n",
              "      <td>New York</td>\n",
              "      <td>Neutral</td>\n",
              "      <td>0.00</td>\n",
              "    </tr>\n",
              "    <tr>\n",
              "      <th>5005</th>\n",
              "      <td>world health organization omicron variant covi...</td>\n",
              "      <td>2021-11-30 04:00:01</td>\n",
              "      <td>New York</td>\n",
              "      <td>Positive</td>\n",
              "      <td>0.08</td>\n",
              "    </tr>\n",
              "    <tr>\n",
              "      <th>5006</th>\n",
              "      <td>presidente de frica ha denunciado las prohibic...</td>\n",
              "      <td>2021-11-30 04:00:00</td>\n",
              "      <td>New York</td>\n",
              "      <td>Neutral</td>\n",
              "      <td>0.00</td>\n",
              "    </tr>\n",
              "    <tr>\n",
              "      <th>5007</th>\n",
              "      <td>choose mandate children unvaccinated measles m...</td>\n",
              "      <td>2021-11-30 03:59:43</td>\n",
              "      <td>New York</td>\n",
              "      <td>Negative</td>\n",
              "      <td>-0.60</td>\n",
              "    </tr>\n",
              "  </tbody>\n",
              "</table>\n",
              "<p>5008 rows × 5 columns</p>\n",
              "</div>"
            ],
            "text/plain": [
              "                                                  tweet  ... Polar\n",
              "0         opinion lets end covid blame games york times  ...  0.00\n",
              "1                                           catch covid  ...  0.00\n",
              "2     fda advisors recommend antiviral pill early co...  ...  0.10\n",
              "3     lesson turn guns government circumstances less...  ... -0.80\n",
              "4     fda advisors recommend antiviral pill early co...  ...  0.10\n",
              "...                                                 ...  ...   ...\n",
              "5003  waiting longer doses covid19 vaccine build imm...  ...  0.00\n",
              "5004  la iniciativa procura celebrar la importancia ...  ...  0.00\n",
              "5005  world health organization omicron variant covi...  ...  0.08\n",
              "5006  presidente de frica ha denunciado las prohibic...  ...  0.00\n",
              "5007  choose mandate children unvaccinated measles m...  ... -0.60\n",
              "\n",
              "[5008 rows x 5 columns]"
            ]
          },
          "metadata": {},
          "execution_count": 327
        }
      ]
    },
    {
      "cell_type": "markdown",
      "source": [
        "## **New Jersy Sentiments Analysis**\n"
      ],
      "metadata": {
        "id": "BucwztxHBj4Q"
      }
    },
    {
      "cell_type": "code",
      "source": [
        "df_nj= df1[df1['near']==\"New Jersey\"].reset_index(drop=True)\n",
        "df_nj"
      ],
      "metadata": {
        "colab": {
          "base_uri": "https://localhost:8080/",
          "height": 0
        },
        "id": "_ZMpGn1XBNUq",
        "outputId": "8d109889-2989-4d76-c070-df40d52c9f8d"
      },
      "execution_count": 328,
      "outputs": [
        {
          "output_type": "execute_result",
          "data": {
            "text/html": [
              "<div>\n",
              "<style scoped>\n",
              "    .dataframe tbody tr th:only-of-type {\n",
              "        vertical-align: middle;\n",
              "    }\n",
              "\n",
              "    .dataframe tbody tr th {\n",
              "        vertical-align: top;\n",
              "    }\n",
              "\n",
              "    .dataframe thead th {\n",
              "        text-align: right;\n",
              "    }\n",
              "</style>\n",
              "<table border=\"1\" class=\"dataframe\">\n",
              "  <thead>\n",
              "    <tr style=\"text-align: right;\">\n",
              "      <th></th>\n",
              "      <th>tweet</th>\n",
              "      <th>date</th>\n",
              "      <th>near</th>\n",
              "      <th>Sentiments</th>\n",
              "      <th>Polar</th>\n",
              "    </tr>\n",
              "  </thead>\n",
              "  <tbody>\n",
              "    <tr>\n",
              "      <th>0</th>\n",
              "      <td>havent slept 1 covidflu vax combo feel death 1...</td>\n",
              "      <td>2021-12-01 10:19:22</td>\n",
              "      <td>New Jersey</td>\n",
              "      <td>Positive</td>\n",
              "      <td>0.50</td>\n",
              "    </tr>\n",
              "    <tr>\n",
              "      <th>1</th>\n",
              "      <td>jeez glory holes arent safe covid</td>\n",
              "      <td>2021-12-01 09:52:13</td>\n",
              "      <td>New Jersey</td>\n",
              "      <td>Positive</td>\n",
              "      <td>0.50</td>\n",
              "    </tr>\n",
              "    <tr>\n",
              "      <th>2</th>\n",
              "      <td>supporting humanitarian scientific research im...</td>\n",
              "      <td>2021-12-01 08:45:03</td>\n",
              "      <td>New Jersey</td>\n",
              "      <td>Positive</td>\n",
              "      <td>0.32</td>\n",
              "    </tr>\n",
              "    <tr>\n",
              "      <th>3</th>\n",
              "      <td>hospitalization death covid facts straight mor...</td>\n",
              "      <td>2021-12-01 08:23:18</td>\n",
              "      <td>New Jersey</td>\n",
              "      <td>Positive</td>\n",
              "      <td>0.10</td>\n",
              "    </tr>\n",
              "    <tr>\n",
              "      <th>4</th>\n",
              "      <td>dude covid breath lungs sooooooooooo</td>\n",
              "      <td>2021-12-01 07:52:17</td>\n",
              "      <td>New Jersey</td>\n",
              "      <td>Neutral</td>\n",
              "      <td>0.00</td>\n",
              "    </tr>\n",
              "    <tr>\n",
              "      <th>...</th>\n",
              "      <td>...</td>\n",
              "      <td>...</td>\n",
              "      <td>...</td>\n",
              "      <td>...</td>\n",
              "      <td>...</td>\n",
              "    </tr>\n",
              "    <tr>\n",
              "      <th>1205</th>\n",
              "      <td>wins general election 10th august 2020 love co...</td>\n",
              "      <td>2020-08-08 22:52:18</td>\n",
              "      <td>New Jersey</td>\n",
              "      <td>Positive</td>\n",
              "      <td>0.28</td>\n",
              "    </tr>\n",
              "    <tr>\n",
              "      <th>1206</th>\n",
              "      <td>im midst covid19 chaos sun shines flowers bloo...</td>\n",
              "      <td>2020-08-02 14:13:12</td>\n",
              "      <td>New Jersey</td>\n",
              "      <td>Positive</td>\n",
              "      <td>0.80</td>\n",
              "    </tr>\n",
              "    <tr>\n",
              "      <th>1207</th>\n",
              "      <td>geera pork 19 couva</td>\n",
              "      <td>2020-07-21 05:03:01</td>\n",
              "      <td>New Jersey</td>\n",
              "      <td>Neutral</td>\n",
              "      <td>0.00</td>\n",
              "    </tr>\n",
              "    <tr>\n",
              "      <th>1208</th>\n",
              "      <td>covid putting pause construction back work com...</td>\n",
              "      <td>2020-07-11 23:16:20</td>\n",
              "      <td>New Jersey</td>\n",
              "      <td>Neutral</td>\n",
              "      <td>0.00</td>\n",
              "    </tr>\n",
              "    <tr>\n",
              "      <th>1209</th>\n",
              "      <td>hoy toca ir madrid 19 en san fernando</td>\n",
              "      <td>2020-07-08 18:34:39</td>\n",
              "      <td>New Jersey</td>\n",
              "      <td>Neutral</td>\n",
              "      <td>0.00</td>\n",
              "    </tr>\n",
              "  </tbody>\n",
              "</table>\n",
              "<p>1210 rows × 5 columns</p>\n",
              "</div>"
            ],
            "text/plain": [
              "                                                  tweet  ... Polar\n",
              "0     havent slept 1 covidflu vax combo feel death 1...  ...  0.50\n",
              "1                     jeez glory holes arent safe covid  ...  0.50\n",
              "2     supporting humanitarian scientific research im...  ...  0.32\n",
              "3     hospitalization death covid facts straight mor...  ...  0.10\n",
              "4                  dude covid breath lungs sooooooooooo  ...  0.00\n",
              "...                                                 ...  ...   ...\n",
              "1205  wins general election 10th august 2020 love co...  ...  0.28\n",
              "1206  im midst covid19 chaos sun shines flowers bloo...  ...  0.80\n",
              "1207                                geera pork 19 couva  ...  0.00\n",
              "1208  covid putting pause construction back work com...  ...  0.00\n",
              "1209              hoy toca ir madrid 19 en san fernando  ...  0.00\n",
              "\n",
              "[1210 rows x 5 columns]"
            ]
          },
          "metadata": {},
          "execution_count": 328
        }
      ]
    },
    {
      "cell_type": "markdown",
      "source": [
        "## **Texas Sentiments Analysis**\n"
      ],
      "metadata": {
        "id": "mpG-T_0mGY_W"
      }
    },
    {
      "cell_type": "code",
      "source": [
        "df_tx= df1[df1['near']==\"Texas\"].reset_index(drop=True)\n",
        "df_tx"
      ],
      "metadata": {
        "colab": {
          "base_uri": "https://localhost:8080/",
          "height": 0
        },
        "outputId": "70f9eeae-5cbd-43fa-c973-ee1800e5d17e",
        "id": "RoYWRGXuGY_X"
      },
      "execution_count": 329,
      "outputs": [
        {
          "output_type": "execute_result",
          "data": {
            "text/html": [
              "<div>\n",
              "<style scoped>\n",
              "    .dataframe tbody tr th:only-of-type {\n",
              "        vertical-align: middle;\n",
              "    }\n",
              "\n",
              "    .dataframe tbody tr th {\n",
              "        vertical-align: top;\n",
              "    }\n",
              "\n",
              "    .dataframe thead th {\n",
              "        text-align: right;\n",
              "    }\n",
              "</style>\n",
              "<table border=\"1\" class=\"dataframe\">\n",
              "  <thead>\n",
              "    <tr style=\"text-align: right;\">\n",
              "      <th></th>\n",
              "      <th>tweet</th>\n",
              "      <th>date</th>\n",
              "      <th>near</th>\n",
              "      <th>Sentiments</th>\n",
              "      <th>Polar</th>\n",
              "    </tr>\n",
              "  </thead>\n",
              "  <tbody>\n",
              "    <tr>\n",
              "      <th>0</th>\n",
              "      <td>lebron james forced isolate nba covid protocol...</td>\n",
              "      <td>2021-12-01 10:55:37</td>\n",
              "      <td>Texas</td>\n",
              "      <td>Negative</td>\n",
              "      <td>-0.04</td>\n",
              "    </tr>\n",
              "    <tr>\n",
              "      <th>1</th>\n",
              "      <td>interesting made record profits beginning covi...</td>\n",
              "      <td>2021-12-01 10:54:05</td>\n",
              "      <td>Texas</td>\n",
              "      <td>Positive</td>\n",
              "      <td>0.50</td>\n",
              "    </tr>\n",
              "    <tr>\n",
              "      <th>2</th>\n",
              "      <td>watch dan bongino reveals details painful brea...</td>\n",
              "      <td>2021-12-01 10:45:58</td>\n",
              "      <td>Texas</td>\n",
              "      <td>Negative</td>\n",
              "      <td>-0.70</td>\n",
              "    </tr>\n",
              "    <tr>\n",
              "      <th>3</th>\n",
              "      <td>bidens fault dealing covid dont americans wont...</td>\n",
              "      <td>2021-12-01 10:41:47</td>\n",
              "      <td>Texas</td>\n",
              "      <td>Neutral</td>\n",
              "      <td>0.00</td>\n",
              "    </tr>\n",
              "    <tr>\n",
              "      <th>4</th>\n",
              "      <td>noticed youre canada canada handled pandemic f...</td>\n",
              "      <td>2021-12-01 10:36:55</td>\n",
              "      <td>Texas</td>\n",
              "      <td>Neutral</td>\n",
              "      <td>0.00</td>\n",
              "    </tr>\n",
              "    <tr>\n",
              "      <th>...</th>\n",
              "      <td>...</td>\n",
              "      <td>...</td>\n",
              "      <td>...</td>\n",
              "      <td>...</td>\n",
              "      <td>...</td>\n",
              "    </tr>\n",
              "    <tr>\n",
              "      <th>5009</th>\n",
              "      <td>mortality rate european cancer patients contra...</td>\n",
              "      <td>2021-11-25 17:48:55</td>\n",
              "      <td>Texas</td>\n",
              "      <td>Neutral</td>\n",
              "      <td>0.00</td>\n",
              "    </tr>\n",
              "    <tr>\n",
              "      <th>5010</th>\n",
              "      <td>glass died play science statistics incentives ...</td>\n",
              "      <td>2021-11-25 17:48:04</td>\n",
              "      <td>Texas</td>\n",
              "      <td>Neutral</td>\n",
              "      <td>0.00</td>\n",
              "    </tr>\n",
              "    <tr>\n",
              "      <th>5011</th>\n",
              "      <td>jordan differently covid claim trump fumbled</td>\n",
              "      <td>2021-11-25 17:47:08</td>\n",
              "      <td>Texas</td>\n",
              "      <td>Neutral</td>\n",
              "      <td>0.00</td>\n",
              "    </tr>\n",
              "    <tr>\n",
              "      <th>5012</th>\n",
              "      <td>dont em itany republican rise covid cases made...</td>\n",
              "      <td>2021-11-25 17:46:51</td>\n",
              "      <td>Texas</td>\n",
              "      <td>Neutral</td>\n",
              "      <td>0.00</td>\n",
              "    </tr>\n",
              "    <tr>\n",
              "      <th>5013</th>\n",
              "      <td>spoiling details meat movie essentially reveal...</td>\n",
              "      <td>2021-11-25 17:45:54</td>\n",
              "      <td>Texas</td>\n",
              "      <td>Negative</td>\n",
              "      <td>-0.03</td>\n",
              "    </tr>\n",
              "  </tbody>\n",
              "</table>\n",
              "<p>5014 rows × 5 columns</p>\n",
              "</div>"
            ],
            "text/plain": [
              "                                                  tweet  ... Polar\n",
              "0     lebron james forced isolate nba covid protocol...  ... -0.04\n",
              "1     interesting made record profits beginning covi...  ...  0.50\n",
              "2     watch dan bongino reveals details painful brea...  ... -0.70\n",
              "3     bidens fault dealing covid dont americans wont...  ...  0.00\n",
              "4     noticed youre canada canada handled pandemic f...  ...  0.00\n",
              "...                                                 ...  ...   ...\n",
              "5009  mortality rate european cancer patients contra...  ...  0.00\n",
              "5010  glass died play science statistics incentives ...  ...  0.00\n",
              "5011       jordan differently covid claim trump fumbled  ...  0.00\n",
              "5012  dont em itany republican rise covid cases made...  ...  0.00\n",
              "5013  spoiling details meat movie essentially reveal...  ... -0.03\n",
              "\n",
              "[5014 rows x 5 columns]"
            ]
          },
          "metadata": {},
          "execution_count": 329
        }
      ]
    },
    {
      "cell_type": "markdown",
      "source": [
        "# **C. Findings:**"
      ],
      "metadata": {
        "id": "Nrw_TkOCIbaj"
      }
    },
    {
      "cell_type": "markdown",
      "source": [
        "## **Overall Sentiments among all states**\n",
        "\n"
      ],
      "metadata": {
        "id": "KGDwTW_YBAkn"
      }
    },
    {
      "cell_type": "code",
      "source": [
        "## Visualizing the Text sentiments \n",
        "\n",
        "pos=df1[df1['Sentiments']=='Positive']\n",
        "neg=df1[df1['Sentiments']=='Negative']\n",
        "\n",
        "neu=df1[df1['Sentiments']=='Neutral']\n",
        "\n",
        "import plotly.express as px\n",
        "#Frist_Day = Frist_Day\n",
        "fig = px.pie(df1, names='Sentiments')\n",
        "fig.show()"
      ],
      "metadata": {
        "colab": {
          "base_uri": "https://localhost:8080/",
          "height": 542
        },
        "id": "eR9nLYTIAaEL",
        "outputId": "93215e62-d508-42c3-a161-215bbb0bc42f"
      },
      "execution_count": 330,
      "outputs": [
        {
          "output_type": "display_data",
          "data": {
            "text/html": [
              "<html>\n",
              "<head><meta charset=\"utf-8\" /></head>\n",
              "<body>\n",
              "    <div>\n",
              "            <script src=\"https://cdnjs.cloudflare.com/ajax/libs/mathjax/2.7.5/MathJax.js?config=TeX-AMS-MML_SVG\"></script><script type=\"text/javascript\">if (window.MathJax) {MathJax.Hub.Config({SVG: {font: \"STIX-Web\"}});}</script>\n",
              "                <script type=\"text/javascript\">window.PlotlyConfig = {MathJaxConfig: 'local'};</script>\n",
              "        <script src=\"https://cdn.plot.ly/plotly-latest.min.js\"></script>    \n",
              "            <div id=\"83d261c5-e34e-4f12-86f7-44f715eb9280\" class=\"plotly-graph-div\" style=\"height:525px; width:100%;\"></div>\n",
              "            <script type=\"text/javascript\">\n",
              "                \n",
              "                    window.PLOTLYENV=window.PLOTLYENV || {};\n",
              "                    \n",
              "                if (document.getElementById(\"83d261c5-e34e-4f12-86f7-44f715eb9280\")) {\n",
              "                    Plotly.newPlot(\n",
              "                        '83d261c5-e34e-4f12-86f7-44f715eb9280',\n",
              "                        [{\"domain\": {\"x\": [0.0, 1.0], \"y\": [0.0, 1.0]}, \"hoverlabel\": {\"namelength\": 0}, \"hovertemplate\": \"Sentiments=%{label}\", \"labels\": [\"Positive\", \"Positive\", \"Positive\", \"Positive\", \"Neutral\", \"Negative\", \"Neutral\", \"Neutral\", \"Negative\", \"Positive\", \"Neutral\", \"Positive\", \"Negative\", \"Neutral\", \"Negative\", \"Negative\", \"Negative\", \"Neutral\", \"Neutral\", \"Neutral\", \"Positive\", \"Negative\", \"Positive\", \"Neutral\", \"Positive\", \"Positive\", \"Negative\", \"Positive\", \"Neutral\", \"Negative\", \"Negative\", \"Positive\", \"Neutral\", \"Negative\", \"Neutral\", \"Neutral\", \"Neutral\", \"Neutral\", \"Negative\", \"Neutral\", \"Positive\", \"Negative\", \"Positive\", \"Positive\", \"Neutral\", \"Negative\", \"Negative\", \"Neutral\", \"Negative\", \"Neutral\", \"Positive\", \"Neutral\", \"Negative\", \"Neutral\", \"Negative\", \"Neutral\", \"Negative\", \"Positive\", \"Positive\", \"Negative\", \"Positive\", \"Neutral\", \"Neutral\", \"Neutral\", \"Negative\", \"Negative\", \"Positive\", \"Negative\", \"Neutral\", \"Negative\", \"Neutral\", \"Negative\", \"Neutral\", \"Negative\", \"Neutral\", \"Negative\", \"Neutral\", \"Positive\", \"Neutral\", \"Neutral\", \"Positive\", \"Negative\", \"Negative\", \"Neutral\", \"Negative\", \"Neutral\", \"Negative\", \"Neutral\", \"Neutral\", \"Neutral\", \"Positive\", \"Positive\", \"Neutral\", \"Neutral\", \"Positive\", \"Neutral\", \"Negative\", \"Positive\", \"Neutral\", \"Neutral\", \"Negative\", \"Negative\", \"Positive\", \"Positive\", \"Neutral\", \"Negative\", \"Neutral\", \"Positive\", \"Positive\", \"Negative\", \"Neutral\", \"Neutral\", \"Neutral\", \"Neutral\", \"Neutral\", \"Positive\", \"Positive\", \"Positive\", \"Positive\", \"Neutral\", \"Neutral\", \"Positive\", \"Neutral\", \"Negative\", \"Positive\", \"Positive\", \"Negative\", \"Positive\", \"Neutral\", \"Positive\", \"Negative\", \"Neutral\", \"Positive\", \"Negative\", \"Negative\", \"Negative\", \"Negative\", \"Positive\", \"Neutral\", \"Positive\", \"Neutral\", \"Neutral\", \"Neutral\", \"Neutral\", \"Neutral\", \"Neutral\", \"Neutral\", \"Neutral\", \"Negative\", \"Neutral\", \"Negative\", \"Positive\", \"Neutral\", \"Positive\", \"Negative\", \"Positive\", \"Neutral\", \"Positive\", \"Neutral\", \"Positive\", \"Positive\", \"Negative\", \"Neutral\", \"Neutral\", \"Negative\", \"Negative\", \"Negative\", \"Positive\", \"Positive\", \"Neutral\", \"Neutral\", \"Negative\", \"Positive\", \"Positive\", \"Positive\", \"Negative\", \"Negative\", \"Negative\", \"Neutral\", \"Positive\", \"Positive\", \"Neutral\", \"Negative\", \"Positive\", \"Positive\", \"Neutral\", \"Negative\", \"Neutral\", \"Neutral\", \"Negative\", \"Negative\", \"Negative\", \"Negative\", \"Negative\", \"Neutral\", \"Neutral\", \"Neutral\", \"Neutral\", \"Positive\", \"Negative\", \"Positive\", \"Neutral\", \"Positive\", \"Neutral\", \"Negative\", \"Neutral\", \"Positive\", \"Negative\", \"Neutral\", \"Positive\", \"Negative\", \"Neutral\", \"Negative\", \"Positive\", \"Negative\", \"Negative\", \"Neutral\", \"Neutral\", \"Neutral\", \"Negative\", \"Neutral\", \"Neutral\", \"Neutral\", \"Neutral\", \"Neutral\", \"Neutral\", \"Negative\", \"Neutral\", \"Negative\", \"Positive\", \"Negative\", \"Negative\", \"Negative\", \"Neutral\", \"Positive\", \"Neutral\", \"Negative\", \"Neutral\", \"Positive\", \"Negative\", \"Neutral\", \"Negative\", \"Negative\", \"Neutral\", \"Negative\", \"Neutral\", \"Negative\", \"Negative\", \"Neutral\", \"Positive\", \"Neutral\", \"Neutral\", \"Neutral\", \"Neutral\", \"Neutral\", \"Neutral\", \"Positive\", \"Negative\", \"Positive\", \"Positive\", \"Negative\", \"Positive\", \"Neutral\", \"Positive\", \"Neutral\", \"Positive\", \"Neutral\", \"Neutral\", \"Negative\", \"Neutral\", \"Neutral\", \"Neutral\", \"Positive\", \"Positive\", \"Neutral\", \"Neutral\", \"Neutral\", \"Positive\", \"Neutral\", \"Negative\", \"Negative\", \"Positive\", \"Positive\", \"Positive\", \"Positive\", \"Neutral\", \"Neutral\", \"Negative\", \"Neutral\", \"Neutral\", \"Neutral\", \"Neutral\", \"Neutral\", \"Neutral\", \"Neutral\", \"Neutral\", \"Neutral\", \"Neutral\", \"Positive\", \"Neutral\", \"Neutral\", \"Neutral\", \"Neutral\", \"Positive\", \"Negative\", \"Positive\", \"Negative\", \"Neutral\", \"Negative\", \"Positive\", \"Positive\", \"Negative\", \"Neutral\", \"Neutral\", \"Neutral\", \"Neutral\", \"Positive\", \"Positive\", \"Neutral\", \"Neutral\", \"Negative\", \"Negative\", \"Positive\", \"Neutral\", \"Positive\", \"Negative\", \"Neutral\", \"Neutral\", \"Positive\", \"Positive\", \"Negative\", \"Neutral\", \"Neutral\", \"Positive\", \"Positive\", \"Neutral\", \"Neutral\", \"Positive\", \"Neutral\", \"Positive\", \"Neutral\", \"Neutral\", \"Neutral\", \"Neutral\", \"Neutral\", \"Positive\", \"Neutral\", \"Positive\", \"Negative\", \"Neutral\", \"Neutral\", \"Neutral\", \"Neutral\", \"Positive\", \"Neutral\", \"Negative\", \"Negative\", \"Neutral\", \"Negative\", \"Positive\", \"Neutral\", \"Neutral\", \"Positive\", \"Neutral\", \"Negative\", \"Neutral\", \"Neutral\", \"Neutral\", \"Neutral\", \"Positive\", \"Positive\", \"Positive\", \"Negative\", \"Neutral\", \"Neutral\", \"Neutral\", \"Positive\", \"Neutral\", \"Negative\", \"Negative\", \"Positive\", \"Neutral\", \"Neutral\", \"Positive\", \"Neutral\", \"Positive\", \"Neutral\", \"Neutral\", \"Negative\", \"Neutral\", \"Neutral\", \"Positive\", \"Positive\", \"Negative\", \"Negative\", \"Neutral\", \"Neutral\", \"Negative\", \"Neutral\", \"Neutral\", \"Neutral\", \"Neutral\", \"Neutral\", \"Negative\", \"Neutral\", \"Positive\", \"Negative\", \"Negative\", \"Negative\", \"Negative\", \"Negative\", \"Negative\", \"Negative\", \"Neutral\", \"Negative\", \"Neutral\", \"Negative\", \"Neutral\", \"Neutral\", \"Positive\", \"Negative\", \"Neutral\", \"Neutral\", \"Neutral\", \"Neutral\", \"Positive\", \"Negative\", \"Negative\", \"Negative\", \"Neutral\", \"Neutral\", \"Neutral\", \"Neutral\", \"Neutral\", \"Neutral\", \"Neutral\", \"Positive\", \"Negative\", \"Negative\", \"Positive\", \"Negative\", \"Neutral\", \"Neutral\", \"Neutral\", \"Positive\", \"Negative\", \"Neutral\", \"Negative\", \"Neutral\", \"Negative\", \"Negative\", \"Neutral\", \"Neutral\", \"Positive\", \"Negative\", \"Neutral\", \"Negative\", \"Negative\", \"Positive\", \"Positive\", \"Neutral\", \"Positive\", \"Neutral\", \"Neutral\", \"Neutral\", \"Negative\", \"Negative\", \"Negative\", \"Negative\", \"Positive\", \"Negative\", \"Neutral\", \"Positive\", \"Negative\", \"Positive\", \"Positive\", \"Neutral\", \"Neutral\", \"Negative\", \"Neutral\", \"Negative\", \"Neutral\", \"Negative\", \"Negative\", \"Neutral\", \"Neutral\", \"Positive\", \"Negative\", \"Positive\", \"Neutral\", \"Positive\", \"Negative\", \"Positive\", \"Neutral\", \"Neutral\", \"Neutral\", \"Neutral\", \"Neutral\", \"Negative\", \"Positive\", \"Neutral\", \"Neutral\", \"Negative\", \"Neutral\", \"Positive\", \"Neutral\", \"Positive\", \"Neutral\", \"Positive\", \"Neutral\", \"Negative\", \"Neutral\", \"Positive\", \"Neutral\", \"Negative\", \"Negative\", \"Positive\", \"Negative\", \"Negative\", \"Neutral\", \"Neutral\", \"Neutral\", \"Neutral\", \"Negative\", \"Neutral\", \"Neutral\", \"Negative\", \"Negative\", \"Positive\", \"Neutral\", \"Positive\", \"Neutral\", \"Positive\", \"Positive\", \"Positive\", \"Neutral\", \"Neutral\", \"Positive\", \"Negative\", \"Neutral\", \"Neutral\", \"Neutral\", \"Neutral\", \"Neutral\", \"Negative\", \"Neutral\", \"Neutral\", \"Negative\", \"Negative\", \"Negative\", \"Neutral\", \"Negative\", \"Negative\", \"Neutral\", \"Negative\", \"Neutral\", \"Neutral\", \"Neutral\", \"Neutral\", \"Positive\", \"Neutral\", \"Neutral\", \"Positive\", \"Neutral\", \"Negative\", \"Positive\", \"Positive\", \"Neutral\", \"Neutral\", \"Positive\", \"Neutral\", \"Neutral\", \"Neutral\", \"Neutral\", \"Negative\", \"Negative\", \"Negative\", \"Neutral\", \"Positive\", \"Negative\", \"Negative\", \"Neutral\", \"Positive\", \"Negative\", \"Neutral\", \"Negative\", \"Positive\", \"Positive\", \"Neutral\", \"Neutral\", \"Neutral\", \"Negative\", \"Negative\", \"Neutral\", \"Negative\", \"Positive\", \"Neutral\", \"Neutral\", \"Positive\", \"Neutral\", \"Neutral\", \"Neutral\", \"Neutral\", \"Positive\", \"Neutral\", \"Neutral\", \"Negative\", \"Neutral\", \"Neutral\", \"Negative\", \"Neutral\", \"Neutral\", \"Neutral\", \"Neutral\", \"Negative\", \"Neutral\", \"Negative\", \"Positive\", \"Negative\", \"Neutral\", \"Negative\", \"Neutral\", \"Positive\", \"Negative\", \"Neutral\", \"Neutral\", \"Positive\", \"Positive\", \"Negative\", \"Neutral\", \"Negative\", \"Negative\", \"Neutral\", \"Negative\", \"Neutral\", \"Positive\", \"Positive\", \"Negative\", \"Positive\", \"Neutral\", \"Neutral\", \"Neutral\", \"Negative\", \"Neutral\", \"Neutral\", \"Negative\", \"Negative\", \"Neutral\", \"Neutral\", \"Positive\", \"Neutral\", \"Neutral\", \"Neutral\", \"Neutral\", \"Neutral\", \"Negative\", \"Neutral\", \"Negative\", \"Neutral\", \"Neutral\", \"Positive\", \"Neutral\", \"Neutral\", \"Positive\", \"Positive\", \"Positive\", \"Positive\", \"Negative\", \"Neutral\", \"Neutral\", \"Neutral\", \"Neutral\", \"Neutral\", \"Positive\", \"Negative\", \"Negative\", \"Neutral\", \"Positive\", \"Neutral\", \"Negative\", \"Positive\", \"Negative\", \"Negative\", \"Negative\", \"Neutral\", \"Positive\", \"Negative\", \"Negative\", \"Neutral\", \"Neutral\", \"Positive\", \"Neutral\", \"Positive\", \"Neutral\", \"Negative\", \"Positive\", \"Neutral\", \"Negative\", \"Positive\", \"Neutral\", \"Positive\", \"Positive\", \"Neutral\", \"Positive\", \"Positive\", \"Negative\", \"Positive\", \"Negative\", \"Positive\", \"Positive\", \"Negative\", \"Negative\", \"Positive\", \"Positive\", \"Negative\", \"Negative\", \"Neutral\", \"Neutral\", \"Positive\", \"Neutral\", \"Neutral\", \"Neutral\", \"Neutral\", \"Positive\", \"Neutral\", \"Positive\", \"Negative\", \"Neutral\", \"Neutral\", \"Positive\", \"Positive\", \"Positive\", \"Neutral\", \"Neutral\", \"Positive\", \"Negative\", \"Negative\", \"Positive\", \"Neutral\", \"Positive\", \"Positive\", \"Negative\", \"Positive\", \"Neutral\", \"Neutral\", \"Neutral\", \"Negative\", \"Neutral\", \"Positive\", \"Neutral\", \"Neutral\", \"Positive\", \"Positive\", \"Positive\", \"Positive\", \"Positive\", \"Neutral\", \"Neutral\", \"Positive\", \"Neutral\", \"Neutral\", \"Neutral\", \"Positive\", \"Negative\", \"Neutral\", \"Neutral\", \"Negative\", \"Negative\", \"Neutral\", \"Positive\", \"Neutral\", \"Neutral\", \"Neutral\", \"Negative\", \"Neutral\", \"Neutral\", \"Negative\", \"Positive\", \"Neutral\", \"Neutral\", \"Positive\", \"Neutral\", \"Positive\", \"Negative\", \"Neutral\", \"Positive\", \"Negative\", \"Positive\", \"Positive\", \"Neutral\", \"Positive\", \"Positive\", \"Positive\", \"Neutral\", \"Neutral\", \"Neutral\", \"Negative\", \"Positive\", \"Negative\", \"Neutral\", \"Positive\", \"Positive\", \"Neutral\", \"Neutral\", \"Neutral\", \"Neutral\", \"Negative\", \"Neutral\", \"Positive\", \"Positive\", \"Neutral\", \"Neutral\", \"Positive\", \"Negative\", \"Positive\", \"Neutral\", \"Negative\", \"Neutral\", \"Neutral\", \"Neutral\", \"Positive\", \"Positive\", \"Negative\", \"Neutral\", \"Negative\", \"Negative\", \"Positive\", \"Positive\", \"Positive\", \"Neutral\", \"Positive\", \"Negative\", \"Positive\", \"Positive\", \"Neutral\", \"Negative\", \"Negative\", \"Positive\", \"Neutral\", \"Neutral\", \"Positive\", \"Positive\", \"Negative\", \"Positive\", \"Neutral\", \"Negative\", \"Neutral\", \"Negative\", \"Neutral\", \"Negative\", \"Neutral\", \"Neutral\", \"Neutral\", \"Neutral\", \"Neutral\", \"Negative\", \"Positive\", \"Positive\", \"Neutral\", \"Neutral\", \"Negative\", \"Neutral\", \"Neutral\", \"Neutral\", \"Neutral\", \"Positive\", \"Neutral\", \"Positive\", \"Neutral\", \"Neutral\", \"Positive\", \"Neutral\", \"Neutral\", \"Negative\", \"Neutral\", \"Positive\", \"Negative\", \"Neutral\", \"Neutral\", \"Positive\", \"Negative\", \"Positive\", \"Negative\", \"Neutral\", \"Neutral\", \"Positive\", \"Positive\", \"Positive\", \"Neutral\", \"Neutral\", \"Negative\", \"Neutral\", \"Neutral\", \"Neutral\", \"Negative\", \"Positive\", \"Neutral\", \"Negative\", \"Negative\", \"Neutral\", \"Neutral\", \"Negative\", \"Negative\", \"Neutral\", \"Neutral\", \"Positive\", \"Positive\", \"Neutral\", \"Negative\", \"Negative\", \"Positive\", \"Positive\", \"Positive\", \"Positive\", \"Neutral\", \"Positive\", \"Neutral\", \"Positive\", \"Positive\", \"Negative\", \"Positive\", \"Neutral\", \"Neutral\", \"Neutral\", \"Positive\", \"Positive\", \"Negative\", \"Negative\", \"Negative\", \"Negative\", \"Neutral\", \"Positive\", \"Negative\", \"Negative\", \"Negative\", \"Neutral\", \"Neutral\", \"Negative\", \"Neutral\", \"Negative\", \"Negative\", \"Neutral\", \"Negative\", \"Neutral\", \"Neutral\", \"Negative\", \"Negative\", \"Positive\", \"Negative\", \"Negative\", \"Neutral\", \"Neutral\", \"Negative\", \"Negative\", \"Positive\", \"Negative\", \"Positive\", \"Negative\", \"Neutral\", \"Negative\", \"Negative\", \"Positive\", \"Neutral\", \"Negative\", \"Negative\", \"Positive\", \"Neutral\", \"Negative\", \"Neutral\", \"Neutral\", \"Neutral\", \"Negative\", \"Negative\", \"Negative\", \"Positive\", \"Neutral\", \"Positive\", \"Neutral\", \"Positive\", \"Neutral\", \"Negative\", \"Positive\", \"Neutral\", \"Positive\", \"Positive\", \"Neutral\", \"Neutral\", \"Positive\", \"Positive\", \"Neutral\", \"Neutral\", \"Negative\", \"Neutral\", \"Negative\", \"Neutral\", \"Positive\", \"Negative\", \"Positive\", \"Neutral\", \"Neutral\", \"Neutral\", \"Negative\", \"Neutral\", \"Positive\", \"Neutral\", \"Neutral\", \"Neutral\", \"Positive\", \"Positive\", \"Negative\", \"Neutral\", \"Positive\", \"Neutral\", \"Negative\", \"Negative\", \"Neutral\", \"Positive\", \"Negative\", \"Neutral\", \"Neutral\", \"Neutral\", \"Neutral\", \"Negative\", \"Neutral\", \"Neutral\", \"Positive\", \"Negative\", \"Neutral\", \"Negative\", \"Positive\", \"Positive\", \"Neutral\", \"Neutral\", \"Neutral\", \"Neutral\", \"Neutral\", \"Positive\", \"Positive\", \"Neutral\", \"Neutral\", \"Positive\", \"Neutral\", \"Neutral\", \"Neutral\", \"Positive\", \"Positive\", \"Positive\", \"Neutral\", \"Positive\", \"Negative\", \"Negative\", \"Positive\", \"Positive\", \"Neutral\", \"Negative\", \"Negative\", \"Positive\", \"Positive\", \"Neutral\", \"Neutral\", \"Negative\", \"Neutral\", \"Negative\", \"Neutral\", \"Negative\", \"Negative\", \"Neutral\", \"Neutral\", \"Neutral\", \"Neutral\", \"Positive\", \"Neutral\", \"Neutral\", \"Neutral\", \"Positive\", \"Negative\", \"Neutral\", \"Neutral\", \"Neutral\", \"Positive\", \"Positive\", \"Neutral\", \"Negative\", \"Neutral\", \"Positive\", \"Negative\", \"Negative\", \"Positive\", \"Negative\", \"Negative\", \"Positive\", \"Positive\", \"Neutral\", \"Neutral\", \"Positive\", \"Positive\", \"Positive\", \"Negative\", \"Neutral\", \"Positive\", \"Neutral\", \"Neutral\", \"Neutral\", \"Neutral\", \"Neutral\", \"Positive\", \"Positive\", \"Positive\", \"Negative\", \"Neutral\", \"Neutral\", \"Neutral\", \"Positive\", \"Neutral\", \"Neutral\", \"Neutral\", \"Negative\", \"Neutral\", \"Negative\", \"Negative\", \"Neutral\", \"Neutral\", \"Neutral\", \"Negative\", \"Neutral\", \"Neutral\", \"Neutral\", \"Neutral\", \"Neutral\", \"Neutral\", \"Neutral\", \"Negative\", \"Neutral\", \"Neutral\", \"Positive\", \"Positive\", \"Neutral\", \"Neutral\", \"Negative\", \"Negative\", \"Neutral\", \"Negative\", \"Positive\", \"Positive\", \"Neutral\", \"Positive\", \"Positive\", \"Neutral\", \"Neutral\", \"Neutral\", \"Positive\", \"Neutral\", \"Positive\", \"Positive\", \"Positive\", \"Neutral\", \"Negative\", \"Neutral\", \"Neutral\", \"Neutral\", \"Neutral\", \"Negative\", \"Positive\", \"Positive\", \"Positive\", \"Negative\", \"Neutral\", \"Neutral\", \"Negative\", \"Neutral\", \"Neutral\", \"Neutral\", \"Neutral\", \"Negative\", \"Positive\", \"Neutral\", \"Negative\", \"Neutral\", \"Positive\", \"Positive\", \"Neutral\", \"Negative\", \"Positive\", \"Neutral\", \"Positive\", \"Neutral\", \"Neutral\", \"Positive\", \"Neutral\", \"Positive\", \"Positive\", \"Positive\", \"Neutral\", \"Neutral\", \"Positive\", \"Neutral\", \"Neutral\", \"Neutral\", \"Neutral\", \"Positive\", \"Negative\", \"Neutral\", \"Neutral\", \"Neutral\", \"Negative\", \"Positive\", \"Positive\", \"Neutral\", \"Neutral\", \"Neutral\", \"Negative\", \"Neutral\", \"Negative\", \"Neutral\", \"Negative\", \"Negative\", \"Neutral\", \"Positive\", \"Positive\", \"Negative\", \"Negative\", \"Neutral\", \"Positive\", \"Neutral\", \"Negative\", \"Neutral\", \"Positive\", \"Positive\", \"Negative\", \"Positive\", \"Neutral\", \"Neutral\", \"Negative\", \"Positive\", \"Neutral\", \"Neutral\", \"Negative\", \"Neutral\", \"Positive\", \"Positive\", \"Neutral\", \"Neutral\", \"Negative\", \"Neutral\", \"Neutral\", \"Negative\", \"Neutral\", \"Negative\", \"Negative\", \"Neutral\", \"Positive\", \"Negative\", \"Positive\", \"Negative\", \"Positive\", \"Negative\", \"Neutral\", \"Neutral\", \"Positive\", \"Negative\", \"Negative\", \"Neutral\", \"Positive\", \"Neutral\", \"Positive\", \"Neutral\", \"Positive\", \"Neutral\", \"Positive\", \"Neutral\", \"Negative\", \"Neutral\", \"Negative\", \"Negative\", \"Positive\", \"Positive\", \"Neutral\", \"Negative\", \"Positive\", \"Positive\", \"Neutral\", \"Neutral\", \"Positive\", \"Positive\", \"Neutral\", \"Positive\", \"Neutral\", \"Neutral\", \"Neutral\", \"Negative\", \"Negative\", \"Neutral\", \"Negative\", \"Positive\", \"Neutral\", \"Positive\", \"Neutral\", \"Neutral\", \"Neutral\", \"Negative\", \"Positive\", \"Negative\", \"Positive\", \"Neutral\", \"Positive\", \"Neutral\", \"Positive\", \"Negative\", \"Negative\", \"Positive\", \"Negative\", \"Negative\", \"Neutral\", \"Negative\", \"Neutral\", \"Positive\", \"Neutral\", \"Neutral\", \"Positive\", \"Positive\", \"Neutral\", \"Negative\", \"Neutral\", \"Positive\", \"Negative\", \"Negative\", \"Positive\", \"Positive\", \"Negative\", \"Neutral\", \"Neutral\", \"Positive\", \"Negative\", \"Negative\", \"Negative\", \"Neutral\", \"Negative\", \"Negative\", \"Negative\", \"Negative\", \"Neutral\", \"Neutral\", \"Neutral\", \"Positive\", \"Neutral\", \"Negative\", \"Positive\", \"Neutral\", \"Neutral\", \"Positive\", \"Neutral\", \"Positive\", \"Neutral\", \"Neutral\", \"Negative\", \"Negative\", \"Neutral\", \"Negative\", \"Neutral\", \"Neutral\", \"Neutral\", \"Neutral\", \"Negative\", \"Negative\", \"Negative\", \"Neutral\", \"Neutral\", \"Neutral\", \"Neutral\", \"Neutral\", \"Neutral\", \"Negative\", \"Positive\", \"Positive\", \"Neutral\", \"Neutral\", \"Neutral\", \"Neutral\", \"Positive\", \"Neutral\", \"Neutral\", \"Negative\", \"Neutral\", \"Neutral\", \"Positive\", \"Neutral\", \"Negative\", \"Neutral\", \"Neutral\", \"Positive\", \"Positive\", \"Negative\", \"Neutral\", \"Neutral\", \"Positive\", \"Neutral\", \"Negative\", \"Neutral\", \"Positive\", \"Neutral\", \"Neutral\", \"Positive\", \"Positive\", \"Neutral\", \"Neutral\", \"Neutral\", \"Negative\", \"Neutral\", \"Neutral\", \"Positive\", \"Neutral\", \"Positive\", \"Neutral\", \"Negative\", \"Negative\", \"Negative\", \"Positive\", \"Neutral\", \"Neutral\", \"Negative\", \"Neutral\", \"Neutral\", \"Neutral\", \"Positive\", \"Neutral\", \"Positive\", \"Neutral\", \"Positive\", \"Positive\", \"Negative\", \"Neutral\", \"Neutral\", \"Neutral\", \"Negative\", \"Positive\", \"Neutral\", \"Negative\", \"Neutral\", \"Positive\", \"Neutral\", \"Positive\", \"Neutral\", \"Negative\", \"Positive\", \"Neutral\", \"Positive\", \"Positive\", \"Neutral\", \"Neutral\", \"Neutral\", \"Negative\", \"Positive\", \"Neutral\", \"Neutral\", \"Negative\", \"Neutral\", \"Negative\", \"Negative\", \"Neutral\", \"Positive\", \"Neutral\", \"Neutral\", \"Negative\", \"Negative\", \"Neutral\", \"Neutral\", \"Positive\", \"Neutral\", \"Positive\", \"Neutral\", \"Neutral\", \"Neutral\", \"Negative\", \"Neutral\", \"Neutral\", \"Negative\", \"Positive\", \"Positive\", \"Positive\", \"Neutral\", \"Neutral\", \"Neutral\", \"Neutral\", \"Neutral\", \"Negative\", \"Negative\", \"Negative\", \"Negative\", \"Neutral\", \"Negative\", \"Neutral\", \"Positive\", \"Negative\", \"Neutral\", \"Neutral\", \"Negative\", \"Negative\", \"Negative\", \"Neutral\", \"Positive\", \"Negative\", \"Positive\", \"Neutral\", \"Positive\", \"Positive\", \"Neutral\", \"Positive\", \"Neutral\", \"Neutral\", \"Neutral\", \"Neutral\", \"Neutral\", \"Negative\", \"Positive\", \"Neutral\", \"Negative\", \"Neutral\", \"Positive\", \"Neutral\", \"Neutral\", \"Positive\", \"Positive\", \"Negative\", \"Neutral\", \"Neutral\", \"Positive\", \"Negative\", \"Positive\", \"Negative\", \"Neutral\", \"Neutral\", \"Positive\", \"Positive\", \"Neutral\", \"Positive\", \"Negative\", \"Neutral\", \"Negative\", \"Positive\", \"Neutral\", \"Neutral\", \"Positive\", \"Negative\", \"Negative\", \"Neutral\", \"Negative\", \"Positive\", \"Positive\", \"Neutral\", \"Negative\", \"Neutral\", \"Negative\", \"Negative\", \"Positive\", \"Negative\", \"Neutral\", \"Positive\", \"Negative\", \"Negative\", \"Neutral\", \"Negative\", \"Negative\", \"Neutral\", \"Positive\", \"Neutral\", \"Neutral\", \"Positive\", \"Negative\", \"Positive\", \"Neutral\", \"Negative\", \"Positive\", \"Negative\", \"Neutral\", \"Neutral\", \"Positive\", \"Negative\", \"Neutral\", \"Negative\", \"Negative\", \"Neutral\", \"Positive\", \"Positive\", \"Negative\", \"Neutral\", \"Neutral\", \"Neutral\", \"Negative\", \"Neutral\", \"Neutral\", \"Positive\", \"Negative\", \"Neutral\", \"Neutral\", \"Neutral\", \"Neutral\", \"Neutral\", \"Positive\", \"Neutral\", \"Neutral\", \"Positive\", \"Neutral\", \"Negative\", \"Neutral\", \"Positive\", \"Neutral\", \"Neutral\", \"Negative\", \"Neutral\", \"Positive\", \"Neutral\", \"Positive\", \"Neutral\", \"Neutral\", \"Neutral\", \"Neutral\", \"Neutral\", \"Neutral\", \"Positive\", \"Neutral\", \"Positive\", \"Neutral\", \"Negative\", \"Neutral\", \"Neutral\", \"Positive\", \"Positive\", \"Positive\", \"Neutral\", \"Neutral\", \"Negative\", \"Negative\", \"Positive\", \"Neutral\", \"Neutral\", \"Positive\", \"Positive\", \"Neutral\", \"Positive\", \"Negative\", \"Neutral\", \"Negative\", \"Neutral\", \"Positive\", \"Positive\", \"Neutral\", \"Positive\", \"Negative\", \"Neutral\", \"Positive\", \"Positive\", \"Neutral\", \"Neutral\", \"Positive\", \"Positive\", \"Positive\", \"Negative\", \"Neutral\", \"Neutral\", \"Negative\", \"Neutral\", \"Neutral\", \"Neutral\", \"Positive\", \"Negative\", \"Negative\", \"Neutral\", \"Neutral\", \"Neutral\", \"Positive\", \"Positive\", \"Neutral\", \"Neutral\", \"Neutral\", \"Negative\", \"Negative\", \"Neutral\", \"Neutral\", \"Neutral\", \"Negative\", \"Positive\", \"Neutral\", \"Positive\", \"Neutral\", \"Neutral\", \"Neutral\", \"Negative\", \"Positive\", \"Negative\", \"Neutral\", \"Negative\", \"Negative\", \"Neutral\", \"Neutral\", \"Positive\", \"Positive\", \"Positive\", \"Neutral\", \"Neutral\", \"Negative\", \"Positive\", \"Positive\", \"Negative\", \"Negative\", \"Positive\", \"Negative\", \"Positive\", \"Negative\", \"Neutral\", \"Neutral\", \"Neutral\", \"Neutral\", \"Positive\", \"Negative\", \"Neutral\", \"Negative\", \"Positive\", \"Neutral\", \"Neutral\", \"Neutral\", \"Negative\", \"Negative\", \"Positive\", \"Positive\", \"Negative\", \"Neutral\", \"Negative\", \"Positive\", \"Negative\", \"Neutral\", \"Neutral\", \"Positive\", \"Neutral\", \"Positive\", \"Neutral\", \"Neutral\", \"Negative\", \"Negative\", \"Neutral\", \"Positive\", \"Neutral\", \"Positive\", \"Neutral\", \"Neutral\", \"Neutral\", \"Positive\", \"Positive\", \"Positive\", \"Neutral\", \"Positive\", \"Positive\", \"Positive\", \"Neutral\", \"Negative\", \"Neutral\", \"Neutral\", \"Neutral\", \"Positive\", \"Positive\", \"Positive\", \"Positive\", \"Negative\", \"Positive\", \"Neutral\", \"Neutral\", \"Negative\", \"Neutral\", \"Neutral\", \"Negative\", \"Negative\", \"Negative\", \"Neutral\", \"Positive\", \"Positive\", \"Negative\", \"Positive\", \"Neutral\", \"Positive\", \"Neutral\", \"Negative\", \"Neutral\", \"Positive\", \"Positive\", \"Positive\", \"Negative\", \"Positive\", \"Positive\", \"Positive\", \"Neutral\", \"Neutral\", \"Positive\", \"Neutral\", \"Neutral\", \"Positive\", \"Neutral\", \"Positive\", \"Neutral\", \"Negative\", \"Neutral\", \"Positive\", \"Neutral\", \"Negative\", \"Neutral\", \"Neutral\", \"Positive\", \"Neutral\", \"Positive\", \"Negative\", \"Negative\", \"Positive\", \"Neutral\", \"Positive\", \"Neutral\", \"Negative\", \"Neutral\", \"Negative\", \"Neutral\", \"Negative\", \"Positive\", \"Negative\", \"Neutral\", \"Negative\", \"Negative\", \"Positive\", \"Neutral\", \"Neutral\", \"Neutral\", \"Negative\", \"Negative\", \"Negative\", \"Negative\", \"Neutral\", \"Neutral\", \"Negative\", \"Neutral\", \"Positive\", \"Positive\", \"Positive\", \"Positive\", \"Positive\", \"Neutral\", \"Positive\", \"Negative\", \"Negative\", \"Positive\", \"Negative\", \"Negative\", \"Neutral\", \"Neutral\", \"Positive\", \"Positive\", \"Neutral\", \"Neutral\", \"Positive\", \"Positive\", \"Neutral\", \"Neutral\", \"Negative\", \"Neutral\", \"Positive\", \"Negative\", \"Positive\", \"Neutral\", \"Neutral\", \"Negative\", \"Neutral\", \"Neutral\", \"Positive\", \"Neutral\", \"Neutral\", \"Negative\", \"Positive\", \"Neutral\", \"Neutral\", \"Positive\", \"Positive\", \"Negative\", \"Negative\", \"Neutral\", \"Neutral\", \"Neutral\", \"Positive\", \"Neutral\", \"Neutral\", \"Negative\", \"Negative\", \"Neutral\", \"Neutral\", \"Neutral\", \"Negative\", \"Negative\", \"Negative\", \"Positive\", \"Negative\", \"Neutral\", \"Negative\", \"Neutral\", \"Neutral\", \"Positive\", \"Positive\", \"Neutral\", \"Neutral\", \"Positive\", \"Neutral\", \"Neutral\", \"Negative\", \"Positive\", \"Neutral\", \"Neutral\", \"Positive\", \"Negative\", \"Neutral\", \"Negative\", \"Negative\", \"Negative\", \"Negative\", \"Negative\", \"Negative\", \"Neutral\", \"Positive\", \"Neutral\", \"Positive\", \"Neutral\", \"Negative\", \"Negative\", \"Neutral\", \"Negative\", \"Negative\", \"Negative\", \"Positive\", \"Negative\", \"Negative\", \"Negative\", \"Negative\", \"Neutral\", \"Negative\", \"Positive\", \"Neutral\", \"Neutral\", \"Neutral\", \"Neutral\", \"Neutral\", \"Neutral\", \"Negative\", \"Neutral\", \"Neutral\", \"Neutral\", \"Neutral\", \"Neutral\", \"Negative\", \"Neutral\", \"Neutral\", \"Neutral\", \"Neutral\", \"Negative\", \"Neutral\", \"Neutral\", \"Neutral\", \"Neutral\", \"Positive\", \"Negative\", \"Positive\", \"Neutral\", \"Negative\", \"Neutral\", \"Neutral\", \"Negative\", \"Negative\", \"Positive\", \"Positive\", \"Negative\", \"Positive\", \"Neutral\", \"Positive\", \"Negative\", \"Neutral\", \"Positive\", \"Neutral\", \"Neutral\", \"Neutral\", \"Negative\", \"Neutral\", \"Negative\", \"Negative\", \"Neutral\", \"Neutral\", \"Positive\", \"Neutral\", \"Positive\", \"Positive\", \"Negative\", \"Positive\", \"Neutral\", \"Neutral\", \"Neutral\", \"Positive\", \"Positive\", \"Negative\", \"Negative\", \"Neutral\", \"Negative\", \"Neutral\", \"Negative\", \"Positive\", \"Negative\", \"Negative\", \"Neutral\", \"Neutral\", \"Positive\", \"Negative\", \"Negative\", \"Negative\", \"Negative\", \"Neutral\", \"Negative\", \"Neutral\", \"Neutral\", \"Neutral\", \"Negative\", \"Negative\", \"Negative\", \"Negative\", \"Neutral\", \"Neutral\", \"Neutral\", \"Negative\", \"Positive\", \"Negative\", \"Neutral\", \"Neutral\", \"Positive\", \"Neutral\", \"Positive\", \"Neutral\", \"Neutral\", \"Negative\", \"Positive\", \"Neutral\", \"Positive\", \"Neutral\", \"Neutral\", \"Positive\", \"Negative\", \"Positive\", \"Positive\", \"Neutral\", \"Neutral\", \"Neutral\", \"Neutral\", \"Neutral\", \"Neutral\", \"Neutral\", \"Neutral\", \"Positive\", \"Negative\", \"Neutral\", \"Neutral\", \"Neutral\", \"Neutral\", \"Neutral\", \"Neutral\", \"Positive\", \"Positive\", \"Neutral\", \"Neutral\", \"Positive\", \"Positive\", \"Positive\", \"Negative\", \"Neutral\", \"Neutral\", \"Negative\", \"Positive\", \"Positive\", \"Positive\", \"Neutral\", \"Neutral\", \"Neutral\", \"Neutral\", \"Negative\", \"Positive\", \"Neutral\", \"Positive\", \"Positive\", \"Neutral\", \"Neutral\", \"Neutral\", \"Negative\", \"Positive\", \"Neutral\", \"Neutral\", \"Neutral\", \"Neutral\", \"Neutral\", \"Positive\", \"Positive\", \"Neutral\", \"Neutral\", \"Neutral\", \"Negative\", \"Negative\", \"Neutral\", \"Negative\", \"Neutral\", \"Neutral\", \"Negative\", \"Positive\", \"Negative\", \"Negative\", \"Neutral\", \"Neutral\", \"Positive\", \"Positive\", \"Negative\", \"Negative\", \"Neutral\", \"Neutral\", \"Negative\", \"Neutral\", \"Negative\", \"Positive\", \"Negative\", \"Positive\", \"Positive\", \"Positive\", \"Neutral\", \"Positive\", \"Positive\", \"Neutral\", \"Positive\", \"Positive\", \"Neutral\", \"Positive\", \"Neutral\", \"Negative\", \"Neutral\", \"Positive\", \"Neutral\", \"Positive\", \"Negative\", \"Negative\", \"Neutral\", \"Negative\", \"Negative\", \"Positive\", \"Negative\", \"Neutral\", \"Positive\", \"Neutral\", \"Negative\", \"Positive\", \"Positive\", \"Negative\", \"Neutral\", \"Positive\", \"Neutral\", \"Neutral\", \"Neutral\", \"Positive\", \"Neutral\", \"Positive\", \"Positive\", \"Positive\", \"Negative\", \"Positive\", \"Neutral\", \"Positive\", \"Negative\", \"Negative\", \"Negative\", \"Neutral\", \"Negative\", \"Neutral\", \"Neutral\", \"Negative\", \"Negative\", \"Positive\", \"Positive\", \"Negative\", \"Negative\", \"Positive\", \"Neutral\", \"Neutral\", \"Positive\", \"Positive\", \"Positive\", \"Negative\", \"Positive\", \"Neutral\", \"Neutral\", \"Neutral\", \"Neutral\", \"Negative\", \"Negative\", \"Positive\", \"Neutral\", \"Neutral\", \"Neutral\", \"Neutral\", \"Neutral\", \"Neutral\", \"Neutral\", \"Positive\", \"Neutral\", \"Positive\", \"Neutral\", \"Positive\", \"Neutral\", \"Neutral\", \"Neutral\", \"Positive\", \"Neutral\", \"Neutral\", \"Neutral\", \"Neutral\", \"Negative\", \"Neutral\", \"Positive\", \"Neutral\", \"Neutral\", \"Positive\", \"Positive\", \"Positive\", \"Positive\", \"Neutral\", \"Neutral\", \"Neutral\", \"Neutral\", \"Negative\", \"Neutral\", \"Neutral\", \"Neutral\", \"Neutral\", \"Negative\", \"Neutral\", \"Positive\", \"Neutral\", \"Positive\", \"Neutral\", \"Negative\", \"Neutral\", \"Negative\", \"Positive\", \"Neutral\", \"Negative\", \"Negative\", \"Negative\", \"Positive\", \"Positive\", \"Positive\", \"Neutral\", \"Neutral\", \"Neutral\", \"Negative\", \"Neutral\", \"Neutral\", \"Negative\", \"Negative\", \"Negative\", \"Negative\", \"Negative\", \"Neutral\", \"Negative\", \"Neutral\", \"Neutral\", \"Neutral\", \"Neutral\", \"Neutral\", \"Neutral\", \"Neutral\", \"Positive\", \"Neutral\", \"Neutral\", \"Negative\", \"Positive\", \"Positive\", \"Neutral\", \"Positive\", \"Negative\", \"Neutral\", \"Positive\", \"Positive\", \"Positive\", \"Positive\", \"Neutral\", \"Neutral\", \"Neutral\", \"Negative\", \"Neutral\", \"Neutral\", \"Neutral\", \"Positive\", \"Positive\", \"Positive\", \"Neutral\", \"Neutral\", \"Neutral\", \"Negative\", \"Neutral\", \"Positive\", \"Positive\", \"Neutral\", \"Neutral\", \"Positive\", \"Neutral\", \"Neutral\", \"Positive\", \"Neutral\", \"Neutral\", \"Neutral\", \"Neutral\", \"Neutral\", \"Neutral\", \"Positive\", \"Neutral\", \"Neutral\", \"Neutral\", \"Negative\", \"Neutral\", \"Neutral\", \"Neutral\", \"Neutral\", \"Positive\", \"Positive\", \"Positive\", \"Neutral\", \"Positive\", \"Negative\", \"Negative\", \"Neutral\", \"Positive\", \"Positive\", \"Neutral\", \"Neutral\", \"Neutral\", \"Neutral\", \"Negative\", \"Neutral\", \"Neutral\", \"Neutral\", \"Neutral\", \"Negative\", \"Negative\", \"Positive\", \"Positive\", \"Neutral\", \"Positive\", \"Neutral\", \"Positive\", \"Positive\", \"Neutral\", \"Neutral\", \"Positive\", \"Negative\", \"Neutral\", \"Positive\", \"Neutral\", \"Neutral\", \"Neutral\", \"Neutral\", \"Neutral\", \"Neutral\", \"Neutral\", \"Negative\", \"Negative\", \"Neutral\", \"Neutral\", \"Neutral\", \"Neutral\", \"Neutral\", \"Neutral\", \"Neutral\", \"Negative\", \"Neutral\", \"Neutral\", \"Negative\", \"Neutral\", \"Neutral\", \"Negative\", \"Neutral\", \"Neutral\", \"Negative\", \"Positive\", \"Positive\", \"Neutral\", \"Neutral\", \"Neutral\", \"Negative\", \"Neutral\", \"Negative\", \"Negative\", \"Neutral\", \"Negative\", \"Negative\", \"Neutral\", \"Neutral\", \"Positive\", \"Negative\", \"Negative\", \"Negative\", \"Negative\", \"Neutral\", \"Neutral\", \"Neutral\", \"Neutral\", \"Positive\", \"Neutral\", \"Positive\", \"Neutral\", \"Neutral\", \"Positive\", \"Negative\", \"Neutral\", \"Neutral\", \"Positive\", \"Negative\", \"Positive\", \"Neutral\", \"Positive\", \"Neutral\", \"Negative\", \"Positive\", \"Positive\", \"Neutral\", \"Positive\", \"Negative\", \"Positive\", \"Neutral\", \"Neutral\", \"Negative\", \"Positive\", \"Neutral\", \"Neutral\", \"Neutral\", \"Positive\", \"Positive\", \"Negative\", \"Positive\", \"Negative\", \"Positive\", \"Positive\", \"Neutral\", \"Negative\", \"Negative\", \"Positive\", \"Neutral\", \"Neutral\", \"Negative\", \"Positive\", \"Negative\", \"Neutral\", \"Positive\", \"Neutral\", \"Neutral\", \"Neutral\", \"Neutral\", \"Positive\", \"Positive\", \"Negative\", \"Neutral\", \"Neutral\", \"Negative\", \"Neutral\", \"Positive\", \"Neutral\", \"Positive\", \"Negative\", \"Neutral\", \"Neutral\", \"Neutral\", \"Neutral\", \"Negative\", \"Neutral\", \"Positive\", \"Positive\", \"Positive\", \"Neutral\", \"Negative\", \"Neutral\", \"Positive\", \"Positive\", \"Neutral\", \"Neutral\", \"Neutral\", \"Negative\", \"Neutral\", \"Negative\", \"Neutral\", \"Neutral\", \"Neutral\", \"Neutral\", \"Neutral\", \"Neutral\", \"Neutral\", \"Neutral\", \"Negative\", \"Positive\", \"Positive\", \"Neutral\", \"Negative\", \"Neutral\", \"Positive\", \"Neutral\", \"Neutral\", \"Negative\", \"Negative\", \"Positive\", \"Positive\", \"Neutral\", \"Neutral\", \"Neutral\", \"Neutral\", \"Neutral\", \"Positive\", \"Neutral\", \"Neutral\", \"Positive\", \"Negative\", \"Negative\", \"Positive\", \"Positive\", \"Neutral\", \"Neutral\", \"Positive\", \"Neutral\", \"Neutral\", \"Neutral\", \"Neutral\", \"Negative\", \"Neutral\", \"Neutral\", \"Negative\", \"Neutral\", \"Neutral\", \"Neutral\", \"Positive\", \"Negative\", \"Positive\", \"Positive\", \"Positive\", \"Positive\", \"Neutral\", \"Neutral\", \"Neutral\", \"Neutral\", \"Neutral\", \"Negative\", \"Neutral\", \"Positive\", \"Negative\", \"Neutral\", \"Neutral\", \"Negative\", \"Negative\", \"Neutral\", \"Neutral\", \"Neutral\", \"Neutral\", \"Neutral\", \"Positive\", \"Neutral\", \"Neutral\", \"Positive\", \"Negative\", \"Negative\", \"Neutral\", \"Neutral\", \"Positive\", \"Positive\", \"Negative\", \"Negative\", \"Positive\", \"Neutral\", \"Neutral\", \"Neutral\", \"Negative\", \"Negative\", \"Neutral\", \"Positive\", \"Neutral\", \"Positive\", \"Negative\", \"Positive\", \"Positive\", \"Negative\", \"Neutral\", \"Positive\", \"Neutral\", \"Negative\", \"Neutral\", \"Negative\", \"Neutral\", \"Positive\", \"Negative\", \"Negative\", \"Negative\", \"Neutral\", \"Neutral\", \"Positive\", \"Positive\", \"Positive\", \"Positive\", \"Positive\", \"Neutral\", \"Negative\", \"Neutral\", \"Negative\", \"Positive\", \"Negative\", \"Neutral\", \"Positive\", \"Negative\", \"Neutral\", \"Neutral\", \"Neutral\", \"Neutral\", \"Neutral\", \"Negative\", \"Neutral\", \"Neutral\", \"Neutral\", \"Positive\", \"Neutral\", \"Neutral\", \"Neutral\", \"Neutral\", \"Positive\", \"Neutral\", \"Neutral\", \"Negative\", \"Negative\", \"Neutral\", \"Neutral\", \"Negative\", \"Negative\", \"Neutral\", \"Neutral\", \"Neutral\", \"Neutral\", \"Negative\", \"Positive\", \"Neutral\", \"Negative\", \"Positive\", \"Positive\", \"Negative\", \"Negative\", \"Positive\", \"Positive\", \"Neutral\", \"Neutral\", \"Positive\", \"Neutral\", \"Negative\", \"Positive\", \"Neutral\", \"Positive\", \"Positive\", \"Positive\", \"Neutral\", \"Neutral\", \"Negative\", \"Positive\", \"Positive\", \"Neutral\", \"Positive\", \"Positive\", \"Positive\", \"Negative\", \"Negative\", \"Neutral\", \"Positive\", \"Neutral\", \"Negative\", \"Negative\", \"Positive\", \"Neutral\", \"Neutral\", \"Negative\", \"Neutral\", \"Negative\", \"Positive\", \"Positive\", \"Positive\", \"Neutral\", \"Neutral\", \"Positive\", \"Neutral\", \"Neutral\", \"Positive\", \"Neutral\", \"Positive\", \"Positive\", \"Negative\", \"Positive\", \"Positive\", \"Positive\", \"Neutral\", \"Neutral\", \"Positive\", \"Positive\", \"Positive\", \"Neutral\", \"Negative\", \"Negative\", \"Neutral\", \"Positive\", \"Negative\", \"Neutral\", \"Positive\", \"Negative\", \"Negative\", \"Neutral\", \"Negative\", \"Negative\", \"Neutral\", \"Negative\", \"Negative\", \"Negative\", \"Positive\", \"Positive\", \"Neutral\", \"Neutral\", \"Neutral\", \"Neutral\", \"Neutral\", \"Neutral\", \"Neutral\", \"Neutral\", \"Positive\", \"Positive\", \"Positive\", \"Neutral\", \"Negative\", \"Positive\", \"Positive\", \"Neutral\", \"Negative\", \"Positive\", \"Positive\", \"Neutral\", \"Negative\", \"Positive\", \"Negative\", \"Positive\", \"Neutral\", \"Neutral\", \"Positive\", \"Neutral\", \"Positive\", \"Neutral\", \"Neutral\", \"Neutral\", \"Negative\", \"Neutral\", \"Neutral\", \"Negative\", \"Negative\", \"Neutral\", \"Neutral\", \"Neutral\", \"Neutral\", \"Neutral\", \"Negative\", \"Positive\", \"Neutral\", \"Neutral\", \"Negative\", \"Negative\", \"Neutral\", \"Neutral\", \"Negative\", \"Neutral\", \"Neutral\", \"Neutral\", \"Neutral\", \"Negative\", \"Neutral\", \"Neutral\", \"Positive\", \"Neutral\", \"Positive\", \"Negative\", \"Neutral\", \"Negative\", \"Neutral\", \"Neutral\", \"Neutral\", \"Neutral\", \"Negative\", \"Neutral\", \"Neutral\", \"Neutral\", \"Negative\", \"Negative\", \"Negative\", \"Negative\", \"Positive\", \"Neutral\", \"Positive\", \"Positive\", \"Neutral\", \"Negative\", \"Positive\", \"Positive\", \"Neutral\", \"Negative\", \"Negative\", \"Positive\", \"Neutral\", \"Neutral\", \"Neutral\", \"Negative\", \"Negative\", \"Positive\", \"Neutral\", \"Neutral\", \"Neutral\", \"Positive\", \"Neutral\", \"Positive\", \"Neutral\", \"Negative\", \"Negative\", \"Negative\", \"Neutral\", \"Positive\", \"Positive\", \"Positive\", \"Positive\", \"Neutral\", \"Positive\", \"Neutral\", \"Neutral\", \"Neutral\", \"Negative\", \"Neutral\", \"Positive\", \"Neutral\", \"Neutral\", \"Positive\", \"Neutral\", \"Negative\", \"Neutral\", \"Negative\", \"Negative\", \"Negative\", \"Positive\", \"Positive\", \"Negative\", \"Negative\", \"Neutral\", \"Neutral\", \"Positive\", \"Neutral\", \"Neutral\", \"Negative\", \"Negative\", \"Neutral\", \"Positive\", \"Neutral\", \"Positive\", \"Positive\", \"Negative\", \"Neutral\", \"Neutral\", \"Negative\", \"Neutral\", \"Negative\", \"Neutral\", \"Neutral\", \"Negative\", \"Positive\", \"Positive\", \"Positive\", \"Negative\", \"Positive\", \"Positive\", \"Positive\", \"Positive\", \"Neutral\", \"Neutral\", \"Neutral\", \"Positive\", \"Negative\", \"Positive\", \"Neutral\", \"Neutral\", \"Negative\", \"Negative\", \"Neutral\", \"Neutral\", \"Neutral\", \"Neutral\", \"Neutral\", \"Positive\", \"Neutral\", \"Positive\", \"Positive\", \"Positive\", \"Negative\", \"Neutral\", \"Neutral\", \"Neutral\", \"Positive\", \"Neutral\", \"Neutral\", \"Negative\", \"Negative\", \"Neutral\", \"Negative\", \"Negative\", \"Negative\", \"Neutral\", \"Negative\", \"Positive\", \"Positive\", \"Positive\", \"Neutral\", \"Neutral\", \"Positive\", \"Negative\", \"Negative\", \"Positive\", \"Neutral\", \"Neutral\", \"Negative\", \"Neutral\", \"Neutral\", \"Positive\", \"Negative\", \"Neutral\", \"Positive\", \"Neutral\", \"Positive\", \"Neutral\", \"Positive\", \"Negative\", \"Negative\", \"Positive\", \"Negative\", \"Neutral\", \"Neutral\", \"Neutral\", \"Positive\", \"Positive\", \"Neutral\", \"Positive\", \"Neutral\", \"Positive\", \"Negative\", \"Negative\", \"Neutral\", \"Negative\", \"Neutral\", \"Neutral\", \"Neutral\", \"Neutral\", \"Positive\", \"Neutral\", \"Positive\", \"Positive\", \"Positive\", \"Neutral\", \"Neutral\", \"Neutral\", \"Negative\", \"Positive\", \"Neutral\", \"Positive\", \"Positive\", \"Neutral\", \"Neutral\", \"Positive\", \"Neutral\", \"Negative\", \"Neutral\", \"Negative\", \"Negative\", \"Positive\", \"Neutral\", \"Positive\", \"Positive\", \"Neutral\", \"Neutral\", \"Negative\", \"Positive\", \"Neutral\", \"Neutral\", \"Negative\", \"Negative\", \"Positive\", \"Positive\", \"Negative\", \"Positive\", \"Neutral\", \"Neutral\", \"Negative\", \"Neutral\", \"Neutral\", \"Positive\", \"Neutral\", \"Negative\", \"Positive\", \"Neutral\", \"Negative\", \"Neutral\", \"Negative\", \"Positive\", \"Neutral\", \"Negative\", \"Negative\", \"Positive\", \"Negative\", \"Positive\", \"Neutral\", \"Neutral\", \"Positive\", \"Negative\", \"Neutral\", \"Negative\", \"Neutral\", \"Neutral\", \"Neutral\", \"Neutral\", \"Neutral\", \"Neutral\", \"Neutral\", \"Positive\", \"Positive\", \"Neutral\", \"Positive\", \"Neutral\", \"Negative\", \"Negative\", \"Neutral\", \"Positive\", \"Positive\", \"Negative\", \"Neutral\", \"Neutral\", \"Neutral\", \"Positive\", \"Positive\", \"Positive\", \"Neutral\", \"Neutral\", \"Neutral\", \"Neutral\", \"Positive\", \"Positive\", \"Neutral\", \"Positive\", \"Neutral\", \"Neutral\", \"Neutral\", \"Neutral\", \"Neutral\", \"Positive\", \"Positive\", \"Neutral\", \"Positive\", \"Neutral\", \"Neutral\", \"Neutral\", \"Negative\", \"Neutral\", \"Negative\", \"Negative\", \"Positive\", \"Positive\", \"Positive\", \"Neutral\", \"Neutral\", \"Neutral\", \"Negative\", \"Neutral\", \"Neutral\", \"Positive\", \"Positive\", \"Neutral\", \"Neutral\", \"Neutral\", \"Neutral\", \"Positive\", \"Neutral\", \"Neutral\", \"Neutral\", \"Neutral\", \"Neutral\", \"Positive\", \"Neutral\", \"Neutral\", \"Positive\", \"Positive\", \"Neutral\", \"Negative\", \"Positive\", \"Neutral\", \"Neutral\", \"Neutral\", \"Neutral\", \"Positive\", \"Positive\", \"Negative\", \"Neutral\", \"Neutral\", \"Negative\", \"Neutral\", \"Positive\", \"Negative\", \"Negative\", \"Positive\", \"Neutral\", \"Neutral\", \"Negative\", \"Positive\", \"Neutral\", \"Negative\", \"Neutral\", \"Positive\", \"Positive\", \"Neutral\", \"Positive\", \"Positive\", \"Neutral\", \"Positive\", \"Positive\", \"Neutral\", \"Negative\", \"Positive\", \"Negative\", \"Neutral\", \"Neutral\", \"Neutral\", \"Neutral\", \"Neutral\", \"Positive\", \"Negative\", \"Negative\", \"Neutral\", \"Negative\", \"Negative\", \"Neutral\", \"Neutral\", \"Neutral\", \"Neutral\", \"Neutral\", \"Neutral\", \"Negative\", \"Neutral\", \"Positive\", \"Negative\", \"Positive\", \"Neutral\", \"Positive\", \"Negative\", \"Neutral\", \"Positive\", \"Neutral\", \"Neutral\", \"Neutral\", \"Neutral\", \"Negative\", \"Neutral\", \"Neutral\", \"Positive\", \"Positive\", \"Positive\", \"Neutral\", \"Neutral\", \"Negative\", \"Neutral\", \"Neutral\", \"Neutral\", \"Positive\", \"Negative\", \"Positive\", \"Neutral\", \"Positive\", \"Positive\", \"Neutral\", \"Neutral\", \"Neutral\", \"Neutral\", \"Negative\", \"Positive\", \"Positive\", \"Positive\", \"Positive\", \"Positive\", \"Negative\", \"Neutral\", \"Positive\", \"Neutral\", \"Neutral\", \"Negative\", \"Negative\", \"Neutral\", \"Neutral\", \"Neutral\", \"Neutral\", \"Negative\", \"Negative\", \"Positive\", \"Positive\", \"Negative\", \"Neutral\", \"Neutral\", \"Neutral\", \"Positive\", \"Neutral\", \"Positive\", \"Negative\", \"Neutral\", \"Neutral\", \"Negative\", \"Neutral\", \"Positive\", \"Neutral\", \"Neutral\", \"Positive\", \"Neutral\", \"Negative\", \"Negative\", \"Positive\", \"Neutral\", \"Negative\", \"Neutral\", \"Neutral\", \"Positive\", \"Negative\", \"Negative\", \"Negative\", \"Positive\", \"Positive\", \"Positive\", \"Neutral\", \"Negative\", \"Neutral\", \"Neutral\", \"Negative\", \"Negative\", \"Positive\", \"Negative\", \"Negative\", \"Neutral\", \"Negative\", \"Positive\", \"Neutral\", \"Neutral\", \"Positive\", \"Neutral\", \"Positive\", \"Neutral\", \"Neutral\", \"Neutral\", \"Positive\", \"Positive\", \"Neutral\", \"Positive\", \"Neutral\", \"Negative\", \"Positive\", \"Positive\", \"Negative\", \"Positive\", \"Neutral\", \"Neutral\", \"Negative\", \"Neutral\", \"Neutral\", \"Neutral\", \"Positive\", \"Negative\", \"Negative\", \"Negative\", \"Negative\", \"Positive\", \"Negative\", \"Neutral\", \"Neutral\", \"Positive\", \"Positive\", \"Positive\", \"Neutral\", \"Neutral\", \"Negative\", \"Neutral\", \"Neutral\", \"Negative\", \"Positive\", \"Neutral\", \"Positive\", \"Neutral\", \"Positive\", \"Neutral\", \"Neutral\", \"Positive\", \"Neutral\", \"Negative\", \"Neutral\", \"Positive\", \"Negative\", \"Positive\", \"Neutral\", \"Neutral\", \"Neutral\", \"Negative\", \"Neutral\", \"Neutral\", \"Negative\", \"Neutral\", \"Positive\", \"Neutral\", \"Negative\", \"Negative\", \"Negative\", \"Positive\", \"Neutral\", \"Positive\", \"Neutral\", \"Negative\", \"Negative\", \"Negative\", \"Positive\", \"Negative\", \"Positive\", \"Negative\", \"Neutral\", \"Negative\", \"Negative\", \"Positive\", \"Neutral\", \"Neutral\", \"Neutral\", \"Negative\", \"Negative\", \"Negative\", \"Neutral\", \"Neutral\", \"Neutral\", \"Positive\", \"Positive\", \"Positive\", \"Positive\", \"Neutral\", \"Neutral\", \"Neutral\", \"Neutral\", \"Positive\", \"Neutral\", \"Negative\", \"Positive\", \"Neutral\", \"Neutral\", \"Neutral\", \"Neutral\", \"Negative\", \"Positive\", \"Positive\", \"Neutral\", \"Neutral\", \"Neutral\", \"Neutral\", \"Negative\", \"Positive\", \"Neutral\", \"Negative\", \"Neutral\", \"Positive\", \"Neutral\", \"Negative\", \"Positive\", \"Negative\", \"Neutral\", \"Neutral\", \"Positive\", \"Negative\", \"Neutral\", \"Negative\", \"Negative\", \"Neutral\", \"Neutral\", \"Neutral\", \"Neutral\", \"Neutral\", \"Positive\", \"Negative\", \"Neutral\", \"Neutral\", \"Neutral\", \"Neutral\", \"Negative\", \"Negative\", \"Negative\", \"Neutral\", \"Positive\", \"Negative\", \"Negative\", \"Neutral\", \"Positive\", \"Negative\", \"Neutral\", \"Negative\", \"Neutral\", \"Neutral\", \"Negative\", \"Positive\", \"Positive\", \"Neutral\", \"Positive\", \"Positive\", \"Negative\", \"Neutral\", \"Neutral\", \"Neutral\", \"Neutral\", \"Negative\", \"Neutral\", \"Negative\", \"Neutral\", \"Neutral\", \"Neutral\", \"Neutral\", \"Neutral\", \"Neutral\", \"Positive\", \"Negative\", \"Neutral\", \"Neutral\", \"Negative\", \"Neutral\", \"Negative\", \"Neutral\", \"Neutral\", \"Neutral\", \"Positive\", \"Negative\", \"Positive\", \"Negative\", \"Neutral\", \"Positive\", \"Negative\", \"Negative\", \"Neutral\", \"Neutral\", \"Neutral\", \"Neutral\", \"Positive\", \"Positive\", \"Positive\", \"Neutral\", \"Neutral\", \"Positive\", \"Neutral\", \"Neutral\", \"Neutral\", \"Neutral\", \"Positive\", \"Positive\", \"Neutral\", \"Negative\", \"Neutral\", \"Negative\", \"Positive\", \"Positive\", \"Positive\", \"Negative\", \"Negative\", \"Neutral\", \"Positive\", \"Positive\", \"Neutral\", \"Neutral\", \"Positive\", \"Negative\", \"Neutral\", \"Neutral\", \"Neutral\", \"Negative\", \"Neutral\", \"Negative\", \"Positive\", \"Positive\", \"Negative\", \"Negative\", \"Positive\", \"Neutral\", \"Negative\", \"Positive\", \"Neutral\", \"Neutral\", \"Negative\", \"Neutral\", \"Negative\", \"Neutral\", \"Positive\", \"Positive\", \"Positive\", \"Positive\", \"Positive\", \"Negative\", \"Positive\", \"Neutral\", \"Neutral\", \"Neutral\", \"Positive\", \"Neutral\", \"Neutral\", \"Neutral\", \"Neutral\", \"Neutral\", \"Negative\", \"Negative\", \"Negative\", \"Positive\", \"Neutral\", \"Negative\", \"Neutral\", \"Negative\", \"Positive\", \"Neutral\", \"Negative\", \"Neutral\", \"Negative\", \"Positive\", \"Negative\", \"Neutral\", \"Neutral\", \"Neutral\", \"Positive\", \"Positive\", \"Positive\", \"Neutral\", \"Positive\", \"Positive\", \"Neutral\", \"Positive\", \"Positive\", \"Neutral\", \"Neutral\", \"Neutral\", \"Positive\", \"Neutral\", \"Neutral\", \"Negative\", \"Positive\", \"Positive\", \"Positive\", \"Negative\", \"Negative\", \"Neutral\", \"Positive\", \"Neutral\", \"Positive\", \"Neutral\", \"Positive\", \"Negative\", \"Negative\", \"Neutral\", \"Neutral\", \"Neutral\", \"Positive\", \"Neutral\", \"Neutral\", \"Negative\", \"Neutral\", \"Positive\", \"Positive\", \"Positive\", \"Negative\", \"Neutral\", \"Positive\", \"Neutral\", \"Neutral\", \"Positive\", \"Positive\", \"Positive\", \"Neutral\", \"Neutral\", \"Negative\", \"Neutral\", \"Neutral\", \"Neutral\", \"Negative\", \"Neutral\", \"Neutral\", \"Neutral\", \"Neutral\", \"Neutral\", \"Positive\", \"Negative\", \"Neutral\", \"Neutral\", \"Neutral\", \"Negative\", \"Positive\", \"Neutral\", \"Positive\", \"Neutral\", \"Positive\", \"Negative\", \"Negative\", \"Neutral\", \"Neutral\", \"Negative\", \"Neutral\", \"Neutral\", \"Negative\", \"Negative\", \"Neutral\", \"Neutral\", \"Positive\", \"Negative\", \"Neutral\", \"Neutral\", \"Neutral\", \"Positive\", \"Neutral\", \"Neutral\", \"Neutral\", \"Negative\", \"Positive\", \"Positive\", \"Neutral\", \"Negative\", \"Negative\", \"Negative\", \"Positive\", \"Negative\", \"Neutral\", \"Neutral\", \"Neutral\", \"Neutral\", \"Neutral\", \"Positive\", \"Positive\", \"Negative\", \"Negative\", \"Neutral\", \"Negative\", \"Negative\", \"Neutral\", \"Positive\", \"Positive\", \"Negative\", \"Negative\", \"Neutral\", \"Negative\", \"Negative\", \"Neutral\", \"Negative\", \"Negative\", \"Neutral\", \"Neutral\", \"Positive\", \"Positive\", \"Negative\", \"Neutral\", \"Neutral\", \"Negative\", \"Negative\", \"Negative\", \"Neutral\", \"Negative\", \"Negative\", \"Negative\", \"Negative\", \"Neutral\", \"Positive\", \"Positive\", \"Positive\", \"Negative\", \"Neutral\", \"Neutral\", \"Negative\", \"Negative\", \"Neutral\", \"Neutral\", \"Negative\", \"Neutral\", \"Positive\", \"Neutral\", \"Neutral\", \"Neutral\", \"Positive\", \"Positive\", \"Neutral\", \"Neutral\", \"Neutral\", \"Neutral\", \"Neutral\", \"Negative\", \"Positive\", \"Neutral\", \"Neutral\", \"Neutral\", \"Negative\", \"Neutral\", \"Negative\", \"Positive\", \"Neutral\", \"Neutral\", \"Negative\", \"Neutral\", \"Neutral\", \"Neutral\", \"Negative\", \"Neutral\", \"Neutral\", \"Negative\", \"Neutral\", \"Neutral\", \"Neutral\", \"Neutral\", \"Positive\", \"Neutral\", \"Negative\", \"Negative\", \"Positive\", \"Negative\", \"Positive\", \"Neutral\", \"Negative\", \"Positive\", \"Positive\", \"Neutral\", \"Negative\", \"Neutral\", \"Negative\", \"Positive\", \"Neutral\", \"Neutral\", \"Neutral\", \"Positive\", \"Positive\", \"Neutral\", \"Positive\", \"Neutral\", \"Negative\", \"Neutral\", \"Neutral\", \"Neutral\", \"Negative\", \"Neutral\", \"Positive\", \"Neutral\", \"Negative\", \"Negative\", \"Negative\", \"Negative\", \"Neutral\", \"Negative\", \"Positive\", \"Negative\", \"Neutral\", \"Positive\", \"Positive\", \"Negative\", \"Neutral\", \"Positive\", \"Positive\", \"Neutral\", \"Neutral\", \"Negative\", \"Negative\", \"Neutral\", \"Positive\", \"Neutral\", \"Positive\", \"Positive\", \"Positive\", \"Neutral\", \"Negative\", \"Neutral\", \"Negative\", \"Neutral\", \"Negative\", \"Neutral\", \"Negative\", \"Neutral\", \"Positive\", \"Neutral\", \"Positive\", \"Neutral\", \"Positive\", \"Negative\", \"Positive\", \"Neutral\", \"Negative\", \"Positive\", \"Negative\", \"Positive\", \"Negative\", \"Positive\", \"Neutral\", \"Positive\", \"Positive\", \"Positive\", \"Neutral\", \"Positive\", \"Negative\", \"Neutral\", \"Positive\", \"Neutral\", \"Positive\", \"Neutral\", \"Neutral\", \"Negative\", \"Positive\", \"Positive\", \"Neutral\", \"Neutral\", \"Positive\", \"Neutral\", \"Positive\", \"Positive\", \"Neutral\", \"Neutral\", \"Neutral\", \"Neutral\", \"Neutral\", \"Neutral\", \"Negative\", \"Neutral\", \"Negative\", \"Neutral\", \"Neutral\", \"Positive\", \"Negative\", \"Negative\", \"Neutral\", \"Negative\", \"Positive\", \"Negative\", \"Positive\", \"Negative\", \"Negative\", \"Positive\", \"Neutral\", \"Negative\", \"Neutral\", \"Negative\", \"Negative\", \"Negative\", \"Negative\", \"Positive\", \"Positive\", \"Positive\", \"Negative\", \"Negative\", \"Neutral\", \"Neutral\", \"Positive\", \"Negative\", \"Neutral\", \"Neutral\", \"Neutral\", \"Neutral\", \"Positive\", \"Neutral\", \"Neutral\", \"Positive\", \"Positive\", \"Neutral\", \"Neutral\", \"Neutral\", \"Neutral\", \"Negative\", \"Neutral\", \"Neutral\", \"Neutral\", \"Neutral\", \"Negative\", \"Negative\", \"Negative\", \"Negative\", \"Positive\", \"Neutral\", \"Negative\", \"Positive\", \"Positive\", \"Positive\", \"Positive\", \"Positive\", \"Neutral\", \"Neutral\", \"Neutral\", \"Negative\", \"Neutral\", \"Negative\", \"Neutral\", \"Neutral\", \"Positive\", \"Positive\", \"Neutral\", \"Neutral\", \"Neutral\", \"Positive\", \"Neutral\", \"Positive\", \"Neutral\", \"Negative\", \"Positive\", \"Positive\", \"Negative\", \"Neutral\", \"Negative\", \"Negative\", \"Negative\", \"Positive\", \"Negative\", \"Negative\", \"Negative\", \"Neutral\", \"Negative\", \"Negative\", \"Neutral\", \"Negative\", \"Negative\", \"Negative\", \"Neutral\", \"Negative\", \"Positive\", \"Negative\", \"Negative\", \"Positive\", \"Negative\", \"Neutral\", \"Positive\", \"Negative\", \"Neutral\", \"Neutral\", \"Negative\", \"Neutral\", \"Neutral\", \"Neutral\", \"Neutral\", \"Neutral\", \"Positive\", \"Negative\", \"Neutral\", \"Negative\", \"Positive\", \"Positive\", \"Neutral\", \"Negative\", \"Neutral\", \"Negative\", \"Neutral\", \"Neutral\", \"Negative\", \"Neutral\", \"Neutral\", \"Neutral\", \"Neutral\", \"Negative\", \"Neutral\", \"Neutral\", \"Positive\", \"Neutral\", \"Negative\", \"Positive\", \"Negative\", \"Negative\", \"Positive\", \"Positive\", \"Neutral\", \"Negative\", \"Positive\", \"Negative\", \"Neutral\", \"Neutral\", \"Neutral\", \"Neutral\", \"Positive\", \"Positive\", \"Neutral\", \"Neutral\", \"Negative\", \"Positive\", \"Neutral\", \"Neutral\", \"Negative\", \"Neutral\", \"Positive\", \"Neutral\", \"Neutral\", \"Positive\", \"Negative\", \"Negative\", \"Positive\", \"Neutral\", \"Positive\", \"Negative\", \"Neutral\", \"Neutral\", \"Negative\", \"Neutral\", \"Negative\", \"Negative\", \"Negative\", \"Neutral\", \"Negative\", \"Neutral\", \"Neutral\", \"Neutral\", \"Neutral\", \"Neutral\", \"Neutral\", \"Neutral\", \"Negative\", \"Negative\", \"Neutral\", \"Negative\", \"Positive\", \"Positive\", \"Positive\", \"Neutral\", \"Neutral\", \"Positive\", \"Positive\", \"Negative\", \"Neutral\", \"Neutral\", \"Negative\", \"Positive\", \"Negative\", \"Positive\", \"Neutral\", \"Negative\", \"Negative\", \"Negative\", \"Neutral\", \"Positive\", \"Neutral\", \"Neutral\", \"Neutral\", \"Positive\", \"Positive\", \"Neutral\", \"Neutral\", \"Negative\", \"Neutral\", \"Neutral\", \"Neutral\", \"Neutral\", \"Neutral\", \"Neutral\", \"Negative\", \"Neutral\", \"Neutral\", \"Neutral\", \"Negative\", \"Positive\", \"Positive\", \"Neutral\", \"Negative\", \"Neutral\", \"Negative\", \"Neutral\", \"Neutral\", \"Positive\", \"Negative\", \"Neutral\", \"Neutral\", \"Neutral\", \"Positive\", \"Neutral\", \"Negative\", \"Neutral\", \"Neutral\", \"Neutral\", \"Positive\", \"Negative\", \"Neutral\", \"Negative\", \"Negative\", \"Neutral\", \"Neutral\", \"Negative\", \"Positive\", \"Positive\", \"Negative\", \"Neutral\", \"Neutral\", \"Negative\", \"Neutral\", \"Neutral\", \"Neutral\", \"Neutral\", \"Neutral\", \"Positive\", \"Neutral\", \"Positive\", \"Neutral\", \"Neutral\", \"Neutral\", \"Positive\", \"Neutral\", \"Neutral\", \"Neutral\", \"Negative\", \"Neutral\", \"Positive\", \"Negative\", \"Neutral\", \"Positive\", \"Negative\", \"Neutral\", \"Negative\", \"Negative\", \"Neutral\", \"Neutral\", \"Negative\", \"Neutral\", \"Neutral\", \"Neutral\", \"Positive\", \"Neutral\", \"Negative\", \"Positive\", \"Neutral\", \"Neutral\", \"Negative\", \"Neutral\", \"Negative\", \"Neutral\", \"Neutral\", \"Neutral\", \"Neutral\", \"Neutral\", \"Positive\", \"Positive\", \"Negative\", \"Negative\", \"Positive\", \"Negative\", \"Positive\", \"Neutral\", \"Positive\", \"Positive\", \"Positive\", \"Neutral\", \"Positive\", \"Negative\", \"Positive\", \"Negative\", \"Positive\", \"Negative\", \"Positive\", \"Neutral\", \"Negative\", \"Neutral\", \"Neutral\", \"Negative\", \"Neutral\", \"Neutral\", \"Positive\", \"Negative\", \"Positive\", \"Neutral\", \"Negative\", \"Positive\", \"Positive\", \"Positive\", \"Neutral\", \"Negative\", \"Neutral\", \"Positive\", \"Neutral\", \"Neutral\", \"Negative\", \"Negative\", \"Neutral\", \"Positive\", \"Positive\", \"Positive\", \"Positive\", \"Positive\", \"Neutral\", \"Neutral\", \"Neutral\", \"Neutral\", \"Negative\", \"Positive\", \"Positive\", \"Neutral\", \"Neutral\", \"Neutral\", \"Negative\", \"Neutral\", \"Positive\", \"Negative\", \"Neutral\", \"Neutral\", \"Neutral\", \"Negative\", \"Positive\", \"Negative\", \"Positive\", \"Negative\", \"Neutral\", \"Negative\", \"Positive\", \"Positive\", \"Positive\", \"Neutral\", \"Positive\", \"Neutral\", \"Neutral\", \"Positive\", \"Neutral\", \"Negative\", \"Negative\", \"Positive\", \"Negative\", \"Positive\", \"Neutral\", \"Neutral\", \"Negative\", \"Negative\", \"Neutral\", \"Neutral\", \"Negative\", \"Positive\", \"Positive\", \"Negative\", \"Negative\", \"Neutral\", \"Neutral\", \"Negative\", \"Negative\", \"Negative\", \"Neutral\", \"Positive\", \"Negative\", \"Negative\", \"Negative\", \"Positive\", \"Positive\", \"Neutral\", \"Neutral\", \"Negative\", \"Negative\", \"Negative\", \"Neutral\", \"Positive\", \"Neutral\", \"Negative\", \"Positive\", \"Negative\", \"Negative\", \"Positive\", \"Positive\", \"Negative\", \"Negative\", \"Negative\", \"Negative\", \"Negative\", \"Negative\", \"Negative\", \"Positive\", \"Negative\", \"Positive\", \"Negative\", \"Positive\", \"Positive\", \"Positive\", \"Neutral\", \"Positive\", \"Neutral\", \"Neutral\", \"Neutral\", \"Neutral\", \"Neutral\", \"Positive\", \"Neutral\", \"Negative\", \"Positive\", \"Positive\", \"Negative\", \"Positive\", \"Negative\", \"Positive\", \"Negative\", \"Negative\", \"Neutral\", \"Neutral\", \"Negative\", \"Neutral\", \"Negative\", \"Neutral\", \"Negative\", \"Negative\", \"Negative\", \"Neutral\", \"Neutral\", \"Positive\", \"Negative\", \"Neutral\", \"Positive\", \"Neutral\", \"Neutral\", \"Negative\", \"Positive\", \"Positive\", \"Neutral\", \"Positive\", \"Negative\", \"Positive\", \"Neutral\", \"Neutral\", \"Positive\", \"Positive\", \"Positive\", \"Positive\", \"Neutral\", \"Neutral\", \"Negative\", \"Neutral\", \"Negative\", \"Neutral\", \"Neutral\", \"Neutral\", \"Neutral\", \"Positive\", \"Neutral\", \"Negative\", \"Neutral\", \"Neutral\", \"Neutral\", \"Positive\", \"Negative\", \"Negative\", \"Negative\", \"Neutral\", \"Positive\", \"Negative\", \"Positive\", \"Positive\", \"Neutral\", \"Negative\", \"Negative\", \"Positive\", \"Negative\", \"Positive\", \"Neutral\", \"Positive\", \"Neutral\", \"Negative\", \"Neutral\", \"Positive\", \"Positive\", \"Positive\", \"Negative\", \"Positive\", \"Neutral\", \"Neutral\", \"Positive\", \"Neutral\", \"Positive\", \"Negative\", \"Negative\", \"Neutral\", \"Neutral\", \"Negative\", \"Neutral\", \"Negative\", \"Neutral\", \"Negative\", \"Negative\", \"Negative\", \"Neutral\", \"Positive\", \"Negative\", \"Negative\", \"Negative\", \"Positive\", \"Positive\", \"Negative\", \"Negative\", \"Negative\", \"Negative\", \"Neutral\", \"Positive\", \"Positive\", \"Negative\", \"Negative\", \"Negative\", \"Neutral\", \"Neutral\", \"Neutral\", \"Neutral\", \"Neutral\", \"Negative\", \"Negative\", \"Negative\", \"Positive\", \"Positive\", \"Positive\", \"Neutral\", \"Neutral\", \"Neutral\", \"Negative\", \"Neutral\", \"Positive\", \"Neutral\", \"Negative\", \"Negative\", \"Neutral\", \"Negative\", \"Positive\", \"Positive\", \"Positive\", \"Neutral\", \"Neutral\", \"Neutral\", \"Positive\", \"Negative\", \"Neutral\", \"Neutral\", \"Negative\", \"Neutral\", \"Neutral\", \"Negative\", \"Positive\", \"Negative\", \"Negative\", \"Neutral\", \"Negative\", \"Positive\", \"Positive\", \"Neutral\", \"Neutral\", \"Neutral\", \"Negative\", \"Neutral\", \"Neutral\", \"Positive\", \"Neutral\", \"Positive\", \"Neutral\", \"Neutral\", \"Neutral\", \"Neutral\", \"Negative\", \"Negative\", \"Neutral\", \"Neutral\", \"Neutral\", \"Neutral\", \"Neutral\", \"Positive\", \"Neutral\", \"Neutral\", \"Neutral\", \"Neutral\", \"Negative\", \"Positive\", \"Negative\", \"Neutral\", \"Negative\", \"Neutral\", \"Neutral\", \"Negative\", \"Neutral\", \"Positive\", \"Neutral\", \"Neutral\", \"Positive\", \"Negative\", \"Positive\", \"Positive\", \"Negative\", \"Positive\", \"Neutral\", \"Negative\", \"Positive\", \"Neutral\", \"Neutral\", \"Positive\", \"Neutral\", \"Positive\", \"Negative\", \"Neutral\", \"Neutral\", \"Positive\", \"Negative\", \"Positive\", \"Positive\", \"Neutral\", \"Negative\", \"Neutral\", \"Negative\", \"Negative\", \"Positive\", \"Negative\", \"Neutral\", \"Positive\", \"Neutral\", \"Negative\", \"Neutral\", \"Negative\", \"Neutral\", \"Positive\", \"Neutral\", \"Neutral\", \"Neutral\", \"Neutral\", \"Positive\", \"Positive\", \"Negative\", \"Positive\", \"Positive\", \"Negative\", \"Negative\", \"Negative\", \"Neutral\", \"Positive\", \"Negative\", \"Neutral\", \"Negative\", \"Neutral\", \"Neutral\", \"Neutral\", \"Negative\", \"Positive\", \"Negative\", \"Neutral\", \"Positive\", \"Neutral\", \"Positive\", \"Neutral\", \"Positive\", \"Negative\", \"Neutral\", \"Positive\", \"Negative\", \"Neutral\", \"Negative\", \"Neutral\", \"Positive\", \"Negative\", \"Positive\", \"Neutral\", \"Neutral\", \"Positive\", \"Positive\", \"Neutral\", \"Neutral\", \"Negative\", \"Neutral\", \"Neutral\", \"Negative\", \"Negative\", \"Neutral\", \"Positive\", \"Positive\", \"Neutral\", \"Neutral\", \"Neutral\", \"Negative\", \"Neutral\", \"Negative\", \"Neutral\", \"Neutral\", \"Positive\", \"Neutral\", \"Negative\", \"Neutral\", \"Negative\", \"Neutral\", \"Positive\", \"Neutral\", \"Negative\", \"Neutral\", \"Neutral\", \"Positive\", \"Negative\", \"Negative\", \"Negative\", \"Neutral\", \"Negative\", \"Neutral\", \"Positive\", \"Neutral\", \"Neutral\", \"Negative\", \"Positive\", \"Negative\", \"Neutral\", \"Neutral\", \"Neutral\", \"Neutral\", \"Negative\", \"Neutral\", \"Neutral\", \"Negative\", \"Positive\", \"Positive\", \"Negative\", \"Neutral\", \"Negative\", \"Positive\", \"Positive\", \"Negative\", \"Neutral\", \"Neutral\", \"Negative\", \"Neutral\", \"Negative\", \"Neutral\", \"Negative\", \"Positive\", \"Negative\", \"Negative\", \"Positive\", \"Negative\", \"Positive\", \"Positive\", \"Negative\", \"Negative\", \"Positive\", \"Neutral\", \"Positive\", \"Positive\", \"Negative\", \"Positive\", \"Positive\", \"Negative\", \"Neutral\", \"Negative\", \"Neutral\", \"Neutral\", \"Positive\", \"Neutral\", \"Positive\", \"Positive\", \"Neutral\", \"Negative\", \"Positive\", \"Negative\", \"Negative\", \"Neutral\", \"Neutral\", \"Neutral\", \"Positive\", \"Neutral\", \"Negative\", \"Positive\", \"Negative\", \"Positive\", \"Positive\", \"Neutral\", \"Negative\", \"Neutral\", \"Positive\", \"Positive\", \"Neutral\", \"Negative\", \"Negative\", \"Positive\", \"Negative\", \"Positive\", \"Positive\", \"Neutral\", \"Negative\", \"Positive\", \"Negative\", \"Negative\", \"Neutral\", \"Neutral\", \"Negative\", \"Neutral\", \"Negative\", \"Positive\", \"Positive\", \"Positive\", \"Negative\", \"Positive\", \"Positive\", \"Positive\", \"Negative\", \"Positive\", \"Positive\", \"Positive\", \"Neutral\", \"Positive\", \"Neutral\", \"Positive\", \"Neutral\", \"Negative\", \"Neutral\", \"Negative\", \"Negative\", \"Positive\", \"Neutral\", \"Neutral\", \"Negative\", \"Neutral\", \"Negative\", \"Positive\", \"Neutral\", \"Negative\", \"Neutral\", \"Neutral\", \"Neutral\", \"Neutral\", \"Negative\", \"Neutral\", \"Neutral\", \"Neutral\", \"Neutral\", \"Negative\", \"Negative\", \"Neutral\", \"Neutral\", \"Positive\", \"Positive\", \"Negative\", \"Neutral\", \"Positive\", \"Negative\", \"Positive\", \"Positive\", \"Neutral\", \"Positive\", \"Neutral\", \"Neutral\", \"Positive\", \"Neutral\", \"Neutral\", \"Neutral\", \"Neutral\", \"Negative\", \"Negative\", \"Negative\", \"Negative\", \"Negative\", \"Positive\", \"Positive\", \"Neutral\", \"Neutral\", \"Neutral\", \"Positive\", \"Neutral\", \"Positive\", \"Positive\", \"Neutral\", \"Negative\", \"Positive\", \"Positive\", \"Positive\", \"Neutral\", \"Neutral\", \"Positive\", \"Positive\", \"Positive\", \"Neutral\", \"Positive\", \"Neutral\", \"Neutral\", \"Neutral\", \"Negative\", \"Neutral\", \"Positive\", \"Negative\", \"Neutral\", \"Neutral\", \"Positive\", \"Neutral\", \"Neutral\", \"Negative\", \"Neutral\", \"Neutral\", \"Neutral\", \"Negative\", \"Positive\", \"Neutral\", \"Positive\", \"Neutral\", \"Negative\", \"Neutral\", \"Neutral\", \"Negative\", \"Neutral\", \"Neutral\", \"Negative\", \"Neutral\", \"Neutral\", \"Negative\", \"Neutral\", \"Negative\", \"Neutral\", \"Positive\", \"Negative\", \"Neutral\", \"Negative\", \"Neutral\", \"Neutral\", \"Neutral\", \"Neutral\", \"Positive\", \"Positive\", \"Neutral\", \"Negative\", \"Positive\", \"Neutral\", \"Negative\", \"Neutral\", \"Neutral\", \"Positive\", \"Neutral\", \"Positive\", \"Positive\", \"Negative\", \"Neutral\", \"Negative\", \"Neutral\", \"Negative\", \"Neutral\", \"Neutral\", \"Negative\", \"Positive\", \"Neutral\", \"Neutral\", \"Positive\", \"Positive\", \"Neutral\", \"Negative\", \"Neutral\", \"Positive\", \"Negative\", \"Negative\", \"Positive\", \"Neutral\", \"Neutral\", \"Neutral\", \"Neutral\", \"Positive\", \"Neutral\", \"Neutral\", \"Positive\", \"Neutral\", \"Neutral\", \"Neutral\", \"Negative\", \"Neutral\", \"Neutral\", \"Positive\", \"Positive\", \"Negative\", \"Neutral\", \"Neutral\", \"Positive\", \"Positive\", \"Positive\", \"Negative\", \"Negative\", \"Negative\", \"Neutral\", \"Neutral\", \"Neutral\", \"Neutral\", \"Neutral\", \"Positive\", \"Positive\", \"Neutral\", \"Negative\", \"Neutral\", \"Neutral\", \"Negative\", \"Negative\", \"Neutral\", \"Negative\", \"Neutral\", \"Positive\", \"Positive\", \"Neutral\", \"Neutral\", \"Neutral\", \"Neutral\", \"Negative\", \"Neutral\", \"Neutral\", \"Neutral\", \"Neutral\", \"Neutral\", \"Positive\", \"Positive\", \"Negative\", \"Negative\", \"Negative\", \"Neutral\", \"Negative\", \"Neutral\", \"Negative\", \"Neutral\", \"Positive\", \"Negative\", \"Negative\", \"Negative\", \"Negative\", \"Positive\", \"Negative\", \"Positive\", \"Neutral\", \"Negative\", \"Positive\", \"Negative\", \"Negative\", \"Neutral\", \"Positive\", \"Neutral\", \"Negative\", \"Neutral\", \"Neutral\", \"Negative\", \"Positive\", \"Neutral\", \"Positive\", \"Negative\", \"Negative\", \"Positive\", \"Neutral\", \"Negative\", \"Negative\", \"Positive\", \"Positive\", \"Neutral\", \"Positive\", \"Negative\", \"Positive\", \"Negative\", \"Neutral\", \"Neutral\", \"Neutral\", \"Neutral\", \"Neutral\", \"Neutral\", \"Positive\", \"Negative\", \"Neutral\", \"Neutral\", \"Negative\", \"Positive\", \"Positive\", \"Neutral\", \"Positive\", \"Positive\", \"Negative\", \"Positive\", \"Negative\", \"Positive\", \"Positive\", \"Neutral\", \"Negative\", \"Negative\", \"Positive\", \"Neutral\", \"Positive\", \"Neutral\", \"Negative\", \"Negative\", \"Positive\", \"Neutral\", \"Positive\", \"Positive\", \"Negative\", \"Neutral\", \"Negative\", \"Positive\", \"Positive\", \"Positive\", \"Positive\", \"Neutral\", \"Neutral\", \"Positive\", \"Neutral\", \"Neutral\", \"Positive\", \"Positive\", \"Neutral\", \"Positive\", \"Positive\", \"Neutral\", \"Neutral\", \"Neutral\", \"Negative\", \"Negative\", \"Neutral\", \"Positive\", \"Negative\", \"Negative\", \"Neutral\", \"Neutral\", \"Positive\", \"Negative\", \"Positive\", \"Negative\", \"Positive\", \"Neutral\", \"Negative\", \"Neutral\", \"Negative\", \"Neutral\", \"Neutral\", \"Neutral\", \"Positive\", \"Neutral\", \"Neutral\", \"Neutral\", \"Neutral\", \"Negative\", \"Positive\", \"Neutral\", \"Negative\", \"Negative\", \"Neutral\", \"Neutral\", \"Positive\", \"Positive\", \"Positive\", \"Positive\", \"Positive\", \"Positive\", \"Negative\", \"Neutral\", \"Positive\", \"Neutral\", \"Neutral\", \"Negative\", \"Positive\", \"Neutral\", \"Neutral\", \"Negative\", \"Neutral\", \"Negative\", \"Negative\", \"Negative\", \"Neutral\", \"Neutral\", \"Neutral\", \"Negative\", \"Negative\", \"Negative\", \"Neutral\", \"Negative\", \"Neutral\", \"Negative\", \"Neutral\", \"Negative\", \"Positive\", \"Neutral\", \"Negative\", \"Neutral\", \"Positive\", \"Neutral\", \"Neutral\", \"Neutral\", \"Positive\", \"Positive\", \"Positive\", \"Negative\", \"Neutral\", \"Negative\", \"Neutral\", \"Positive\", \"Neutral\", \"Negative\", \"Neutral\", \"Negative\", \"Negative\", \"Positive\", \"Neutral\", \"Positive\", \"Positive\", \"Neutral\", \"Negative\", \"Neutral\", \"Positive\", \"Neutral\", \"Negative\", \"Neutral\", \"Positive\", \"Neutral\", \"Positive\", \"Negative\", \"Positive\", \"Positive\", \"Positive\", \"Negative\", \"Negative\", \"Positive\", \"Neutral\", \"Positive\", \"Negative\", \"Negative\", \"Neutral\", \"Positive\", \"Negative\", \"Neutral\", \"Negative\", \"Positive\", \"Neutral\", \"Negative\", \"Negative\", \"Negative\", \"Neutral\", \"Positive\", \"Negative\", \"Negative\", \"Neutral\", \"Neutral\", \"Positive\", \"Positive\", \"Neutral\", \"Positive\", \"Neutral\", \"Positive\", \"Negative\", \"Positive\", \"Neutral\", \"Neutral\", \"Negative\", \"Negative\", \"Positive\", \"Negative\", \"Negative\", \"Negative\", \"Negative\", \"Neutral\", \"Negative\", \"Positive\", \"Neutral\", \"Negative\", \"Negative\", \"Positive\", \"Positive\", \"Neutral\", \"Neutral\", \"Neutral\", \"Negative\", \"Negative\", \"Positive\", \"Negative\", \"Negative\", \"Negative\", \"Positive\", \"Positive\", \"Positive\", \"Neutral\", \"Negative\", \"Neutral\", \"Negative\", \"Neutral\", \"Neutral\", \"Positive\", \"Negative\", \"Neutral\", \"Neutral\", \"Negative\", \"Neutral\", \"Positive\", \"Neutral\", \"Neutral\", \"Neutral\", \"Positive\", \"Neutral\", \"Negative\", \"Positive\", \"Neutral\", \"Neutral\", \"Neutral\", \"Neutral\", \"Neutral\", \"Negative\", \"Negative\", \"Neutral\", \"Positive\", \"Negative\", \"Neutral\", \"Negative\", \"Positive\", \"Negative\", \"Negative\", \"Neutral\", \"Negative\", \"Neutral\", \"Neutral\", \"Negative\", \"Neutral\", \"Neutral\", \"Negative\", \"Negative\", \"Neutral\", \"Neutral\", \"Negative\", \"Neutral\", \"Negative\", \"Positive\", \"Neutral\", \"Positive\", \"Negative\", \"Neutral\", \"Positive\", \"Neutral\", \"Negative\", \"Negative\", \"Neutral\", \"Positive\", \"Neutral\", \"Positive\", \"Negative\", \"Neutral\", \"Neutral\", \"Positive\", \"Negative\", \"Neutral\", \"Neutral\", \"Negative\", \"Negative\", \"Negative\", \"Negative\", \"Positive\", \"Neutral\", \"Negative\", \"Neutral\", \"Neutral\", \"Negative\", \"Positive\", \"Positive\", \"Negative\", \"Neutral\", \"Positive\", \"Positive\", \"Neutral\", \"Neutral\", \"Positive\", \"Negative\", \"Neutral\", \"Neutral\", \"Neutral\", \"Neutral\", \"Negative\", \"Positive\", \"Negative\", \"Negative\", \"Positive\", \"Positive\", \"Negative\", \"Negative\", \"Neutral\", \"Positive\", \"Positive\", \"Positive\", \"Negative\", \"Neutral\", \"Positive\", \"Positive\", \"Neutral\", \"Neutral\", \"Positive\", \"Neutral\", \"Positive\", \"Neutral\", \"Neutral\", \"Negative\", \"Negative\", \"Neutral\", \"Negative\", \"Neutral\", \"Neutral\", \"Neutral\", \"Neutral\", \"Positive\", \"Neutral\", \"Positive\", \"Negative\", \"Positive\", \"Positive\", \"Neutral\", \"Neutral\", \"Neutral\", \"Neutral\", \"Positive\", \"Positive\", \"Neutral\", \"Negative\", \"Negative\", \"Negative\", \"Neutral\", \"Neutral\", \"Neutral\", \"Neutral\", \"Positive\", \"Positive\", \"Neutral\", \"Neutral\", \"Positive\", \"Neutral\", \"Neutral\", \"Neutral\", \"Neutral\", \"Positive\", \"Negative\", \"Neutral\", \"Neutral\", \"Positive\", \"Neutral\", \"Positive\", \"Neutral\", \"Neutral\", \"Neutral\", \"Neutral\", \"Neutral\", \"Positive\", \"Positive\", \"Negative\", \"Positive\", \"Positive\", \"Neutral\", \"Neutral\", \"Neutral\", \"Negative\", \"Neutral\", \"Neutral\", \"Positive\", \"Negative\", \"Negative\", \"Neutral\", \"Positive\", \"Neutral\", \"Negative\", \"Negative\", \"Negative\", \"Neutral\", \"Negative\", \"Negative\", \"Neutral\", \"Negative\", \"Negative\", \"Negative\", \"Neutral\", \"Negative\", \"Neutral\", \"Negative\", \"Negative\", \"Negative\", \"Negative\", \"Negative\", \"Positive\", \"Neutral\", \"Positive\", \"Neutral\", \"Negative\", \"Positive\", \"Neutral\", \"Positive\", \"Positive\", \"Neutral\", \"Negative\", \"Positive\", \"Neutral\", \"Neutral\", \"Negative\", \"Positive\", \"Negative\", \"Positive\", \"Neutral\", \"Neutral\", \"Positive\", \"Positive\", \"Positive\", \"Negative\", \"Positive\", \"Positive\", \"Negative\", \"Positive\", \"Positive\", \"Positive\", \"Negative\", \"Neutral\", \"Neutral\", \"Neutral\", \"Negative\", \"Negative\", \"Positive\", \"Neutral\", \"Neutral\", \"Negative\", \"Negative\", \"Neutral\", \"Positive\", \"Positive\", \"Positive\", \"Neutral\", \"Negative\", \"Positive\", \"Negative\", \"Neutral\", \"Negative\", \"Neutral\", \"Positive\", \"Positive\", \"Neutral\", \"Neutral\", \"Neutral\", \"Positive\", \"Neutral\", \"Positive\", \"Negative\", \"Negative\", \"Positive\", \"Positive\", \"Negative\", \"Neutral\", \"Negative\", \"Negative\", \"Positive\", \"Negative\", \"Negative\", \"Neutral\", \"Neutral\", \"Negative\", \"Negative\", \"Positive\", \"Positive\", \"Positive\", \"Negative\", \"Positive\", \"Negative\", \"Neutral\", \"Negative\", \"Negative\", \"Positive\", \"Neutral\", \"Negative\", \"Neutral\", \"Positive\", \"Negative\", \"Negative\", \"Positive\", \"Positive\", \"Neutral\", \"Positive\", \"Positive\", \"Positive\", \"Positive\", \"Negative\", \"Negative\", \"Neutral\", \"Positive\", \"Negative\", \"Neutral\", \"Negative\", \"Neutral\", \"Positive\", \"Neutral\", \"Neutral\", \"Negative\", \"Neutral\", \"Neutral\", \"Neutral\", \"Positive\", \"Neutral\", \"Neutral\", \"Negative\", \"Negative\", \"Neutral\", \"Negative\", \"Positive\", \"Negative\", \"Negative\", \"Positive\", \"Neutral\", \"Positive\", \"Neutral\", \"Positive\", \"Negative\", \"Neutral\", \"Neutral\", \"Neutral\", \"Neutral\", \"Neutral\", \"Negative\", \"Neutral\", \"Neutral\", \"Neutral\", \"Negative\", \"Negative\", \"Positive\", \"Positive\", \"Positive\", \"Negative\", \"Negative\", \"Neutral\", \"Neutral\", \"Neutral\", \"Negative\", \"Neutral\", \"Neutral\", \"Neutral\", \"Positive\", \"Neutral\", \"Negative\", \"Neutral\", \"Positive\", \"Neutral\", \"Negative\", \"Neutral\", \"Negative\", \"Neutral\", \"Neutral\", \"Negative\", \"Negative\", \"Negative\", \"Neutral\", \"Neutral\", \"Positive\", \"Positive\", \"Negative\", \"Positive\", \"Negative\", \"Neutral\", \"Positive\", \"Positive\", \"Neutral\", \"Neutral\", \"Positive\", \"Negative\", \"Neutral\", \"Neutral\", \"Positive\", \"Positive\", \"Neutral\", \"Neutral\", \"Negative\", \"Positive\", \"Negative\", \"Neutral\", \"Negative\", \"Neutral\", \"Neutral\", \"Positive\", \"Negative\", \"Negative\", \"Neutral\", \"Neutral\", \"Neutral\", \"Neutral\", \"Positive\", \"Positive\", \"Negative\", \"Neutral\", \"Negative\", \"Neutral\", \"Negative\", \"Negative\", \"Neutral\", \"Positive\", \"Positive\", \"Neutral\", \"Positive\", \"Neutral\", \"Negative\", \"Neutral\", \"Positive\", \"Neutral\", \"Neutral\", \"Positive\", \"Positive\", \"Neutral\", \"Negative\", \"Negative\", \"Neutral\", \"Negative\", \"Neutral\", \"Neutral\", \"Positive\", \"Negative\", \"Neutral\", \"Negative\", \"Neutral\", \"Negative\", \"Positive\", \"Positive\", \"Negative\", \"Negative\", \"Negative\", \"Positive\", \"Negative\", \"Neutral\", \"Negative\", \"Neutral\", \"Neutral\", \"Neutral\", \"Positive\", \"Neutral\", \"Neutral\", \"Neutral\", \"Negative\", \"Negative\", \"Negative\", \"Neutral\", \"Positive\", \"Positive\", \"Positive\", \"Neutral\", \"Positive\", \"Positive\", \"Positive\", \"Neutral\", \"Neutral\", \"Positive\", \"Neutral\", \"Neutral\", \"Positive\", \"Neutral\", \"Neutral\", \"Neutral\", \"Neutral\", \"Neutral\", \"Neutral\", \"Neutral\", \"Neutral\", \"Negative\", \"Positive\", \"Positive\", \"Neutral\", \"Neutral\", \"Neutral\", \"Positive\", \"Neutral\", \"Neutral\", \"Positive\", \"Negative\", \"Positive\", \"Positive\", \"Negative\", \"Positive\", \"Neutral\", \"Positive\", \"Negative\", \"Negative\", \"Positive\", \"Negative\", \"Neutral\", \"Neutral\", \"Negative\", \"Neutral\", \"Negative\", \"Neutral\", \"Neutral\", \"Positive\", \"Positive\", \"Positive\", \"Negative\", \"Neutral\", \"Negative\", \"Neutral\", \"Neutral\", \"Negative\", \"Neutral\", \"Positive\", \"Negative\", \"Positive\", \"Neutral\", \"Positive\", \"Negative\", \"Negative\", \"Neutral\", \"Neutral\", \"Negative\", \"Negative\", \"Neutral\", \"Negative\", \"Negative\", \"Neutral\", \"Negative\", \"Negative\", \"Positive\", \"Negative\", \"Positive\", \"Positive\", \"Negative\", \"Positive\", \"Neutral\", \"Negative\", \"Negative\", \"Neutral\", \"Neutral\", \"Negative\", \"Neutral\", \"Neutral\", \"Neutral\", \"Negative\", \"Positive\", \"Neutral\", \"Positive\", \"Neutral\", \"Positive\", \"Positive\", \"Neutral\", \"Negative\", \"Negative\", \"Positive\", \"Neutral\", \"Neutral\", \"Negative\", \"Neutral\", \"Positive\", \"Positive\", \"Negative\", \"Neutral\", \"Neutral\", \"Neutral\", \"Neutral\", \"Negative\", \"Neutral\", \"Negative\", \"Negative\", \"Neutral\", \"Neutral\", \"Neutral\", \"Neutral\", \"Neutral\", \"Negative\", \"Neutral\", \"Positive\", \"Negative\", \"Positive\", \"Negative\", \"Negative\", \"Negative\", \"Positive\", \"Positive\", \"Positive\", \"Positive\", \"Positive\", \"Positive\", \"Negative\", \"Positive\", \"Negative\", \"Negative\", \"Positive\", \"Positive\", \"Negative\", \"Positive\", \"Negative\", \"Negative\", \"Neutral\", \"Negative\", \"Neutral\", \"Negative\", \"Neutral\", \"Neutral\", \"Neutral\", \"Positive\", \"Negative\", \"Neutral\", \"Positive\", \"Negative\", \"Neutral\", \"Positive\", \"Neutral\", \"Neutral\", \"Neutral\", \"Neutral\", \"Neutral\", \"Negative\", \"Positive\", \"Positive\", \"Neutral\", \"Neutral\", \"Positive\", \"Negative\", \"Neutral\", \"Positive\", \"Positive\", \"Positive\", \"Neutral\", \"Neutral\", \"Neutral\", \"Neutral\", \"Neutral\", \"Neutral\", \"Positive\", \"Positive\", \"Positive\", \"Negative\", \"Positive\", \"Negative\", \"Neutral\", \"Positive\", \"Neutral\", \"Positive\", \"Neutral\", \"Positive\", \"Negative\", \"Positive\", \"Neutral\", \"Neutral\", \"Neutral\", \"Positive\", \"Neutral\", \"Neutral\", \"Negative\", \"Positive\", \"Neutral\", \"Negative\", \"Negative\", \"Neutral\", \"Neutral\", \"Negative\", \"Negative\", \"Positive\", \"Negative\", \"Positive\", \"Negative\", \"Negative\", \"Positive\", \"Negative\", \"Positive\", \"Positive\", \"Neutral\", \"Positive\", \"Positive\", \"Positive\", \"Neutral\", \"Positive\", \"Negative\", \"Neutral\", \"Negative\", \"Negative\", \"Positive\", \"Negative\", \"Positive\", \"Negative\", \"Negative\", \"Neutral\", \"Neutral\", \"Neutral\", \"Negative\", \"Negative\", \"Positive\", \"Negative\", \"Negative\", \"Positive\", \"Neutral\", \"Neutral\", \"Negative\", \"Positive\", \"Neutral\", \"Negative\", \"Negative\", \"Negative\", \"Neutral\", \"Neutral\", \"Negative\", \"Positive\", \"Neutral\", \"Neutral\", \"Neutral\", \"Neutral\", \"Positive\", \"Neutral\", \"Negative\", \"Negative\", \"Neutral\", \"Negative\", \"Positive\", \"Positive\", \"Positive\", \"Neutral\", \"Positive\", \"Positive\", \"Neutral\", \"Neutral\", \"Positive\", \"Positive\", \"Negative\", \"Neutral\", \"Neutral\", \"Neutral\", \"Neutral\", \"Neutral\", \"Positive\", \"Positive\", \"Positive\", \"Neutral\", \"Neutral\", \"Negative\", \"Neutral\", \"Positive\", \"Negative\", \"Negative\", \"Positive\", \"Positive\", \"Neutral\", \"Negative\", \"Negative\", \"Neutral\", \"Negative\", \"Neutral\", \"Positive\", \"Negative\", \"Neutral\", \"Neutral\", \"Neutral\", \"Positive\", \"Neutral\", \"Neutral\", \"Positive\", \"Neutral\", \"Neutral\", \"Positive\", \"Negative\", \"Neutral\", \"Positive\", \"Negative\", \"Negative\", \"Neutral\", \"Positive\", \"Neutral\", \"Positive\", \"Positive\", \"Negative\", \"Positive\", \"Negative\", \"Negative\", \"Negative\", \"Positive\", \"Positive\", \"Negative\", \"Positive\", \"Negative\", \"Positive\", \"Positive\", \"Neutral\", \"Negative\", \"Neutral\", \"Negative\", \"Negative\", \"Negative\", \"Neutral\", \"Neutral\", \"Neutral\", \"Positive\", \"Positive\", \"Neutral\", \"Neutral\", \"Positive\", \"Neutral\", \"Negative\", \"Negative\", \"Neutral\", \"Neutral\", \"Neutral\", \"Positive\", \"Negative\", \"Negative\", \"Neutral\", \"Negative\", \"Negative\", \"Positive\", \"Neutral\", \"Negative\", \"Negative\", \"Positive\", \"Neutral\", \"Neutral\", \"Neutral\", \"Positive\", \"Positive\", \"Positive\", \"Negative\", \"Negative\", \"Neutral\", \"Positive\", \"Negative\", \"Positive\", \"Positive\", \"Negative\", \"Neutral\", \"Neutral\", \"Positive\", \"Neutral\", \"Negative\", \"Neutral\", \"Negative\", \"Positive\", \"Negative\", \"Positive\", \"Neutral\", \"Neutral\", \"Neutral\", \"Positive\", \"Negative\", \"Neutral\", \"Negative\", \"Neutral\", \"Neutral\", \"Positive\", \"Negative\", \"Neutral\", \"Positive\", \"Negative\", \"Neutral\", \"Neutral\", \"Neutral\", \"Neutral\", \"Negative\", \"Neutral\", \"Neutral\", \"Neutral\", \"Neutral\", \"Neutral\", \"Neutral\", \"Positive\", \"Negative\", \"Neutral\", \"Neutral\", \"Negative\", \"Negative\", \"Negative\", \"Neutral\", \"Neutral\", \"Positive\", \"Neutral\", \"Neutral\", \"Neutral\", \"Negative\", \"Negative\", \"Positive\", \"Neutral\", \"Positive\", \"Negative\", \"Neutral\", \"Neutral\", \"Neutral\", \"Positive\", \"Positive\", \"Negative\", \"Neutral\", \"Neutral\", \"Neutral\", \"Neutral\", \"Negative\", \"Positive\", \"Neutral\", \"Neutral\", \"Neutral\", \"Positive\", \"Positive\", \"Positive\", \"Negative\", \"Positive\", \"Neutral\", \"Neutral\", \"Neutral\", \"Neutral\", \"Neutral\", \"Neutral\", \"Negative\", \"Negative\", \"Negative\", \"Positive\", \"Neutral\", \"Neutral\", \"Neutral\", \"Neutral\", \"Positive\", \"Neutral\", \"Negative\", \"Negative\", \"Negative\", \"Neutral\", \"Neutral\", \"Negative\", \"Neutral\", \"Negative\", \"Neutral\", \"Negative\", \"Neutral\", \"Positive\", \"Neutral\", \"Negative\", \"Neutral\", \"Negative\", \"Neutral\", \"Positive\", \"Negative\", \"Neutral\", \"Negative\", \"Neutral\", \"Neutral\", \"Positive\", \"Positive\", \"Negative\", \"Negative\", \"Positive\", \"Neutral\", \"Positive\", \"Positive\", \"Negative\", \"Positive\", \"Positive\", \"Neutral\", \"Negative\", \"Neutral\", \"Neutral\", \"Positive\", \"Neutral\", \"Neutral\", \"Neutral\", \"Positive\", \"Negative\", \"Positive\", \"Neutral\", \"Negative\", \"Neutral\", \"Negative\", \"Neutral\", \"Neutral\", \"Neutral\", \"Positive\", \"Neutral\", \"Neutral\", \"Neutral\", \"Positive\", \"Positive\", \"Positive\", \"Negative\", \"Negative\", \"Negative\", \"Positive\", \"Neutral\", \"Positive\", \"Neutral\", \"Positive\", \"Neutral\", \"Neutral\", \"Positive\", \"Neutral\", \"Positive\", \"Positive\", \"Positive\", \"Negative\", \"Positive\", \"Negative\", \"Negative\", \"Negative\", \"Positive\", \"Neutral\", \"Negative\", \"Negative\", \"Positive\", \"Negative\", \"Negative\", \"Negative\", \"Neutral\", \"Neutral\", \"Positive\", \"Neutral\", \"Positive\", \"Positive\", \"Neutral\", \"Negative\", \"Positive\", \"Negative\", \"Negative\", \"Negative\", \"Negative\", \"Neutral\", \"Positive\", \"Neutral\", \"Neutral\", \"Neutral\", \"Neutral\", \"Neutral\", \"Negative\", \"Negative\", \"Negative\", \"Neutral\", \"Negative\", \"Neutral\", \"Positive\", \"Neutral\", \"Neutral\", \"Positive\", \"Negative\", \"Neutral\", \"Negative\", \"Positive\", \"Positive\", \"Positive\", \"Neutral\", \"Positive\", \"Neutral\", \"Neutral\", \"Negative\", \"Negative\", \"Neutral\", \"Positive\", \"Negative\", \"Negative\", \"Neutral\", \"Negative\", \"Neutral\", \"Positive\", \"Neutral\", \"Positive\", \"Positive\", \"Negative\", \"Negative\", \"Negative\", \"Negative\", \"Negative\", \"Neutral\", \"Negative\", \"Neutral\", \"Negative\", \"Neutral\", \"Neutral\", \"Neutral\", \"Positive\", \"Neutral\", \"Negative\", \"Positive\", \"Neutral\", \"Neutral\", \"Positive\", \"Neutral\", \"Negative\", \"Positive\", \"Positive\", \"Positive\", \"Positive\", \"Positive\", \"Neutral\", \"Neutral\", \"Neutral\", \"Neutral\", \"Positive\", \"Neutral\", \"Negative\", \"Neutral\", \"Neutral\", \"Neutral\", \"Neutral\", \"Neutral\", \"Negative\", \"Neutral\", \"Neutral\", \"Neutral\", \"Positive\", \"Neutral\", \"Positive\", \"Negative\", \"Neutral\", \"Negative\", \"Neutral\", \"Positive\", \"Negative\", \"Neutral\", \"Negative\", \"Positive\", \"Neutral\", \"Neutral\", \"Negative\", \"Positive\", \"Negative\", \"Neutral\", \"Positive\", \"Positive\", \"Neutral\", \"Negative\", \"Negative\", \"Positive\", \"Neutral\", \"Positive\", \"Neutral\", \"Neutral\", \"Neutral\", \"Negative\", \"Negative\", \"Neutral\", \"Neutral\", \"Neutral\", \"Neutral\", \"Neutral\", \"Neutral\", \"Neutral\", \"Positive\", \"Neutral\", \"Neutral\", \"Negative\", \"Positive\", \"Neutral\", \"Neutral\", \"Negative\", \"Neutral\", \"Neutral\", \"Neutral\", \"Neutral\", \"Negative\", \"Negative\", \"Negative\", \"Positive\", \"Positive\", \"Negative\", \"Positive\", \"Neutral\", \"Neutral\", \"Negative\", \"Negative\", \"Neutral\", \"Neutral\", \"Neutral\", \"Neutral\", \"Positive\", \"Positive\", \"Negative\", \"Positive\", \"Neutral\", \"Negative\", \"Positive\", \"Negative\", \"Positive\", \"Neutral\", \"Positive\", \"Neutral\", \"Negative\", \"Positive\", \"Positive\", \"Positive\", \"Neutral\", \"Neutral\", \"Neutral\", \"Neutral\", \"Negative\", \"Neutral\", \"Negative\", \"Negative\", \"Positive\", \"Negative\", \"Negative\", \"Neutral\", \"Negative\", \"Neutral\", \"Negative\", \"Neutral\", \"Neutral\", \"Neutral\", \"Negative\", \"Positive\", \"Neutral\", \"Neutral\", \"Negative\", \"Neutral\", \"Neutral\", \"Positive\", \"Negative\", \"Neutral\", \"Neutral\", \"Neutral\", \"Neutral\", \"Neutral\", \"Negative\", \"Positive\", \"Negative\", \"Positive\", \"Neutral\", \"Negative\", \"Negative\", \"Positive\", \"Negative\", \"Neutral\", \"Neutral\", \"Negative\", \"Neutral\", \"Positive\", \"Negative\", \"Positive\", \"Neutral\", \"Negative\", \"Neutral\", \"Neutral\", \"Negative\", \"Negative\", \"Positive\", \"Negative\", \"Neutral\", \"Negative\", \"Negative\", \"Neutral\", \"Negative\", \"Negative\", \"Neutral\", \"Negative\", \"Positive\", \"Neutral\", \"Neutral\", \"Positive\", \"Neutral\", \"Positive\", \"Neutral\", \"Neutral\", \"Negative\", \"Positive\", \"Positive\", \"Positive\", \"Neutral\", \"Positive\", \"Neutral\", \"Negative\", \"Negative\", \"Positive\", \"Negative\", \"Neutral\", \"Neutral\", \"Neutral\", \"Negative\", \"Neutral\", \"Positive\", \"Neutral\", \"Neutral\", \"Neutral\", \"Negative\", \"Neutral\", \"Neutral\", \"Neutral\", \"Neutral\", \"Negative\", \"Positive\", \"Positive\", \"Positive\", \"Neutral\", \"Neutral\", \"Neutral\", \"Negative\", \"Neutral\", \"Neutral\", \"Negative\", \"Positive\", \"Neutral\", \"Neutral\", \"Positive\", \"Negative\", \"Negative\", \"Positive\", \"Neutral\", \"Negative\", \"Negative\", \"Positive\", \"Neutral\", \"Negative\", \"Neutral\", \"Neutral\", \"Positive\", \"Negative\", \"Neutral\", \"Neutral\", \"Neutral\", \"Positive\", \"Positive\", \"Positive\", \"Neutral\", \"Positive\", \"Neutral\", \"Neutral\", \"Positive\", \"Positive\", \"Neutral\", \"Neutral\", \"Positive\", \"Neutral\", \"Neutral\", \"Negative\", \"Positive\", \"Negative\", \"Neutral\", \"Negative\", \"Neutral\", \"Neutral\", \"Neutral\", \"Negative\", \"Neutral\", \"Neutral\", \"Neutral\", \"Negative\", \"Neutral\", \"Negative\", \"Neutral\", \"Negative\", \"Positive\", \"Positive\", \"Neutral\", \"Neutral\", \"Neutral\", \"Negative\", \"Positive\", \"Negative\", \"Negative\", \"Negative\", \"Neutral\", \"Neutral\", \"Neutral\", \"Neutral\", \"Positive\", \"Neutral\", \"Neutral\", \"Neutral\", \"Positive\", \"Negative\", \"Positive\", \"Neutral\", \"Neutral\", \"Negative\", \"Positive\", \"Neutral\", \"Negative\", \"Positive\", \"Neutral\", \"Positive\", \"Neutral\", \"Positive\", \"Neutral\", \"Neutral\", \"Positive\", \"Negative\", \"Negative\", \"Negative\", \"Negative\", \"Neutral\", \"Positive\", \"Neutral\", \"Negative\", \"Negative\", \"Negative\", \"Positive\", \"Neutral\", \"Neutral\", \"Neutral\", \"Neutral\", \"Negative\", \"Neutral\", \"Neutral\", \"Negative\", \"Positive\", \"Positive\", \"Neutral\", \"Neutral\", \"Positive\", \"Negative\", \"Negative\", \"Neutral\", \"Positive\", \"Neutral\", \"Neutral\", \"Positive\", \"Positive\", \"Positive\", \"Positive\", \"Positive\", \"Neutral\", \"Neutral\", \"Neutral\", \"Neutral\", \"Neutral\", \"Negative\", \"Neutral\", \"Positive\", \"Negative\", \"Negative\", \"Negative\", \"Positive\", \"Neutral\", \"Positive\", \"Positive\", \"Negative\", \"Neutral\", \"Negative\", \"Neutral\", \"Neutral\", \"Positive\", \"Negative\", \"Neutral\", \"Neutral\", \"Positive\", \"Neutral\", \"Positive\", \"Neutral\", \"Positive\", \"Negative\", \"Positive\", \"Negative\", \"Neutral\", \"Neutral\", \"Neutral\", \"Neutral\", \"Positive\", \"Neutral\", \"Neutral\", \"Positive\", \"Positive\", \"Negative\", \"Negative\", \"Positive\", \"Neutral\", \"Negative\", \"Positive\", \"Neutral\", \"Positive\", \"Neutral\", \"Neutral\", \"Negative\", \"Neutral\", \"Neutral\", \"Neutral\", \"Negative\", \"Neutral\", \"Positive\", \"Positive\", \"Negative\", \"Negative\", \"Neutral\", \"Negative\", \"Negative\", \"Neutral\", \"Neutral\", \"Positive\", \"Neutral\", \"Neutral\", \"Negative\", \"Negative\", \"Neutral\", \"Neutral\", \"Negative\", \"Positive\", \"Negative\", \"Negative\", \"Negative\", \"Negative\", \"Positive\", \"Negative\", \"Neutral\", \"Neutral\", \"Neutral\", \"Neutral\", \"Neutral\", \"Neutral\", \"Positive\", \"Negative\", \"Positive\", \"Neutral\", \"Neutral\", \"Neutral\", \"Positive\", \"Negative\", \"Neutral\", \"Neutral\", \"Positive\", \"Neutral\", \"Negative\", \"Negative\", \"Neutral\", \"Positive\", \"Negative\", \"Neutral\", \"Neutral\", \"Neutral\", \"Neutral\", \"Negative\", \"Neutral\", \"Positive\", \"Neutral\", \"Neutral\", \"Positive\", \"Neutral\", \"Neutral\", \"Neutral\", \"Neutral\", \"Neutral\", \"Neutral\", \"Negative\", \"Neutral\", \"Negative\", \"Neutral\", \"Neutral\", \"Negative\", \"Positive\", \"Negative\", \"Neutral\", \"Positive\", \"Positive\", \"Neutral\", \"Neutral\", \"Neutral\", \"Negative\", \"Negative\", \"Positive\", \"Positive\", \"Neutral\", \"Positive\", \"Neutral\", \"Positive\", \"Neutral\", \"Neutral\", \"Neutral\", \"Negative\", \"Neutral\", \"Negative\", \"Negative\", \"Negative\", \"Positive\", \"Negative\", \"Positive\", \"Neutral\", \"Positive\", \"Positive\", \"Negative\", \"Neutral\", \"Neutral\", \"Positive\", \"Neutral\", \"Positive\", \"Negative\", \"Negative\", \"Positive\", \"Positive\", \"Neutral\", \"Positive\", \"Negative\", \"Negative\", \"Neutral\", \"Negative\", \"Neutral\", \"Neutral\", \"Neutral\", \"Positive\", \"Negative\", \"Positive\", \"Neutral\", \"Neutral\", \"Neutral\", \"Neutral\", \"Neutral\", \"Positive\", \"Neutral\", \"Positive\", \"Negative\", \"Negative\", \"Positive\", \"Positive\", \"Negative\", \"Negative\", \"Neutral\", \"Positive\", \"Neutral\", \"Positive\", \"Neutral\", \"Negative\", \"Neutral\", \"Positive\", \"Negative\", \"Negative\", \"Negative\", \"Neutral\", \"Negative\", \"Neutral\", \"Negative\", \"Positive\", \"Positive\", \"Negative\", \"Negative\", \"Neutral\", \"Negative\", \"Negative\", \"Negative\", \"Negative\", \"Negative\", \"Positive\", \"Neutral\", \"Positive\", \"Neutral\", \"Neutral\", \"Neutral\", \"Positive\", \"Neutral\", \"Neutral\", \"Negative\", \"Neutral\", \"Neutral\", \"Positive\", \"Negative\", \"Neutral\", \"Neutral\", \"Neutral\", \"Negative\", \"Negative\", \"Negative\", \"Negative\", \"Positive\", \"Negative\", \"Negative\", \"Negative\", \"Negative\", \"Positive\", \"Negative\", \"Positive\", \"Positive\", \"Negative\", \"Positive\", \"Neutral\", \"Positive\", \"Neutral\", \"Negative\", \"Negative\", \"Neutral\", \"Neutral\", \"Neutral\", \"Positive\", \"Positive\", \"Positive\", \"Negative\", \"Positive\", \"Neutral\", \"Neutral\", \"Neutral\", \"Neutral\", \"Neutral\", \"Neutral\", \"Positive\", \"Neutral\", \"Positive\", \"Neutral\", \"Neutral\", \"Negative\", \"Negative\", \"Neutral\", \"Negative\", \"Negative\", \"Neutral\", \"Positive\", \"Neutral\", \"Neutral\", \"Positive\", \"Neutral\", \"Positive\", \"Negative\", \"Positive\", \"Neutral\", \"Negative\", \"Neutral\", \"Positive\", \"Neutral\", \"Positive\", \"Neutral\", \"Positive\", \"Positive\", \"Positive\", \"Negative\", \"Negative\", \"Neutral\", \"Neutral\", \"Positive\", \"Negative\", \"Negative\", \"Negative\", \"Positive\", \"Neutral\", \"Positive\", \"Positive\", \"Positive\", \"Negative\", \"Neutral\", \"Positive\", \"Neutral\", \"Neutral\", \"Negative\", \"Negative\", \"Neutral\", \"Positive\", \"Neutral\", \"Negative\", \"Neutral\", \"Negative\", \"Negative\", \"Neutral\", \"Neutral\", \"Negative\", \"Neutral\", \"Neutral\", \"Neutral\", \"Negative\", \"Positive\", \"Neutral\", \"Neutral\", \"Positive\", \"Positive\", \"Positive\", \"Neutral\", \"Neutral\", \"Negative\", \"Neutral\", \"Positive\", \"Negative\", \"Negative\", \"Neutral\", \"Neutral\", \"Neutral\", \"Positive\", \"Negative\", \"Neutral\", \"Neutral\", \"Negative\", \"Negative\", \"Positive\", \"Neutral\", \"Positive\", \"Positive\", \"Neutral\", \"Neutral\", \"Positive\", \"Neutral\", \"Neutral\", \"Negative\", \"Negative\", \"Positive\", \"Neutral\", \"Positive\", \"Positive\", \"Neutral\", \"Negative\", \"Neutral\", \"Negative\", \"Positive\", \"Negative\", \"Neutral\", \"Neutral\", \"Neutral\", \"Negative\", \"Neutral\", \"Negative\", \"Neutral\", \"Neutral\", \"Positive\", \"Neutral\", \"Negative\", \"Positive\", \"Negative\", \"Positive\", \"Negative\", \"Positive\", \"Negative\", \"Negative\", \"Positive\", \"Neutral\", \"Neutral\", \"Neutral\", \"Neutral\", \"Neutral\", \"Positive\", \"Neutral\", \"Neutral\", \"Neutral\", \"Positive\", \"Neutral\", \"Neutral\", \"Positive\", \"Negative\", \"Neutral\", \"Neutral\", \"Positive\", \"Positive\", \"Negative\", \"Negative\", \"Neutral\", \"Negative\", \"Negative\", \"Negative\", \"Neutral\", \"Positive\", \"Negative\", \"Negative\", \"Neutral\", \"Negative\", \"Negative\", \"Negative\", \"Neutral\", \"Positive\", \"Negative\", \"Negative\", \"Positive\", \"Neutral\", \"Neutral\", \"Positive\", \"Neutral\", \"Positive\", \"Neutral\", \"Neutral\", \"Positive\", \"Negative\", \"Negative\", \"Negative\", \"Neutral\", \"Negative\", \"Neutral\", \"Negative\", \"Neutral\", \"Neutral\", \"Negative\", \"Negative\", \"Neutral\", \"Negative\", \"Negative\", \"Positive\", \"Negative\", \"Positive\", \"Negative\", \"Neutral\", \"Negative\", \"Positive\", \"Negative\", \"Positive\", \"Neutral\", \"Neutral\", \"Positive\", \"Positive\", \"Positive\", \"Negative\", \"Neutral\", \"Negative\", \"Neutral\", \"Negative\", \"Neutral\", \"Negative\", \"Positive\", \"Neutral\", \"Positive\", \"Neutral\", \"Neutral\", \"Positive\", \"Neutral\", \"Negative\", \"Positive\", \"Neutral\", \"Negative\", \"Neutral\", \"Positive\", \"Neutral\", \"Negative\", \"Positive\", \"Neutral\", \"Neutral\", \"Neutral\", \"Neutral\", \"Neutral\", \"Neutral\", \"Negative\", \"Neutral\", \"Negative\", \"Neutral\", \"Neutral\", \"Neutral\", \"Neutral\", \"Positive\", \"Positive\", \"Neutral\", \"Neutral\", \"Positive\", \"Negative\", \"Neutral\", \"Negative\", \"Neutral\", \"Neutral\", \"Neutral\", \"Positive\", \"Negative\", \"Negative\", \"Neutral\", \"Neutral\", \"Neutral\", \"Neutral\", \"Neutral\", \"Positive\", \"Neutral\", \"Positive\", \"Negative\", \"Neutral\", \"Neutral\", \"Neutral\", \"Neutral\", \"Neutral\", \"Positive\", \"Neutral\", \"Neutral\", \"Negative\", \"Positive\", \"Negative\", \"Neutral\", \"Neutral\", \"Neutral\", \"Neutral\", \"Positive\", \"Negative\", \"Negative\", \"Positive\", \"Neutral\", \"Neutral\", \"Negative\", \"Neutral\", \"Positive\", \"Neutral\", \"Neutral\", \"Negative\", \"Negative\", \"Negative\", \"Negative\", \"Positive\", \"Negative\", \"Positive\", \"Neutral\", \"Negative\", \"Negative\", \"Negative\", \"Neutral\", \"Positive\", \"Positive\", \"Neutral\", \"Positive\", \"Neutral\", \"Neutral\", \"Positive\", \"Negative\", \"Neutral\", \"Neutral\", \"Neutral\", \"Positive\", \"Neutral\", \"Positive\", \"Neutral\", \"Negative\", \"Negative\", \"Negative\", \"Neutral\", \"Positive\", \"Neutral\", \"Negative\", \"Neutral\", \"Positive\", \"Positive\", \"Negative\", \"Neutral\", \"Neutral\", \"Negative\", \"Positive\", \"Neutral\", \"Negative\", \"Positive\", \"Neutral\", \"Negative\", \"Negative\", \"Neutral\", \"Positive\", \"Positive\", \"Positive\", \"Positive\", \"Positive\", \"Positive\", \"Positive\", \"Neutral\", \"Neutral\", \"Neutral\", \"Negative\", \"Positive\", \"Neutral\", \"Negative\", \"Positive\", \"Neutral\", \"Negative\", \"Neutral\", \"Neutral\", \"Negative\", \"Positive\", \"Neutral\", \"Negative\", \"Positive\", \"Negative\", \"Neutral\", \"Positive\", \"Negative\", \"Positive\", \"Positive\", \"Negative\", \"Positive\", \"Neutral\", \"Neutral\", \"Negative\", \"Neutral\", \"Neutral\", \"Neutral\", \"Positive\", \"Positive\", \"Neutral\", \"Neutral\", \"Neutral\", \"Negative\", \"Neutral\", \"Positive\", \"Negative\", \"Neutral\", \"Positive\", \"Neutral\", \"Negative\", \"Positive\", \"Neutral\", \"Negative\", \"Neutral\", \"Neutral\", \"Negative\", \"Negative\", \"Neutral\", \"Neutral\", \"Negative\", \"Neutral\", \"Positive\", \"Neutral\", \"Negative\", \"Negative\", \"Neutral\", \"Positive\", \"Negative\", \"Neutral\", \"Positive\", \"Negative\", \"Neutral\", \"Neutral\", \"Positive\", \"Positive\", \"Positive\", \"Positive\", \"Positive\", \"Negative\", \"Positive\", \"Neutral\", \"Neutral\", \"Neutral\", \"Positive\", \"Positive\", \"Positive\", \"Neutral\", \"Neutral\", \"Neutral\", \"Negative\", \"Neutral\", \"Negative\", \"Positive\", \"Positive\", \"Neutral\", \"Neutral\", \"Neutral\", \"Negative\", \"Neutral\", \"Neutral\", \"Positive\", \"Neutral\", \"Neutral\", \"Neutral\", \"Neutral\", \"Neutral\", \"Negative\", \"Neutral\", \"Positive\", \"Neutral\", \"Positive\", \"Neutral\", \"Negative\", \"Neutral\", \"Negative\", \"Negative\", \"Neutral\", \"Positive\", \"Positive\", \"Neutral\", \"Positive\", \"Negative\", \"Negative\", \"Neutral\", \"Negative\", \"Neutral\", \"Positive\", \"Negative\", \"Neutral\", \"Positive\", \"Negative\", \"Negative\", \"Neutral\", \"Neutral\", \"Neutral\", \"Negative\", \"Negative\", \"Neutral\", \"Neutral\", \"Negative\", \"Positive\", \"Neutral\", \"Neutral\", \"Neutral\", \"Negative\", \"Neutral\", \"Negative\", \"Negative\", \"Negative\", \"Neutral\", \"Positive\", \"Positive\", \"Positive\", \"Neutral\", \"Negative\", \"Positive\", \"Negative\", \"Positive\", \"Neutral\", \"Neutral\", \"Negative\", \"Negative\", \"Positive\", \"Positive\", \"Neutral\", \"Neutral\", \"Neutral\", \"Positive\", \"Positive\", \"Negative\", \"Neutral\", \"Neutral\", \"Neutral\", \"Negative\", \"Negative\", \"Neutral\", \"Neutral\", \"Positive\", \"Positive\", \"Neutral\", \"Neutral\", \"Neutral\", \"Negative\", \"Positive\", \"Positive\", \"Neutral\", \"Negative\", \"Neutral\", \"Neutral\", \"Neutral\", \"Neutral\", \"Negative\", \"Neutral\", \"Neutral\", \"Neutral\", \"Positive\", \"Negative\", \"Positive\", \"Neutral\", \"Neutral\", \"Negative\", \"Positive\", \"Neutral\", \"Neutral\", \"Neutral\", \"Positive\", \"Positive\", \"Positive\", \"Negative\", \"Neutral\", \"Positive\", \"Neutral\", \"Positive\", \"Positive\", \"Neutral\", \"Negative\", \"Neutral\", \"Neutral\", \"Neutral\", \"Neutral\", \"Negative\", \"Neutral\", \"Negative\", \"Neutral\", \"Neutral\", \"Positive\", \"Negative\", \"Neutral\", \"Positive\", \"Neutral\", \"Neutral\", \"Negative\", \"Neutral\", \"Neutral\", \"Positive\", \"Neutral\", \"Neutral\", \"Negative\", \"Negative\", \"Neutral\", \"Neutral\", \"Neutral\", \"Neutral\", \"Negative\", \"Neutral\", \"Neutral\", \"Neutral\", \"Neutral\", \"Negative\", \"Positive\", \"Negative\", \"Negative\", \"Positive\", \"Neutral\", \"Neutral\", \"Neutral\", \"Neutral\", \"Neutral\", \"Negative\", \"Neutral\", \"Neutral\", \"Negative\", \"Negative\", \"Neutral\", \"Neutral\", \"Positive\", \"Negative\", \"Positive\", \"Negative\", \"Negative\", \"Negative\", \"Neutral\", \"Neutral\", \"Neutral\", \"Negative\", \"Negative\", \"Positive\", \"Positive\", \"Negative\", \"Positive\", \"Positive\", \"Negative\", \"Neutral\", \"Neutral\", \"Neutral\", \"Neutral\", \"Positive\", \"Positive\", \"Negative\", \"Neutral\", \"Neutral\", \"Neutral\", \"Neutral\", \"Negative\", \"Neutral\", \"Positive\", \"Neutral\", \"Positive\", \"Positive\", \"Negative\", \"Neutral\", \"Neutral\", \"Neutral\", \"Positive\", \"Negative\", \"Positive\", \"Negative\", \"Neutral\", \"Positive\", \"Negative\", \"Neutral\", \"Positive\", \"Positive\", \"Neutral\", \"Neutral\", \"Negative\", \"Negative\", \"Negative\", \"Positive\", \"Positive\", \"Neutral\", \"Neutral\", \"Neutral\", \"Neutral\", \"Neutral\", \"Neutral\", \"Negative\", \"Positive\", \"Neutral\", \"Neutral\", \"Negative\", \"Neutral\", \"Neutral\", \"Negative\", \"Neutral\", \"Neutral\", \"Positive\", \"Neutral\", \"Positive\", \"Positive\", \"Neutral\", \"Positive\", \"Neutral\", \"Positive\", \"Positive\", \"Neutral\", \"Positive\", \"Positive\", \"Negative\", \"Negative\", \"Positive\", \"Negative\", \"Negative\", \"Positive\", \"Negative\", \"Negative\", \"Neutral\", \"Positive\", \"Neutral\", \"Positive\", \"Positive\", \"Neutral\", \"Neutral\", \"Neutral\", \"Negative\", \"Neutral\", \"Neutral\", \"Neutral\", \"Neutral\", \"Negative\", \"Negative\", \"Neutral\", \"Negative\", \"Negative\", \"Positive\", \"Negative\", \"Negative\", \"Positive\", \"Negative\", \"Negative\", \"Positive\", \"Positive\", \"Neutral\", \"Negative\", \"Neutral\", \"Positive\", \"Neutral\", \"Positive\", \"Neutral\", \"Positive\", \"Neutral\", \"Negative\", \"Positive\", \"Positive\", \"Positive\", \"Neutral\", \"Negative\", \"Positive\", \"Positive\", \"Neutral\", \"Neutral\", \"Neutral\", \"Neutral\", \"Neutral\", \"Neutral\", \"Negative\", \"Negative\", \"Negative\", \"Neutral\", \"Neutral\", \"Positive\", \"Neutral\", \"Negative\", \"Neutral\", \"Neutral\", \"Negative\", \"Neutral\", \"Positive\", \"Neutral\", \"Neutral\", \"Positive\", \"Neutral\", \"Positive\", \"Neutral\", \"Neutral\", \"Neutral\", \"Negative\", \"Neutral\", \"Neutral\", \"Negative\", \"Negative\", \"Neutral\", \"Neutral\", \"Neutral\", \"Neutral\", \"Neutral\", \"Neutral\", \"Negative\", \"Positive\", \"Neutral\", \"Negative\", \"Neutral\", \"Positive\", \"Negative\", \"Positive\", \"Neutral\", \"Neutral\", \"Neutral\", \"Negative\", \"Positive\", \"Neutral\", \"Neutral\", \"Neutral\", \"Neutral\", \"Neutral\", \"Neutral\", \"Negative\", \"Negative\", \"Positive\", \"Positive\", \"Neutral\", \"Negative\", \"Neutral\", \"Positive\", \"Neutral\", \"Positive\", \"Positive\", \"Negative\", \"Positive\", \"Negative\", \"Neutral\", \"Neutral\", \"Neutral\", \"Negative\", \"Negative\", \"Positive\", \"Negative\", \"Negative\", \"Positive\", \"Negative\", \"Neutral\", \"Positive\", \"Positive\", \"Positive\", \"Neutral\", \"Negative\", \"Neutral\", \"Neutral\", \"Neutral\", \"Neutral\", \"Positive\", \"Neutral\", \"Neutral\", \"Neutral\", \"Positive\", \"Neutral\", \"Negative\", \"Positive\", \"Negative\", \"Negative\", \"Positive\", \"Negative\", \"Neutral\", \"Positive\", \"Negative\", \"Neutral\", \"Neutral\", \"Negative\", \"Neutral\", \"Positive\", \"Neutral\", \"Neutral\", \"Neutral\", \"Positive\", \"Neutral\", \"Neutral\", \"Neutral\", \"Neutral\", \"Positive\", \"Negative\", \"Negative\", \"Positive\", \"Neutral\", \"Positive\", \"Neutral\", \"Positive\", \"Positive\", \"Positive\", \"Positive\", \"Negative\", \"Neutral\", \"Negative\", \"Positive\", \"Neutral\", \"Negative\", \"Negative\", \"Positive\", \"Positive\", \"Positive\", \"Negative\", \"Positive\", \"Positive\", \"Neutral\", \"Positive\", \"Negative\", \"Positive\", \"Positive\", \"Negative\", \"Positive\", \"Neutral\", \"Neutral\", \"Neutral\", \"Neutral\", \"Positive\", \"Neutral\", \"Neutral\", \"Neutral\", \"Neutral\", \"Negative\", \"Positive\", \"Positive\", \"Negative\", \"Negative\", \"Neutral\", \"Neutral\", \"Negative\", \"Neutral\", \"Neutral\", \"Negative\", \"Positive\", \"Negative\", \"Neutral\", \"Positive\", \"Negative\", \"Negative\", \"Neutral\", \"Neutral\", \"Negative\", \"Neutral\", \"Positive\", \"Negative\", \"Neutral\", \"Negative\", \"Neutral\", \"Neutral\", \"Negative\", \"Negative\", \"Positive\", \"Neutral\", \"Positive\", \"Neutral\", \"Neutral\", \"Positive\", \"Neutral\", \"Positive\", \"Negative\", \"Neutral\", \"Positive\", \"Neutral\", \"Neutral\", \"Neutral\", \"Positive\", \"Neutral\", \"Neutral\", \"Negative\", \"Negative\", \"Neutral\", \"Neutral\", \"Positive\", \"Neutral\", \"Neutral\", \"Neutral\", \"Negative\", \"Neutral\", \"Positive\", \"Neutral\", \"Neutral\", \"Negative\", \"Positive\", \"Negative\", \"Positive\", \"Neutral\", \"Negative\", \"Negative\", \"Negative\", \"Positive\", \"Neutral\", \"Positive\", \"Neutral\", \"Negative\", \"Neutral\", \"Neutral\", \"Negative\", \"Neutral\", \"Neutral\", \"Neutral\", \"Positive\", \"Negative\", \"Neutral\", \"Neutral\", \"Neutral\", \"Negative\", \"Neutral\", \"Positive\", \"Positive\", \"Neutral\", \"Neutral\", \"Positive\", \"Positive\", \"Neutral\", \"Neutral\", \"Negative\", \"Positive\", \"Positive\", \"Positive\", \"Positive\", \"Positive\", \"Positive\", \"Negative\", \"Negative\", \"Neutral\", \"Neutral\", \"Positive\", \"Neutral\", \"Positive\", \"Neutral\", \"Neutral\", \"Neutral\", \"Positive\", \"Negative\", \"Negative\", \"Positive\", \"Neutral\", \"Neutral\", \"Neutral\", \"Neutral\", \"Positive\", \"Negative\", \"Negative\", \"Negative\", \"Neutral\", \"Negative\", \"Neutral\", \"Neutral\", \"Positive\", \"Positive\", \"Positive\", \"Positive\", \"Neutral\", \"Neutral\", \"Positive\", \"Negative\", \"Neutral\", \"Neutral\", \"Neutral\", \"Neutral\", \"Positive\", \"Neutral\", \"Neutral\", \"Neutral\", \"Negative\", \"Neutral\", \"Positive\", \"Negative\", \"Negative\", \"Positive\", \"Positive\", \"Positive\", \"Neutral\", \"Positive\", \"Neutral\", \"Positive\", \"Negative\", \"Positive\", \"Positive\", \"Neutral\", \"Positive\", \"Neutral\", \"Neutral\", \"Negative\", \"Neutral\", \"Neutral\", \"Neutral\", \"Negative\", \"Negative\", \"Positive\", \"Negative\", \"Positive\", \"Neutral\", \"Negative\", \"Negative\", \"Neutral\", \"Negative\", \"Negative\", \"Positive\", \"Positive\", \"Neutral\", \"Neutral\", \"Neutral\", \"Positive\", \"Negative\", \"Neutral\", \"Neutral\", \"Neutral\", \"Positive\", \"Neutral\", \"Neutral\", \"Positive\", \"Neutral\", \"Positive\", \"Negative\", \"Positive\", \"Neutral\", \"Neutral\", \"Negative\", \"Positive\", \"Positive\", \"Neutral\", \"Neutral\", \"Neutral\", \"Positive\", \"Negative\", \"Negative\", \"Negative\", \"Positive\", \"Negative\", \"Neutral\", \"Positive\", \"Positive\", \"Positive\", \"Positive\", \"Negative\", \"Neutral\", \"Neutral\", \"Negative\", \"Negative\", \"Neutral\", \"Neutral\", \"Negative\", \"Neutral\", \"Negative\", \"Neutral\", \"Neutral\", \"Negative\", \"Negative\", \"Positive\", \"Negative\", \"Neutral\", \"Negative\", \"Negative\", \"Neutral\", \"Negative\", \"Positive\", \"Negative\", \"Positive\", \"Neutral\", \"Negative\", \"Positive\", \"Negative\", \"Negative\", \"Neutral\", \"Positive\", \"Negative\", \"Neutral\", \"Positive\", \"Neutral\", \"Neutral\", \"Positive\", \"Positive\", \"Neutral\", \"Neutral\", \"Positive\", \"Positive\", \"Positive\", \"Positive\", \"Neutral\", \"Negative\", \"Negative\", \"Neutral\", \"Neutral\", \"Negative\", \"Negative\", \"Neutral\", \"Positive\", \"Neutral\", \"Neutral\", \"Negative\", \"Neutral\", \"Neutral\", \"Neutral\", \"Neutral\", \"Neutral\", \"Neutral\", \"Neutral\", \"Neutral\", \"Positive\", \"Negative\", \"Neutral\", \"Negative\", \"Neutral\", \"Positive\", \"Neutral\", \"Neutral\", \"Positive\", \"Neutral\", \"Negative\", \"Positive\", \"Negative\", \"Positive\", \"Neutral\", \"Negative\", \"Neutral\", \"Neutral\", \"Negative\", \"Neutral\", \"Neutral\", \"Neutral\", \"Negative\", \"Neutral\", \"Negative\", \"Neutral\", \"Negative\", \"Negative\", \"Positive\", \"Neutral\", \"Negative\", \"Neutral\", \"Negative\", \"Negative\", \"Negative\", \"Neutral\", \"Neutral\", \"Neutral\", \"Neutral\", \"Neutral\", \"Neutral\", \"Positive\", \"Neutral\", \"Neutral\", \"Negative\", \"Positive\", \"Positive\", \"Neutral\", \"Neutral\", \"Positive\", \"Negative\", \"Neutral\", \"Negative\", \"Negative\", \"Neutral\", \"Neutral\", \"Neutral\", \"Negative\", \"Negative\", \"Neutral\", \"Negative\", \"Neutral\", \"Positive\", \"Positive\", \"Neutral\", \"Neutral\", \"Negative\", \"Positive\", \"Neutral\", \"Neutral\", \"Neutral\", \"Neutral\", \"Neutral\", \"Positive\", \"Neutral\", \"Negative\", \"Negative\", \"Neutral\", \"Neutral\", \"Neutral\", \"Negative\", \"Neutral\", \"Neutral\", \"Positive\", \"Positive\", \"Negative\", \"Negative\", \"Neutral\", \"Neutral\", \"Neutral\", \"Positive\", \"Neutral\", \"Positive\", \"Negative\", \"Negative\", \"Positive\", \"Positive\", \"Neutral\", \"Positive\", \"Negative\", \"Negative\", \"Positive\", \"Neutral\", \"Neutral\", \"Positive\", \"Negative\", \"Positive\", \"Negative\", \"Negative\", \"Neutral\", \"Neutral\", \"Neutral\", \"Negative\", \"Positive\", \"Negative\", \"Negative\", \"Positive\", \"Neutral\", \"Positive\", \"Neutral\", \"Negative\", \"Positive\", \"Neutral\", \"Neutral\", \"Negative\", \"Positive\", \"Neutral\", \"Neutral\", \"Positive\", \"Neutral\", \"Neutral\", \"Negative\", \"Positive\", \"Neutral\", \"Neutral\", \"Neutral\", \"Negative\", \"Positive\", \"Negative\", \"Negative\", \"Neutral\", \"Neutral\", \"Neutral\", \"Neutral\", \"Neutral\", \"Negative\", \"Neutral\", \"Negative\", \"Positive\", \"Neutral\", \"Neutral\", \"Neutral\", \"Neutral\", \"Negative\", \"Neutral\", \"Neutral\", \"Neutral\", \"Neutral\", \"Positive\", \"Neutral\", \"Neutral\", \"Negative\", \"Neutral\", \"Negative\", \"Negative\", \"Negative\", \"Neutral\", \"Positive\", \"Neutral\", \"Positive\", \"Positive\", \"Neutral\", \"Neutral\", \"Positive\", \"Neutral\", \"Negative\", \"Positive\", \"Neutral\", \"Neutral\", \"Neutral\", \"Neutral\", \"Neutral\", \"Neutral\", \"Negative\", \"Positive\", \"Positive\", \"Neutral\", \"Neutral\", \"Positive\", \"Negative\", \"Neutral\", \"Neutral\", \"Positive\", \"Positive\", \"Positive\", \"Neutral\", \"Negative\", \"Positive\", \"Positive\", \"Neutral\", \"Positive\", \"Positive\", \"Negative\", \"Positive\", \"Positive\", \"Positive\", \"Neutral\", \"Neutral\", \"Negative\", \"Negative\", \"Positive\", \"Negative\", \"Negative\", \"Negative\", \"Negative\", \"Neutral\", \"Negative\", \"Negative\", \"Neutral\", \"Positive\", \"Negative\", \"Neutral\", \"Negative\", \"Positive\", \"Negative\", \"Neutral\", \"Positive\", \"Neutral\", \"Positive\", \"Positive\", \"Negative\", \"Neutral\", \"Neutral\", \"Positive\", \"Negative\", \"Positive\", \"Neutral\", \"Negative\", \"Positive\", \"Neutral\", \"Positive\", \"Neutral\", \"Positive\", \"Positive\", \"Positive\", \"Positive\", \"Neutral\", \"Neutral\", \"Positive\", \"Positive\", \"Positive\", \"Negative\", \"Neutral\", \"Neutral\", \"Negative\", \"Positive\", \"Positive\", \"Negative\", \"Positive\", \"Positive\", \"Positive\", \"Positive\", \"Neutral\", \"Neutral\", \"Neutral\", \"Neutral\", \"Neutral\", \"Neutral\", \"Negative\", \"Negative\", \"Neutral\", \"Negative\", \"Negative\", \"Neutral\", \"Neutral\", \"Negative\", \"Negative\", \"Positive\", \"Neutral\", \"Neutral\", \"Neutral\", \"Positive\", \"Neutral\", \"Neutral\", \"Neutral\", \"Neutral\", \"Negative\", \"Neutral\", \"Neutral\", \"Positive\", \"Negative\", \"Positive\", \"Negative\", \"Positive\", \"Positive\", \"Neutral\", \"Negative\", \"Neutral\", \"Negative\", \"Neutral\", \"Neutral\", \"Positive\", \"Negative\", \"Negative\", \"Positive\", \"Negative\", \"Neutral\", \"Neutral\", \"Neutral\", \"Neutral\", \"Positive\", \"Neutral\", \"Positive\", \"Positive\", \"Negative\", \"Neutral\", \"Negative\", \"Positive\", \"Neutral\", \"Neutral\", \"Neutral\", \"Neutral\", \"Neutral\", \"Negative\", \"Positive\", \"Neutral\", \"Neutral\", \"Negative\", \"Positive\", \"Neutral\", \"Neutral\", \"Negative\", \"Positive\", \"Neutral\", \"Positive\", \"Positive\", \"Positive\", \"Positive\", \"Negative\", \"Positive\", \"Positive\", \"Negative\", \"Neutral\", \"Neutral\", \"Neutral\", \"Negative\", \"Negative\", \"Neutral\", \"Negative\", \"Neutral\", \"Negative\", \"Positive\", \"Negative\", \"Negative\", \"Positive\", \"Positive\", \"Neutral\", \"Positive\", \"Neutral\", \"Negative\", \"Neutral\", \"Neutral\", \"Positive\", \"Neutral\", \"Positive\", \"Neutral\", \"Positive\", \"Neutral\", \"Negative\", \"Neutral\", \"Neutral\", \"Neutral\", \"Positive\", \"Negative\", \"Positive\", \"Positive\", \"Positive\", \"Neutral\", \"Positive\", \"Neutral\", \"Neutral\", \"Negative\", \"Positive\", \"Positive\", \"Positive\", \"Positive\", \"Neutral\", \"Neutral\", \"Negative\", \"Neutral\", \"Negative\", \"Negative\", \"Neutral\", \"Positive\", \"Neutral\", \"Negative\", \"Negative\", \"Neutral\", \"Negative\", \"Neutral\", \"Negative\", \"Positive\", \"Neutral\", \"Negative\", \"Neutral\", \"Neutral\", \"Neutral\", \"Positive\", \"Neutral\", \"Neutral\", \"Negative\", \"Neutral\", \"Negative\", \"Neutral\", \"Neutral\", \"Positive\", \"Positive\", \"Negative\", \"Neutral\", \"Neutral\", \"Neutral\", \"Neutral\", \"Positive\", \"Neutral\", \"Negative\", \"Positive\", \"Neutral\", \"Neutral\", \"Positive\", \"Negative\", \"Positive\", \"Neutral\", \"Neutral\", \"Neutral\", \"Negative\", \"Positive\", \"Negative\", \"Negative\", \"Neutral\", \"Positive\", \"Negative\", \"Negative\", \"Neutral\", \"Positive\", \"Positive\", \"Positive\", \"Neutral\", \"Negative\", \"Positive\", \"Neutral\", \"Neutral\", \"Neutral\", \"Positive\", \"Neutral\", \"Negative\", \"Negative\", \"Positive\", \"Positive\", \"Neutral\", \"Neutral\", \"Neutral\", \"Neutral\", \"Negative\", \"Negative\", \"Neutral\", \"Positive\", \"Negative\", \"Negative\", \"Neutral\", \"Negative\", \"Positive\", \"Neutral\", \"Neutral\", \"Neutral\", \"Negative\", \"Neutral\", \"Neutral\", \"Positive\", \"Positive\", \"Positive\", \"Negative\", \"Positive\", \"Positive\", \"Positive\", \"Negative\", \"Positive\", \"Neutral\", \"Neutral\", \"Neutral\", \"Neutral\", \"Neutral\", \"Positive\", \"Negative\", \"Negative\", \"Neutral\", \"Neutral\", \"Neutral\", \"Negative\", \"Negative\", \"Negative\", \"Negative\", \"Positive\", \"Negative\", \"Neutral\", \"Negative\", \"Negative\", \"Neutral\", \"Neutral\", \"Negative\", \"Positive\", \"Negative\", \"Neutral\", \"Positive\", \"Negative\", \"Negative\", \"Positive\", \"Neutral\", \"Neutral\", \"Neutral\", \"Negative\", \"Negative\", \"Negative\", \"Positive\", \"Negative\", \"Negative\", \"Neutral\", \"Neutral\", \"Neutral\", \"Positive\", \"Positive\", \"Negative\", \"Negative\", \"Neutral\", \"Negative\", \"Negative\", \"Neutral\", \"Neutral\", \"Neutral\", \"Neutral\", \"Negative\", \"Negative\", \"Positive\", \"Negative\", \"Neutral\", \"Neutral\", \"Positive\", \"Negative\", \"Negative\", \"Positive\", \"Neutral\", \"Positive\", \"Neutral\", \"Negative\", \"Negative\", \"Neutral\", \"Positive\", \"Neutral\", \"Positive\", \"Positive\", \"Neutral\", \"Negative\", \"Negative\", \"Positive\", \"Negative\", \"Negative\", \"Positive\", \"Positive\", \"Neutral\", \"Neutral\", \"Negative\", \"Neutral\", \"Negative\", \"Negative\", \"Positive\", \"Neutral\", \"Neutral\", \"Neutral\", \"Neutral\", \"Negative\", \"Negative\", \"Positive\", \"Positive\", \"Neutral\", \"Neutral\", \"Positive\", \"Neutral\", \"Negative\", \"Neutral\", \"Neutral\", \"Positive\", \"Neutral\", \"Positive\", \"Neutral\", \"Positive\", \"Negative\", \"Positive\", \"Positive\", \"Neutral\", \"Negative\", \"Positive\", \"Negative\", \"Neutral\", \"Neutral\", \"Neutral\", \"Positive\", \"Positive\", \"Positive\", \"Neutral\", \"Neutral\", \"Positive\", \"Negative\", \"Positive\", \"Neutral\", \"Positive\", \"Neutral\", \"Neutral\", \"Positive\", \"Negative\", \"Neutral\", \"Positive\", \"Neutral\", \"Neutral\", \"Neutral\", \"Negative\", \"Neutral\", \"Neutral\", \"Neutral\", \"Neutral\", \"Neutral\", \"Negative\", \"Neutral\", \"Positive\", \"Neutral\", \"Positive\", \"Positive\", \"Positive\", \"Positive\", \"Positive\", \"Neutral\", \"Neutral\", \"Neutral\", \"Positive\", \"Positive\", \"Positive\", \"Neutral\", \"Negative\", \"Negative\", \"Neutral\", \"Negative\", \"Positive\", \"Neutral\", \"Negative\", \"Negative\", \"Negative\", \"Neutral\", \"Neutral\", \"Neutral\", \"Negative\", \"Positive\", \"Neutral\", \"Positive\", \"Negative\", \"Negative\", \"Neutral\", \"Neutral\", \"Neutral\", \"Neutral\", \"Neutral\", \"Neutral\", \"Negative\", \"Neutral\", \"Neutral\", \"Neutral\", \"Neutral\", \"Neutral\", \"Neutral\", \"Positive\", \"Neutral\", \"Negative\", \"Neutral\", \"Positive\", \"Negative\", \"Positive\", \"Negative\", \"Negative\", \"Negative\", \"Neutral\", \"Neutral\", \"Positive\", \"Negative\", \"Positive\", \"Negative\", \"Positive\", \"Positive\", \"Negative\", \"Negative\", \"Neutral\", \"Neutral\", \"Neutral\", \"Positive\", \"Neutral\", \"Neutral\", \"Neutral\", \"Positive\", \"Positive\", \"Neutral\", \"Neutral\", \"Positive\", \"Negative\", \"Neutral\", \"Positive\", \"Negative\", \"Neutral\", \"Positive\", \"Positive\", \"Negative\", \"Positive\", \"Positive\", \"Neutral\", \"Negative\", \"Positive\", \"Neutral\", \"Negative\", \"Negative\", \"Neutral\", \"Negative\", \"Positive\", \"Neutral\", \"Positive\", \"Neutral\", \"Neutral\", \"Neutral\", \"Neutral\", \"Neutral\", \"Negative\", \"Neutral\", \"Neutral\", \"Neutral\", \"Neutral\", \"Neutral\", \"Neutral\", \"Neutral\", \"Negative\", \"Neutral\", \"Neutral\", \"Neutral\", \"Positive\", \"Neutral\", \"Positive\", \"Negative\", \"Neutral\", \"Positive\", \"Positive\", \"Negative\", \"Negative\", \"Negative\", \"Neutral\", \"Neutral\", \"Neutral\", \"Positive\", \"Positive\", \"Neutral\", \"Positive\", \"Negative\", \"Neutral\", \"Positive\", \"Neutral\", \"Positive\", \"Neutral\", \"Neutral\", \"Positive\", \"Positive\", \"Positive\", \"Negative\", \"Neutral\", \"Neutral\", \"Neutral\", \"Neutral\", \"Neutral\", \"Positive\", \"Neutral\", \"Neutral\", \"Neutral\", \"Neutral\", \"Positive\", \"Neutral\", \"Positive\", \"Neutral\", \"Positive\", \"Positive\", \"Negative\", \"Neutral\", \"Negative\", \"Neutral\", \"Neutral\", \"Positive\", \"Neutral\", \"Negative\", \"Positive\", \"Positive\", \"Positive\", \"Neutral\", \"Negative\", \"Neutral\", \"Negative\", \"Negative\", \"Negative\", \"Positive\", \"Positive\", \"Neutral\", \"Neutral\", \"Neutral\", \"Positive\", \"Positive\", \"Neutral\", \"Neutral\", \"Neutral\", \"Positive\", \"Positive\", \"Positive\", \"Neutral\", \"Positive\", \"Negative\", \"Neutral\", \"Neutral\", \"Neutral\", \"Negative\", \"Neutral\", \"Neutral\", \"Negative\", \"Neutral\", \"Negative\", \"Neutral\", \"Positive\", \"Positive\", \"Neutral\", \"Positive\", \"Negative\", \"Positive\", \"Neutral\", \"Positive\", \"Neutral\", \"Positive\", \"Neutral\", \"Positive\", \"Neutral\", \"Negative\", \"Negative\", \"Positive\", \"Negative\", \"Positive\", \"Neutral\", \"Neutral\", \"Neutral\", \"Positive\", \"Positive\", \"Negative\", \"Positive\", \"Neutral\", \"Positive\", \"Positive\", \"Negative\", \"Negative\", \"Neutral\", \"Neutral\", \"Negative\", \"Neutral\", \"Neutral\", \"Positive\", \"Neutral\", \"Negative\", \"Positive\", \"Negative\", \"Neutral\", \"Neutral\", \"Positive\", \"Positive\", \"Negative\", \"Neutral\", \"Neutral\", \"Neutral\", \"Positive\", \"Positive\", \"Neutral\", \"Positive\", \"Negative\", \"Neutral\", \"Positive\", \"Neutral\", \"Positive\", \"Negative\", \"Negative\", \"Neutral\", \"Negative\", \"Neutral\", \"Positive\", \"Neutral\", \"Positive\", \"Neutral\", \"Negative\", \"Neutral\", \"Positive\", \"Negative\", \"Positive\", \"Negative\", \"Positive\", \"Neutral\", \"Neutral\", \"Neutral\", \"Neutral\", \"Neutral\", \"Negative\", \"Neutral\", \"Positive\", \"Neutral\", \"Neutral\", \"Negative\", \"Neutral\", \"Neutral\", \"Positive\", \"Neutral\", \"Negative\", \"Neutral\", \"Neutral\", \"Negative\", \"Negative\", \"Negative\", \"Positive\", \"Neutral\", \"Neutral\", \"Neutral\", \"Neutral\", \"Positive\", \"Positive\", \"Neutral\", \"Neutral\", \"Neutral\", \"Negative\", \"Positive\", \"Positive\", \"Neutral\", \"Neutral\", \"Negative\", \"Negative\", \"Neutral\", \"Neutral\", \"Negative\", \"Positive\", \"Negative\", \"Neutral\", \"Negative\", \"Negative\", \"Positive\", \"Positive\", \"Neutral\", \"Negative\", \"Positive\", \"Neutral\", \"Neutral\", \"Neutral\", \"Neutral\", \"Neutral\", \"Positive\", \"Positive\", \"Positive\", \"Neutral\", \"Neutral\", \"Negative\", \"Neutral\", \"Neutral\", \"Negative\", \"Neutral\", \"Neutral\", \"Negative\", \"Neutral\", \"Neutral\", \"Positive\", \"Neutral\", \"Neutral\", \"Neutral\", \"Neutral\", \"Negative\", \"Positive\", \"Positive\", \"Neutral\", \"Positive\", \"Negative\", \"Negative\", \"Positive\", \"Negative\", \"Neutral\", \"Neutral\", \"Negative\", \"Negative\", \"Negative\", \"Negative\", \"Positive\", \"Neutral\", \"Neutral\", \"Neutral\", \"Neutral\", \"Negative\", \"Negative\", \"Positive\", \"Neutral\", \"Neutral\", \"Negative\", \"Positive\", \"Positive\", \"Neutral\", \"Positive\", \"Positive\", \"Negative\", \"Positive\", \"Positive\", \"Positive\", \"Negative\", \"Positive\", \"Neutral\", \"Neutral\", \"Neutral\", \"Neutral\", \"Negative\", \"Positive\", \"Positive\", \"Negative\", \"Neutral\", \"Neutral\", \"Neutral\", \"Neutral\", \"Negative\", \"Positive\", \"Neutral\", \"Neutral\", \"Neutral\", \"Positive\", \"Negative\", \"Neutral\", \"Neutral\", \"Neutral\", \"Negative\", \"Negative\", \"Negative\", \"Neutral\", \"Negative\", \"Positive\", \"Neutral\", \"Neutral\", \"Negative\", \"Neutral\", \"Negative\", \"Positive\", \"Positive\", \"Negative\", \"Negative\", \"Negative\", \"Positive\", \"Negative\", \"Negative\", \"Negative\", \"Neutral\", \"Negative\", \"Neutral\", \"Neutral\", \"Positive\", \"Neutral\", \"Neutral\", \"Negative\", \"Positive\", \"Neutral\", \"Neutral\", \"Positive\", \"Positive\", \"Neutral\", \"Neutral\", \"Neutral\", \"Neutral\", \"Negative\", \"Neutral\", \"Positive\", \"Neutral\", \"Positive\", \"Negative\", \"Negative\", \"Neutral\", \"Positive\", \"Negative\", \"Neutral\", \"Negative\", \"Neutral\", \"Neutral\", \"Neutral\", \"Negative\", \"Neutral\", \"Neutral\", \"Neutral\", \"Positive\", \"Negative\", \"Negative\", \"Positive\", \"Positive\", \"Negative\", \"Neutral\", \"Neutral\", \"Negative\", \"Neutral\", \"Neutral\", \"Neutral\", \"Neutral\", \"Negative\", \"Neutral\", \"Negative\", \"Neutral\", \"Positive\", \"Positive\", \"Neutral\", \"Neutral\", \"Positive\", \"Negative\", \"Negative\", \"Neutral\", \"Neutral\", \"Negative\", \"Neutral\", \"Positive\", \"Neutral\", \"Positive\", \"Negative\", \"Negative\", \"Neutral\", \"Negative\", \"Neutral\", \"Negative\", \"Neutral\", \"Neutral\", \"Neutral\", \"Negative\", \"Positive\", \"Neutral\", \"Neutral\", \"Negative\", \"Negative\", \"Negative\", \"Negative\", \"Negative\", \"Neutral\", \"Positive\", \"Neutral\", \"Positive\", \"Negative\", \"Neutral\", \"Neutral\", \"Neutral\", \"Positive\", \"Negative\", \"Neutral\", \"Positive\", \"Neutral\", \"Neutral\", \"Neutral\", \"Neutral\", \"Negative\", \"Positive\", \"Neutral\", \"Neutral\", \"Neutral\", \"Neutral\", \"Neutral\", \"Neutral\", \"Neutral\", \"Neutral\", \"Negative\", \"Neutral\", \"Positive\", \"Negative\", \"Negative\", \"Negative\", \"Negative\", \"Negative\", \"Neutral\", \"Positive\", \"Neutral\", \"Negative\", \"Neutral\", \"Negative\", \"Positive\", \"Negative\", \"Positive\", \"Neutral\", \"Neutral\", \"Neutral\", \"Neutral\", \"Positive\", \"Positive\", \"Neutral\", \"Neutral\", \"Positive\", \"Neutral\", \"Positive\", \"Neutral\", \"Neutral\", \"Neutral\", \"Positive\", \"Positive\", \"Neutral\", \"Neutral\", \"Neutral\", \"Neutral\", \"Neutral\", \"Positive\", \"Positive\", \"Negative\", \"Positive\", \"Neutral\", \"Neutral\", \"Neutral\", \"Negative\", \"Negative\", \"Neutral\", \"Neutral\", \"Positive\", \"Positive\", \"Neutral\", \"Neutral\", \"Positive\", \"Positive\", \"Neutral\", \"Negative\", \"Neutral\", \"Negative\", \"Neutral\", \"Neutral\", \"Neutral\", \"Negative\", \"Neutral\", \"Neutral\", \"Neutral\", \"Neutral\", \"Neutral\", \"Neutral\", \"Neutral\", \"Neutral\", \"Neutral\", \"Neutral\", \"Neutral\", \"Positive\", \"Negative\", \"Neutral\", \"Neutral\", \"Positive\", \"Neutral\", \"Positive\", \"Negative\", \"Neutral\", \"Positive\", \"Neutral\", \"Negative\", \"Neutral\", \"Neutral\", \"Neutral\", \"Neutral\", \"Neutral\", \"Neutral\", \"Positive\", \"Neutral\", \"Negative\", \"Neutral\", \"Neutral\", \"Neutral\", \"Neutral\", \"Neutral\", \"Positive\", \"Neutral\", \"Positive\", \"Neutral\", \"Negative\", \"Positive\", \"Neutral\", \"Neutral\", \"Neutral\", \"Positive\", \"Neutral\", \"Positive\", \"Positive\", \"Neutral\", \"Negative\", \"Positive\", \"Neutral\", \"Positive\", \"Neutral\", \"Neutral\", \"Neutral\", \"Positive\", \"Negative\", \"Neutral\", \"Positive\", \"Neutral\", \"Neutral\", \"Positive\", \"Neutral\", \"Neutral\", \"Neutral\", \"Positive\", \"Positive\", \"Negative\", \"Neutral\", \"Negative\", \"Neutral\", \"Neutral\", \"Positive\", \"Neutral\", \"Negative\", \"Negative\", \"Neutral\", \"Negative\", \"Neutral\", \"Positive\", \"Neutral\", \"Negative\", \"Negative\", \"Positive\", \"Negative\", \"Positive\", \"Neutral\", \"Negative\", \"Positive\", \"Positive\", \"Negative\", \"Negative\", \"Neutral\", \"Negative\", \"Positive\", \"Negative\", \"Negative\", \"Negative\", \"Negative\", \"Neutral\", \"Neutral\", \"Neutral\", \"Neutral\", \"Negative\", \"Neutral\", \"Negative\", \"Positive\", \"Negative\", \"Neutral\", \"Neutral\", \"Positive\", \"Positive\", \"Negative\", \"Neutral\", \"Neutral\", \"Negative\", \"Neutral\", \"Neutral\", \"Neutral\", \"Neutral\", \"Positive\", \"Positive\", \"Negative\", \"Neutral\", \"Positive\", \"Negative\", \"Negative\", \"Neutral\", \"Neutral\", \"Neutral\", \"Positive\", \"Neutral\", \"Neutral\", \"Negative\", \"Positive\", \"Negative\", \"Positive\", \"Positive\", \"Positive\", \"Positive\", \"Neutral\", \"Neutral\", \"Positive\", \"Positive\", \"Negative\", \"Neutral\", \"Positive\", \"Negative\", \"Neutral\", \"Positive\", \"Neutral\", \"Negative\", \"Neutral\", \"Positive\", \"Positive\", \"Positive\", \"Neutral\", \"Negative\", \"Positive\", \"Negative\", \"Neutral\", \"Negative\", \"Neutral\", \"Positive\", \"Negative\", \"Negative\", \"Neutral\", \"Neutral\", \"Positive\", \"Negative\", \"Negative\", \"Negative\", \"Neutral\", \"Positive\", \"Negative\", \"Neutral\", \"Positive\", \"Neutral\", \"Neutral\", \"Negative\", \"Neutral\", \"Neutral\", \"Negative\", \"Negative\", \"Neutral\", \"Neutral\", \"Neutral\", \"Positive\", \"Neutral\", \"Negative\", \"Negative\", \"Neutral\", \"Positive\", \"Neutral\", \"Positive\", \"Positive\", \"Neutral\", \"Positive\", \"Positive\", \"Positive\", \"Positive\", \"Neutral\", \"Positive\", \"Negative\", \"Negative\", \"Neutral\", \"Negative\", \"Negative\", \"Positive\", \"Neutral\", \"Neutral\", \"Neutral\", \"Neutral\", \"Positive\", \"Neutral\", \"Neutral\", \"Neutral\", \"Positive\", \"Negative\", \"Positive\", \"Negative\", \"Negative\", \"Positive\", \"Negative\", \"Positive\", \"Neutral\", \"Negative\", \"Neutral\", \"Neutral\", \"Neutral\", \"Positive\", \"Neutral\", \"Negative\", \"Neutral\", \"Positive\", \"Neutral\", \"Neutral\", \"Neutral\", \"Neutral\", \"Negative\", \"Neutral\", \"Neutral\", \"Positive\", \"Negative\", \"Neutral\", \"Negative\", \"Neutral\", \"Positive\", \"Neutral\", \"Neutral\", \"Neutral\", \"Negative\", \"Positive\", \"Neutral\", \"Neutral\", \"Neutral\", \"Negative\", \"Neutral\", \"Neutral\", \"Negative\", \"Neutral\", \"Neutral\", \"Neutral\", \"Neutral\", \"Positive\", \"Positive\", \"Neutral\", \"Negative\", \"Positive\", \"Negative\", \"Neutral\", \"Neutral\", \"Neutral\", \"Negative\", \"Positive\", \"Neutral\", \"Positive\", \"Negative\", \"Negative\", \"Neutral\", \"Positive\", \"Neutral\", \"Negative\", \"Positive\", \"Neutral\", \"Neutral\", \"Neutral\", \"Positive\", \"Neutral\", \"Neutral\", \"Positive\", \"Negative\", \"Positive\", \"Positive\", \"Positive\", \"Positive\", \"Neutral\", \"Neutral\", \"Negative\", \"Neutral\", \"Negative\", \"Neutral\", \"Positive\", \"Negative\", \"Negative\", \"Positive\", \"Neutral\", \"Neutral\", \"Neutral\", \"Negative\", \"Neutral\", \"Negative\", \"Neutral\", \"Neutral\", \"Positive\", \"Neutral\", \"Positive\", \"Neutral\", \"Neutral\", \"Negative\", \"Positive\", \"Negative\", \"Positive\", \"Neutral\", \"Positive\", \"Positive\", \"Neutral\", \"Neutral\", \"Neutral\", \"Positive\", \"Positive\", \"Negative\", \"Positive\", \"Neutral\", \"Positive\", \"Negative\", \"Positive\", \"Neutral\", \"Negative\", \"Negative\", \"Neutral\", \"Neutral\", \"Negative\", \"Positive\", \"Neutral\", \"Positive\", \"Neutral\", \"Neutral\", \"Negative\", \"Negative\", \"Positive\", \"Positive\", \"Negative\", \"Negative\", \"Negative\", \"Neutral\", \"Negative\", \"Neutral\", \"Neutral\", \"Negative\", \"Neutral\", \"Negative\", \"Negative\", \"Positive\", \"Positive\", \"Neutral\", \"Neutral\", \"Positive\", \"Positive\", \"Neutral\", \"Negative\", \"Neutral\", \"Neutral\", \"Positive\", \"Neutral\", \"Neutral\", \"Neutral\", \"Neutral\", \"Neutral\", \"Positive\", \"Positive\", \"Negative\", \"Neutral\", \"Negative\", \"Negative\", \"Neutral\", \"Positive\", \"Neutral\", \"Positive\", \"Neutral\", \"Neutral\", \"Neutral\", \"Positive\", \"Neutral\", \"Neutral\", \"Neutral\", \"Neutral\", \"Neutral\", \"Neutral\", \"Negative\", \"Neutral\", \"Neutral\", \"Positive\", \"Neutral\", \"Neutral\", \"Neutral\", \"Neutral\", \"Positive\", \"Neutral\", \"Negative\", \"Positive\", \"Negative\", \"Negative\", \"Neutral\", \"Neutral\", \"Neutral\", \"Neutral\", \"Positive\", \"Negative\", \"Negative\", \"Negative\", \"Negative\", \"Neutral\", \"Neutral\", \"Positive\", \"Neutral\", \"Neutral\", \"Positive\", \"Neutral\", \"Neutral\", \"Positive\", \"Neutral\", \"Neutral\", \"Negative\", \"Negative\", \"Neutral\", \"Negative\", \"Positive\", \"Negative\", \"Neutral\", \"Positive\", \"Neutral\", \"Negative\", \"Neutral\", \"Negative\", \"Neutral\", \"Negative\", \"Positive\", \"Positive\", \"Positive\", \"Positive\", \"Neutral\", \"Negative\", \"Negative\", \"Negative\", \"Neutral\", \"Neutral\", \"Neutral\", \"Neutral\", \"Negative\", \"Negative\", \"Neutral\", \"Neutral\", \"Positive\", \"Neutral\", \"Positive\", \"Neutral\", \"Positive\", \"Negative\", \"Negative\", \"Neutral\", \"Neutral\", \"Neutral\", \"Neutral\", \"Positive\", \"Neutral\", \"Neutral\", \"Negative\", \"Neutral\", \"Positive\", \"Negative\", \"Neutral\", \"Neutral\", \"Negative\", \"Neutral\", \"Positive\", \"Positive\", \"Positive\", \"Neutral\", \"Neutral\", \"Neutral\", \"Negative\", \"Neutral\", \"Neutral\", \"Positive\", \"Neutral\", \"Neutral\", \"Neutral\", \"Negative\", \"Neutral\", \"Negative\", \"Neutral\", \"Neutral\", \"Negative\", \"Neutral\", \"Neutral\", \"Neutral\", \"Neutral\", \"Negative\", \"Neutral\", \"Neutral\", \"Positive\", \"Positive\", \"Positive\", \"Positive\", \"Neutral\", \"Positive\", \"Positive\", \"Neutral\", \"Positive\", \"Neutral\", \"Neutral\", \"Neutral\", \"Neutral\", \"Positive\", \"Neutral\", \"Positive\", \"Negative\", \"Positive\", \"Neutral\", \"Neutral\", \"Negative\", \"Positive\", \"Negative\", \"Negative\", \"Negative\", \"Neutral\", \"Negative\", \"Positive\", \"Positive\", \"Negative\", \"Positive\", \"Neutral\", \"Neutral\", \"Negative\", \"Neutral\", \"Positive\", \"Negative\", \"Neutral\", \"Neutral\", \"Positive\", \"Neutral\", \"Neutral\", \"Negative\", \"Positive\", \"Positive\", \"Neutral\", \"Neutral\", \"Positive\", \"Neutral\", \"Positive\", \"Negative\", \"Positive\", \"Positive\", \"Positive\", \"Neutral\", \"Negative\", \"Positive\", \"Neutral\", \"Negative\", \"Positive\", \"Positive\", \"Negative\", \"Negative\", \"Neutral\", \"Neutral\", \"Neutral\", \"Positive\", \"Neutral\", \"Neutral\", \"Neutral\", \"Neutral\", \"Neutral\", \"Negative\", \"Negative\", \"Negative\", \"Positive\", \"Neutral\", \"Neutral\", \"Negative\", \"Neutral\", \"Negative\", \"Negative\", \"Neutral\", \"Negative\", \"Neutral\", \"Positive\", \"Positive\", \"Positive\", \"Negative\", \"Neutral\", \"Neutral\", \"Positive\", \"Negative\", \"Neutral\", \"Neutral\", \"Positive\", \"Neutral\", \"Negative\", \"Negative\", \"Negative\", \"Negative\", \"Negative\", \"Positive\", \"Negative\", \"Negative\", \"Neutral\", \"Neutral\", \"Positive\", \"Neutral\", \"Negative\", \"Neutral\", \"Negative\", \"Neutral\", \"Positive\", \"Neutral\", \"Negative\", \"Negative\", \"Negative\", \"Positive\", \"Neutral\", \"Positive\", \"Positive\", \"Positive\", \"Neutral\", \"Negative\", \"Negative\", \"Positive\", \"Positive\", \"Negative\", \"Positive\", \"Neutral\", \"Neutral\", \"Neutral\", \"Negative\", \"Neutral\", \"Neutral\", \"Positive\", \"Negative\", \"Negative\", \"Positive\", \"Neutral\", \"Positive\", \"Neutral\", \"Neutral\", \"Negative\", \"Neutral\", \"Neutral\", \"Negative\", \"Positive\", \"Neutral\", \"Positive\", \"Negative\", \"Neutral\", \"Negative\", \"Neutral\", \"Positive\", \"Neutral\", \"Neutral\", \"Positive\", \"Neutral\", \"Neutral\", \"Neutral\", \"Neutral\", \"Neutral\", \"Neutral\", \"Neutral\", \"Neutral\", \"Positive\", \"Negative\", \"Neutral\", \"Neutral\", \"Negative\", \"Neutral\", \"Positive\", \"Neutral\", \"Negative\", \"Negative\", \"Neutral\", \"Negative\", \"Neutral\", \"Negative\", \"Neutral\", \"Positive\", \"Negative\", \"Negative\", \"Neutral\", \"Positive\", \"Neutral\", \"Neutral\", \"Negative\", \"Negative\", \"Neutral\", \"Neutral\", \"Neutral\", \"Neutral\", \"Neutral\", \"Neutral\", \"Neutral\", \"Neutral\", \"Neutral\", \"Positive\", \"Positive\", \"Positive\", \"Neutral\", \"Neutral\", \"Neutral\", \"Negative\", \"Neutral\", \"Neutral\", \"Neutral\", \"Positive\", \"Positive\", \"Positive\", \"Negative\", \"Negative\", \"Positive\", \"Negative\", \"Neutral\", \"Neutral\", \"Negative\", \"Neutral\", \"Neutral\", \"Neutral\", \"Neutral\", \"Positive\", \"Neutral\", \"Negative\", \"Neutral\", \"Positive\", \"Neutral\", \"Negative\", \"Neutral\", \"Negative\", \"Positive\", \"Neutral\", \"Positive\", \"Negative\", \"Neutral\", \"Neutral\", \"Positive\", \"Negative\", \"Positive\", \"Neutral\", \"Neutral\", \"Negative\", \"Neutral\", \"Positive\", \"Neutral\", \"Neutral\", \"Neutral\", \"Neutral\", \"Positive\", \"Negative\", \"Negative\", \"Neutral\", \"Neutral\", \"Neutral\", \"Neutral\", \"Positive\", \"Neutral\", \"Positive\", \"Neutral\", \"Negative\", \"Neutral\", \"Neutral\", \"Neutral\", \"Negative\", \"Neutral\", \"Neutral\", \"Neutral\", \"Neutral\", \"Negative\", \"Positive\", \"Neutral\", \"Positive\", \"Neutral\", \"Neutral\", \"Positive\", \"Positive\", \"Neutral\", \"Positive\", \"Positive\", \"Positive\", \"Positive\", \"Neutral\", \"Neutral\", \"Positive\", \"Neutral\", \"Neutral\", \"Positive\", \"Negative\", \"Neutral\", \"Neutral\", \"Neutral\", \"Neutral\", \"Neutral\", \"Negative\", \"Negative\", \"Neutral\", \"Positive\", \"Neutral\", \"Neutral\", \"Neutral\", \"Neutral\", \"Negative\", \"Positive\", \"Negative\", \"Neutral\", \"Neutral\", \"Neutral\", \"Neutral\", \"Neutral\", \"Negative\", \"Neutral\", \"Positive\", \"Neutral\", \"Neutral\", \"Negative\", \"Positive\", \"Negative\", \"Positive\", \"Positive\", \"Positive\", \"Negative\", \"Negative\", \"Neutral\", \"Neutral\", \"Neutral\", \"Neutral\", \"Positive\", \"Neutral\", \"Positive\", \"Neutral\", \"Negative\", \"Negative\", \"Neutral\", \"Negative\", \"Neutral\", \"Negative\", \"Neutral\", \"Neutral\", \"Neutral\", \"Neutral\", \"Positive\", \"Neutral\", \"Negative\", \"Positive\", \"Positive\", \"Neutral\", \"Positive\", \"Negative\", \"Positive\", \"Positive\", \"Positive\", \"Neutral\", \"Negative\", \"Positive\", \"Negative\", \"Negative\", \"Neutral\", \"Positive\", \"Positive\", \"Neutral\", \"Neutral\", \"Neutral\", \"Neutral\", \"Neutral\", \"Neutral\", \"Neutral\", \"Neutral\", \"Positive\", \"Positive\", \"Positive\", \"Neutral\", \"Neutral\", \"Positive\", \"Neutral\", \"Negative\", \"Negative\", \"Neutral\", \"Positive\", \"Positive\", \"Positive\", \"Neutral\", \"Negative\", \"Positive\", \"Negative\", \"Positive\", \"Neutral\", \"Positive\", \"Negative\", \"Positive\", \"Neutral\", \"Positive\", \"Neutral\", \"Neutral\", \"Negative\", \"Neutral\", \"Neutral\", \"Neutral\", \"Positive\", \"Negative\", \"Neutral\", \"Negative\", \"Negative\", \"Neutral\", \"Positive\", \"Negative\", \"Positive\", \"Neutral\", \"Neutral\", \"Positive\", \"Neutral\", \"Negative\", \"Negative\", \"Positive\", \"Neutral\", \"Positive\", \"Negative\", \"Neutral\", \"Positive\", \"Neutral\", \"Positive\", \"Neutral\", \"Positive\", \"Neutral\", \"Neutral\", \"Neutral\", \"Negative\", \"Neutral\", \"Neutral\", \"Positive\", \"Neutral\", \"Negative\", \"Negative\", \"Neutral\", \"Neutral\", \"Positive\", \"Positive\", \"Neutral\", \"Neutral\", \"Positive\", \"Positive\", \"Positive\", \"Negative\", \"Negative\", \"Neutral\", \"Positive\", \"Negative\", \"Negative\", \"Negative\", \"Neutral\", \"Negative\", \"Neutral\", \"Neutral\", \"Neutral\", \"Neutral\", \"Neutral\", \"Neutral\", \"Neutral\", \"Neutral\", \"Positive\", \"Positive\", \"Neutral\", \"Positive\", \"Negative\", \"Negative\", \"Negative\", \"Neutral\", \"Neutral\", \"Neutral\", \"Negative\", \"Negative\", \"Positive\", \"Negative\", \"Neutral\", \"Negative\", \"Positive\", \"Positive\", \"Positive\", \"Positive\", \"Neutral\", \"Neutral\", \"Neutral\", \"Negative\", \"Neutral\", \"Neutral\", \"Negative\", \"Positive\", \"Positive\", \"Positive\", \"Neutral\", \"Negative\", \"Positive\", \"Neutral\", \"Positive\", \"Neutral\", \"Neutral\", \"Neutral\", \"Neutral\", \"Neutral\", \"Negative\", \"Positive\", \"Positive\", \"Neutral\", \"Neutral\", \"Neutral\", \"Positive\", \"Neutral\", \"Positive\", \"Neutral\", \"Positive\", \"Neutral\", \"Negative\", \"Negative\", \"Neutral\", \"Negative\", \"Positive\", \"Neutral\", \"Neutral\", \"Positive\", \"Neutral\", \"Neutral\", \"Negative\", \"Negative\", \"Neutral\", \"Positive\", \"Positive\", \"Neutral\", \"Positive\", \"Neutral\", \"Neutral\", \"Neutral\", \"Negative\", \"Neutral\", \"Positive\", \"Positive\", \"Positive\", \"Neutral\", \"Neutral\", \"Neutral\", \"Neutral\", \"Negative\", \"Negative\", \"Neutral\", \"Negative\", \"Neutral\", \"Neutral\", \"Neutral\", \"Neutral\", \"Negative\", \"Neutral\", \"Positive\", \"Neutral\", \"Negative\", \"Neutral\", \"Positive\", \"Neutral\", \"Neutral\", \"Negative\", \"Positive\", \"Neutral\", \"Positive\", \"Positive\", \"Positive\", \"Positive\", \"Neutral\", \"Negative\", \"Neutral\", \"Neutral\", \"Neutral\", \"Neutral\", \"Neutral\", \"Negative\", \"Positive\", \"Neutral\", \"Neutral\", \"Neutral\", \"Neutral\", \"Neutral\", \"Neutral\", \"Positive\", \"Neutral\", \"Positive\", \"Neutral\", \"Positive\", \"Neutral\", \"Negative\", \"Neutral\", \"Neutral\", \"Neutral\", \"Negative\", \"Neutral\", \"Positive\", \"Positive\", \"Negative\", \"Positive\", \"Neutral\", \"Neutral\", \"Positive\", \"Positive\", \"Negative\", \"Neutral\", \"Neutral\", \"Neutral\", \"Neutral\", \"Negative\", \"Positive\", \"Neutral\", \"Positive\", \"Positive\", \"Neutral\", \"Neutral\", \"Neutral\", \"Negative\", \"Neutral\", \"Positive\", \"Neutral\", \"Positive\", \"Positive\", \"Positive\", \"Negative\", \"Neutral\", \"Positive\", \"Neutral\", \"Positive\", \"Positive\", \"Positive\", \"Neutral\", \"Positive\", \"Negative\", \"Neutral\", \"Neutral\", \"Positive\", \"Negative\", \"Neutral\", \"Neutral\", \"Positive\", \"Negative\", \"Negative\", \"Positive\", \"Negative\", \"Positive\", \"Positive\", \"Neutral\", \"Neutral\", \"Negative\", \"Negative\", \"Neutral\", \"Neutral\", \"Positive\", \"Neutral\", \"Neutral\", \"Neutral\", \"Positive\", \"Neutral\", \"Negative\", \"Negative\", \"Negative\", \"Neutral\", \"Neutral\", \"Positive\", \"Positive\", \"Negative\", \"Positive\", \"Positive\", \"Positive\", \"Neutral\", \"Positive\", \"Positive\", \"Neutral\", \"Neutral\", \"Neutral\", \"Negative\", \"Positive\", \"Neutral\", \"Neutral\", \"Negative\", \"Positive\", \"Neutral\", \"Neutral\", \"Neutral\", \"Negative\", \"Neutral\", \"Negative\", \"Neutral\", \"Neutral\", \"Positive\", \"Negative\", \"Neutral\", \"Neutral\", \"Positive\", \"Neutral\", \"Negative\", \"Positive\", \"Positive\", \"Positive\", \"Positive\", \"Positive\", \"Positive\", \"Positive\", \"Positive\", \"Neutral\", \"Positive\", \"Neutral\", \"Neutral\", \"Neutral\", \"Neutral\", \"Negative\", \"Neutral\", \"Negative\", \"Negative\", \"Neutral\", \"Positive\", \"Negative\", \"Neutral\", \"Negative\", \"Negative\", \"Negative\", \"Neutral\", \"Neutral\", \"Neutral\", \"Neutral\", \"Negative\", \"Neutral\", \"Negative\", \"Negative\", \"Negative\", \"Positive\", \"Neutral\", \"Negative\", \"Neutral\", \"Positive\", \"Negative\", \"Positive\", \"Neutral\", \"Positive\", \"Positive\", \"Positive\", \"Neutral\", \"Neutral\", \"Positive\", \"Negative\", \"Neutral\", \"Neutral\", \"Neutral\", \"Positive\", \"Negative\", \"Neutral\", \"Positive\", \"Neutral\", \"Neutral\", \"Neutral\", \"Positive\", \"Positive\", \"Positive\", \"Neutral\", \"Neutral\", \"Positive\", \"Neutral\", \"Positive\", \"Positive\", \"Neutral\", \"Negative\", \"Neutral\", \"Positive\", \"Positive\", \"Neutral\", \"Neutral\", \"Positive\", \"Neutral\", \"Neutral\", \"Neutral\", \"Positive\", \"Neutral\", \"Neutral\", \"Neutral\", \"Negative\", \"Neutral\", \"Positive\", \"Neutral\", \"Positive\", \"Positive\", \"Neutral\", \"Positive\", \"Negative\", \"Neutral\", \"Negative\", \"Neutral\", \"Positive\", \"Neutral\", \"Positive\", \"Neutral\", \"Negative\", \"Positive\", \"Neutral\", \"Neutral\", \"Neutral\", \"Positive\", \"Neutral\", \"Negative\", \"Negative\", \"Neutral\", \"Neutral\", \"Positive\", \"Negative\", \"Neutral\", \"Neutral\", \"Neutral\", \"Negative\", \"Neutral\", \"Neutral\", \"Neutral\", \"Neutral\", \"Neutral\", \"Neutral\", \"Positive\", \"Positive\", \"Negative\", \"Positive\", \"Neutral\", \"Neutral\", \"Negative\", \"Negative\", \"Neutral\", \"Neutral\", \"Positive\", \"Positive\", \"Neutral\", \"Positive\", \"Negative\", \"Neutral\", \"Positive\", \"Neutral\", \"Positive\", \"Positive\", \"Neutral\", \"Positive\", \"Negative\", \"Neutral\", \"Neutral\", \"Neutral\", \"Neutral\", \"Positive\", \"Neutral\", \"Positive\", \"Neutral\", \"Negative\", \"Neutral\", \"Neutral\", \"Positive\", \"Neutral\", \"Positive\", \"Positive\", \"Negative\", \"Neutral\", \"Neutral\", \"Positive\", \"Neutral\", \"Neutral\", \"Negative\", \"Positive\", \"Neutral\", \"Negative\", \"Neutral\", \"Negative\", \"Positive\", \"Negative\", \"Positive\", \"Neutral\", \"Neutral\", \"Negative\", \"Neutral\", \"Positive\", \"Neutral\", \"Neutral\", \"Neutral\", \"Negative\", \"Positive\", \"Neutral\", \"Positive\", \"Neutral\", \"Neutral\", \"Neutral\", \"Neutral\", \"Negative\", \"Negative\", \"Neutral\", \"Positive\", \"Positive\", \"Neutral\", \"Neutral\", \"Positive\", \"Positive\", \"Positive\", \"Negative\", \"Positive\", \"Neutral\", \"Positive\", \"Neutral\", \"Negative\", \"Negative\", \"Positive\", \"Positive\", \"Negative\", \"Negative\", \"Positive\", \"Neutral\", \"Negative\", \"Positive\", \"Positive\", \"Neutral\", \"Neutral\", \"Positive\", \"Neutral\", \"Neutral\", \"Positive\", \"Positive\", \"Neutral\", \"Neutral\", \"Positive\", \"Negative\", \"Neutral\", \"Positive\", \"Neutral\", \"Neutral\", \"Positive\", \"Neutral\", \"Negative\", \"Negative\", \"Neutral\", \"Neutral\", \"Positive\", \"Neutral\", \"Positive\", \"Neutral\", \"Neutral\", \"Neutral\", \"Neutral\", \"Negative\", \"Negative\", \"Neutral\", \"Negative\", \"Positive\", \"Neutral\", \"Neutral\", \"Negative\", \"Negative\", \"Positive\", \"Positive\", \"Negative\", \"Positive\", \"Neutral\", \"Neutral\", \"Neutral\", \"Neutral\", \"Positive\", \"Positive\", \"Neutral\", \"Positive\", \"Positive\", \"Positive\", \"Positive\", \"Positive\", \"Neutral\", \"Neutral\", \"Neutral\", \"Neutral\", \"Neutral\", \"Negative\", \"Neutral\", \"Positive\", \"Positive\", \"Neutral\", \"Negative\", \"Positive\", \"Negative\", \"Positive\", \"Neutral\", \"Positive\", \"Positive\", \"Positive\", \"Neutral\", \"Neutral\", \"Neutral\", \"Neutral\", \"Negative\", \"Neutral\", \"Neutral\", \"Negative\", \"Neutral\", \"Positive\", \"Neutral\", \"Neutral\", \"Negative\", \"Negative\", \"Negative\", \"Neutral\", \"Neutral\", \"Neutral\", \"Positive\", \"Positive\", \"Positive\", \"Negative\", \"Negative\", \"Positive\", \"Neutral\", \"Neutral\", \"Negative\", \"Neutral\", \"Neutral\", \"Negative\", \"Neutral\", \"Neutral\", \"Neutral\", \"Neutral\", \"Neutral\", \"Positive\", \"Neutral\", \"Neutral\", \"Positive\", \"Positive\", \"Negative\", \"Neutral\", \"Neutral\", \"Neutral\", \"Neutral\", \"Neutral\", \"Neutral\", \"Neutral\", \"Neutral\", \"Negative\", \"Negative\", \"Neutral\", \"Positive\", \"Neutral\", \"Positive\", \"Positive\", \"Positive\", \"Positive\", \"Neutral\", \"Neutral\", \"Neutral\", \"Positive\", \"Neutral\", \"Negative\", \"Neutral\", \"Neutral\", \"Negative\", \"Neutral\", \"Neutral\", \"Neutral\", \"Positive\", \"Neutral\", \"Neutral\", \"Neutral\", \"Neutral\", \"Neutral\", \"Neutral\", \"Neutral\", \"Neutral\", \"Positive\", \"Positive\", \"Neutral\", \"Neutral\", \"Neutral\", \"Neutral\", \"Neutral\", \"Neutral\", \"Positive\", \"Positive\", \"Negative\", \"Negative\", \"Positive\", \"Neutral\", \"Neutral\", \"Negative\", \"Positive\", \"Neutral\", \"Negative\", \"Neutral\", \"Neutral\", \"Positive\", \"Neutral\", \"Positive\", \"Positive\", \"Neutral\", \"Neutral\", \"Positive\", \"Neutral\", \"Neutral\", \"Negative\", \"Positive\", \"Negative\", \"Neutral\", \"Positive\", \"Positive\", \"Neutral\", \"Negative\", \"Negative\", \"Neutral\", \"Neutral\", \"Negative\", \"Positive\", \"Neutral\", \"Negative\", \"Neutral\", \"Neutral\", \"Neutral\", \"Neutral\", \"Neutral\", \"Positive\", \"Negative\", \"Neutral\", \"Positive\", \"Negative\", \"Neutral\", \"Negative\", \"Positive\", \"Positive\", \"Positive\", \"Positive\", \"Positive\", \"Neutral\", \"Neutral\", \"Neutral\", \"Neutral\", \"Neutral\", \"Positive\", \"Positive\", \"Neutral\", \"Positive\", \"Negative\", \"Negative\", \"Negative\", \"Positive\", \"Neutral\", \"Positive\", \"Neutral\", \"Neutral\", \"Neutral\", \"Positive\", \"Negative\", \"Positive\", \"Positive\", \"Positive\", \"Neutral\", \"Negative\", \"Neutral\", \"Negative\", \"Neutral\", \"Neutral\", \"Neutral\", \"Negative\", \"Positive\", \"Neutral\", \"Neutral\", \"Negative\", \"Neutral\", \"Neutral\", \"Neutral\", \"Neutral\", \"Neutral\", \"Negative\", \"Positive\", \"Negative\", \"Negative\", \"Negative\", \"Positive\", \"Negative\", \"Neutral\", \"Negative\", \"Positive\", \"Neutral\", \"Neutral\", \"Neutral\", \"Negative\", \"Negative\", \"Negative\", \"Neutral\", \"Neutral\", \"Positive\", \"Negative\", \"Neutral\", \"Negative\", \"Positive\", \"Neutral\", \"Neutral\", \"Neutral\", \"Neutral\", \"Positive\", \"Negative\", \"Positive\", \"Negative\", \"Positive\", \"Negative\", \"Positive\", \"Neutral\", \"Positive\", \"Neutral\", \"Positive\", \"Neutral\", \"Neutral\", \"Neutral\", \"Neutral\", \"Negative\", \"Neutral\", \"Positive\", \"Neutral\", \"Positive\", \"Positive\", \"Negative\", \"Neutral\", \"Neutral\", \"Neutral\", \"Neutral\", \"Neutral\", \"Positive\", \"Positive\", \"Neutral\", \"Negative\", \"Negative\", \"Positive\", \"Positive\", \"Positive\", \"Neutral\", \"Negative\", \"Neutral\", \"Neutral\", \"Positive\", \"Positive\", \"Neutral\", \"Negative\", \"Neutral\", \"Neutral\", \"Neutral\", \"Neutral\", \"Negative\", \"Neutral\", \"Positive\", \"Positive\", \"Negative\", \"Neutral\", \"Positive\", \"Positive\", \"Negative\", \"Positive\", \"Neutral\", \"Positive\", \"Positive\", \"Neutral\", \"Neutral\", \"Neutral\", \"Negative\", \"Positive\", \"Negative\", \"Neutral\", \"Neutral\", \"Positive\", \"Negative\", \"Negative\", \"Negative\", \"Negative\", \"Neutral\", \"Positive\", \"Positive\", \"Neutral\", \"Positive\", \"Positive\", \"Negative\", \"Neutral\", \"Neutral\", \"Positive\", \"Negative\", \"Positive\", \"Neutral\", \"Neutral\", \"Neutral\", \"Negative\", \"Positive\", \"Negative\", \"Negative\", \"Positive\", \"Neutral\", \"Negative\", \"Negative\", \"Negative\", \"Neutral\", \"Neutral\", \"Positive\", \"Positive\", \"Neutral\", \"Neutral\", \"Positive\", \"Neutral\", \"Neutral\", \"Positive\", \"Positive\", \"Positive\", \"Neutral\", \"Positive\", \"Positive\", \"Positive\", \"Neutral\", \"Positive\", \"Positive\", \"Positive\", \"Negative\", \"Neutral\", \"Neutral\", \"Neutral\", \"Positive\", \"Positive\", \"Negative\", \"Positive\", \"Positive\", \"Negative\", \"Neutral\", \"Positive\", \"Negative\", \"Neutral\", \"Positive\", \"Neutral\", \"Negative\", \"Positive\", \"Positive\", \"Positive\", \"Positive\", \"Neutral\", \"Negative\", \"Positive\", \"Negative\", \"Negative\", \"Neutral\", \"Negative\", \"Positive\", \"Positive\", \"Positive\", \"Neutral\", \"Negative\", \"Neutral\", \"Neutral\", \"Negative\", \"Positive\", \"Negative\", \"Neutral\", \"Neutral\", \"Neutral\", \"Neutral\", \"Positive\", \"Negative\", \"Neutral\", \"Positive\", \"Negative\", \"Neutral\", \"Neutral\", \"Neutral\", \"Neutral\", \"Neutral\", \"Neutral\", \"Negative\", \"Neutral\", \"Neutral\", \"Neutral\", \"Neutral\", \"Neutral\", \"Negative\", \"Neutral\", \"Neutral\", \"Negative\", \"Positive\", \"Neutral\", \"Neutral\", \"Neutral\", \"Neutral\", \"Neutral\", \"Neutral\", \"Positive\", \"Neutral\", \"Negative\", \"Positive\", \"Positive\", \"Neutral\", \"Positive\", \"Neutral\", \"Negative\", \"Positive\", \"Neutral\", \"Positive\", \"Neutral\", \"Neutral\", \"Negative\", \"Neutral\", \"Positive\", \"Negative\", \"Negative\", \"Positive\", \"Positive\", \"Neutral\", \"Positive\", \"Negative\", \"Positive\", \"Neutral\", \"Negative\", \"Neutral\", \"Positive\", \"Negative\", \"Neutral\", \"Negative\", \"Positive\", \"Neutral\", \"Neutral\", \"Neutral\", \"Neutral\", \"Negative\", \"Positive\", \"Neutral\", \"Positive\", \"Negative\", \"Negative\", \"Positive\", \"Negative\", \"Positive\", \"Positive\", \"Neutral\", \"Neutral\", \"Positive\", \"Neutral\", \"Negative\", \"Positive\", \"Neutral\", \"Neutral\", \"Negative\", \"Neutral\", \"Positive\", \"Neutral\", \"Negative\", \"Neutral\", \"Neutral\", \"Negative\", \"Neutral\", \"Neutral\", \"Neutral\", \"Positive\", \"Negative\", \"Neutral\", \"Negative\", \"Negative\", \"Positive\", \"Neutral\", \"Positive\", \"Neutral\", \"Neutral\", \"Neutral\", \"Neutral\", \"Neutral\", \"Neutral\", \"Neutral\", \"Neutral\", \"Negative\", \"Negative\", \"Neutral\", \"Negative\", \"Neutral\", \"Negative\", \"Positive\", \"Positive\", \"Negative\", \"Positive\", \"Positive\", \"Neutral\", \"Negative\", \"Positive\", \"Positive\", \"Neutral\", \"Positive\", \"Positive\", \"Neutral\", \"Negative\", \"Neutral\", \"Positive\", \"Neutral\", \"Neutral\", \"Neutral\", \"Neutral\", \"Neutral\", \"Negative\", \"Neutral\", \"Positive\", \"Neutral\", \"Positive\", \"Negative\", \"Positive\", \"Neutral\", \"Neutral\", \"Positive\", \"Positive\", \"Negative\", \"Negative\", \"Neutral\", \"Positive\", \"Neutral\", \"Neutral\", \"Positive\", \"Neutral\", \"Neutral\", \"Neutral\", \"Positive\", \"Neutral\", \"Positive\", \"Negative\", \"Negative\", \"Negative\", \"Neutral\", \"Neutral\", \"Positive\", \"Neutral\", \"Negative\", \"Positive\", \"Positive\", \"Negative\", \"Neutral\", \"Negative\", \"Neutral\", \"Negative\", \"Neutral\", \"Negative\", \"Neutral\", \"Neutral\", \"Negative\", \"Positive\", \"Neutral\", \"Neutral\", \"Positive\", \"Neutral\", \"Positive\", \"Positive\", \"Positive\", \"Negative\", \"Neutral\", \"Neutral\", \"Negative\", \"Positive\", \"Neutral\", \"Negative\", \"Neutral\", \"Positive\", \"Neutral\", \"Positive\", \"Positive\", \"Neutral\", \"Positive\", \"Positive\", \"Neutral\", \"Positive\", \"Positive\", \"Negative\", \"Neutral\", \"Negative\", \"Negative\", \"Negative\", \"Neutral\", \"Positive\", \"Negative\", \"Positive\", \"Neutral\", \"Negative\", \"Neutral\", \"Negative\", \"Positive\", \"Positive\", \"Negative\", \"Neutral\", \"Positive\", \"Neutral\", \"Neutral\", \"Negative\", \"Neutral\", \"Negative\", \"Neutral\", \"Negative\", \"Negative\", \"Positive\", \"Negative\", \"Neutral\", \"Positive\", \"Positive\", \"Negative\", \"Neutral\", \"Negative\", \"Positive\", \"Negative\", \"Positive\", \"Positive\", \"Neutral\", \"Positive\", \"Neutral\", \"Neutral\", \"Negative\", \"Neutral\", \"Positive\", \"Negative\", \"Neutral\", \"Negative\", \"Negative\", \"Negative\", \"Negative\", \"Neutral\", \"Negative\", \"Negative\", \"Positive\", \"Negative\", \"Negative\", \"Negative\", \"Neutral\", \"Neutral\", \"Positive\", \"Neutral\", \"Negative\", \"Neutral\", \"Neutral\", \"Positive\", \"Neutral\", \"Neutral\", \"Negative\", \"Negative\", \"Neutral\", \"Negative\", \"Positive\", \"Neutral\", \"Positive\", \"Neutral\", \"Negative\", \"Positive\", \"Positive\", \"Neutral\", \"Negative\", \"Positive\", \"Neutral\", \"Negative\", \"Positive\", \"Positive\", \"Positive\", \"Neutral\", \"Positive\", \"Neutral\", \"Positive\", \"Neutral\", \"Neutral\", \"Positive\", \"Positive\", \"Neutral\", \"Neutral\", \"Negative\", \"Negative\", \"Neutral\", \"Neutral\", \"Negative\", \"Neutral\", \"Neutral\", \"Negative\", \"Positive\", \"Neutral\", \"Neutral\", \"Positive\", \"Positive\", \"Positive\", \"Neutral\", \"Positive\", \"Positive\", \"Neutral\", \"Positive\", \"Positive\", \"Negative\", \"Neutral\", \"Negative\", \"Neutral\", \"Negative\", \"Neutral\", \"Neutral\", \"Positive\", \"Neutral\", \"Neutral\", \"Positive\", \"Neutral\", \"Positive\", \"Neutral\", \"Negative\", \"Neutral\", \"Negative\", \"Negative\", \"Neutral\", \"Positive\", \"Positive\", \"Neutral\", \"Neutral\", \"Neutral\", \"Neutral\", \"Negative\", \"Positive\", \"Positive\", \"Positive\", \"Positive\", \"Positive\", \"Positive\", \"Neutral\", \"Neutral\", \"Positive\", \"Negative\", \"Negative\", \"Positive\", \"Negative\", \"Neutral\", \"Neutral\", \"Positive\", \"Negative\", \"Positive\", \"Neutral\", \"Neutral\", \"Negative\", \"Neutral\", \"Positive\", \"Positive\", \"Positive\", \"Neutral\", \"Negative\", \"Neutral\", \"Negative\", \"Positive\", \"Positive\", \"Neutral\", \"Positive\", \"Negative\", \"Neutral\", \"Neutral\", \"Neutral\", \"Positive\", \"Neutral\", \"Positive\", \"Negative\", \"Neutral\", \"Neutral\", \"Neutral\", \"Negative\", \"Neutral\", \"Neutral\", \"Neutral\", \"Neutral\", \"Neutral\", \"Positive\", \"Neutral\", \"Positive\", \"Negative\", \"Positive\", \"Neutral\", \"Positive\", \"Positive\", \"Negative\", \"Positive\", \"Neutral\", \"Neutral\", \"Positive\", \"Positive\", \"Positive\", \"Negative\", \"Negative\", \"Neutral\", \"Neutral\", \"Positive\", \"Positive\", \"Positive\", \"Positive\", \"Positive\", \"Positive\", \"Neutral\", \"Negative\", \"Neutral\", \"Neutral\", \"Neutral\", \"Neutral\", \"Neutral\", \"Positive\", \"Neutral\", \"Neutral\", \"Neutral\", \"Neutral\", \"Neutral\", \"Positive\", \"Positive\", \"Neutral\", \"Neutral\", \"Neutral\", \"Negative\", \"Positive\", \"Neutral\", \"Neutral\", \"Positive\", \"Neutral\", \"Negative\", \"Positive\", \"Positive\", \"Negative\", \"Negative\", \"Negative\", \"Negative\", \"Positive\", \"Neutral\", \"Negative\", \"Positive\", \"Positive\", \"Positive\", \"Negative\", \"Negative\", \"Neutral\", \"Negative\", \"Neutral\", \"Positive\", \"Neutral\", \"Positive\", \"Positive\", \"Negative\", \"Neutral\", \"Negative\", \"Positive\", \"Neutral\", \"Negative\", \"Neutral\", \"Neutral\", \"Negative\", \"Positive\", \"Positive\", \"Negative\", \"Negative\", \"Neutral\", \"Negative\", \"Neutral\", \"Neutral\", \"Negative\", \"Negative\", \"Negative\", \"Neutral\", \"Positive\", \"Positive\", \"Positive\", \"Positive\", \"Negative\", \"Neutral\", \"Negative\", \"Positive\", \"Neutral\", \"Positive\", \"Neutral\", \"Neutral\", \"Negative\", \"Positive\", \"Neutral\", \"Negative\", \"Neutral\", \"Neutral\", \"Positive\", \"Negative\", \"Neutral\", \"Negative\", \"Negative\", \"Neutral\", \"Neutral\", \"Negative\", \"Neutral\", \"Negative\", \"Positive\", \"Neutral\", \"Positive\", \"Negative\", \"Neutral\", \"Positive\", \"Neutral\", \"Neutral\", \"Positive\", \"Positive\", \"Negative\", \"Negative\", \"Negative\", \"Neutral\", \"Positive\", \"Positive\", \"Neutral\", \"Positive\", \"Neutral\", \"Neutral\", \"Neutral\", \"Positive\", \"Neutral\", \"Positive\", \"Negative\", \"Neutral\", \"Positive\", \"Positive\", \"Negative\", \"Positive\", \"Negative\", \"Neutral\", \"Negative\", \"Neutral\", \"Negative\", \"Negative\", \"Neutral\", \"Negative\", \"Neutral\", \"Negative\", \"Positive\", \"Positive\", \"Neutral\", \"Positive\", \"Neutral\", \"Negative\", \"Positive\", \"Neutral\", \"Negative\", \"Neutral\", \"Neutral\", \"Positive\", \"Negative\", \"Neutral\", \"Neutral\", \"Positive\", \"Neutral\", \"Negative\", \"Negative\", \"Negative\", \"Positive\", \"Neutral\", \"Neutral\", \"Positive\", \"Positive\", \"Neutral\", \"Negative\", \"Neutral\", \"Neutral\", \"Positive\", \"Neutral\", \"Positive\", \"Positive\", \"Positive\", \"Neutral\", \"Positive\", \"Positive\", \"Negative\", \"Positive\", \"Neutral\", \"Negative\", \"Neutral\", \"Negative\", \"Negative\", \"Positive\", \"Positive\", \"Negative\", \"Positive\", \"Neutral\", \"Positive\", \"Positive\", \"Negative\", \"Negative\", \"Positive\", \"Positive\", \"Neutral\", \"Positive\", \"Negative\", \"Negative\", \"Neutral\", \"Negative\", \"Neutral\", \"Positive\", \"Neutral\", \"Neutral\", \"Neutral\", \"Positive\", \"Neutral\", \"Positive\", \"Neutral\", \"Negative\", \"Neutral\", \"Negative\", \"Neutral\", \"Positive\", \"Negative\", \"Neutral\", \"Neutral\", \"Positive\", \"Negative\", \"Positive\", \"Neutral\", \"Negative\", \"Neutral\", \"Positive\", \"Neutral\", \"Positive\", \"Positive\", \"Neutral\", \"Neutral\", \"Positive\", \"Positive\", \"Negative\", \"Positive\", \"Positive\", \"Negative\", \"Neutral\", \"Positive\", \"Positive\", \"Negative\", \"Negative\", \"Neutral\", \"Neutral\", \"Neutral\", \"Negative\", \"Positive\", \"Positive\", \"Negative\", \"Neutral\", \"Neutral\", \"Neutral\", \"Positive\", \"Positive\", \"Negative\", \"Neutral\", \"Neutral\", \"Negative\", \"Neutral\", \"Positive\", \"Negative\", \"Neutral\", \"Negative\", \"Neutral\", \"Positive\", \"Positive\", \"Positive\", \"Neutral\", \"Neutral\", \"Positive\", \"Negative\", \"Negative\", \"Neutral\", \"Negative\", \"Neutral\", \"Negative\", \"Positive\", \"Positive\", \"Positive\", \"Positive\", \"Negative\", \"Neutral\", \"Negative\", \"Negative\", \"Positive\", \"Neutral\", \"Positive\", \"Neutral\", \"Positive\", \"Neutral\", \"Neutral\", \"Neutral\", \"Positive\", \"Negative\", \"Negative\", \"Negative\", \"Negative\", \"Negative\", \"Positive\", \"Negative\", \"Neutral\", \"Neutral\", \"Neutral\", \"Neutral\", \"Neutral\", \"Neutral\", \"Neutral\", \"Neutral\", \"Positive\", \"Positive\", \"Positive\", \"Positive\", \"Negative\", \"Neutral\", \"Neutral\", \"Positive\", \"Negative\", \"Neutral\", \"Neutral\", \"Negative\", \"Positive\", \"Positive\", \"Positive\", \"Neutral\", \"Negative\", \"Neutral\", \"Neutral\", \"Neutral\", \"Positive\", \"Negative\", \"Neutral\", \"Positive\", \"Positive\", \"Negative\", \"Neutral\", \"Positive\", \"Neutral\", \"Neutral\", \"Negative\", \"Neutral\", \"Neutral\", \"Positive\", \"Neutral\", \"Neutral\", \"Neutral\", \"Positive\", \"Neutral\", \"Positive\", \"Negative\", \"Negative\", \"Negative\", \"Positive\", \"Neutral\", \"Neutral\", \"Positive\", \"Positive\", \"Positive\", \"Negative\", \"Negative\", \"Negative\", \"Positive\", \"Positive\", \"Neutral\", \"Positive\", \"Positive\", \"Neutral\", \"Neutral\", \"Negative\", \"Negative\", \"Neutral\", \"Positive\", \"Negative\", \"Negative\", \"Positive\", \"Neutral\", \"Positive\", \"Neutral\", \"Neutral\", \"Neutral\", \"Neutral\", \"Neutral\", \"Neutral\", \"Neutral\", \"Neutral\", \"Negative\", \"Positive\", \"Positive\", \"Neutral\", \"Neutral\", \"Neutral\", \"Neutral\", \"Positive\", \"Positive\", \"Negative\", \"Neutral\", \"Positive\", \"Negative\", \"Positive\", \"Positive\", \"Neutral\", \"Negative\", \"Neutral\", \"Positive\", \"Positive\", \"Neutral\", \"Neutral\", \"Positive\", \"Negative\", \"Neutral\", \"Positive\", \"Neutral\", \"Neutral\", \"Negative\", \"Neutral\", \"Neutral\", \"Neutral\", \"Negative\", \"Neutral\", \"Positive\", \"Positive\", \"Positive\", \"Neutral\", \"Positive\", \"Positive\", \"Positive\", \"Neutral\", \"Neutral\", \"Neutral\", \"Positive\", \"Neutral\", \"Positive\", \"Neutral\", \"Negative\", \"Positive\", \"Neutral\", \"Neutral\", \"Positive\", \"Positive\", \"Neutral\", \"Negative\", \"Negative\", \"Neutral\", \"Neutral\", \"Negative\", \"Positive\", \"Positive\", \"Neutral\", \"Neutral\", \"Neutral\", \"Positive\", \"Neutral\", \"Neutral\", \"Neutral\", \"Neutral\", \"Neutral\", \"Neutral\", \"Negative\", \"Neutral\", \"Positive\", \"Negative\", \"Neutral\", \"Neutral\", \"Positive\", \"Neutral\", \"Neutral\", \"Negative\", \"Positive\", \"Positive\", \"Negative\", \"Positive\", \"Positive\", \"Neutral\", \"Positive\", \"Neutral\", \"Neutral\", \"Positive\", \"Negative\", \"Positive\", \"Positive\", \"Neutral\", \"Neutral\", \"Positive\", \"Neutral\", \"Positive\", \"Neutral\", \"Positive\", \"Negative\", \"Neutral\", \"Neutral\", \"Negative\", \"Neutral\", \"Negative\", \"Positive\", \"Neutral\", \"Neutral\", \"Positive\", \"Negative\", \"Neutral\", \"Negative\", \"Negative\", \"Neutral\", \"Positive\", \"Positive\", \"Negative\", \"Positive\", \"Positive\", \"Neutral\", \"Positive\", \"Neutral\", \"Neutral\", \"Neutral\", \"Neutral\", \"Positive\", \"Positive\", \"Neutral\", \"Neutral\", \"Neutral\", \"Neutral\", \"Neutral\", \"Neutral\", \"Neutral\", \"Positive\", \"Negative\", \"Neutral\", \"Negative\", \"Neutral\", \"Positive\", \"Negative\", \"Neutral\", \"Neutral\", \"Positive\", \"Negative\", \"Positive\", \"Neutral\", \"Neutral\", \"Neutral\", \"Neutral\", \"Neutral\", \"Neutral\", \"Positive\", \"Positive\", \"Negative\", \"Positive\", \"Neutral\", \"Neutral\", \"Positive\", \"Negative\", \"Neutral\", \"Positive\", \"Positive\", \"Negative\", \"Neutral\", \"Neutral\", \"Negative\", \"Neutral\", \"Negative\", \"Positive\", \"Neutral\", \"Neutral\", \"Neutral\", \"Neutral\", \"Positive\", \"Positive\", \"Negative\", \"Neutral\", \"Negative\", \"Positive\", \"Neutral\", \"Positive\", \"Neutral\", \"Positive\", \"Neutral\", \"Negative\", \"Neutral\", \"Neutral\", \"Neutral\", \"Positive\", \"Negative\", \"Neutral\", \"Negative\", \"Positive\", \"Neutral\", \"Positive\", \"Positive\", \"Positive\", \"Neutral\", \"Neutral\", \"Neutral\", \"Positive\", \"Neutral\", \"Neutral\", \"Positive\", \"Negative\", \"Positive\", \"Positive\", \"Positive\", \"Neutral\", \"Neutral\", \"Neutral\", \"Neutral\", \"Positive\", \"Neutral\", \"Neutral\", \"Neutral\", \"Neutral\", \"Neutral\", \"Positive\", \"Neutral\", \"Neutral\", \"Neutral\", \"Positive\", \"Neutral\", \"Positive\", \"Negative\", \"Neutral\", \"Neutral\", \"Neutral\", \"Negative\", \"Positive\", \"Positive\", \"Neutral\", \"Neutral\", \"Neutral\", \"Positive\", \"Positive\", \"Neutral\", \"Negative\", \"Negative\", \"Neutral\", \"Neutral\", \"Negative\", \"Negative\", \"Neutral\", \"Negative\", \"Negative\", \"Positive\", \"Positive\", \"Neutral\", \"Negative\", \"Positive\", \"Neutral\", \"Neutral\", \"Positive\", \"Negative\", \"Neutral\", \"Negative\", \"Positive\", \"Neutral\", \"Positive\", \"Neutral\", \"Positive\", \"Neutral\", \"Positive\", \"Negative\", \"Negative\", \"Neutral\", \"Positive\", \"Negative\", \"Negative\", \"Neutral\", \"Neutral\", \"Negative\", \"Neutral\", \"Negative\", \"Neutral\", \"Neutral\", \"Neutral\", \"Negative\", \"Neutral\", \"Neutral\", \"Neutral\", \"Positive\", \"Positive\", \"Neutral\", \"Neutral\", \"Negative\", \"Neutral\", \"Neutral\", \"Neutral\", \"Neutral\", \"Neutral\", \"Positive\", \"Negative\", \"Neutral\", \"Negative\", \"Neutral\", \"Negative\", \"Neutral\", \"Neutral\", \"Neutral\", \"Neutral\", \"Neutral\", \"Positive\", \"Positive\", \"Positive\", \"Positive\", \"Neutral\", \"Negative\", \"Neutral\", \"Positive\", \"Neutral\", \"Neutral\", \"Neutral\", \"Neutral\", \"Neutral\", \"Neutral\", \"Positive\", \"Neutral\", \"Negative\", \"Negative\", \"Negative\", \"Neutral\", \"Neutral\", \"Neutral\", \"Positive\", \"Neutral\", \"Neutral\", \"Negative\", \"Positive\", \"Neutral\", \"Negative\", \"Neutral\", \"Negative\", \"Positive\", \"Neutral\", \"Neutral\", \"Neutral\", \"Neutral\", \"Negative\", \"Negative\", \"Neutral\", \"Negative\", \"Negative\", \"Positive\", \"Neutral\", \"Positive\", \"Neutral\", \"Positive\", \"Negative\", \"Neutral\", \"Positive\", \"Neutral\", \"Neutral\", \"Negative\", \"Positive\", \"Neutral\", \"Positive\", \"Neutral\", \"Neutral\", \"Neutral\", \"Positive\", \"Positive\", \"Negative\", \"Neutral\", \"Neutral\", \"Positive\", \"Neutral\", \"Positive\", \"Positive\", \"Positive\", \"Neutral\", \"Negative\", \"Neutral\", \"Positive\", \"Neutral\", \"Positive\", \"Positive\", \"Positive\", \"Negative\", \"Positive\", \"Positive\", \"Neutral\", \"Neutral\", \"Negative\", \"Positive\", \"Neutral\", \"Neutral\", \"Neutral\", \"Negative\", \"Negative\", \"Neutral\", \"Negative\", \"Neutral\", \"Neutral\", \"Positive\", \"Neutral\", \"Neutral\", \"Neutral\", \"Neutral\", \"Neutral\", \"Neutral\", \"Positive\", \"Neutral\", \"Neutral\", \"Neutral\", \"Positive\", \"Positive\", \"Positive\", \"Neutral\", \"Negative\", \"Neutral\", \"Neutral\", \"Neutral\", \"Negative\", \"Positive\", \"Neutral\", \"Neutral\", \"Negative\", \"Neutral\", \"Positive\", \"Neutral\", \"Positive\", \"Positive\", \"Neutral\", \"Neutral\", \"Positive\", \"Positive\", \"Positive\", \"Neutral\", \"Negative\", \"Neutral\", \"Neutral\", \"Neutral\", \"Neutral\", \"Negative\", \"Neutral\", \"Positive\", \"Neutral\", \"Neutral\", \"Neutral\", \"Positive\", \"Positive\", \"Neutral\", \"Positive\", \"Positive\", \"Positive\", \"Positive\", \"Neutral\", \"Negative\", \"Positive\", \"Neutral\", \"Neutral\", \"Negative\", \"Neutral\", \"Neutral\", \"Negative\", \"Positive\", \"Negative\", \"Negative\", \"Negative\", \"Neutral\", \"Negative\", \"Neutral\", \"Neutral\", \"Neutral\", \"Neutral\", \"Neutral\", \"Neutral\", \"Neutral\", \"Neutral\", \"Neutral\", \"Neutral\", \"Neutral\", \"Positive\", \"Positive\", \"Negative\", \"Neutral\", \"Neutral\", \"Neutral\", \"Neutral\", \"Negative\", \"Neutral\", \"Negative\", \"Negative\", \"Neutral\", \"Neutral\", \"Neutral\", \"Positive\", \"Neutral\", \"Neutral\", \"Negative\", \"Negative\", \"Neutral\", \"Neutral\", \"Positive\", \"Neutral\", \"Neutral\", \"Neutral\", \"Positive\", \"Positive\", \"Positive\", \"Neutral\", \"Negative\", \"Positive\", \"Positive\", \"Positive\", \"Neutral\", \"Neutral\", \"Negative\", \"Positive\", \"Neutral\", \"Neutral\", \"Neutral\", \"Neutral\", \"Neutral\", \"Neutral\", \"Neutral\", \"Neutral\", \"Neutral\", \"Neutral\", \"Negative\", \"Positive\", \"Neutral\", \"Neutral\", \"Neutral\", \"Positive\", \"Positive\", \"Neutral\", \"Positive\", \"Neutral\", \"Neutral\", \"Positive\", \"Neutral\", \"Neutral\", \"Neutral\", \"Negative\", \"Positive\", \"Neutral\", \"Positive\", \"Negative\", \"Positive\", \"Neutral\", \"Positive\", \"Neutral\", \"Neutral\", \"Positive\", \"Neutral\", \"Neutral\", \"Negative\", \"Negative\", \"Neutral\", \"Positive\", \"Neutral\", \"Negative\", \"Positive\", \"Negative\", \"Negative\", \"Neutral\", \"Positive\", \"Neutral\", \"Positive\", \"Positive\", \"Positive\", \"Neutral\", \"Negative\", \"Positive\", \"Positive\", \"Positive\", \"Negative\", \"Neutral\", \"Neutral\", \"Negative\", \"Negative\", \"Neutral\", \"Neutral\", \"Positive\", \"Positive\", \"Neutral\", \"Negative\", \"Neutral\", \"Neutral\", \"Neutral\", \"Neutral\", \"Positive\", \"Neutral\", \"Negative\", \"Positive\", \"Positive\", \"Negative\", \"Neutral\", \"Neutral\", \"Negative\", \"Neutral\", \"Neutral\", \"Neutral\", \"Positive\", \"Neutral\", \"Negative\", \"Neutral\", \"Positive\", \"Neutral\", \"Positive\", \"Neutral\", \"Neutral\", \"Positive\", \"Positive\", \"Neutral\", \"Neutral\", \"Negative\", \"Neutral\", \"Neutral\", \"Negative\", \"Neutral\", \"Positive\", \"Negative\", \"Neutral\", \"Neutral\", \"Negative\", \"Neutral\", \"Neutral\", \"Neutral\", \"Neutral\", \"Neutral\", \"Neutral\", \"Neutral\", \"Neutral\", \"Positive\", \"Neutral\", \"Neutral\", \"Neutral\", \"Negative\", \"Neutral\", \"Neutral\", \"Neutral\", \"Negative\", \"Neutral\", \"Neutral\", \"Negative\", \"Neutral\", \"Neutral\", \"Positive\", \"Negative\", \"Positive\", \"Neutral\", \"Neutral\", \"Neutral\", \"Neutral\", \"Neutral\", \"Positive\", \"Neutral\", \"Positive\", \"Positive\", \"Negative\", \"Neutral\", \"Neutral\", \"Neutral\", \"Positive\", \"Positive\", \"Neutral\", \"Positive\", \"Negative\", \"Positive\", \"Positive\", \"Positive\", \"Neutral\", \"Neutral\", \"Neutral\", \"Neutral\", \"Positive\", \"Positive\", \"Neutral\", \"Neutral\", \"Positive\", \"Positive\", \"Neutral\", \"Neutral\", \"Neutral\", \"Positive\", \"Negative\", \"Neutral\", \"Positive\", \"Neutral\", \"Neutral\", \"Neutral\", \"Neutral\", \"Negative\", \"Neutral\", \"Neutral\", \"Positive\", \"Positive\", \"Neutral\", \"Positive\", \"Neutral\", \"Negative\", \"Neutral\", \"Neutral\", \"Neutral\", \"Neutral\", \"Positive\", \"Neutral\", \"Positive\", \"Positive\", \"Positive\", \"Neutral\", \"Neutral\", \"Negative\", \"Neutral\", \"Positive\", \"Negative\", \"Negative\", \"Neutral\", \"Positive\", \"Neutral\", \"Neutral\", \"Negative\", \"Neutral\", \"Positive\", \"Positive\", \"Neutral\", \"Neutral\", \"Neutral\", \"Neutral\", \"Negative\", \"Neutral\", \"Negative\", \"Positive\", \"Positive\", \"Neutral\", \"Negative\", \"Neutral\", \"Neutral\", \"Neutral\", \"Neutral\", \"Neutral\", \"Positive\", \"Negative\", \"Negative\", \"Negative\", \"Negative\", \"Neutral\", \"Neutral\", \"Neutral\", \"Positive\", \"Negative\", \"Positive\", \"Neutral\", \"Negative\", \"Positive\", \"Positive\", \"Neutral\", \"Neutral\", \"Neutral\", \"Neutral\", \"Neutral\", \"Positive\", \"Positive\", \"Neutral\", \"Positive\", \"Neutral\", \"Negative\", \"Neutral\", \"Positive\", \"Negative\", \"Neutral\", \"Neutral\", \"Positive\", \"Neutral\", \"Negative\", \"Positive\", \"Positive\", \"Positive\", \"Neutral\", \"Negative\", \"Negative\", \"Neutral\", \"Negative\", \"Negative\", \"Neutral\", \"Neutral\", \"Neutral\", \"Neutral\", \"Positive\", \"Positive\", \"Positive\", \"Positive\", \"Neutral\", \"Positive\", \"Neutral\", \"Negative\", \"Negative\", \"Neutral\", \"Neutral\", \"Positive\", \"Positive\", \"Positive\", \"Neutral\", \"Neutral\", \"Negative\", \"Negative\", \"Positive\", \"Positive\", \"Negative\", \"Positive\", \"Negative\", \"Positive\", \"Negative\", \"Positive\", \"Neutral\", \"Neutral\", \"Negative\", \"Positive\", \"Positive\", \"Positive\", \"Positive\", \"Negative\", \"Neutral\", \"Neutral\", \"Negative\", \"Neutral\", \"Neutral\", \"Neutral\", \"Neutral\", \"Neutral\", \"Neutral\", \"Negative\", \"Neutral\", \"Neutral\", \"Neutral\", \"Negative\", \"Positive\", \"Neutral\", \"Neutral\", \"Positive\", \"Negative\", \"Positive\", \"Neutral\", \"Neutral\", \"Neutral\", \"Positive\", \"Positive\", \"Positive\", \"Neutral\", \"Positive\", \"Neutral\", \"Positive\", \"Positive\", \"Neutral\", \"Negative\", \"Positive\", \"Negative\", \"Neutral\", \"Positive\", \"Positive\", \"Neutral\", \"Neutral\", \"Negative\", \"Negative\", \"Positive\", \"Negative\", \"Negative\", \"Negative\", \"Neutral\", \"Negative\", \"Neutral\", \"Neutral\", \"Negative\", \"Positive\", \"Neutral\", \"Neutral\", \"Neutral\", \"Neutral\", \"Neutral\", \"Negative\", \"Neutral\", \"Negative\", \"Positive\", \"Negative\", \"Neutral\", \"Neutral\", \"Neutral\", \"Neutral\", \"Neutral\", \"Neutral\", \"Positive\", \"Negative\", \"Negative\", \"Positive\", \"Positive\", \"Neutral\", \"Neutral\", \"Neutral\", \"Positive\", \"Positive\", \"Positive\", \"Neutral\", \"Negative\", \"Positive\", \"Negative\", \"Positive\", \"Neutral\", \"Negative\", \"Neutral\", \"Neutral\", \"Negative\", \"Neutral\", \"Neutral\", \"Positive\", \"Neutral\", \"Negative\", \"Positive\", \"Neutral\", \"Neutral\", \"Positive\", \"Neutral\", \"Neutral\", \"Positive\", \"Positive\", \"Neutral\", \"Neutral\", \"Neutral\", \"Neutral\", \"Neutral\", \"Neutral\", \"Negative\", \"Neutral\", \"Neutral\", \"Negative\", \"Neutral\", \"Negative\", \"Positive\", \"Negative\", \"Negative\", \"Neutral\", \"Neutral\", \"Neutral\", \"Positive\", \"Positive\", \"Positive\", \"Negative\", \"Neutral\", \"Neutral\", \"Negative\", \"Neutral\", \"Neutral\", \"Positive\", \"Neutral\", \"Negative\", \"Negative\", \"Neutral\", \"Neutral\", \"Neutral\", \"Neutral\", \"Neutral\", \"Neutral\", \"Positive\", \"Neutral\", \"Neutral\", \"Neutral\", \"Neutral\", \"Neutral\", \"Neutral\", \"Neutral\", \"Neutral\", \"Positive\", \"Negative\", \"Neutral\", \"Negative\", \"Neutral\", \"Positive\", \"Negative\", \"Neutral\", \"Positive\", \"Neutral\", \"Positive\", \"Neutral\", \"Positive\", \"Negative\", \"Negative\", \"Positive\", \"Positive\", \"Neutral\", \"Positive\", \"Neutral\", \"Neutral\", \"Neutral\", \"Positive\", \"Positive\", \"Negative\", \"Positive\", \"Positive\", \"Positive\", \"Negative\", \"Neutral\", \"Negative\", \"Positive\", \"Neutral\", \"Neutral\", \"Neutral\", \"Neutral\", \"Neutral\", \"Neutral\", \"Neutral\", \"Negative\", \"Negative\", \"Positive\", \"Negative\", \"Neutral\", \"Positive\", \"Neutral\", \"Neutral\", \"Negative\", \"Positive\", \"Neutral\", \"Neutral\", \"Neutral\", \"Negative\", \"Negative\", \"Neutral\", \"Positive\", \"Positive\", \"Neutral\", \"Negative\", \"Neutral\", \"Neutral\", \"Neutral\", \"Negative\", \"Neutral\", \"Negative\", \"Neutral\", \"Negative\", \"Negative\", \"Neutral\", \"Positive\", \"Neutral\", \"Positive\", \"Positive\", \"Neutral\", \"Neutral\", \"Neutral\", \"Neutral\", \"Positive\", \"Negative\", \"Neutral\", \"Neutral\", \"Neutral\", \"Neutral\", \"Neutral\", \"Neutral\", \"Negative\", \"Negative\", \"Neutral\", \"Negative\", \"Neutral\", \"Negative\", \"Positive\", \"Neutral\", \"Negative\", \"Positive\", \"Negative\", \"Neutral\", \"Positive\", \"Neutral\", \"Negative\", \"Neutral\", \"Positive\", \"Neutral\", \"Positive\", \"Neutral\", \"Positive\", \"Neutral\", \"Neutral\", \"Negative\", \"Negative\", \"Negative\", \"Neutral\", \"Neutral\", \"Positive\", \"Negative\", \"Negative\", \"Neutral\", \"Neutral\", \"Positive\", \"Neutral\", \"Negative\", \"Negative\", \"Neutral\", \"Negative\", \"Neutral\", \"Neutral\", \"Positive\", \"Positive\", \"Neutral\", \"Negative\", \"Neutral\", \"Neutral\", \"Neutral\", \"Neutral\", \"Neutral\", \"Negative\", \"Neutral\", \"Neutral\", \"Neutral\", \"Neutral\", \"Negative\", \"Negative\", \"Neutral\", \"Neutral\", \"Negative\", \"Positive\", \"Negative\", \"Negative\", \"Neutral\", \"Negative\", \"Neutral\", \"Positive\", \"Neutral\", \"Negative\", \"Negative\", \"Positive\", \"Neutral\", \"Neutral\", \"Positive\", \"Positive\", \"Positive\", \"Positive\", \"Neutral\", \"Negative\", \"Positive\", \"Negative\", \"Positive\", \"Neutral\", \"Positive\", \"Neutral\", \"Positive\", \"Positive\", \"Neutral\", \"Neutral\", \"Positive\", \"Negative\", \"Neutral\", \"Negative\", \"Neutral\", \"Neutral\", \"Neutral\", \"Negative\", \"Negative\", \"Negative\", \"Neutral\", \"Negative\", \"Positive\", \"Neutral\", \"Neutral\", \"Negative\", \"Negative\", \"Neutral\", \"Neutral\", \"Positive\", \"Neutral\", \"Neutral\", \"Neutral\", \"Neutral\", \"Neutral\", \"Negative\", \"Positive\", \"Neutral\", \"Neutral\", \"Negative\", \"Negative\", \"Negative\", \"Negative\", \"Neutral\", \"Negative\", \"Positive\", \"Positive\", \"Neutral\", \"Positive\", \"Positive\", \"Neutral\", \"Neutral\", \"Positive\", \"Neutral\", \"Neutral\", \"Neutral\", \"Positive\", \"Neutral\", \"Neutral\", \"Neutral\", \"Negative\", \"Negative\", \"Neutral\", \"Positive\", \"Negative\", \"Positive\", \"Negative\", \"Negative\", \"Positive\", \"Neutral\", \"Neutral\", \"Positive\", \"Neutral\", \"Negative\", \"Neutral\", \"Neutral\", \"Positive\", \"Neutral\", \"Neutral\", \"Neutral\", \"Negative\", \"Negative\", \"Positive\", \"Neutral\", \"Neutral\", \"Neutral\", \"Neutral\", \"Neutral\", \"Neutral\", \"Positive\", \"Neutral\", \"Neutral\", \"Neutral\", \"Negative\", \"Positive\", \"Positive\", \"Negative\", \"Neutral\", \"Neutral\", \"Negative\", \"Positive\", \"Negative\", \"Negative\", \"Neutral\", \"Negative\", \"Neutral\", \"Negative\", \"Negative\", \"Negative\", \"Negative\", \"Negative\", \"Positive\", \"Neutral\", \"Neutral\", \"Neutral\", \"Positive\", \"Neutral\", \"Negative\", \"Positive\", \"Neutral\", \"Positive\", \"Negative\", \"Neutral\", \"Negative\", \"Neutral\", \"Neutral\", \"Positive\", \"Neutral\", \"Negative\", \"Neutral\", \"Neutral\", \"Negative\", \"Neutral\", \"Neutral\", \"Positive\", \"Neutral\", \"Positive\", \"Positive\", \"Neutral\", \"Neutral\", \"Positive\", \"Positive\", \"Negative\", \"Neutral\", \"Negative\", \"Negative\", \"Negative\", \"Negative\", \"Neutral\", \"Neutral\", \"Neutral\", \"Neutral\", \"Positive\", \"Negative\", \"Neutral\", \"Negative\", \"Negative\", \"Neutral\", \"Negative\", \"Positive\", \"Neutral\", \"Neutral\", \"Neutral\", \"Negative\", \"Neutral\", \"Neutral\", \"Neutral\", \"Neutral\", \"Positive\", \"Neutral\", \"Neutral\", \"Neutral\", \"Neutral\", \"Neutral\", \"Neutral\", \"Positive\", \"Neutral\", \"Negative\", \"Positive\", \"Positive\", \"Positive\", \"Neutral\", \"Positive\", \"Negative\", \"Neutral\", \"Neutral\", \"Positive\", \"Positive\", \"Neutral\", \"Positive\", \"Negative\", \"Negative\", \"Negative\", \"Neutral\", \"Neutral\", \"Neutral\", \"Positive\", \"Neutral\", \"Negative\", \"Neutral\", \"Negative\", \"Negative\", \"Neutral\", \"Negative\", \"Positive\", \"Neutral\", \"Neutral\", \"Neutral\", \"Neutral\", \"Positive\", \"Neutral\", \"Negative\", \"Positive\", \"Negative\", \"Neutral\", \"Neutral\", \"Negative\", \"Neutral\", \"Neutral\", \"Neutral\", \"Neutral\", \"Neutral\", \"Negative\", \"Positive\", \"Positive\", \"Neutral\", \"Positive\", \"Negative\", \"Positive\", \"Positive\", \"Positive\", \"Positive\", \"Negative\", \"Neutral\", \"Neutral\", \"Neutral\", \"Negative\", \"Neutral\", \"Neutral\", \"Negative\", \"Neutral\", \"Positive\", \"Positive\", \"Positive\", \"Neutral\", \"Neutral\", \"Negative\", \"Neutral\", \"Positive\", \"Neutral\", \"Positive\", \"Negative\", \"Negative\", \"Neutral\", \"Negative\", \"Positive\", \"Negative\", \"Neutral\", \"Neutral\", \"Positive\", \"Neutral\", \"Negative\"], \"legendgroup\": \"\", \"name\": \"\", \"showlegend\": true, \"type\": \"pie\"}],\n",
              "                        {\"legend\": {\"tracegroupgap\": 0}, \"margin\": {\"t\": 60}, \"template\": {\"data\": {\"bar\": [{\"error_x\": {\"color\": \"#2a3f5f\"}, \"error_y\": {\"color\": \"#2a3f5f\"}, \"marker\": {\"line\": {\"color\": \"#E5ECF6\", \"width\": 0.5}}, \"type\": \"bar\"}], \"barpolar\": [{\"marker\": {\"line\": {\"color\": \"#E5ECF6\", \"width\": 0.5}}, \"type\": \"barpolar\"}], \"carpet\": [{\"aaxis\": {\"endlinecolor\": \"#2a3f5f\", \"gridcolor\": \"white\", \"linecolor\": \"white\", \"minorgridcolor\": \"white\", \"startlinecolor\": \"#2a3f5f\"}, \"baxis\": {\"endlinecolor\": \"#2a3f5f\", \"gridcolor\": \"white\", \"linecolor\": \"white\", \"minorgridcolor\": \"white\", \"startlinecolor\": \"#2a3f5f\"}, \"type\": \"carpet\"}], \"choropleth\": [{\"colorbar\": {\"outlinewidth\": 0, \"ticks\": \"\"}, \"type\": \"choropleth\"}], \"contour\": [{\"colorbar\": {\"outlinewidth\": 0, \"ticks\": \"\"}, \"colorscale\": [[0.0, \"#0d0887\"], [0.1111111111111111, \"#46039f\"], [0.2222222222222222, \"#7201a8\"], [0.3333333333333333, \"#9c179e\"], [0.4444444444444444, \"#bd3786\"], [0.5555555555555556, \"#d8576b\"], [0.6666666666666666, \"#ed7953\"], [0.7777777777777778, \"#fb9f3a\"], [0.8888888888888888, \"#fdca26\"], [1.0, \"#f0f921\"]], \"type\": \"contour\"}], \"contourcarpet\": [{\"colorbar\": {\"outlinewidth\": 0, \"ticks\": \"\"}, \"type\": \"contourcarpet\"}], \"heatmap\": [{\"colorbar\": {\"outlinewidth\": 0, \"ticks\": \"\"}, \"colorscale\": [[0.0, \"#0d0887\"], [0.1111111111111111, \"#46039f\"], [0.2222222222222222, \"#7201a8\"], [0.3333333333333333, \"#9c179e\"], [0.4444444444444444, \"#bd3786\"], [0.5555555555555556, \"#d8576b\"], [0.6666666666666666, \"#ed7953\"], [0.7777777777777778, \"#fb9f3a\"], [0.8888888888888888, \"#fdca26\"], [1.0, \"#f0f921\"]], \"type\": \"heatmap\"}], \"heatmapgl\": [{\"colorbar\": {\"outlinewidth\": 0, \"ticks\": \"\"}, \"colorscale\": [[0.0, \"#0d0887\"], [0.1111111111111111, \"#46039f\"], [0.2222222222222222, \"#7201a8\"], [0.3333333333333333, \"#9c179e\"], [0.4444444444444444, \"#bd3786\"], [0.5555555555555556, \"#d8576b\"], [0.6666666666666666, \"#ed7953\"], [0.7777777777777778, \"#fb9f3a\"], [0.8888888888888888, \"#fdca26\"], [1.0, \"#f0f921\"]], \"type\": \"heatmapgl\"}], \"histogram\": [{\"marker\": {\"colorbar\": {\"outlinewidth\": 0, \"ticks\": \"\"}}, \"type\": \"histogram\"}], \"histogram2d\": [{\"colorbar\": {\"outlinewidth\": 0, \"ticks\": \"\"}, \"colorscale\": [[0.0, \"#0d0887\"], [0.1111111111111111, \"#46039f\"], [0.2222222222222222, \"#7201a8\"], [0.3333333333333333, \"#9c179e\"], [0.4444444444444444, \"#bd3786\"], [0.5555555555555556, \"#d8576b\"], [0.6666666666666666, \"#ed7953\"], [0.7777777777777778, \"#fb9f3a\"], [0.8888888888888888, \"#fdca26\"], [1.0, \"#f0f921\"]], \"type\": \"histogram2d\"}], \"histogram2dcontour\": [{\"colorbar\": {\"outlinewidth\": 0, \"ticks\": \"\"}, \"colorscale\": [[0.0, \"#0d0887\"], [0.1111111111111111, \"#46039f\"], [0.2222222222222222, \"#7201a8\"], [0.3333333333333333, \"#9c179e\"], [0.4444444444444444, \"#bd3786\"], [0.5555555555555556, \"#d8576b\"], [0.6666666666666666, \"#ed7953\"], [0.7777777777777778, \"#fb9f3a\"], [0.8888888888888888, \"#fdca26\"], [1.0, \"#f0f921\"]], \"type\": \"histogram2dcontour\"}], \"mesh3d\": [{\"colorbar\": {\"outlinewidth\": 0, \"ticks\": \"\"}, \"type\": \"mesh3d\"}], \"parcoords\": [{\"line\": {\"colorbar\": {\"outlinewidth\": 0, \"ticks\": \"\"}}, \"type\": \"parcoords\"}], \"pie\": [{\"automargin\": true, \"type\": \"pie\"}], \"scatter\": [{\"marker\": {\"colorbar\": {\"outlinewidth\": 0, \"ticks\": \"\"}}, \"type\": \"scatter\"}], \"scatter3d\": [{\"line\": {\"colorbar\": {\"outlinewidth\": 0, \"ticks\": \"\"}}, \"marker\": {\"colorbar\": {\"outlinewidth\": 0, \"ticks\": \"\"}}, \"type\": \"scatter3d\"}], \"scattercarpet\": [{\"marker\": {\"colorbar\": {\"outlinewidth\": 0, \"ticks\": \"\"}}, \"type\": \"scattercarpet\"}], \"scattergeo\": [{\"marker\": {\"colorbar\": {\"outlinewidth\": 0, \"ticks\": \"\"}}, \"type\": \"scattergeo\"}], \"scattergl\": [{\"marker\": {\"colorbar\": {\"outlinewidth\": 0, \"ticks\": \"\"}}, \"type\": \"scattergl\"}], \"scattermapbox\": [{\"marker\": {\"colorbar\": {\"outlinewidth\": 0, \"ticks\": \"\"}}, \"type\": \"scattermapbox\"}], \"scatterpolar\": [{\"marker\": {\"colorbar\": {\"outlinewidth\": 0, \"ticks\": \"\"}}, \"type\": \"scatterpolar\"}], \"scatterpolargl\": [{\"marker\": {\"colorbar\": {\"outlinewidth\": 0, \"ticks\": \"\"}}, \"type\": \"scatterpolargl\"}], \"scatterternary\": [{\"marker\": {\"colorbar\": {\"outlinewidth\": 0, \"ticks\": \"\"}}, \"type\": \"scatterternary\"}], \"surface\": [{\"colorbar\": {\"outlinewidth\": 0, \"ticks\": \"\"}, \"colorscale\": [[0.0, \"#0d0887\"], [0.1111111111111111, \"#46039f\"], [0.2222222222222222, \"#7201a8\"], [0.3333333333333333, \"#9c179e\"], [0.4444444444444444, \"#bd3786\"], [0.5555555555555556, \"#d8576b\"], [0.6666666666666666, \"#ed7953\"], [0.7777777777777778, \"#fb9f3a\"], [0.8888888888888888, \"#fdca26\"], [1.0, \"#f0f921\"]], \"type\": \"surface\"}], \"table\": [{\"cells\": {\"fill\": {\"color\": \"#EBF0F8\"}, \"line\": {\"color\": \"white\"}}, \"header\": {\"fill\": {\"color\": \"#C8D4E3\"}, \"line\": {\"color\": \"white\"}}, \"type\": \"table\"}]}, \"layout\": {\"annotationdefaults\": {\"arrowcolor\": \"#2a3f5f\", \"arrowhead\": 0, \"arrowwidth\": 1}, \"coloraxis\": {\"colorbar\": {\"outlinewidth\": 0, \"ticks\": \"\"}}, \"colorscale\": {\"diverging\": [[0, \"#8e0152\"], [0.1, \"#c51b7d\"], [0.2, \"#de77ae\"], [0.3, \"#f1b6da\"], [0.4, \"#fde0ef\"], [0.5, \"#f7f7f7\"], [0.6, \"#e6f5d0\"], [0.7, \"#b8e186\"], [0.8, \"#7fbc41\"], [0.9, \"#4d9221\"], [1, \"#276419\"]], \"sequential\": [[0.0, \"#0d0887\"], [0.1111111111111111, \"#46039f\"], [0.2222222222222222, \"#7201a8\"], [0.3333333333333333, \"#9c179e\"], [0.4444444444444444, \"#bd3786\"], [0.5555555555555556, \"#d8576b\"], [0.6666666666666666, \"#ed7953\"], [0.7777777777777778, \"#fb9f3a\"], [0.8888888888888888, \"#fdca26\"], [1.0, \"#f0f921\"]], \"sequentialminus\": [[0.0, \"#0d0887\"], [0.1111111111111111, \"#46039f\"], [0.2222222222222222, \"#7201a8\"], [0.3333333333333333, \"#9c179e\"], [0.4444444444444444, \"#bd3786\"], [0.5555555555555556, \"#d8576b\"], [0.6666666666666666, \"#ed7953\"], [0.7777777777777778, \"#fb9f3a\"], [0.8888888888888888, \"#fdca26\"], [1.0, \"#f0f921\"]]}, \"colorway\": [\"#636efa\", \"#EF553B\", \"#00cc96\", \"#ab63fa\", \"#FFA15A\", \"#19d3f3\", \"#FF6692\", \"#B6E880\", \"#FF97FF\", \"#FECB52\"], \"font\": {\"color\": \"#2a3f5f\"}, \"geo\": {\"bgcolor\": \"white\", \"lakecolor\": \"white\", \"landcolor\": \"#E5ECF6\", \"showlakes\": true, \"showland\": true, \"subunitcolor\": \"white\"}, \"hoverlabel\": {\"align\": \"left\"}, \"hovermode\": \"closest\", \"mapbox\": {\"style\": \"light\"}, \"paper_bgcolor\": \"white\", \"plot_bgcolor\": \"#E5ECF6\", \"polar\": {\"angularaxis\": {\"gridcolor\": \"white\", \"linecolor\": \"white\", \"ticks\": \"\"}, \"bgcolor\": \"#E5ECF6\", \"radialaxis\": {\"gridcolor\": \"white\", \"linecolor\": \"white\", \"ticks\": \"\"}}, \"scene\": {\"xaxis\": {\"backgroundcolor\": \"#E5ECF6\", \"gridcolor\": \"white\", \"gridwidth\": 2, \"linecolor\": \"white\", \"showbackground\": true, \"ticks\": \"\", \"zerolinecolor\": \"white\"}, \"yaxis\": {\"backgroundcolor\": \"#E5ECF6\", \"gridcolor\": \"white\", \"gridwidth\": 2, \"linecolor\": \"white\", \"showbackground\": true, \"ticks\": \"\", \"zerolinecolor\": \"white\"}, \"zaxis\": {\"backgroundcolor\": \"#E5ECF6\", \"gridcolor\": \"white\", \"gridwidth\": 2, \"linecolor\": \"white\", \"showbackground\": true, \"ticks\": \"\", \"zerolinecolor\": \"white\"}}, \"shapedefaults\": {\"line\": {\"color\": \"#2a3f5f\"}}, \"ternary\": {\"aaxis\": {\"gridcolor\": \"white\", \"linecolor\": \"white\", \"ticks\": \"\"}, \"baxis\": {\"gridcolor\": \"white\", \"linecolor\": \"white\", \"ticks\": \"\"}, \"bgcolor\": \"#E5ECF6\", \"caxis\": {\"gridcolor\": \"white\", \"linecolor\": \"white\", \"ticks\": \"\"}}, \"title\": {\"x\": 0.05}, \"xaxis\": {\"automargin\": true, \"gridcolor\": \"white\", \"linecolor\": \"white\", \"ticks\": \"\", \"title\": {\"standoff\": 15}, \"zerolinecolor\": \"white\", \"zerolinewidth\": 2}, \"yaxis\": {\"automargin\": true, \"gridcolor\": \"white\", \"linecolor\": \"white\", \"ticks\": \"\", \"title\": {\"standoff\": 15}, \"zerolinecolor\": \"white\", \"zerolinewidth\": 2}}}},\n",
              "                        {\"responsive\": true}\n",
              "                    ).then(function(){\n",
              "                            \n",
              "var gd = document.getElementById('83d261c5-e34e-4f12-86f7-44f715eb9280');\n",
              "var x = new MutationObserver(function (mutations, observer) {{\n",
              "        var display = window.getComputedStyle(gd).display;\n",
              "        if (!display || display === 'none') {{\n",
              "            console.log([gd, 'removed!']);\n",
              "            Plotly.purge(gd);\n",
              "            observer.disconnect();\n",
              "        }}\n",
              "}});\n",
              "\n",
              "// Listen for the removal of the full notebook cells\n",
              "var notebookContainer = gd.closest('#notebook-container');\n",
              "if (notebookContainer) {{\n",
              "    x.observe(notebookContainer, {childList: true});\n",
              "}}\n",
              "\n",
              "// Listen for the clearing of the current output cell\n",
              "var outputEl = gd.closest('.output');\n",
              "if (outputEl) {{\n",
              "    x.observe(outputEl, {childList: true});\n",
              "}}\n",
              "\n",
              "                        })\n",
              "                };\n",
              "                \n",
              "            </script>\n",
              "        </div>\n",
              "</body>\n",
              "</html>"
            ]
          },
          "metadata": {}
        }
      ]
    },
    {
      "cell_type": "code",
      "source": [
        "plt.title('Total number of tweets and sentiments')\n",
        "plt.xlabel('Emotions')\n",
        "plt.ylabel('Number of Tweets')\n",
        "sns.countplot(x='Sentiments', data=df1)"
      ],
      "metadata": {
        "colab": {
          "base_uri": "https://localhost:8080/",
          "height": 313
        },
        "id": "EESugKhYAZ-Q",
        "outputId": "82a94764-1bac-4dd4-9847-cac07e4426c8"
      },
      "execution_count": 344,
      "outputs": [
        {
          "output_type": "execute_result",
          "data": {
            "text/plain": [
              "<matplotlib.axes._subplots.AxesSubplot at 0x7f16f42fa050>"
            ]
          },
          "metadata": {},
          "execution_count": 344
        },
        {
          "output_type": "display_data",
          "data": {
            "image/png": "[encoded data removed]",
            "text/plain": [
              "<Figure size 432x288 with 1 Axes>"
            ]
          },
          "metadata": {
            "needs_background": "light"
          }
        }
      ]
    },
    {
      "cell_type": "markdown",
      "source": [
        "**Finding: Neutral Sentiments are the most prevalent of sentiments from the combine dataframe of NJ, NY, FL, TX tweets. There are slightly more positive sentiments than negative sentiments.**"
      ],
      "metadata": {
        "id": "5bsZWUAqIsWh"
      }
    },
    {
      "cell_type": "code",
      "source": [
        "df1['near'].unique()"
      ],
      "metadata": {
        "colab": {
          "base_uri": "https://localhost:8080/"
        },
        "id": "y4R1nPydBNu8",
        "outputId": "7f84718c-ffcd-4875-941c-a57502cb9545"
      },
      "execution_count": 236,
      "outputs": [
        {
          "output_type": "execute_result",
          "data": {
            "text/plain": [
              "array(['New Jersey', 'Florida', 'Texas', 'New York'], dtype=object)"
            ]
          },
          "metadata": {},
          "execution_count": 236
        }
      ]
    },
    {
      "cell_type": "markdown",
      "source": [
        "## **Barplot for the Sentiments (New Jersey)**"
      ],
      "metadata": {
        "id": "7RHnD_8TDN-g"
      }
    },
    {
      "cell_type": "code",
      "source": [
        "b=df_nj['Sentiments'].value_counts().reset_index()\n",
        "plt.title('NJ number of tweets and sentiments')\n",
        "plt.xlabel('Emotions')\n",
        "plt.ylabel('Number of Tweets')\n",
        "plt.bar(x=b['index'], height=b['Sentiments'])"
      ],
      "metadata": {
        "colab": {
          "base_uri": "https://localhost:8080/",
          "height": 313
        },
        "id": "u0vPfzOnBM1j",
        "outputId": "f90ad4ae-66c1-4729-8cff-61e678d023f4"
      },
      "execution_count": 331,
      "outputs": [
        {
          "output_type": "execute_result",
          "data": {
            "text/plain": [
              "<BarContainer object of 3 artists>"
            ]
          },
          "metadata": {},
          "execution_count": 331
        },
        {
          "output_type": "display_data",
          "data": {
            "image/png": "[encoded data removed]",
            "text/plain": [
              "<Figure size 432x288 with 1 Axes>"
            ]
          },
          "metadata": {
            "needs_background": "light"
          }
        }
      ]
    },
    {
      "cell_type": "markdown",
      "source": [
        "**Findings:  New Jersey has a majority neutral sentiment tweets from the dataframe. It has slightly more positive sentiment tweets than there are negative sentiment tweets.**"
      ],
      "metadata": {
        "id": "gTKvOef-K2xD"
      }
    },
    {
      "cell_type": "markdown",
      "source": [
        "## **Barplot for the Sentiments (New York)**"
      ],
      "metadata": {
        "id": "xfTDh6nvGpEf"
      }
    },
    {
      "cell_type": "code",
      "source": [
        "b=df_ny['Sentiments'].value_counts().reset_index()\n",
        "plt.title('NY number of tweets and sentiments')\n",
        "plt.xlabel('Emotions')\n",
        "plt.ylabel('Number of Tweets')\n",
        "plt.bar(x=b['index'], height=b['Sentiments'])"
      ],
      "metadata": {
        "colab": {
          "base_uri": "https://localhost:8080/",
          "height": 313
        },
        "outputId": "92417a60-918e-47d6-ba30-dc4ccdeed91c",
        "id": "xWd3sOCNGpEf"
      },
      "execution_count": 332,
      "outputs": [
        {
          "output_type": "execute_result",
          "data": {
            "text/plain": [
              "<BarContainer object of 3 artists>"
            ]
          },
          "metadata": {},
          "execution_count": 332
        },
        {
          "output_type": "display_data",
          "data": {
            "image/png": "[encoded data removed]",
            "text/plain": [
              "<Figure size 432x288 with 1 Axes>"
            ]
          },
          "metadata": {
            "needs_background": "light"
          }
        }
      ]
    },
    {
      "cell_type": "markdown",
      "source": [
        "**Findings: New York has a majority neutral sentiment tweets from the dataframe. It has more positive sentiment tweets than there are negative sentiment tweets.**"
      ],
      "metadata": {
        "id": "sBUwI5ghKtKp"
      }
    },
    {
      "cell_type": "code",
      "source": [
        "stat"
      ],
      "metadata": {
        "colab": {
          "base_uri": "https://localhost:8080/",
          "height": 423
        },
        "id": "9ieA79WcHN7E",
        "outputId": "aa93c5e3-8fc7-4eef-bd0a-2ab72ad68124"
      },
      "execution_count": 333,
      "outputs": [
        {
          "output_type": "execute_result",
          "data": {
            "text/html": [
              "<div>\n",
              "<style scoped>\n",
              "    .dataframe tbody tr th:only-of-type {\n",
              "        vertical-align: middle;\n",
              "    }\n",
              "\n",
              "    .dataframe tbody tr th {\n",
              "        vertical-align: top;\n",
              "    }\n",
              "\n",
              "    .dataframe thead th {\n",
              "        text-align: right;\n",
              "    }\n",
              "</style>\n",
              "<table border=\"1\" class=\"dataframe\">\n",
              "  <thead>\n",
              "    <tr style=\"text-align: right;\">\n",
              "      <th></th>\n",
              "      <th>date</th>\n",
              "      <th>state</th>\n",
              "      <th>fips</th>\n",
              "      <th>cases</th>\n",
              "      <th>deaths</th>\n",
              "    </tr>\n",
              "  </thead>\n",
              "  <tbody>\n",
              "    <tr>\n",
              "      <th>0</th>\n",
              "      <td>2020-01-21</td>\n",
              "      <td>Washington</td>\n",
              "      <td>53</td>\n",
              "      <td>1</td>\n",
              "      <td>0</td>\n",
              "    </tr>\n",
              "    <tr>\n",
              "      <th>1</th>\n",
              "      <td>2020-01-22</td>\n",
              "      <td>Washington</td>\n",
              "      <td>53</td>\n",
              "      <td>1</td>\n",
              "      <td>0</td>\n",
              "    </tr>\n",
              "    <tr>\n",
              "      <th>2</th>\n",
              "      <td>2020-01-23</td>\n",
              "      <td>Washington</td>\n",
              "      <td>53</td>\n",
              "      <td>1</td>\n",
              "      <td>0</td>\n",
              "    </tr>\n",
              "    <tr>\n",
              "      <th>3</th>\n",
              "      <td>2020-01-24</td>\n",
              "      <td>Illinois</td>\n",
              "      <td>17</td>\n",
              "      <td>1</td>\n",
              "      <td>0</td>\n",
              "    </tr>\n",
              "    <tr>\n",
              "      <th>4</th>\n",
              "      <td>2020-01-24</td>\n",
              "      <td>Washington</td>\n",
              "      <td>53</td>\n",
              "      <td>1</td>\n",
              "      <td>0</td>\n",
              "    </tr>\n",
              "    <tr>\n",
              "      <th>...</th>\n",
              "      <td>...</td>\n",
              "      <td>...</td>\n",
              "      <td>...</td>\n",
              "      <td>...</td>\n",
              "      <td>...</td>\n",
              "    </tr>\n",
              "    <tr>\n",
              "      <th>35673</th>\n",
              "      <td>2021-12-09</td>\n",
              "      <td>Virginia</td>\n",
              "      <td>51</td>\n",
              "      <td>991221</td>\n",
              "      <td>14868</td>\n",
              "    </tr>\n",
              "    <tr>\n",
              "      <th>35674</th>\n",
              "      <td>2021-12-09</td>\n",
              "      <td>Washington</td>\n",
              "      <td>53</td>\n",
              "      <td>791832</td>\n",
              "      <td>9584</td>\n",
              "    </tr>\n",
              "    <tr>\n",
              "      <th>35675</th>\n",
              "      <td>2021-12-09</td>\n",
              "      <td>West Virginia</td>\n",
              "      <td>54</td>\n",
              "      <td>304355</td>\n",
              "      <td>5055</td>\n",
              "    </tr>\n",
              "    <tr>\n",
              "      <th>35676</th>\n",
              "      <td>2021-12-09</td>\n",
              "      <td>Wisconsin</td>\n",
              "      <td>55</td>\n",
              "      <td>1017528</td>\n",
              "      <td>10330</td>\n",
              "    </tr>\n",
              "    <tr>\n",
              "      <th>35677</th>\n",
              "      <td>2021-12-09</td>\n",
              "      <td>Wyoming</td>\n",
              "      <td>56</td>\n",
              "      <td>112731</td>\n",
              "      <td>1472</td>\n",
              "    </tr>\n",
              "  </tbody>\n",
              "</table>\n",
              "<p>35678 rows × 5 columns</p>\n",
              "</div>"
            ],
            "text/plain": [
              "             date          state  fips    cases  deaths\n",
              "0      2020-01-21     Washington    53        1       0\n",
              "1      2020-01-22     Washington    53        1       0\n",
              "2      2020-01-23     Washington    53        1       0\n",
              "3      2020-01-24       Illinois    17        1       0\n",
              "4      2020-01-24     Washington    53        1       0\n",
              "...           ...            ...   ...      ...     ...\n",
              "35673  2021-12-09       Virginia    51   991221   14868\n",
              "35674  2021-12-09     Washington    53   791832    9584\n",
              "35675  2021-12-09  West Virginia    54   304355    5055\n",
              "35676  2021-12-09      Wisconsin    55  1017528   10330\n",
              "35677  2021-12-09        Wyoming    56   112731    1472\n",
              "\n",
              "[35678 rows x 5 columns]"
            ]
          },
          "metadata": {},
          "execution_count": 333
        }
      ]
    },
    {
      "cell_type": "code",
      "source": [
        "df1"
      ],
      "metadata": {
        "colab": {
          "base_uri": "https://localhost:8080/",
          "height": 423
        },
        "id": "fHKGpwAIHNwt",
        "outputId": "e8bfd215-68b5-43af-f3e6-7a2e60a5c005"
      },
      "execution_count": 334,
      "outputs": [
        {
          "output_type": "execute_result",
          "data": {
            "text/html": [
              "<div>\n",
              "<style scoped>\n",
              "    .dataframe tbody tr th:only-of-type {\n",
              "        vertical-align: middle;\n",
              "    }\n",
              "\n",
              "    .dataframe tbody tr th {\n",
              "        vertical-align: top;\n",
              "    }\n",
              "\n",
              "    .dataframe thead th {\n",
              "        text-align: right;\n",
              "    }\n",
              "</style>\n",
              "<table border=\"1\" class=\"dataframe\">\n",
              "  <thead>\n",
              "    <tr style=\"text-align: right;\">\n",
              "      <th></th>\n",
              "      <th>tweet</th>\n",
              "      <th>date</th>\n",
              "      <th>near</th>\n",
              "      <th>Sentiments</th>\n",
              "      <th>Polar</th>\n",
              "    </tr>\n",
              "  </thead>\n",
              "  <tbody>\n",
              "    <tr>\n",
              "      <th>0</th>\n",
              "      <td>havent slept 1 covidflu vax combo feel death 1...</td>\n",
              "      <td>2021-12-01 10:19:22</td>\n",
              "      <td>New Jersey</td>\n",
              "      <td>Positive</td>\n",
              "      <td>0.50</td>\n",
              "    </tr>\n",
              "    <tr>\n",
              "      <th>1</th>\n",
              "      <td>jeez glory holes arent safe covid</td>\n",
              "      <td>2021-12-01 09:52:13</td>\n",
              "      <td>New Jersey</td>\n",
              "      <td>Positive</td>\n",
              "      <td>0.50</td>\n",
              "    </tr>\n",
              "    <tr>\n",
              "      <th>2</th>\n",
              "      <td>supporting humanitarian scientific research im...</td>\n",
              "      <td>2021-12-01 08:45:03</td>\n",
              "      <td>New Jersey</td>\n",
              "      <td>Positive</td>\n",
              "      <td>0.32</td>\n",
              "    </tr>\n",
              "    <tr>\n",
              "      <th>3</th>\n",
              "      <td>hospitalization death covid facts straight mor...</td>\n",
              "      <td>2021-12-01 08:23:18</td>\n",
              "      <td>New Jersey</td>\n",
              "      <td>Positive</td>\n",
              "      <td>0.10</td>\n",
              "    </tr>\n",
              "    <tr>\n",
              "      <th>4</th>\n",
              "      <td>dude covid breath lungs sooooooooooo</td>\n",
              "      <td>2021-12-01 07:52:17</td>\n",
              "      <td>New Jersey</td>\n",
              "      <td>Neutral</td>\n",
              "      <td>0.00</td>\n",
              "    </tr>\n",
              "    <tr>\n",
              "      <th>...</th>\n",
              "      <td>...</td>\n",
              "      <td>...</td>\n",
              "      <td>...</td>\n",
              "      <td>...</td>\n",
              "      <td>...</td>\n",
              "    </tr>\n",
              "    <tr>\n",
              "      <th>13294</th>\n",
              "      <td>waiting longer doses covid19 vaccine build imm...</td>\n",
              "      <td>2021-11-30 04:00:21</td>\n",
              "      <td>New York</td>\n",
              "      <td>Neutral</td>\n",
              "      <td>0.00</td>\n",
              "    </tr>\n",
              "    <tr>\n",
              "      <th>13295</th>\n",
              "      <td>la iniciativa procura celebrar la importancia ...</td>\n",
              "      <td>2021-11-30 04:00:02</td>\n",
              "      <td>New York</td>\n",
              "      <td>Neutral</td>\n",
              "      <td>0.00</td>\n",
              "    </tr>\n",
              "    <tr>\n",
              "      <th>13296</th>\n",
              "      <td>world health organization omicron variant covi...</td>\n",
              "      <td>2021-11-30 04:00:01</td>\n",
              "      <td>New York</td>\n",
              "      <td>Positive</td>\n",
              "      <td>0.08</td>\n",
              "    </tr>\n",
              "    <tr>\n",
              "      <th>13297</th>\n",
              "      <td>presidente de frica ha denunciado las prohibic...</td>\n",
              "      <td>2021-11-30 04:00:00</td>\n",
              "      <td>New York</td>\n",
              "      <td>Neutral</td>\n",
              "      <td>0.00</td>\n",
              "    </tr>\n",
              "    <tr>\n",
              "      <th>13298</th>\n",
              "      <td>choose mandate children unvaccinated measles m...</td>\n",
              "      <td>2021-11-30 03:59:43</td>\n",
              "      <td>New York</td>\n",
              "      <td>Negative</td>\n",
              "      <td>-0.60</td>\n",
              "    </tr>\n",
              "  </tbody>\n",
              "</table>\n",
              "<p>13299 rows × 5 columns</p>\n",
              "</div>"
            ],
            "text/plain": [
              "                                                   tweet  ... Polar\n",
              "0      havent slept 1 covidflu vax combo feel death 1...  ...  0.50\n",
              "1                      jeez glory holes arent safe covid  ...  0.50\n",
              "2      supporting humanitarian scientific research im...  ...  0.32\n",
              "3      hospitalization death covid facts straight mor...  ...  0.10\n",
              "4                   dude covid breath lungs sooooooooooo  ...  0.00\n",
              "...                                                  ...  ...   ...\n",
              "13294  waiting longer doses covid19 vaccine build imm...  ...  0.00\n",
              "13295  la iniciativa procura celebrar la importancia ...  ...  0.00\n",
              "13296  world health organization omicron variant covi...  ...  0.08\n",
              "13297  presidente de frica ha denunciado las prohibic...  ...  0.00\n",
              "13298  choose mandate children unvaccinated measles m...  ... -0.60\n",
              "\n",
              "[13299 rows x 5 columns]"
            ]
          },
          "metadata": {},
          "execution_count": 334
        }
      ]
    },
    {
      "cell_type": "code",
      "source": [
        "import datetime\n",
        "lst=[]\n",
        "#df1['date'] = datetime.datetime.strptime(df1['date'], '%Y-%m-%d' )\n",
        "for i in range(len(df1)):\n",
        "  dat= datetime.datetime.strptime(df1['date'][i],  '%Y-%m-%d %H:%M:%S')\n",
        "  df1['date'][i]= dat.date()"
      ],
      "metadata": {
        "colab": {
          "base_uri": "https://localhost:8080/"
        },
        "id": "oa9Hes0AHNl0",
        "outputId": "d9b4fc93-cd46-4743-8768-b67354eaf8de"
      },
      "execution_count": 335,
      "outputs": [
        {
          "output_type": "stream",
          "name": "stderr",
          "text": [
            "/usr/local/lib/python3.7/dist-packages/ipykernel_launcher.py:6: SettingWithCopyWarning:\n",
            "\n",
            "\n",
            "A value is trying to be set on a copy of a slice from a DataFrame\n",
            "\n",
            "See the caveats in the documentation: https://pandas.pydata.org/pandas-docs/stable/user_guide/indexing.html#returning-a-view-versus-a-copy\n",
            "\n"
          ]
        }
      ]
    },
    {
      "cell_type": "code",
      "source": [
        "df1.sort_values(by='date').reset_index(drop=True)"
      ],
      "metadata": {
        "colab": {
          "base_uri": "https://localhost:8080/",
          "height": 423
        },
        "id": "HzsuO2R3HNcr",
        "outputId": "9301fe68-bd99-4cb9-c3e5-f47fb3498083"
      },
      "execution_count": 336,
      "outputs": [
        {
          "output_type": "execute_result",
          "data": {
            "text/html": [
              "<div>\n",
              "<style scoped>\n",
              "    .dataframe tbody tr th:only-of-type {\n",
              "        vertical-align: middle;\n",
              "    }\n",
              "\n",
              "    .dataframe tbody tr th {\n",
              "        vertical-align: top;\n",
              "    }\n",
              "\n",
              "    .dataframe thead th {\n",
              "        text-align: right;\n",
              "    }\n",
              "</style>\n",
              "<table border=\"1\" class=\"dataframe\">\n",
              "  <thead>\n",
              "    <tr style=\"text-align: right;\">\n",
              "      <th></th>\n",
              "      <th>tweet</th>\n",
              "      <th>date</th>\n",
              "      <th>near</th>\n",
              "      <th>Sentiments</th>\n",
              "      <th>Polar</th>\n",
              "    </tr>\n",
              "  </thead>\n",
              "  <tbody>\n",
              "    <tr>\n",
              "      <th>0</th>\n",
              "      <td>hoy toca ir madrid 19 en san fernando</td>\n",
              "      <td>2020-07-08</td>\n",
              "      <td>New Jersey</td>\n",
              "      <td>Neutral</td>\n",
              "      <td>0.00</td>\n",
              "    </tr>\n",
              "    <tr>\n",
              "      <th>1</th>\n",
              "      <td>covid putting pause construction back work com...</td>\n",
              "      <td>2020-07-11</td>\n",
              "      <td>New Jersey</td>\n",
              "      <td>Neutral</td>\n",
              "      <td>0.00</td>\n",
              "    </tr>\n",
              "    <tr>\n",
              "      <th>2</th>\n",
              "      <td>geera pork 19 couva</td>\n",
              "      <td>2020-07-21</td>\n",
              "      <td>New Jersey</td>\n",
              "      <td>Neutral</td>\n",
              "      <td>0.00</td>\n",
              "    </tr>\n",
              "    <tr>\n",
              "      <th>3</th>\n",
              "      <td>im midst covid19 chaos sun shines flowers bloo...</td>\n",
              "      <td>2020-08-02</td>\n",
              "      <td>New Jersey</td>\n",
              "      <td>Positive</td>\n",
              "      <td>0.80</td>\n",
              "    </tr>\n",
              "    <tr>\n",
              "      <th>4</th>\n",
              "      <td>wins general election 10th august 2020 love co...</td>\n",
              "      <td>2020-08-08</td>\n",
              "      <td>New Jersey</td>\n",
              "      <td>Positive</td>\n",
              "      <td>0.28</td>\n",
              "    </tr>\n",
              "    <tr>\n",
              "      <th>...</th>\n",
              "      <td>...</td>\n",
              "      <td>...</td>\n",
              "      <td>...</td>\n",
              "      <td>...</td>\n",
              "      <td>...</td>\n",
              "    </tr>\n",
              "    <tr>\n",
              "      <th>13294</th>\n",
              "      <td>nazi propaganda state media blames unvaccinate...</td>\n",
              "      <td>2021-12-01</td>\n",
              "      <td>New York</td>\n",
              "      <td>Negative</td>\n",
              "      <td>-0.07</td>\n",
              "    </tr>\n",
              "    <tr>\n",
              "      <th>13295</th>\n",
              "      <td>publicity stunt covid19 faxenews</td>\n",
              "      <td>2021-12-01</td>\n",
              "      <td>New York</td>\n",
              "      <td>Neutral</td>\n",
              "      <td>0.00</td>\n",
              "    </tr>\n",
              "    <tr>\n",
              "      <th>13296</th>\n",
              "      <td>300 school cases doe announced tonight school ...</td>\n",
              "      <td>2021-12-01</td>\n",
              "      <td>New York</td>\n",
              "      <td>Positive</td>\n",
              "      <td>0.40</td>\n",
              "    </tr>\n",
              "    <tr>\n",
              "      <th>13297</th>\n",
              "      <td>picking dead bodies city streets rapid test po...</td>\n",
              "      <td>2021-12-01</td>\n",
              "      <td>New York</td>\n",
              "      <td>Positive</td>\n",
              "      <td>0.01</td>\n",
              "    </tr>\n",
              "    <tr>\n",
              "      <th>13298</th>\n",
              "      <td>havent slept 1 covidflu vax combo feel death 1...</td>\n",
              "      <td>2021-12-01</td>\n",
              "      <td>New Jersey</td>\n",
              "      <td>Positive</td>\n",
              "      <td>0.50</td>\n",
              "    </tr>\n",
              "  </tbody>\n",
              "</table>\n",
              "<p>13299 rows × 5 columns</p>\n",
              "</div>"
            ],
            "text/plain": [
              "                                                   tweet  ... Polar\n",
              "0                  hoy toca ir madrid 19 en san fernando  ...  0.00\n",
              "1      covid putting pause construction back work com...  ...  0.00\n",
              "2                                    geera pork 19 couva  ...  0.00\n",
              "3      im midst covid19 chaos sun shines flowers bloo...  ...  0.80\n",
              "4      wins general election 10th august 2020 love co...  ...  0.28\n",
              "...                                                  ...  ...   ...\n",
              "13294  nazi propaganda state media blames unvaccinate...  ... -0.07\n",
              "13295                   publicity stunt covid19 faxenews  ...  0.00\n",
              "13296  300 school cases doe announced tonight school ...  ...  0.40\n",
              "13297  picking dead bodies city streets rapid test po...  ...  0.01\n",
              "13298  havent slept 1 covidflu vax combo feel death 1...  ...  0.50\n",
              "\n",
              "[13299 rows x 5 columns]"
            ]
          },
          "metadata": {},
          "execution_count": 336
        }
      ]
    },
    {
      "cell_type": "code",
      "source": [
        "a= ['New Jersey', 'Florida', 'Texas', 'New York']\n",
        "lst=[]\n",
        "for i in range(len(stat)):\n",
        "  if stat['state'][i] in a:\n",
        "    lst.append(i)\n",
        "df_stat= stat.iloc[lst].reset_index(drop=True)"
      ],
      "metadata": {
        "id": "GHYeyfbdJiq6"
      },
      "execution_count": 337,
      "outputs": []
    },
    {
      "cell_type": "code",
      "source": [
        "df_stat"
      ],
      "metadata": {
        "colab": {
          "base_uri": "https://localhost:8080/",
          "height": 423
        },
        "id": "m1L9JIH4LH8a",
        "outputId": "42757b98-5962-4286-ff4e-ef3638d372af"
      },
      "execution_count": 338,
      "outputs": [
        {
          "output_type": "execute_result",
          "data": {
            "text/html": [
              "<div>\n",
              "<style scoped>\n",
              "    .dataframe tbody tr th:only-of-type {\n",
              "        vertical-align: middle;\n",
              "    }\n",
              "\n",
              "    .dataframe tbody tr th {\n",
              "        vertical-align: top;\n",
              "    }\n",
              "\n",
              "    .dataframe thead th {\n",
              "        text-align: right;\n",
              "    }\n",
              "</style>\n",
              "<table border=\"1\" class=\"dataframe\">\n",
              "  <thead>\n",
              "    <tr style=\"text-align: right;\">\n",
              "      <th></th>\n",
              "      <th>date</th>\n",
              "      <th>state</th>\n",
              "      <th>fips</th>\n",
              "      <th>cases</th>\n",
              "      <th>deaths</th>\n",
              "    </tr>\n",
              "  </thead>\n",
              "  <tbody>\n",
              "    <tr>\n",
              "      <th>0</th>\n",
              "      <td>2020-02-12</td>\n",
              "      <td>Texas</td>\n",
              "      <td>48</td>\n",
              "      <td>1</td>\n",
              "      <td>0</td>\n",
              "    </tr>\n",
              "    <tr>\n",
              "      <th>1</th>\n",
              "      <td>2020-02-13</td>\n",
              "      <td>Texas</td>\n",
              "      <td>48</td>\n",
              "      <td>2</td>\n",
              "      <td>0</td>\n",
              "    </tr>\n",
              "    <tr>\n",
              "      <th>2</th>\n",
              "      <td>2020-02-14</td>\n",
              "      <td>Texas</td>\n",
              "      <td>48</td>\n",
              "      <td>2</td>\n",
              "      <td>0</td>\n",
              "    </tr>\n",
              "    <tr>\n",
              "      <th>3</th>\n",
              "      <td>2020-02-15</td>\n",
              "      <td>Texas</td>\n",
              "      <td>48</td>\n",
              "      <td>2</td>\n",
              "      <td>0</td>\n",
              "    </tr>\n",
              "    <tr>\n",
              "      <th>4</th>\n",
              "      <td>2020-02-16</td>\n",
              "      <td>Texas</td>\n",
              "      <td>48</td>\n",
              "      <td>2</td>\n",
              "      <td>0</td>\n",
              "    </tr>\n",
              "    <tr>\n",
              "      <th>...</th>\n",
              "      <td>...</td>\n",
              "      <td>...</td>\n",
              "      <td>...</td>\n",
              "      <td>...</td>\n",
              "      <td>...</td>\n",
              "    </tr>\n",
              "    <tr>\n",
              "      <th>2606</th>\n",
              "      <td>2021-12-08</td>\n",
              "      <td>Texas</td>\n",
              "      <td>48</td>\n",
              "      <td>4356555</td>\n",
              "      <td>74685</td>\n",
              "    </tr>\n",
              "    <tr>\n",
              "      <th>2607</th>\n",
              "      <td>2021-12-09</td>\n",
              "      <td>Florida</td>\n",
              "      <td>12</td>\n",
              "      <td>3708204</td>\n",
              "      <td>62007</td>\n",
              "    </tr>\n",
              "    <tr>\n",
              "      <th>2608</th>\n",
              "      <td>2021-12-09</td>\n",
              "      <td>New Jersey</td>\n",
              "      <td>34</td>\n",
              "      <td>1289542</td>\n",
              "      <td>28526</td>\n",
              "    </tr>\n",
              "    <tr>\n",
              "      <th>2609</th>\n",
              "      <td>2021-12-09</td>\n",
              "      <td>New York</td>\n",
              "      <td>36</td>\n",
              "      <td>2816974</td>\n",
              "      <td>57507</td>\n",
              "    </tr>\n",
              "    <tr>\n",
              "      <th>2610</th>\n",
              "      <td>2021-12-09</td>\n",
              "      <td>Texas</td>\n",
              "      <td>48</td>\n",
              "      <td>4360146</td>\n",
              "      <td>74767</td>\n",
              "    </tr>\n",
              "  </tbody>\n",
              "</table>\n",
              "<p>2611 rows × 5 columns</p>\n",
              "</div>"
            ],
            "text/plain": [
              "            date       state  fips    cases  deaths\n",
              "0     2020-02-12       Texas    48        1       0\n",
              "1     2020-02-13       Texas    48        2       0\n",
              "2     2020-02-14       Texas    48        2       0\n",
              "3     2020-02-15       Texas    48        2       0\n",
              "4     2020-02-16       Texas    48        2       0\n",
              "...          ...         ...   ...      ...     ...\n",
              "2606  2021-12-08       Texas    48  4356555   74685\n",
              "2607  2021-12-09     Florida    12  3708204   62007\n",
              "2608  2021-12-09  New Jersey    34  1289542   28526\n",
              "2609  2021-12-09    New York    36  2816974   57507\n",
              "2610  2021-12-09       Texas    48  4360146   74767\n",
              "\n",
              "[2611 rows x 5 columns]"
            ]
          },
          "metadata": {},
          "execution_count": 338
        }
      ]
    },
    {
      "cell_type": "markdown",
      "source": [
        "## **Barplot for the Sentiments (Texas)**"
      ],
      "metadata": {
        "id": "8HSVmPiBGY_Y"
      }
    },
    {
      "cell_type": "code",
      "source": [
        "b=df_tx['Sentiments'].value_counts().reset_index()\n",
        "plt.title('TX number of tweets and sentiments')\n",
        "plt.xlabel('Emotions')\n",
        "plt.ylabel('Number of Tweets')\n",
        "plt.bar(x=b['index'], height=b['Sentiments'])"
      ],
      "metadata": {
        "colab": {
          "base_uri": "https://localhost:8080/",
          "height": 313
        },
        "outputId": "79afc228-9934-4935-bcb1-f9af27b625ad",
        "id": "jJ2fiCPhGY_Z"
      },
      "execution_count": 339,
      "outputs": [
        {
          "output_type": "execute_result",
          "data": {
            "text/plain": [
              "<BarContainer object of 3 artists>"
            ]
          },
          "metadata": {},
          "execution_count": 339
        },
        {
          "output_type": "display_data",
          "data": {
            "image/png": "[encoded data removed]",
            "text/plain": [
              "<Figure size 432x288 with 1 Axes>"
            ]
          },
          "metadata": {
            "needs_background": "light"
          }
        }
      ]
    },
    {
      "cell_type": "markdown",
      "source": [
        "**Findings: Texas has a majority neutral sentiment tweets from the dataframe. It has slightly more negative sentiment tweets than there are positive sentiment tweets.**"
      ],
      "metadata": {
        "id": "QiUrq226KhBJ"
      }
    },
    {
      "cell_type": "markdown",
      "source": [
        "## **Barplot for the Sentiments (Florida)**"
      ],
      "metadata": {
        "id": "HOCiweeYEJ7c"
      }
    },
    {
      "cell_type": "code",
      "source": [
        "b=df_fl['Sentiments'].value_counts().reset_index()\n",
        "plt.title('FL number of tweets and sentiments')\n",
        "plt.xlabel('Emotions')\n",
        "plt.ylabel('Number of Tweets')\n",
        "plt.bar(x=b['index'], height=b['Sentiments'])"
      ],
      "metadata": {
        "colab": {
          "base_uri": "https://localhost:8080/",
          "height": 313
        },
        "outputId": "1d56e48d-4ede-4e6c-a461-7062257a9b5c",
        "id": "2So4nXkwEJ7d"
      },
      "execution_count": 340,
      "outputs": [
        {
          "output_type": "execute_result",
          "data": {
            "text/plain": [
              "<BarContainer object of 3 artists>"
            ]
          },
          "metadata": {},
          "execution_count": 340
        },
        {
          "output_type": "display_data",
          "data": {
            "image/png": "[encoded data removed]",
            "text/plain": [
              "<Figure size 432x288 with 1 Axes>"
            ]
          },
          "metadata": {
            "needs_background": "light"
          }
        }
      ]
    },
    {
      "cell_type": "markdown",
      "source": [
        "**Findings: Florida has a majority neutral sentiment tweets from the dataframe. It has slightly more positive sentiment tweets than there are negative sentiment tweets.**"
      ],
      "metadata": {
        "id": "82yRr-HTKBuK"
      }
    },
    {
      "cell_type": "markdown",
      "source": [
        "# **Total Covid Deaths Year to Date (Decemeber 4th)**\n",
        "\n",
        "---\n",
        "Source: https://github.com/nytimes/covid-19-data \n"
      ],
      "metadata": {
        "id": "W5KFdV7L5CCS"
      }
    },
    {
      "cell_type": "code",
      "source": [
        "import plotly.express as px\n",
        "fig = px.line(df_stat, x='date', y='deaths', color='state')\n",
        "fig.show()"
      ],
      "metadata": {
        "colab": {
          "base_uri": "https://localhost:8080/",
          "height": 542
        },
        "id": "MrjnaaU8MxR5",
        "outputId": "f904aeed-05ef-4d27-860c-2d3892d625e5"
      },
      "execution_count": 345,
      "outputs": [
        {
          "output_type": "display_data",
          "data": {
            "text/html": [
              "<html>\n",
              "<head><meta charset=\"utf-8\" /></head>\n",
              "<body>\n",
              "    <div>\n",
              "            <script src=\"https://cdnjs.cloudflare.com/ajax/libs/mathjax/2.7.5/MathJax.js?config=TeX-AMS-MML_SVG\"></script><script type=\"text/javascript\">if (window.MathJax) {MathJax.Hub.Config({SVG: {font: \"STIX-Web\"}});}</script>\n",
              "                <script type=\"text/javascript\">window.PlotlyConfig = {MathJaxConfig: 'local'};</script>\n",
              "        <script src=\"https://cdn.plot.ly/plotly-latest.min.js\"></script>    \n",
              "            <div id=\"7969ed4b-80ce-441c-ae9b-22c71dbd3948\" class=\"plotly-graph-div\" style=\"height:525px; width:100%;\"></div>\n",
              "            <script type=\"text/javascript\">\n",
              "                \n",
              "                    window.PLOTLYENV=window.PLOTLYENV || {};\n",
              "                    \n",
              "                if (document.getElementById(\"7969ed4b-80ce-441c-ae9b-22c71dbd3948\")) {\n",
              "                    Plotly.newPlot(\n",
              "                        '7969ed4b-80ce-441c-ae9b-22c71dbd3948',\n",
              "                        [{\"hoverlabel\": {\"namelength\": 0}, \"hovertemplate\": \"state=Texas<br>date=%{x}<br>deaths=%{y}\", \"legendgroup\": \"state=Texas\", \"line\": {\"color\": \"#636efa\", \"dash\": \"solid\"}, \"mode\": \"lines\", \"name\": \"state=Texas\", \"showlegend\": true, \"type\": \"scattergl\", \"x\": [\"2020-02-12\", \"2020-02-13\", \"2020-02-14\", \"2020-02-15\", \"2020-02-16\", \"2020-02-17\", \"2020-02-18\", \"2020-02-19\", \"2020-02-20\", \"2020-02-21\", \"2020-02-22\", \"2020-02-23\", \"2020-02-24\", \"2020-02-25\", \"2020-02-26\", \"2020-02-27\", \"2020-02-28\", \"2020-02-29\", \"2020-03-01\", \"2020-03-02\", \"2020-03-03\", \"2020-03-04\", \"2020-03-05\", \"2020-03-06\", \"2020-03-07\", \"2020-03-08\", \"2020-03-09\", \"2020-03-10\", \"2020-03-11\", \"2020-03-12\", \"2020-03-13\", \"2020-03-14\", \"2020-03-15\", \"2020-03-16\", \"2020-03-17\", \"2020-03-18\", \"2020-03-19\", \"2020-03-20\", \"2020-03-21\", \"2020-03-22\", \"2020-03-23\", \"2020-03-24\", \"2020-03-25\", \"2020-03-26\", \"2020-03-27\", \"2020-03-28\", \"2020-03-29\", \"2020-03-30\", \"2020-03-31\", \"2020-04-01\", \"2020-04-02\", \"2020-04-03\", \"2020-04-04\", \"2020-04-05\", \"2020-04-06\", \"2020-04-07\", \"2020-04-08\", \"2020-04-09\", \"2020-04-10\", \"2020-04-11\", \"2020-04-12\", \"2020-04-13\", \"2020-04-14\", \"2020-04-15\", \"2020-04-16\", \"2020-04-17\", \"2020-04-18\", \"2020-04-19\", \"2020-04-20\", \"2020-04-21\", \"2020-04-22\", \"2020-04-23\", \"2020-04-24\", \"2020-04-25\", \"2020-04-26\", \"2020-04-27\", \"2020-04-28\", \"2020-04-29\", \"2020-04-30\", \"2020-05-01\", \"2020-05-02\", \"2020-05-03\", \"2020-05-04\", \"2020-05-05\", \"2020-05-06\", \"2020-05-07\", \"2020-05-08\", \"2020-05-09\", \"2020-05-10\", \"2020-05-11\", \"2020-05-12\", \"2020-05-13\", \"2020-05-14\", \"2020-05-15\", \"2020-05-16\", \"2020-05-17\", \"2020-05-18\", \"2020-05-19\", \"2020-05-20\", \"2020-05-21\", \"2020-05-22\", \"2020-05-23\", \"2020-05-24\", \"2020-05-25\", \"2020-05-26\", \"2020-05-27\", \"2020-05-28\", \"2020-05-29\", \"2020-05-30\", \"2020-05-31\", \"2020-06-01\", \"2020-06-02\", \"2020-06-03\", \"2020-06-04\", \"2020-06-05\", \"2020-06-06\", \"2020-06-07\", \"2020-06-08\", \"2020-06-09\", \"2020-06-10\", \"2020-06-11\", \"2020-06-12\", \"2020-06-13\", \"2020-06-14\", \"2020-06-15\", \"2020-06-16\", \"2020-06-17\", \"2020-06-18\", \"2020-06-19\", \"2020-06-20\", \"2020-06-21\", \"2020-06-22\", \"2020-06-23\", \"2020-06-24\", \"2020-06-25\", \"2020-06-26\", \"2020-06-27\", \"2020-06-28\", \"2020-06-29\", \"2020-06-30\", \"2020-07-01\", \"2020-07-02\", \"2020-07-03\", \"2020-07-04\", \"2020-07-05\", \"2020-07-06\", \"2020-07-07\", \"2020-07-08\", \"2020-07-09\", \"2020-07-10\", \"2020-07-11\", \"2020-07-12\", \"2020-07-13\", \"2020-07-14\", \"2020-07-15\", \"2020-07-16\", \"2020-07-17\", \"2020-07-18\", \"2020-07-19\", \"2020-07-20\", \"2020-07-21\", \"2020-07-22\", \"2020-07-23\", \"2020-07-24\", \"2020-07-25\", \"2020-07-26\", \"2020-07-27\", \"2020-07-28\", \"2020-07-29\", \"2020-07-30\", \"2020-07-31\", \"2020-08-01\", \"2020-08-02\", \"2020-08-03\", \"2020-08-04\", \"2020-08-05\", \"2020-08-06\", \"2020-08-07\", \"2020-08-08\", \"2020-08-09\", \"2020-08-10\", \"2020-08-11\", \"2020-08-12\", \"2020-08-13\", \"2020-08-14\", \"2020-08-15\", \"2020-08-16\", \"2020-08-17\", \"2020-08-18\", \"2020-08-19\", \"2020-08-20\", \"2020-08-21\", \"2020-08-22\", \"2020-08-23\", \"2020-08-24\", \"2020-08-25\", \"2020-08-26\", \"2020-08-27\", \"2020-08-28\", \"2020-08-29\", \"2020-08-30\", \"2020-08-31\", \"2020-09-01\", \"2020-09-02\", \"2020-09-03\", \"2020-09-04\", \"2020-09-05\", \"2020-09-06\", \"2020-09-07\", \"2020-09-08\", \"2020-09-09\", \"2020-09-10\", \"2020-09-11\", \"2020-09-12\", \"2020-09-13\", \"2020-09-14\", \"2020-09-15\", \"2020-09-16\", \"2020-09-17\", \"2020-09-18\", \"2020-09-19\", \"2020-09-20\", \"2020-09-21\", \"2020-09-22\", \"2020-09-23\", \"2020-09-24\", \"2020-09-25\", \"2020-09-26\", \"2020-09-27\", \"2020-09-28\", \"2020-09-29\", \"2020-09-30\", \"2020-10-01\", \"2020-10-02\", \"2020-10-03\", \"2020-10-04\", \"2020-10-05\", \"2020-10-06\", \"2020-10-07\", \"2020-10-08\", \"2020-10-09\", \"2020-10-10\", \"2020-10-11\", \"2020-10-12\", \"2020-10-13\", \"2020-10-14\", \"2020-10-15\", \"2020-10-16\", \"2020-10-17\", \"2020-10-18\", \"2020-10-19\", \"2020-10-20\", \"2020-10-21\", \"2020-10-22\", \"2020-10-23\", \"2020-10-24\", \"2020-10-25\", \"2020-10-26\", \"2020-10-27\", \"2020-10-28\", \"2020-10-29\", \"2020-10-30\", \"2020-10-31\", \"2020-11-01\", \"2020-11-02\", \"2020-11-03\", \"2020-11-04\", \"2020-11-05\", \"2020-11-06\", \"2020-11-07\", \"2020-11-08\", \"2020-11-09\", \"2020-11-10\", \"2020-11-11\", \"2020-11-12\", \"2020-11-13\", \"2020-11-14\", \"2020-11-15\", \"2020-11-16\", \"2020-11-17\", \"2020-11-18\", \"2020-11-19\", \"2020-11-20\", \"2020-11-21\", \"2020-11-22\", \"2020-11-23\", \"2020-11-24\", \"2020-11-25\", \"2020-11-26\", \"2020-11-27\", \"2020-11-28\", \"2020-11-29\", \"2020-11-30\", \"2020-12-01\", \"2020-12-02\", \"2020-12-03\", \"2020-12-04\", \"2020-12-05\", \"2020-12-06\", \"2020-12-07\", \"2020-12-08\", \"2020-12-09\", \"2020-12-10\", \"2020-12-11\", \"2020-12-12\", \"2020-12-13\", \"2020-12-14\", \"2020-12-15\", \"2020-12-16\", \"2020-12-17\", \"2020-12-18\", \"2020-12-19\", \"2020-12-20\", \"2020-12-21\", \"2020-12-22\", \"2020-12-23\", \"2020-12-24\", \"2020-12-25\", \"2020-12-26\", \"2020-12-27\", \"2020-12-28\", \"2020-12-29\", \"2020-12-30\", \"2020-12-31\", \"2021-01-01\", \"2021-01-02\", \"2021-01-03\", \"2021-01-04\", \"2021-01-05\", \"2021-01-06\", \"2021-01-07\", \"2021-01-08\", \"2021-01-09\", \"2021-01-10\", \"2021-01-11\", \"2021-01-12\", \"2021-01-13\", \"2021-01-14\", \"2021-01-15\", \"2021-01-16\", \"2021-01-17\", \"2021-01-18\", \"2021-01-19\", \"2021-01-20\", \"2021-01-21\", \"2021-01-22\", \"2021-01-23\", \"2021-01-24\", \"2021-01-25\", \"2021-01-26\", \"2021-01-27\", \"2021-01-28\", \"2021-01-29\", \"2021-01-30\", \"2021-01-31\", \"2021-02-01\", \"2021-02-02\", \"2021-02-03\", \"2021-02-04\", \"2021-02-05\", \"2021-02-06\", \"2021-02-07\", \"2021-02-08\", \"2021-02-09\", \"2021-02-10\", \"2021-02-11\", \"2021-02-12\", \"2021-02-13\", \"2021-02-14\", \"2021-02-15\", \"2021-02-16\", \"2021-02-17\", \"2021-02-18\", \"2021-02-19\", \"2021-02-20\", \"2021-02-21\", \"2021-02-22\", \"2021-02-23\", \"2021-02-24\", \"2021-02-25\", \"2021-02-26\", \"2021-02-27\", \"2021-02-28\", \"2021-03-01\", \"2021-03-02\", \"2021-03-03\", \"2021-03-04\", \"2021-03-05\", \"2021-03-06\", \"2021-03-07\", \"2021-03-08\", \"2021-03-09\", \"2021-03-10\", \"2021-03-11\", \"2021-03-12\", \"2021-03-13\", \"2021-03-14\", \"2021-03-15\", \"2021-03-16\", \"2021-03-17\", \"2021-03-18\", \"2021-03-19\", \"2021-03-20\", \"2021-03-21\", \"2021-03-22\", \"2021-03-23\", \"2021-03-24\", \"2021-03-25\", \"2021-03-26\", \"2021-03-27\", \"2021-03-28\", \"2021-03-29\", \"2021-03-30\", \"2021-03-31\", \"2021-04-01\", \"2021-04-02\", \"2021-04-03\", \"2021-04-04\", \"2021-04-05\", \"2021-04-06\", \"2021-04-07\", \"2021-04-08\", \"2021-04-09\", \"2021-04-10\", \"2021-04-11\", \"2021-04-12\", \"2021-04-13\", \"2021-04-14\", \"2021-04-15\", \"2021-04-16\", \"2021-04-17\", \"2021-04-18\", \"2021-04-19\", \"2021-04-20\", \"2021-04-21\", \"2021-04-22\", \"2021-04-23\", \"2021-04-24\", \"2021-04-25\", \"2021-04-26\", \"2021-04-27\", \"2021-04-28\", \"2021-04-29\", \"2021-04-30\", \"2021-05-01\", \"2021-05-02\", \"2021-05-03\", \"2021-05-04\", \"2021-05-05\", \"2021-05-06\", \"2021-05-07\", \"2021-05-08\", \"2021-05-09\", \"2021-05-10\", \"2021-05-11\", \"2021-05-12\", \"2021-05-13\", \"2021-05-14\", \"2021-05-15\", \"2021-05-16\", \"2021-05-17\", \"2021-05-18\", \"2021-05-19\", \"2021-05-20\", \"2021-05-21\", \"2021-05-22\", \"2021-05-23\", \"2021-05-24\", \"2021-05-25\", \"2021-05-26\", \"2021-05-27\", \"2021-05-28\", \"2021-05-29\", \"2021-05-30\", \"2021-05-31\", \"2021-06-01\", \"2021-06-02\", \"2021-06-03\", \"2021-06-04\", \"2021-06-05\", \"2021-06-06\", \"2021-06-07\", \"2021-06-08\", \"2021-06-09\", \"2021-06-10\", \"2021-06-11\", \"2021-06-12\", \"2021-06-13\", \"2021-06-14\", \"2021-06-15\", \"2021-06-16\", \"2021-06-17\", \"2021-06-18\", \"2021-06-19\", \"2021-06-20\", \"2021-06-21\", \"2021-06-22\", \"2021-06-23\", \"2021-06-24\", \"2021-06-25\", \"2021-06-26\", \"2021-06-27\", \"2021-06-28\", \"2021-06-29\", \"2021-06-30\", \"2021-07-01\", \"2021-07-02\", \"2021-07-03\", \"2021-07-04\", \"2021-07-05\", \"2021-07-06\", \"2021-07-07\", \"2021-07-08\", \"2021-07-09\", \"2021-07-10\", \"2021-07-11\", \"2021-07-12\", \"2021-07-13\", \"2021-07-14\", \"2021-07-15\", \"2021-07-16\", \"2021-07-17\", \"2021-07-18\", \"2021-07-19\", \"2021-07-20\", \"2021-07-21\", \"2021-07-22\", \"2021-07-23\", \"2021-07-24\", \"2021-07-25\", \"2021-07-26\", \"2021-07-27\", \"2021-07-28\", \"2021-07-29\", \"2021-07-30\", \"2021-07-31\", \"2021-08-01\", \"2021-08-02\", \"2021-08-03\", \"2021-08-04\", \"2021-08-05\", \"2021-08-06\", \"2021-08-07\", \"2021-08-08\", \"2021-08-09\", \"2021-08-10\", \"2021-08-11\", \"2021-08-12\", \"2021-08-13\", \"2021-08-14\", \"2021-08-15\", \"2021-08-16\", \"2021-08-17\", \"2021-08-18\", \"2021-08-19\", \"2021-08-20\", \"2021-08-21\", \"2021-08-22\", \"2021-08-23\", \"2021-08-24\", \"2021-08-25\", \"2021-08-26\", \"2021-08-27\", \"2021-08-28\", \"2021-08-29\", \"2021-08-30\", \"2021-08-31\", \"2021-09-01\", \"2021-09-02\", \"2021-09-03\", \"2021-09-04\", \"2021-09-05\", \"2021-09-06\", \"2021-09-07\", \"2021-09-08\", \"2021-09-09\", \"2021-09-10\", \"2021-09-11\", \"2021-09-12\", \"2021-09-13\", \"2021-09-14\", \"2021-09-15\", \"2021-09-16\", \"2021-09-17\", \"2021-09-18\", \"2021-09-19\", \"2021-09-20\", \"2021-09-21\", \"2021-09-22\", \"2021-09-23\", \"2021-09-24\", \"2021-09-25\", \"2021-09-26\", \"2021-09-27\", \"2021-09-28\", \"2021-09-29\", \"2021-09-30\", \"2021-10-01\", \"2021-10-02\", \"2021-10-03\", \"2021-10-04\", \"2021-10-05\", \"2021-10-06\", \"2021-10-07\", \"2021-10-08\", \"2021-10-09\", \"2021-10-10\", \"2021-10-11\", \"2021-10-12\", \"2021-10-13\", \"2021-10-14\", \"2021-10-15\", \"2021-10-16\", \"2021-10-17\", \"2021-10-18\", \"2021-10-19\", \"2021-10-20\", \"2021-10-21\", \"2021-10-22\", \"2021-10-23\", \"2021-10-24\", \"2021-10-25\", \"2021-10-26\", \"2021-10-27\", \"2021-10-28\", \"2021-10-29\", \"2021-10-30\", \"2021-10-31\", \"2021-11-01\", \"2021-11-02\", \"2021-11-03\", \"2021-11-04\", \"2021-11-05\", \"2021-11-06\", \"2021-11-07\", \"2021-11-08\", \"2021-11-09\", \"2021-11-10\", \"2021-11-11\", \"2021-11-12\", \"2021-11-13\", \"2021-11-14\", \"2021-11-15\", \"2021-11-16\", \"2021-11-17\", \"2021-11-18\", \"2021-11-19\", \"2021-11-20\", \"2021-11-21\", \"2021-11-22\", \"2021-11-23\", \"2021-11-24\", \"2021-11-25\", \"2021-11-26\", \"2021-11-27\", \"2021-11-28\", \"2021-11-29\", \"2021-11-30\", \"2021-12-01\", \"2021-12-02\", \"2021-12-03\", \"2021-12-04\", \"2021-12-05\", \"2021-12-06\", \"2021-12-07\", \"2021-12-08\", \"2021-12-09\"], \"xaxis\": \"x\", \"y\": [0, 0, 0, 0, 0, 0, 0, 0, 0, 0, 0, 0, 0, 0, 0, 0, 0, 0, 0, 0, 0, 0, 0, 0, 0, 0, 0, 0, 0, 0, 0, 0, 0, 1, 1, 2, 4, 5, 5, 7, 7, 11, 13, 21, 25, 30, 35, 46, 57, 65, 80, 98, 124, 136, 159, 177, 195, 228, 249, 265, 288, 320, 365, 395, 428, 461, 487, 503, 523, 552, 571, 601, 625, 662, 676, 699, 738, 776, 828, 853, 875, 890, 914, 955, 985, 1016, 1059, 1086, 1110, 1137, 1169, 1205, 1256, 1300, 1330, 1356, 1362, 1405, 1443, 1480, 1498, 1522, 1533, 1536, 1552, 1598, 1618, 1645, 1676, 1683, 1695, 1732, 1766, 1793, 1821, 1840, 1846, 1856, 1886, 1916, 1942, 1965, 1989, 1995, 2018, 2057, 2099, 2137, 2168, 2186, 2195, 2213, 2246, 2292, 2321, 2362, 2398, 2408, 2430, 2482, 2518, 2562, 2609, 2646, 2666, 2726, 2816, 2935, 3037, 3129, 3206, 3246, 3313, 3449, 3590, 3744, 3889, 3972, 4033, 4160, 4319, 4522, 4714, 4876, 5002, 5090, 6292, 6518, 6834, 6987, 7273, 7477, 7520, 7697, 7951, 8152, 8400, 8680, 8885, 8984, 9064, 9311, 9645, 9879, 10195, 10379, 10498, 10559, 10798, 11043, 11248, 11483, 11650, 11760, 11824, 12012, 12212, 12444, 12615, 12733, 12807, 12857, 13004, 13185, 13387, 13516, 13660, 13739, 13781, 13855, 13986, 13998, 14279, 14384, 14458, 14508, 14661, 14803, 14909, 15037, 15124, 15159, 15212, 15322, 15455, 15587, 15637, 15792, 15831, 15898, 15994, 16102, 16220, 16307, 16440, 16471, 16519, 16622, 16747, 16853, 16955, 17019, 17047, 17073, 17165, 17276, 17362, 17454, 17518, 17541, 17564, 17644, 17743, 17760, 17874, 17998, 18042, 18077, 18155, 18251, 18372, 18477, 18549, 18582, 18626, 18722, 18870, 19000, 19125, 19219, 19256, 19298, 19423, 19544, 19705, 19917, 20035, 20110, 20157, 20278, 20471, 20689, 20872, 21004, 21083, 21144, 21338, 21536, 21709, 21762, 21847, 21900, 21968, 22204, 22422, 22645, 22890, 23111, 23187, 23258, 23439, 23727, 23967, 24208, 24400, 24501, 24582, 24796, 25078, 25336, 25608, 25841, 25948, 26164, 26363, 26624, 26879, 27042, 27062, 27110, 27245, 27499, 27821, 28155, 28434, 28508, 28554, 28681, 28949, 29278, 29645, 30109, 30441, 30599, 30720, 31017, 31396, 31819, 32212, 32581, 32747, 32858, 33176, 33632, 34075, 34496, 34859, 35050, 35236, 35544, 36024, 36434, 36804, 37096, 37242, 37405, 37760, 38203, 38610, 39039, 39330, 39490, 39655, 39973, 40297, 40661, 41063, 41320, 41440, 41484, 41546, 41650, 41764, 42000, 42202, 42321, 42484, 42728, 43053, 43350, 43633, 43772, 43949, 44078, 44353, 44627, 44920, 45195, 45381, 45446, 45570, 45754, 45956, 46168, 46391, 46532, 46588, 46690, 46824, 46997, 47196, 47362, 47459, 47504, 47613, 47698, 47861, 47990, 48123, 48209, 48260, 48306, 48417, 48537, 48651, 48752, 48828, 48848, 48878, 48965, 49073, 49171, 49277, 49342, 49366, 49390, 49453, 49521, 49604, 49673, 49723, 49756, 49777, 49826, 49913, 49981, 50045, 50087, 50100, 50133, 50193, 50271, 50336, 50403, 50455, 50470, 50484, 50567, 50626, 50690, 50748, 50786, 50803, 50828, 50883, 50953, 51003, 51068, 51105, 51105, 51139, 51180, 51238, 51283, 51326, 51366, 51381, 51410, 51453, 51516, 51572, 51625, 51660, 51672, 51673, 51689, 51741, 51798, 51845, 51874, 51891, 51908, 51949, 51986, 52019, 52064, 52096, 52105, 52116, 52147, 52185, 52219, 52266, 52281, 52292, 52300, 52328, 52363, 52396, 52426, 52449, 52458, 52464, 52494, 52518, 52554, 52597, 52621, 52634, 52634, 52656, 52681, 52715, 52751, 52768, 52772, 52796, 52824, 52855, 52892, 52919, 52947, 52956, 52966, 52992, 53035, 53070, 53118, 53141, 53156, 53171, 53210, 53275, 53309, 53367, 53402, 53420, 53450, 53514, 53579, 53656, 53730, 53788, 53816, 53853, 53953, 54061, 54200, 54345, 54441, 54488, 54537, 54643, 54819, 55031, 55229, 55390, 55450, 55509, 55719, 55967, 56228, 56519, 56741, 56850, 56975, 57205, 57533, 57869, 58157, 58422, 58572, 58619, 58788, 59090, 59492, 59905, 60221, 60357, 60475, 60790, 61207, 61573, 61931, 62226, 62323, 62432, 62778, 63162, 63608, 64016, 64274, 64419, 64538, 64806, 65191, 65532, 65858, 66106, 66234, 66367, 66638, 67015, 67267, 67659, 67889, 67994, 68057, 68287, 68587, 68811, 69071, 69273, 69373, 69442, 69649, 69904, 70128, 70355, 70531, 70593, 70665, 70815, 71052, 71214, 71404, 71465, 71517, 71587, 71708, 71862, 71987, 72125, 72235, 72278, 72337, 72439, 72462, 72744, 73014, 73082, 73110, 73160, 73235, 73357, 73497, 73591, 73664, 73689, 73736, 73832, 73921, 73922, 73923, 73923, 73923, 74069, 74145, 74244, 74346, 74422, 74485, 74512, 74532, 74589, 74685, 74767], \"yaxis\": \"y\"}, {\"hoverlabel\": {\"namelength\": 0}, \"hovertemplate\": \"state=Florida<br>date=%{x}<br>deaths=%{y}\", \"legendgroup\": \"state=Florida\", \"line\": {\"color\": \"#EF553B\", \"dash\": \"solid\"}, \"mode\": \"lines\", \"name\": \"state=Florida\", \"showlegend\": true, \"type\": \"scattergl\", \"x\": [\"2020-03-01\", \"2020-03-02\", \"2020-03-03\", \"2020-03-04\", \"2020-03-05\", \"2020-03-06\", \"2020-03-07\", \"2020-03-08\", \"2020-03-09\", \"2020-03-10\", \"2020-03-11\", \"2020-03-12\", \"2020-03-13\", \"2020-03-14\", \"2020-03-15\", \"2020-03-16\", \"2020-03-17\", \"2020-03-18\", \"2020-03-19\", \"2020-03-20\", \"2020-03-21\", \"2020-03-22\", \"2020-03-23\", \"2020-03-24\", \"2020-03-25\", \"2020-03-26\", \"2020-03-27\", \"2020-03-28\", \"2020-03-29\", \"2020-03-30\", \"2020-03-31\", \"2020-04-01\", \"2020-04-02\", \"2020-04-03\", \"2020-04-04\", \"2020-04-05\", \"2020-04-06\", \"2020-04-07\", \"2020-04-08\", \"2020-04-09\", \"2020-04-10\", \"2020-04-11\", \"2020-04-12\", \"2020-04-13\", \"2020-04-14\", \"2020-04-15\", \"2020-04-16\", \"2020-04-17\", \"2020-04-18\", \"2020-04-19\", \"2020-04-20\", \"2020-04-21\", \"2020-04-22\", \"2020-04-23\", \"2020-04-24\", \"2020-04-25\", \"2020-04-26\", \"2020-04-27\", \"2020-04-28\", \"2020-04-29\", \"2020-04-30\", \"2020-05-01\", \"2020-05-02\", \"2020-05-03\", \"2020-05-04\", \"2020-05-05\", \"2020-05-06\", \"2020-05-07\", \"2020-05-08\", \"2020-05-09\", \"2020-05-10\", \"2020-05-11\", \"2020-05-12\", \"2020-05-13\", \"2020-05-14\", \"2020-05-15\", \"2020-05-16\", \"2020-05-17\", \"2020-05-18\", \"2020-05-19\", \"2020-05-20\", \"2020-05-21\", \"2020-05-22\", \"2020-05-23\", \"2020-05-24\", \"2020-05-25\", \"2020-05-26\", \"2020-05-27\", \"2020-05-28\", \"2020-05-29\", \"2020-05-30\", \"2020-05-31\", \"2020-06-01\", \"2020-06-02\", \"2020-06-03\", \"2020-06-04\", \"2020-06-05\", \"2020-06-06\", \"2020-06-07\", \"2020-06-08\", \"2020-06-09\", \"2020-06-10\", \"2020-06-11\", \"2020-06-12\", \"2020-06-13\", \"2020-06-14\", \"2020-06-15\", \"2020-06-16\", \"2020-06-17\", \"2020-06-18\", \"2020-06-19\", \"2020-06-20\", \"2020-06-21\", \"2020-06-22\", \"2020-06-23\", \"2020-06-24\", \"2020-06-25\", \"2020-06-26\", \"2020-06-27\", \"2020-06-28\", \"2020-06-29\", \"2020-06-30\", \"2020-07-01\", \"2020-07-02\", \"2020-07-03\", \"2020-07-04\", \"2020-07-05\", \"2020-07-06\", \"2020-07-07\", \"2020-07-08\", \"2020-07-09\", \"2020-07-10\", \"2020-07-11\", \"2020-07-12\", \"2020-07-13\", \"2020-07-14\", \"2020-07-15\", \"2020-07-16\", \"2020-07-17\", \"2020-07-18\", \"2020-07-19\", \"2020-07-20\", \"2020-07-21\", \"2020-07-22\", \"2020-07-23\", \"2020-07-24\", \"2020-07-25\", \"2020-07-26\", \"2020-07-27\", \"2020-07-28\", \"2020-07-29\", \"2020-07-30\", \"2020-07-31\", \"2020-08-01\", \"2020-08-02\", \"2020-08-03\", \"2020-08-04\", \"2020-08-05\", \"2020-08-06\", \"2020-08-07\", \"2020-08-08\", \"2020-08-09\", \"2020-08-10\", \"2020-08-11\", \"2020-08-12\", \"2020-08-13\", \"2020-08-14\", \"2020-08-15\", \"2020-08-16\", \"2020-08-17\", \"2020-08-18\", \"2020-08-19\", \"2020-08-20\", \"2020-08-21\", \"2020-08-22\", \"2020-08-23\", \"2020-08-24\", \"2020-08-25\", \"2020-08-26\", \"2020-08-27\", \"2020-08-28\", \"2020-08-29\", \"2020-08-30\", \"2020-08-31\", \"2020-09-01\", \"2020-09-02\", \"2020-09-03\", \"2020-09-04\", \"2020-09-05\", \"2020-09-06\", \"2020-09-07\", \"2020-09-08\", \"2020-09-09\", \"2020-09-10\", \"2020-09-11\", \"2020-09-12\", \"2020-09-13\", \"2020-09-14\", \"2020-09-15\", \"2020-09-16\", \"2020-09-17\", \"2020-09-18\", \"2020-09-19\", \"2020-09-20\", \"2020-09-21\", \"2020-09-22\", \"2020-09-23\", \"2020-09-24\", \"2020-09-25\", \"2020-09-26\", \"2020-09-27\", \"2020-09-28\", \"2020-09-29\", \"2020-09-30\", \"2020-10-01\", \"2020-10-02\", \"2020-10-03\", \"2020-10-04\", \"2020-10-05\", \"2020-10-06\", \"2020-10-07\", \"2020-10-08\", \"2020-10-09\", \"2020-10-10\", \"2020-10-11\", \"2020-10-12\", \"2020-10-13\", \"2020-10-14\", \"2020-10-15\", \"2020-10-16\", \"2020-10-17\", \"2020-10-18\", \"2020-10-19\", \"2020-10-20\", \"2020-10-21\", \"2020-10-22\", \"2020-10-23\", \"2020-10-24\", \"2020-10-25\", \"2020-10-26\", \"2020-10-27\", \"2020-10-28\", \"2020-10-29\", \"2020-10-30\", \"2020-10-31\", \"2020-11-01\", \"2020-11-02\", \"2020-11-03\", \"2020-11-04\", \"2020-11-05\", \"2020-11-06\", \"2020-11-07\", \"2020-11-08\", \"2020-11-09\", \"2020-11-10\", \"2020-11-11\", \"2020-11-12\", \"2020-11-13\", \"2020-11-14\", \"2020-11-15\", \"2020-11-16\", \"2020-11-17\", \"2020-11-18\", \"2020-11-19\", \"2020-11-20\", \"2020-11-21\", \"2020-11-22\", \"2020-11-23\", \"2020-11-24\", \"2020-11-25\", \"2020-11-26\", \"2020-11-27\", \"2020-11-28\", \"2020-11-29\", \"2020-11-30\", \"2020-12-01\", \"2020-12-02\", \"2020-12-03\", \"2020-12-04\", \"2020-12-05\", \"2020-12-06\", \"2020-12-07\", \"2020-12-08\", \"2020-12-09\", \"2020-12-10\", \"2020-12-11\", \"2020-12-12\", \"2020-12-13\", \"2020-12-14\", \"2020-12-15\", \"2020-12-16\", \"2020-12-17\", \"2020-12-18\", \"2020-12-19\", \"2020-12-20\", \"2020-12-21\", \"2020-12-22\", \"2020-12-23\", \"2020-12-24\", \"2020-12-25\", \"2020-12-26\", \"2020-12-27\", \"2020-12-28\", \"2020-12-29\", \"2020-12-30\", \"2020-12-31\", \"2021-01-01\", \"2021-01-02\", \"2021-01-03\", \"2021-01-04\", \"2021-01-05\", \"2021-01-06\", \"2021-01-07\", \"2021-01-08\", \"2021-01-09\", \"2021-01-10\", \"2021-01-11\", \"2021-01-12\", \"2021-01-13\", \"2021-01-14\", \"2021-01-15\", \"2021-01-16\", \"2021-01-17\", \"2021-01-18\", \"2021-01-19\", \"2021-01-20\", \"2021-01-21\", \"2021-01-22\", \"2021-01-23\", \"2021-01-24\", \"2021-01-25\", \"2021-01-26\", \"2021-01-27\", \"2021-01-28\", \"2021-01-29\", \"2021-01-30\", \"2021-01-31\", \"2021-02-01\", \"2021-02-02\", \"2021-02-03\", \"2021-02-04\", \"2021-02-05\", \"2021-02-06\", \"2021-02-07\", \"2021-02-08\", \"2021-02-09\", \"2021-02-10\", \"2021-02-11\", \"2021-02-12\", \"2021-02-13\", \"2021-02-14\", \"2021-02-15\", \"2021-02-16\", \"2021-02-17\", \"2021-02-18\", \"2021-02-19\", \"2021-02-20\", \"2021-02-21\", \"2021-02-22\", \"2021-02-23\", \"2021-02-24\", \"2021-02-25\", \"2021-02-26\", \"2021-02-27\", \"2021-02-28\", \"2021-03-01\", \"2021-03-02\", \"2021-03-03\", \"2021-03-04\", \"2021-03-05\", \"2021-03-06\", \"2021-03-07\", \"2021-03-08\", \"2021-03-09\", \"2021-03-10\", \"2021-03-11\", \"2021-03-12\", \"2021-03-13\", \"2021-03-14\", \"2021-03-15\", \"2021-03-16\", \"2021-03-17\", \"2021-03-18\", \"2021-03-19\", \"2021-03-20\", \"2021-03-21\", \"2021-03-22\", \"2021-03-23\", \"2021-03-24\", \"2021-03-25\", \"2021-03-26\", \"2021-03-27\", \"2021-03-28\", \"2021-03-29\", \"2021-03-30\", \"2021-03-31\", \"2021-04-01\", \"2021-04-02\", \"2021-04-03\", \"2021-04-04\", \"2021-04-05\", \"2021-04-06\", \"2021-04-07\", \"2021-04-08\", \"2021-04-09\", \"2021-04-10\", \"2021-04-11\", \"2021-04-12\", \"2021-04-13\", \"2021-04-14\", \"2021-04-15\", \"2021-04-16\", \"2021-04-17\", \"2021-04-18\", \"2021-04-19\", \"2021-04-20\", \"2021-04-21\", \"2021-04-22\", \"2021-04-23\", \"2021-04-24\", \"2021-04-25\", \"2021-04-26\", \"2021-04-27\", \"2021-04-28\", \"2021-04-29\", \"2021-04-30\", \"2021-05-01\", \"2021-05-02\", \"2021-05-03\", \"2021-05-04\", \"2021-05-05\", \"2021-05-06\", \"2021-05-07\", \"2021-05-08\", \"2021-05-09\", \"2021-05-10\", \"2021-05-11\", \"2021-05-12\", \"2021-05-13\", \"2021-05-14\", \"2021-05-15\", \"2021-05-16\", \"2021-05-17\", \"2021-05-18\", \"2021-05-19\", \"2021-05-20\", \"2021-05-21\", \"2021-05-22\", \"2021-05-23\", \"2021-05-24\", \"2021-05-25\", \"2021-05-26\", \"2021-05-27\", \"2021-05-28\", \"2021-05-29\", \"2021-05-30\", \"2021-05-31\", \"2021-06-01\", \"2021-06-02\", \"2021-06-03\", \"2021-06-04\", \"2021-06-05\", \"2021-06-06\", \"2021-06-07\", \"2021-06-08\", \"2021-06-09\", \"2021-06-10\", \"2021-06-11\", \"2021-06-12\", \"2021-06-13\", \"2021-06-14\", \"2021-06-15\", \"2021-06-16\", \"2021-06-17\", \"2021-06-18\", \"2021-06-19\", \"2021-06-20\", \"2021-06-21\", \"2021-06-22\", \"2021-06-23\", \"2021-06-24\", \"2021-06-25\", \"2021-06-26\", \"2021-06-27\", \"2021-06-28\", \"2021-06-29\", \"2021-06-30\", \"2021-07-01\", \"2021-07-02\", \"2021-07-03\", \"2021-07-04\", \"2021-07-05\", \"2021-07-06\", \"2021-07-07\", \"2021-07-08\", \"2021-07-09\", \"2021-07-10\", \"2021-07-11\", \"2021-07-12\", \"2021-07-13\", \"2021-07-14\", \"2021-07-15\", \"2021-07-16\", \"2021-07-17\", \"2021-07-18\", \"2021-07-19\", \"2021-07-20\", \"2021-07-21\", \"2021-07-22\", \"2021-07-23\", \"2021-07-24\", \"2021-07-25\", \"2021-07-26\", \"2021-07-27\", \"2021-07-28\", \"2021-07-29\", \"2021-07-30\", \"2021-07-31\", \"2021-08-01\", \"2021-08-02\", \"2021-08-03\", \"2021-08-04\", \"2021-08-05\", \"2021-08-06\", \"2021-08-07\", \"2021-08-08\", \"2021-08-09\", \"2021-08-10\", \"2021-08-11\", \"2021-08-12\", \"2021-08-13\", \"2021-08-14\", \"2021-08-15\", \"2021-08-16\", \"2021-08-17\", \"2021-08-18\", \"2021-08-19\", \"2021-08-20\", \"2021-08-21\", \"2021-08-22\", \"2021-08-23\", \"2021-08-24\", \"2021-08-25\", \"2021-08-26\", \"2021-08-27\", \"2021-08-28\", \"2021-08-29\", \"2021-08-30\", \"2021-08-31\", \"2021-09-01\", \"2021-09-02\", \"2021-09-03\", \"2021-09-04\", \"2021-09-05\", \"2021-09-06\", \"2021-09-07\", \"2021-09-08\", \"2021-09-09\", \"2021-09-10\", \"2021-09-11\", \"2021-09-12\", \"2021-09-13\", \"2021-09-14\", \"2021-09-15\", \"2021-09-16\", \"2021-09-17\", \"2021-09-18\", \"2021-09-19\", \"2021-09-20\", \"2021-09-21\", \"2021-09-22\", \"2021-09-23\", \"2021-09-24\", \"2021-09-25\", \"2021-09-26\", \"2021-09-27\", \"2021-09-28\", \"2021-09-29\", \"2021-09-30\", \"2021-10-01\", \"2021-10-02\", \"2021-10-03\", \"2021-10-04\", \"2021-10-05\", \"2021-10-06\", \"2021-10-07\", \"2021-10-08\", \"2021-10-09\", \"2021-10-10\", \"2021-10-11\", \"2021-10-12\", \"2021-10-13\", \"2021-10-14\", \"2021-10-15\", \"2021-10-16\", \"2021-10-17\", \"2021-10-18\", \"2021-10-19\", \"2021-10-20\", \"2021-10-21\", \"2021-10-22\", \"2021-10-23\", \"2021-10-24\", \"2021-10-25\", \"2021-10-26\", \"2021-10-27\", \"2021-10-28\", \"2021-10-29\", \"2021-10-30\", \"2021-10-31\", \"2021-11-01\", \"2021-11-02\", \"2021-11-03\", \"2021-11-04\", \"2021-11-05\", \"2021-11-06\", \"2021-11-07\", \"2021-11-08\", \"2021-11-09\", \"2021-11-10\", \"2021-11-11\", \"2021-11-12\", \"2021-11-13\", \"2021-11-14\", \"2021-11-15\", \"2021-11-16\", \"2021-11-17\", \"2021-11-18\", \"2021-11-19\", \"2021-11-20\", \"2021-11-21\", \"2021-11-22\", \"2021-11-23\", \"2021-11-24\", \"2021-11-25\", \"2021-11-26\", \"2021-11-27\", \"2021-11-28\", \"2021-11-29\", \"2021-11-30\", \"2021-12-01\", \"2021-12-02\", \"2021-12-03\", \"2021-12-04\", \"2021-12-05\", \"2021-12-06\", \"2021-12-07\", \"2021-12-08\", \"2021-12-09\"], \"xaxis\": \"x\", \"y\": [0, 0, 0, 0, 0, 2, 2, 2, 2, 2, 2, 2, 2, 3, 3, 4, 6, 7, 8, 9, 11, 13, 18, 20, 23, 29, 46, 56, 60, 72, 85, 100, 144, 169, 194, 220, 253, 295, 322, 370, 418, 445, 460, 498, 570, 613, 667, 725, 747, 773, 822, 866, 926, 986, 1045, 1054, 1073, 1087, 1170, 1216, 1267, 1313, 1363, 1378, 1398, 1470, 1538, 1599, 1668, 1714, 1720, 1734, 1778, 1826, 1874, 1916, 1963, 1972, 1996, 2051, 2095, 2143, 2189, 2232, 2236, 2251, 2258, 2318, 2363, 2412, 2446, 2450, 2459, 2529, 2565, 2606, 2659, 2687, 2699, 2711, 2764, 2800, 2847, 2876, 2924, 2930, 2937, 2992, 3017, 3060, 3103, 3143, 3160, 3172, 3237, 3280, 3326, 3365, 3389, 3418, 3446, 3504, 3549, 3616, 3683, 3701, 3730, 3777, 3840, 3888, 4008, 4101, 4196, 4241, 4276, 4408, 4520, 4676, 4804, 4894, 4981, 5071, 5205, 5344, 5517, 5652, 5776, 5853, 5930, 6116, 6332, 6585, 6842, 7021, 7083, 7156, 7401, 7626, 7746, 7926, 8108, 8185, 8276, 8552, 8764, 8912, 9140, 9344, 9451, 9538, 9757, 9931, 10048, 10167, 10273, 10324, 10396, 10579, 10732, 10867, 10956, 11104, 11118, 11186, 11373, 11500, 11649, 11749, 11810, 11848, 11870, 11914, 12114, 12325, 12501, 12599, 12607, 12641, 12786, 12938, 13085, 13224, 13286, 13295, 13316, 13415, 13617, 13794, 13914, 14021, 14031, 14036, 14142, 14316, 14443, 14553, 14627, 14670, 14711, 14766, 14903, 15067, 15185, 15185, 15363, 15411, 15530, 15594, 15735, 15829, 15916, 15966, 16020, 16104, 16209, 16266, 16339, 16416, 16428, 16448, 16504, 16570, 16647, 16719, 16760, 16788, 16833, 16889, 16921, 16960, 17013, 17099, 17120, 17178, 17247, 17299, 17371, 17444, 17488, 17517, 17558, 17643, 17730, 17809, 17888, 17929, 17990, 18084, 18156, 18253, 18253, 18362, 18441, 18499, 18596, 18678, 18775, 18873, 18993, 19083, 19176, 19281, 19377, 19461, 19590, 19713, 19784, 19865, 20002, 20081, 20203, 20304, 20400, 20472, 20567, 20679, 20753, 20873, 20994, 20994, 21134, 21211, 21307, 21408, 21545, 21672, 21672, 21889, 21986, 22089, 22187, 22316, 22480, 22665, 22803, 22911, 23070, 23226, 23395, 23612, 23798, 24003, 24136, 24273, 24435, 24577, 24738, 25010, 25163, 25292, 25445, 25672, 25832, 26034, 26253, 26359, 26478, 26684, 26821, 27018, 27246, 27456, 27598, 27695, 27814, 28047, 28207, 28381, 28564, 28682, 28778, 28933, 29153, 29310, 29473, 29691, 29812, 29905, 30064, 30212, 30339, 30477, 30623, 30733, 30851, 30998, 31134, 31266, 31386, 31521, 31619, 31682, 31763, 31888, 31947, 32039, 32144, 32224, 32254, 32347, 32448, 32503, 32597, 32650, 32712, 32741, 32778, 32819, 32849, 32956, 33115, 33141, 33177, 33246, 33337, 33424, 33493, 33585, 33651, 33673, 33709, 33779, 33821, 33905, 33967, 34013, 34020, 34055, 34119, 34163, 34237, 34329, 34403, 34438, 34470, 34532, 34615, 34695, 34758, 34811, 34847, 34911, 34957, 35029, 35083, 35160, 35238, 35267, 35306, 35398, 35477, 35548, 35634, 35699, 35730, 35782, 35830, 35881, 35928, 35999, 36055, 36074, 36132, 36226, 36270, 36346, 36440, 36462, 36473, 36500, 36580, 36646, 36732, 36773, 36773, 36773, 36773, 36868, 36923, 36972, 36985, 36985, 36985, 37025, 37025, 37161, 37206, 37265, 37265, 37265, 37330, 37393, 37448, 37448, 37555, 37555, 37555, 37585, 37656, 37678, 37705, 37772, 37772, 37772, 37772, 37836, 37877, 37913, 37985, 37985, 37985, 37985, 37985, 37985, 38097, 38157, 38157, 38157, 38157, 38211, 38282, 38327, 38388, 38395, 38395, 38395, 38422, 38480, 38566, 38670, 38670, 38670, 38670, 38748, 38840, 38896, 39079, 39079, 39079, 39079, 39179, 39319, 39403, 39695, 39695, 39695, 39934, 40167, 40171, 40528, 40766, 40766, 40766, 41123, 41130, 41138, 41937, 42252, 42252, 42252, 42716, 42722, 42731, 43632, 43979, 43979, 43979, 44553, 44561, 44571, 45909, 46324, 46324, 46324, 46324, 46973, 46977, 48273, 48772, 48772, 48772, 48772, 49254, 49257, 50811, 51240, 51240, 51240, 51884, 51889, 51892, 53105, 53580, 53580, 53580, 54063, 54067, 54071, 55009, 55299, 55299, 55300, 55619, 55622, 55625, 56407, 56667, 56667, 56667, 56667, 57300, 57303, 57711, 57859, 57859, 57859, 58142, 58143, 58143, 58608, 58803, 58803, 58803, 58933, 58933, 58933, 59495, 59670, 59670, 59670, 59670, 59670, 59670, 59670, 60334, 60334, 60334, 60418, 60418, 60418, 60418, 60697, 60698, 60698, 60845, 60846, 60846, 60846, 61081, 61081, 61081, 61147, 61147, 61147, 61147, 61147, 61147, 61147, 61538, 61548, 61548, 61630, 61701, 61701, 61701, 61789, 61789, 61789, 62007], \"yaxis\": \"y\"}, {\"hoverlabel\": {\"namelength\": 0}, \"hovertemplate\": \"state=New York<br>date=%{x}<br>deaths=%{y}\", \"legendgroup\": \"state=New York\", \"line\": {\"color\": \"#00cc96\", \"dash\": \"solid\"}, \"mode\": \"lines\", \"name\": \"state=New York\", \"showlegend\": true, \"type\": \"scattergl\", \"x\": [\"2020-03-01\", \"2020-03-02\", \"2020-03-03\", \"2020-03-04\", \"2020-03-05\", \"2020-03-06\", \"2020-03-07\", \"2020-03-08\", \"2020-03-09\", \"2020-03-10\", \"2020-03-11\", \"2020-03-12\", \"2020-03-13\", \"2020-03-14\", \"2020-03-15\", \"2020-03-16\", \"2020-03-17\", \"2020-03-18\", \"2020-03-19\", \"2020-03-20\", \"2020-03-21\", \"2020-03-22\", \"2020-03-23\", \"2020-03-24\", \"2020-03-25\", \"2020-03-26\", \"2020-03-27\", \"2020-03-28\", \"2020-03-29\", \"2020-03-30\", \"2020-03-31\", \"2020-04-01\", \"2020-04-02\", \"2020-04-03\", \"2020-04-04\", \"2020-04-05\", \"2020-04-06\", \"2020-04-07\", \"2020-04-08\", \"2020-04-09\", \"2020-04-10\", \"2020-04-11\", \"2020-04-12\", \"2020-04-13\", \"2020-04-14\", \"2020-04-15\", \"2020-04-16\", \"2020-04-17\", \"2020-04-18\", \"2020-04-19\", \"2020-04-20\", \"2020-04-21\", \"2020-04-22\", \"2020-04-23\", \"2020-04-24\", \"2020-04-25\", \"2020-04-26\", \"2020-04-27\", \"2020-04-28\", \"2020-04-29\", \"2020-04-30\", \"2020-05-01\", \"2020-05-02\", \"2020-05-03\", \"2020-05-04\", \"2020-05-05\", \"2020-05-06\", \"2020-05-07\", \"2020-05-08\", \"2020-05-09\", \"2020-05-10\", \"2020-05-11\", \"2020-05-12\", \"2020-05-13\", \"2020-05-14\", \"2020-05-15\", \"2020-05-16\", \"2020-05-17\", \"2020-05-18\", \"2020-05-19\", \"2020-05-20\", \"2020-05-21\", \"2020-05-22\", \"2020-05-23\", \"2020-05-24\", \"2020-05-25\", \"2020-05-26\", \"2020-05-27\", \"2020-05-28\", \"2020-05-29\", \"2020-05-30\", \"2020-05-31\", \"2020-06-01\", \"2020-06-02\", \"2020-06-03\", \"2020-06-04\", \"2020-06-05\", \"2020-06-06\", \"2020-06-07\", \"2020-06-08\", \"2020-06-09\", \"2020-06-10\", \"2020-06-11\", \"2020-06-12\", \"2020-06-13\", \"2020-06-14\", \"2020-06-15\", \"2020-06-16\", \"2020-06-17\", \"2020-06-18\", \"2020-06-19\", \"2020-06-20\", \"2020-06-21\", \"2020-06-22\", \"2020-06-23\", \"2020-06-24\", \"2020-06-25\", \"2020-06-26\", \"2020-06-27\", \"2020-06-28\", \"2020-06-29\", \"2020-06-30\", \"2020-07-01\", \"2020-07-02\", \"2020-07-03\", \"2020-07-04\", \"2020-07-05\", \"2020-07-06\", \"2020-07-07\", \"2020-07-08\", \"2020-07-09\", \"2020-07-10\", \"2020-07-11\", \"2020-07-12\", \"2020-07-13\", \"2020-07-14\", \"2020-07-15\", \"2020-07-16\", \"2020-07-17\", \"2020-07-18\", \"2020-07-19\", \"2020-07-20\", \"2020-07-21\", \"2020-07-22\", \"2020-07-23\", \"2020-07-24\", \"2020-07-25\", \"2020-07-26\", \"2020-07-27\", \"2020-07-28\", \"2020-07-29\", \"2020-07-30\", \"2020-07-31\", \"2020-08-01\", \"2020-08-02\", \"2020-08-03\", \"2020-08-04\", \"2020-08-05\", \"2020-08-06\", \"2020-08-07\", \"2020-08-08\", \"2020-08-09\", \"2020-08-10\", \"2020-08-11\", \"2020-08-12\", \"2020-08-13\", \"2020-08-14\", \"2020-08-15\", \"2020-08-16\", \"2020-08-17\", \"2020-08-18\", \"2020-08-19\", \"2020-08-20\", \"2020-08-21\", \"2020-08-22\", \"2020-08-23\", \"2020-08-24\", \"2020-08-25\", \"2020-08-26\", \"2020-08-27\", \"2020-08-28\", \"2020-08-29\", \"2020-08-30\", \"2020-08-31\", \"2020-09-01\", \"2020-09-02\", \"2020-09-03\", \"2020-09-04\", \"2020-09-05\", \"2020-09-06\", \"2020-09-07\", \"2020-09-08\", \"2020-09-09\", \"2020-09-10\", \"2020-09-11\", \"2020-09-12\", \"2020-09-13\", \"2020-09-14\", \"2020-09-15\", \"2020-09-16\", \"2020-09-17\", \"2020-09-18\", \"2020-09-19\", \"2020-09-20\", \"2020-09-21\", \"2020-09-22\", \"2020-09-23\", \"2020-09-24\", \"2020-09-25\", \"2020-09-26\", \"2020-09-27\", \"2020-09-28\", \"2020-09-29\", \"2020-09-30\", \"2020-10-01\", \"2020-10-02\", \"2020-10-03\", \"2020-10-04\", \"2020-10-05\", \"2020-10-06\", \"2020-10-07\", \"2020-10-08\", \"2020-10-09\", \"2020-10-10\", \"2020-10-11\", \"2020-10-12\", \"2020-10-13\", \"2020-10-14\", \"2020-10-15\", \"2020-10-16\", \"2020-10-17\", \"2020-10-18\", \"2020-10-19\", \"2020-10-20\", \"2020-10-21\", \"2020-10-22\", \"2020-10-23\", \"2020-10-24\", \"2020-10-25\", \"2020-10-26\", \"2020-10-27\", \"2020-10-28\", \"2020-10-29\", \"2020-10-30\", \"2020-10-31\", \"2020-11-01\", \"2020-11-02\", \"2020-11-03\", \"2020-11-04\", \"2020-11-05\", \"2020-11-06\", \"2020-11-07\", \"2020-11-08\", \"2020-11-09\", \"2020-11-10\", \"2020-11-11\", \"2020-11-12\", \"2020-11-13\", \"2020-11-14\", \"2020-11-15\", \"2020-11-16\", \"2020-11-17\", \"2020-11-18\", \"2020-11-19\", \"2020-11-20\", \"2020-11-21\", \"2020-11-22\", \"2020-11-23\", \"2020-11-24\", \"2020-11-25\", \"2020-11-26\", \"2020-11-27\", \"2020-11-28\", \"2020-11-29\", \"2020-11-30\", \"2020-12-01\", \"2020-12-02\", \"2020-12-03\", \"2020-12-04\", \"2020-12-05\", \"2020-12-06\", \"2020-12-07\", \"2020-12-08\", \"2020-12-09\", \"2020-12-10\", \"2020-12-11\", \"2020-12-12\", \"2020-12-13\", \"2020-12-14\", \"2020-12-15\", \"2020-12-16\", \"2020-12-17\", \"2020-12-18\", \"2020-12-19\", \"2020-12-20\", \"2020-12-21\", \"2020-12-22\", \"2020-12-23\", \"2020-12-24\", \"2020-12-25\", \"2020-12-26\", \"2020-12-27\", \"2020-12-28\", \"2020-12-29\", \"2020-12-30\", \"2020-12-31\", \"2021-01-01\", \"2021-01-02\", \"2021-01-03\", \"2021-01-04\", \"2021-01-05\", \"2021-01-06\", \"2021-01-07\", \"2021-01-08\", \"2021-01-09\", \"2021-01-10\", \"2021-01-11\", \"2021-01-12\", \"2021-01-13\", \"2021-01-14\", \"2021-01-15\", \"2021-01-16\", \"2021-01-17\", \"2021-01-18\", \"2021-01-19\", \"2021-01-20\", \"2021-01-21\", \"2021-01-22\", \"2021-01-23\", \"2021-01-24\", \"2021-01-25\", \"2021-01-26\", \"2021-01-27\", \"2021-01-28\", \"2021-01-29\", \"2021-01-30\", \"2021-01-31\", \"2021-02-01\", \"2021-02-02\", \"2021-02-03\", \"2021-02-04\", \"2021-02-05\", \"2021-02-06\", \"2021-02-07\", \"2021-02-08\", \"2021-02-09\", \"2021-02-10\", \"2021-02-11\", \"2021-02-12\", \"2021-02-13\", \"2021-02-14\", \"2021-02-15\", \"2021-02-16\", \"2021-02-17\", \"2021-02-18\", \"2021-02-19\", \"2021-02-20\", \"2021-02-21\", \"2021-02-22\", \"2021-02-23\", \"2021-02-24\", \"2021-02-25\", \"2021-02-26\", \"2021-02-27\", \"2021-02-28\", \"2021-03-01\", \"2021-03-02\", \"2021-03-03\", \"2021-03-04\", \"2021-03-05\", \"2021-03-06\", \"2021-03-07\", \"2021-03-08\", \"2021-03-09\", \"2021-03-10\", \"2021-03-11\", \"2021-03-12\", \"2021-03-13\", \"2021-03-14\", \"2021-03-15\", \"2021-03-16\", \"2021-03-17\", \"2021-03-18\", \"2021-03-19\", \"2021-03-20\", \"2021-03-21\", \"2021-03-22\", \"2021-03-23\", \"2021-03-24\", \"2021-03-25\", \"2021-03-26\", \"2021-03-27\", \"2021-03-28\", \"2021-03-29\", \"2021-03-30\", \"2021-03-31\", \"2021-04-01\", \"2021-04-02\", \"2021-04-03\", \"2021-04-04\", \"2021-04-05\", \"2021-04-06\", \"2021-04-07\", \"2021-04-08\", \"2021-04-09\", \"2021-04-10\", \"2021-04-11\", \"2021-04-12\", \"2021-04-13\", \"2021-04-14\", \"2021-04-15\", \"2021-04-16\", \"2021-04-17\", \"2021-04-18\", \"2021-04-19\", \"2021-04-20\", \"2021-04-21\", \"2021-04-22\", \"2021-04-23\", \"2021-04-24\", \"2021-04-25\", \"2021-04-26\", \"2021-04-27\", \"2021-04-28\", \"2021-04-29\", \"2021-04-30\", \"2021-05-01\", \"2021-05-02\", \"2021-05-03\", \"2021-05-04\", \"2021-05-05\", \"2021-05-06\", \"2021-05-07\", \"2021-05-08\", \"2021-05-09\", \"2021-05-10\", \"2021-05-11\", \"2021-05-12\", \"2021-05-13\", \"2021-05-14\", \"2021-05-15\", \"2021-05-16\", \"2021-05-17\", \"2021-05-18\", \"2021-05-19\", \"2021-05-20\", \"2021-05-21\", \"2021-05-22\", \"2021-05-23\", \"2021-05-24\", \"2021-05-25\", \"2021-05-26\", \"2021-05-27\", \"2021-05-28\", \"2021-05-29\", \"2021-05-30\", \"2021-05-31\", \"2021-06-01\", \"2021-06-02\", \"2021-06-03\", \"2021-06-04\", \"2021-06-05\", \"2021-06-06\", \"2021-06-07\", \"2021-06-08\", \"2021-06-09\", \"2021-06-10\", \"2021-06-11\", \"2021-06-12\", \"2021-06-13\", \"2021-06-14\", \"2021-06-15\", \"2021-06-16\", \"2021-06-17\", \"2021-06-18\", \"2021-06-19\", \"2021-06-20\", \"2021-06-21\", \"2021-06-22\", \"2021-06-23\", \"2021-06-24\", \"2021-06-25\", \"2021-06-26\", \"2021-06-27\", \"2021-06-28\", \"2021-06-29\", \"2021-06-30\", \"2021-07-01\", \"2021-07-02\", \"2021-07-03\", \"2021-07-04\", \"2021-07-05\", \"2021-07-06\", \"2021-07-07\", \"2021-07-08\", \"2021-07-09\", \"2021-07-10\", \"2021-07-11\", \"2021-07-12\", \"2021-07-13\", \"2021-07-14\", \"2021-07-15\", \"2021-07-16\", \"2021-07-17\", \"2021-07-18\", \"2021-07-19\", \"2021-07-20\", \"2021-07-21\", \"2021-07-22\", \"2021-07-23\", \"2021-07-24\", \"2021-07-25\", \"2021-07-26\", \"2021-07-27\", \"2021-07-28\", \"2021-07-29\", \"2021-07-30\", \"2021-07-31\", \"2021-08-01\", \"2021-08-02\", \"2021-08-03\", \"2021-08-04\", \"2021-08-05\", \"2021-08-06\", \"2021-08-07\", \"2021-08-08\", \"2021-08-09\", \"2021-08-10\", \"2021-08-11\", \"2021-08-12\", \"2021-08-13\", \"2021-08-14\", \"2021-08-15\", \"2021-08-16\", \"2021-08-17\", \"2021-08-18\", \"2021-08-19\", \"2021-08-20\", \"2021-08-21\", \"2021-08-22\", \"2021-08-23\", \"2021-08-24\", \"2021-08-25\", \"2021-08-26\", \"2021-08-27\", \"2021-08-28\", \"2021-08-29\", \"2021-08-30\", \"2021-08-31\", \"2021-09-01\", \"2021-09-02\", \"2021-09-03\", \"2021-09-04\", \"2021-09-05\", \"2021-09-06\", \"2021-09-07\", \"2021-09-08\", \"2021-09-09\", \"2021-09-10\", \"2021-09-11\", \"2021-09-12\", \"2021-09-13\", \"2021-09-14\", \"2021-09-15\", \"2021-09-16\", \"2021-09-17\", \"2021-09-18\", \"2021-09-19\", \"2021-09-20\", \"2021-09-21\", \"2021-09-22\", \"2021-09-23\", \"2021-09-24\", \"2021-09-25\", \"2021-09-26\", \"2021-09-27\", \"2021-09-28\", \"2021-09-29\", \"2021-09-30\", \"2021-10-01\", \"2021-10-02\", \"2021-10-03\", \"2021-10-04\", \"2021-10-05\", \"2021-10-06\", \"2021-10-07\", \"2021-10-08\", \"2021-10-09\", \"2021-10-10\", \"2021-10-11\", \"2021-10-12\", \"2021-10-13\", \"2021-10-14\", \"2021-10-15\", \"2021-10-16\", \"2021-10-17\", \"2021-10-18\", \"2021-10-19\", \"2021-10-20\", \"2021-10-21\", \"2021-10-22\", \"2021-10-23\", \"2021-10-24\", \"2021-10-25\", \"2021-10-26\", \"2021-10-27\", \"2021-10-28\", \"2021-10-29\", \"2021-10-30\", \"2021-10-31\", \"2021-11-01\", \"2021-11-02\", \"2021-11-03\", \"2021-11-04\", \"2021-11-05\", \"2021-11-06\", \"2021-11-07\", \"2021-11-08\", \"2021-11-09\", \"2021-11-10\", \"2021-11-11\", \"2021-11-12\", \"2021-11-13\", \"2021-11-14\", \"2021-11-15\", \"2021-11-16\", \"2021-11-17\", \"2021-11-18\", \"2021-11-19\", \"2021-11-20\", \"2021-11-21\", \"2021-11-22\", \"2021-11-23\", \"2021-11-24\", \"2021-11-25\", \"2021-11-26\", \"2021-11-27\", \"2021-11-28\", \"2021-11-29\", \"2021-11-30\", \"2021-12-01\", \"2021-12-02\", \"2021-12-03\", \"2021-12-04\", \"2021-12-05\", \"2021-12-06\", \"2021-12-07\", \"2021-12-08\", \"2021-12-09\"], \"xaxis\": \"x\", \"y\": [0, 0, 0, 0, 0, 0, 0, 0, 0, 0, 0, 0, 0, 2, 6, 10, 18, 32, 39, 68, 95, 142, 183, 264, 381, 502, 645, 935, 1180, 1512, 1929, 2415, 2963, 3716, 4535, 5335, 6149, 7185, 8138, 9166, 10162, 11159, 12116, 12998, 14001, 14937, 15669, 16473, 17141, 17793, 18412, 19040, 19647, 20212, 20759, 21326, 21804, 22267, 22777, 23287, 23616, 23841, 24035, 24576, 24788, 25028, 25956, 26206, 26358, 26584, 26798, 27003, 27282, 27448, 27617, 27755, 27953, 28168, 28302, 28437, 28540, 28663, 28802, 28900, 29046, 29138, 29241, 29339, 29438, 29535, 29612, 29699, 29766, 29847, 29918, 30011, 30066, 30123, 30183, 30239, 30309, 30376, 30431, 30511, 30565, 30605, 30645, 30683, 30722, 30767, 30816, 30839, 30884, 30934, 30970, 31001, 31029, 31075, 31105, 31137, 31143, 31776, 31791, 31814, 31836, 31860, 31895, 31911, 31934, 31945, 31979, 32004, 32019, 32029, 32075, 32092, 32115, 32133, 32147, 32167, 32187, 32203, 32218, 32228, 32270, 32278, 32295, 32305, 32322, 32333, 32342, 32362, 32372, 32390, 32401, 32413, 32422, 32431, 32329, 32336, 32345, 32354, 32361, 32372, 32384, 32399, 32407, 32414, 32424, 32435, 32446, 32451, 32451, 32456, 32464, 32482, 32489, 32495, 32499, 32507, 32515, 32522, 32534, 32541, 32551, 32559, 32567, 32573, 32579, 32585, 32600, 32612, 32611, 32618, 32619, 32625, 32629, 32639, 32655, 32662, 32669, 32682, 32679, 32686, 32691, 32690, 32691, 32696, 32708, 32713, 32722, 32737, 32743, 32757, 32768, 32789, 32794, 32813, 32827, 32836, 32850, 32859, 32867, 32875, 32879, 32896, 32905, 32916, 32935, 32944, 32959, 32972, 32990, 32998, 33005, 33022, 33038, 33049, 33059, 33073, 33092, 33107, 33128, 33143, 33152, 33174, 33187, 33198, 33222, 33247, 33267, 33287, 33314, 33343, 33373, 33398, 33424, 33452, 33477, 33508, 33540, 33576, 33607, 33648, 33696, 33737, 33767, 33804, 33847, 33890, 33959, 34004, 34049, 34101, 34150, 34222, 34286, 34346, 34409, 34488, 34552, 34637, 34723, 34799, 34884, 34983, 35074, 35198, 35288, 35425, 35522, 35647, 35775, 35897, 36017, 36147, 36300, 36454, 36604, 36739, 36870, 37000, 37118, 37256, 37412, 37557, 37733, 37854, 38001, 38167, 38315, 38486, 38683, 38846, 39041, 39208, 39404, 39588, 39760, 39997, 40203, 40376, 40570, 40753, 40933, 41148, 41348, 41530, 41694, 41889, 42090, 42273, 42434, 42639, 42825, 42996, 43178, 43354, 43524, 43687, 43842, 44012, 44210, 44387, 44512, 44683, 44851, 44992, 45138, 45295, 45431, 45552, 45683, 45807, 45957, 46119, 46233, 46346, 46454, 46562, 46680, 46790, 46914, 47025, 47143, 47247, 47345, 47464, 47565, 47672, 47767, 47857, 47921, 48000, 48092, 48208, 48277, 48370, 48475, 48537, 48624, 48686, 48773, 48848, 48916, 48942, 48959, 48977, 49231, 49305, 49363, 49446, 49537, 49648, 49696, 49790, 49872, 49946, 50042, 50124, 50195, 50239, 50332, 50388, 50465, 50527, 50610, 50693, 50745, 50839, 50912, 50965, 51034, 51077, 51122, 51183, 51228, 51299, 51361, 51419, 51471, 51511, 51587, 51608, 51677, 51728, 51791, 51830, 51889, 51949, 52005, 52038, 52077, 52118, 52155, 52192, 52234, 52291, 52332, 52366, 52377, 52417, 52449, 52480, 52505, 52531, 52555, 52572, 52591, 52621, 52638, 52664, 52685, 52710, 52724, 52740, 52758, 52784, 52793, 52811, 52840, 52852, 52885, 52895, 52906, 52914, 52927, 52942, 52958, 52968, 52977, 52993, 52995, 53009, 53017, 53024, 53026, 53034, 53048, 53056, 53052, 53060, 53066, 53081, 53089, 53093, 53095, 53107, 53109, 53109, 53118, 53122, 53127, 53134, 53138, 53142, 53149, 53151, 53153, 53159, 53170, 53175, 53176, 53181, 53191, 53195, 53200, 53207, 53214, 53216, 53219, 53228, 53235, 53236, 53248, 53250, 53257, 53266, 53274, 53281, 53294, 53301, 53315, 53318, 53331, 53346, 53352, 53360, 53400, 53429, 53439, 53454, 53476, 53486, 53519, 53532, 53548, 53564, 53601, 53620, 53646, 53662, 53691, 53722, 53745, 53769, 53792, 53823, 53847, 53875, 53925, 53949, 53965, 54007, 54037, 54069, 54088, 54156, 54174, 54211, 54230, 54271, 54317, 54350, 54395, 54424, 54441, 54479, 54502, 54559, 54602, 54641, 54702, 54718, 54769, 54785, 54822, 54886, 54933, 54976, 54993, 55016, 55057, 55090, 55131, 55150, 55203, 55229, 55253, 55304, 55347, 55402, 55447, 55465, 55484, 55514, 55557, 55588, 55625, 55664, 55702, 55732, 55756, 55806, 55840, 55879, 55902, 55942, 55969, 55995, 56044, 56067, 56114, 56144, 56191, 56225, 56245, 56280, 56323, 56360, 56400, 56439, 56454, 56475, 56508, 56551, 56584, 56619, 56663, 56681, 56714, 56741, 56775, 56816, 56840, 56861, 56917, 56944, 56993, 57049, 57107, 57158, 57211, 57241, 57273, 57332, 57396, 57449, 57507], \"yaxis\": \"y\"}, {\"hoverlabel\": {\"namelength\": 0}, \"hovertemplate\": \"state=New Jersey<br>date=%{x}<br>deaths=%{y}\", \"legendgroup\": \"state=New Jersey\", \"line\": {\"color\": \"#ab63fa\", \"dash\": \"solid\"}, \"mode\": \"lines\", \"name\": \"state=New Jersey\", \"showlegend\": true, \"type\": \"scattergl\", \"x\": [\"2020-03-04\", \"2020-03-05\", \"2020-03-06\", \"2020-03-07\", \"2020-03-08\", \"2020-03-09\", \"2020-03-10\", \"2020-03-11\", \"2020-03-12\", \"2020-03-13\", \"2020-03-14\", \"2020-03-15\", \"2020-03-16\", \"2020-03-17\", \"2020-03-18\", \"2020-03-19\", \"2020-03-20\", \"2020-03-21\", \"2020-03-22\", \"2020-03-23\", \"2020-03-24\", \"2020-03-25\", \"2020-03-26\", \"2020-03-27\", \"2020-03-28\", \"2020-03-29\", \"2020-03-30\", \"2020-03-31\", \"2020-04-01\", \"2020-04-02\", \"2020-04-03\", \"2020-04-04\", \"2020-04-05\", \"2020-04-06\", \"2020-04-07\", \"2020-04-08\", \"2020-04-09\", \"2020-04-10\", \"2020-04-11\", \"2020-04-12\", \"2020-04-13\", \"2020-04-14\", \"2020-04-15\", \"2020-04-16\", \"2020-04-17\", \"2020-04-18\", \"2020-04-19\", \"2020-04-20\", \"2020-04-21\", \"2020-04-22\", \"2020-04-23\", \"2020-04-24\", \"2020-04-25\", \"2020-04-26\", \"2020-04-27\", \"2020-04-28\", \"2020-04-29\", \"2020-04-30\", \"2020-05-01\", \"2020-05-02\", \"2020-05-03\", \"2020-05-04\", \"2020-05-05\", \"2020-05-06\", \"2020-05-07\", \"2020-05-08\", \"2020-05-09\", \"2020-05-10\", \"2020-05-11\", \"2020-05-12\", \"2020-05-13\", \"2020-05-14\", \"2020-05-15\", \"2020-05-16\", \"2020-05-17\", \"2020-05-18\", \"2020-05-19\", \"2020-05-20\", \"2020-05-21\", \"2020-05-22\", \"2020-05-23\", \"2020-05-24\", \"2020-05-25\", \"2020-05-26\", \"2020-05-27\", \"2020-05-28\", \"2020-05-29\", \"2020-05-30\", \"2020-05-31\", \"2020-06-01\", \"2020-06-02\", \"2020-06-03\", \"2020-06-04\", \"2020-06-05\", \"2020-06-06\", \"2020-06-07\", \"2020-06-08\", \"2020-06-09\", \"2020-06-10\", \"2020-06-11\", \"2020-06-12\", \"2020-06-13\", \"2020-06-14\", \"2020-06-15\", \"2020-06-16\", \"2020-06-17\", \"2020-06-18\", \"2020-06-19\", \"2020-06-20\", \"2020-06-21\", \"2020-06-22\", \"2020-06-23\", \"2020-06-24\", \"2020-06-25\", \"2020-06-26\", \"2020-06-27\", \"2020-06-28\", \"2020-06-29\", \"2020-06-30\", \"2020-07-01\", \"2020-07-02\", \"2020-07-03\", \"2020-07-04\", \"2020-07-05\", \"2020-07-06\", \"2020-07-07\", \"2020-07-08\", \"2020-07-09\", \"2020-07-10\", \"2020-07-11\", \"2020-07-12\", \"2020-07-13\", \"2020-07-14\", \"2020-07-15\", \"2020-07-16\", \"2020-07-17\", \"2020-07-18\", \"2020-07-19\", \"2020-07-20\", \"2020-07-21\", \"2020-07-22\", \"2020-07-23\", \"2020-07-24\", \"2020-07-25\", \"2020-07-26\", \"2020-07-27\", \"2020-07-28\", \"2020-07-29\", \"2020-07-30\", \"2020-07-31\", \"2020-08-01\", \"2020-08-02\", \"2020-08-03\", \"2020-08-04\", \"2020-08-05\", \"2020-08-06\", \"2020-08-07\", \"2020-08-08\", \"2020-08-09\", \"2020-08-10\", \"2020-08-11\", \"2020-08-12\", \"2020-08-13\", \"2020-08-14\", \"2020-08-15\", \"2020-08-16\", \"2020-08-17\", \"2020-08-18\", \"2020-08-19\", \"2020-08-20\", \"2020-08-21\", \"2020-08-22\", \"2020-08-23\", \"2020-08-24\", \"2020-08-25\", \"2020-08-26\", \"2020-08-27\", \"2020-08-28\", \"2020-08-29\", \"2020-08-30\", \"2020-08-31\", \"2020-09-01\", \"2020-09-02\", \"2020-09-03\", \"2020-09-04\", \"2020-09-05\", \"2020-09-06\", \"2020-09-07\", \"2020-09-08\", \"2020-09-09\", \"2020-09-10\", \"2020-09-11\", \"2020-09-12\", \"2020-09-13\", \"2020-09-14\", \"2020-09-15\", \"2020-09-16\", \"2020-09-17\", \"2020-09-18\", \"2020-09-19\", \"2020-09-20\", \"2020-09-21\", \"2020-09-22\", \"2020-09-23\", \"2020-09-24\", \"2020-09-25\", \"2020-09-26\", \"2020-09-27\", \"2020-09-28\", \"2020-09-29\", \"2020-09-30\", \"2020-10-01\", \"2020-10-02\", \"2020-10-03\", \"2020-10-04\", \"2020-10-05\", \"2020-10-06\", \"2020-10-07\", \"2020-10-08\", \"2020-10-09\", \"2020-10-10\", \"2020-10-11\", \"2020-10-12\", \"2020-10-13\", \"2020-10-14\", \"2020-10-15\", \"2020-10-16\", \"2020-10-17\", \"2020-10-18\", \"2020-10-19\", \"2020-10-20\", \"2020-10-21\", \"2020-10-22\", \"2020-10-23\", \"2020-10-24\", \"2020-10-25\", \"2020-10-26\", \"2020-10-27\", \"2020-10-28\", \"2020-10-29\", \"2020-10-30\", \"2020-10-31\", \"2020-11-01\", \"2020-11-02\", \"2020-11-03\", \"2020-11-04\", \"2020-11-05\", \"2020-11-06\", \"2020-11-07\", \"2020-11-08\", \"2020-11-09\", \"2020-11-10\", \"2020-11-11\", \"2020-11-12\", \"2020-11-13\", \"2020-11-14\", \"2020-11-15\", \"2020-11-16\", \"2020-11-17\", \"2020-11-18\", \"2020-11-19\", \"2020-11-20\", \"2020-11-21\", \"2020-11-22\", \"2020-11-23\", \"2020-11-24\", \"2020-11-25\", \"2020-11-26\", \"2020-11-27\", \"2020-11-28\", \"2020-11-29\", \"2020-11-30\", \"2020-12-01\", \"2020-12-02\", \"2020-12-03\", \"2020-12-04\", \"2020-12-05\", \"2020-12-06\", \"2020-12-07\", \"2020-12-08\", \"2020-12-09\", \"2020-12-10\", \"2020-12-11\", \"2020-12-12\", \"2020-12-13\", \"2020-12-14\", \"2020-12-15\", \"2020-12-16\", \"2020-12-17\", \"2020-12-18\", \"2020-12-19\", \"2020-12-20\", \"2020-12-21\", \"2020-12-22\", \"2020-12-23\", \"2020-12-24\", \"2020-12-25\", \"2020-12-26\", \"2020-12-27\", \"2020-12-28\", \"2020-12-29\", \"2020-12-30\", \"2020-12-31\", \"2021-01-01\", \"2021-01-02\", \"2021-01-03\", \"2021-01-04\", \"2021-01-05\", \"2021-01-06\", \"2021-01-07\", \"2021-01-08\", \"2021-01-09\", \"2021-01-10\", \"2021-01-11\", \"2021-01-12\", \"2021-01-13\", \"2021-01-14\", \"2021-01-15\", \"2021-01-16\", \"2021-01-17\", \"2021-01-18\", \"2021-01-19\", \"2021-01-20\", \"2021-01-21\", \"2021-01-22\", \"2021-01-23\", \"2021-01-24\", \"2021-01-25\", \"2021-01-26\", \"2021-01-27\", \"2021-01-28\", \"2021-01-29\", \"2021-01-30\", \"2021-01-31\", \"2021-02-01\", \"2021-02-02\", \"2021-02-03\", \"2021-02-04\", \"2021-02-05\", \"2021-02-06\", \"2021-02-07\", \"2021-02-08\", \"2021-02-09\", \"2021-02-10\", \"2021-02-11\", \"2021-02-12\", \"2021-02-13\", \"2021-02-14\", \"2021-02-15\", \"2021-02-16\", \"2021-02-17\", \"2021-02-18\", \"2021-02-19\", \"2021-02-20\", \"2021-02-21\", \"2021-02-22\", \"2021-02-23\", \"2021-02-24\", \"2021-02-25\", \"2021-02-26\", \"2021-02-27\", \"2021-02-28\", \"2021-03-01\", \"2021-03-02\", \"2021-03-03\", \"2021-03-04\", \"2021-03-05\", \"2021-03-06\", \"2021-03-07\", \"2021-03-08\", \"2021-03-09\", \"2021-03-10\", \"2021-03-11\", \"2021-03-12\", \"2021-03-13\", \"2021-03-14\", \"2021-03-15\", \"2021-03-16\", \"2021-03-17\", \"2021-03-18\", \"2021-03-19\", \"2021-03-20\", \"2021-03-21\", \"2021-03-22\", \"2021-03-23\", \"2021-03-24\", \"2021-03-25\", \"2021-03-26\", \"2021-03-27\", \"2021-03-28\", \"2021-03-29\", \"2021-03-30\", \"2021-03-31\", \"2021-04-01\", \"2021-04-02\", \"2021-04-03\", \"2021-04-04\", \"2021-04-05\", \"2021-04-06\", \"2021-04-07\", \"2021-04-08\", \"2021-04-09\", \"2021-04-10\", \"2021-04-11\", \"2021-04-12\", \"2021-04-13\", \"2021-04-14\", \"2021-04-15\", \"2021-04-16\", \"2021-04-17\", \"2021-04-18\", \"2021-04-19\", \"2021-04-20\", \"2021-04-21\", \"2021-04-22\", \"2021-04-23\", \"2021-04-24\", \"2021-04-25\", \"2021-04-26\", \"2021-04-27\", \"2021-04-28\", \"2021-04-29\", \"2021-04-30\", \"2021-05-01\", \"2021-05-02\", \"2021-05-03\", \"2021-05-04\", \"2021-05-05\", \"2021-05-06\", \"2021-05-07\", \"2021-05-08\", \"2021-05-09\", \"2021-05-10\", \"2021-05-11\", \"2021-05-12\", \"2021-05-13\", \"2021-05-14\", \"2021-05-15\", \"2021-05-16\", \"2021-05-17\", \"2021-05-18\", \"2021-05-19\", \"2021-05-20\", \"2021-05-21\", \"2021-05-22\", \"2021-05-23\", \"2021-05-24\", \"2021-05-25\", \"2021-05-26\", \"2021-05-27\", \"2021-05-28\", \"2021-05-29\", \"2021-05-30\", \"2021-05-31\", \"2021-06-01\", \"2021-06-02\", \"2021-06-03\", \"2021-06-04\", \"2021-06-05\", \"2021-06-06\", \"2021-06-07\", \"2021-06-08\", \"2021-06-09\", \"2021-06-10\", \"2021-06-11\", \"2021-06-12\", \"2021-06-13\", \"2021-06-14\", \"2021-06-15\", \"2021-06-16\", \"2021-06-17\", \"2021-06-18\", \"2021-06-19\", \"2021-06-20\", \"2021-06-21\", \"2021-06-22\", \"2021-06-23\", \"2021-06-24\", \"2021-06-25\", \"2021-06-26\", \"2021-06-27\", \"2021-06-28\", \"2021-06-29\", \"2021-06-30\", \"2021-07-01\", \"2021-07-02\", \"2021-07-03\", \"2021-07-04\", \"2021-07-05\", \"2021-07-06\", \"2021-07-07\", \"2021-07-08\", \"2021-07-09\", \"2021-07-10\", \"2021-07-11\", \"2021-07-12\", \"2021-07-13\", \"2021-07-14\", \"2021-07-15\", \"2021-07-16\", \"2021-07-17\", \"2021-07-18\", \"2021-07-19\", \"2021-07-20\", \"2021-07-21\", \"2021-07-22\", \"2021-07-23\", \"2021-07-24\", \"2021-07-25\", \"2021-07-26\", \"2021-07-27\", \"2021-07-28\", \"2021-07-29\", \"2021-07-30\", \"2021-07-31\", \"2021-08-01\", \"2021-08-02\", \"2021-08-03\", \"2021-08-04\", \"2021-08-05\", \"2021-08-06\", \"2021-08-07\", \"2021-08-08\", \"2021-08-09\", \"2021-08-10\", \"2021-08-11\", \"2021-08-12\", \"2021-08-13\", \"2021-08-14\", \"2021-08-15\", \"2021-08-16\", \"2021-08-17\", \"2021-08-18\", \"2021-08-19\", \"2021-08-20\", \"2021-08-21\", \"2021-08-22\", \"2021-08-23\", \"2021-08-24\", \"2021-08-25\", \"2021-08-26\", \"2021-08-27\", \"2021-08-28\", \"2021-08-29\", \"2021-08-30\", \"2021-08-31\", \"2021-09-01\", \"2021-09-02\", \"2021-09-03\", \"2021-09-04\", \"2021-09-05\", \"2021-09-06\", \"2021-09-07\", \"2021-09-08\", \"2021-09-09\", \"2021-09-10\", \"2021-09-11\", \"2021-09-12\", \"2021-09-13\", \"2021-09-14\", \"2021-09-15\", \"2021-09-16\", \"2021-09-17\", \"2021-09-18\", \"2021-09-19\", \"2021-09-20\", \"2021-09-21\", \"2021-09-22\", \"2021-09-23\", \"2021-09-24\", \"2021-09-25\", \"2021-09-26\", \"2021-09-27\", \"2021-09-28\", \"2021-09-29\", \"2021-09-30\", \"2021-10-01\", \"2021-10-02\", \"2021-10-03\", \"2021-10-04\", \"2021-10-05\", \"2021-10-06\", \"2021-10-07\", \"2021-10-08\", \"2021-10-09\", \"2021-10-10\", \"2021-10-11\", \"2021-10-12\", \"2021-10-13\", \"2021-10-14\", \"2021-10-15\", \"2021-10-16\", \"2021-10-17\", \"2021-10-18\", \"2021-10-19\", \"2021-10-20\", \"2021-10-21\", \"2021-10-22\", \"2021-10-23\", \"2021-10-24\", \"2021-10-25\", \"2021-10-26\", \"2021-10-27\", \"2021-10-28\", \"2021-10-29\", \"2021-10-30\", \"2021-10-31\", \"2021-11-01\", \"2021-11-02\", \"2021-11-03\", \"2021-11-04\", \"2021-11-05\", \"2021-11-06\", \"2021-11-07\", \"2021-11-08\", \"2021-11-09\", \"2021-11-10\", \"2021-11-11\", \"2021-11-12\", \"2021-11-13\", \"2021-11-14\", \"2021-11-15\", \"2021-11-16\", \"2021-11-17\", \"2021-11-18\", \"2021-11-19\", \"2021-11-20\", \"2021-11-21\", \"2021-11-22\", \"2021-11-23\", \"2021-11-24\", \"2021-11-25\", \"2021-11-26\", \"2021-11-27\", \"2021-11-28\", \"2021-11-29\", \"2021-11-30\", \"2021-12-01\", \"2021-12-02\", \"2021-12-03\", \"2021-12-04\", \"2021-12-05\", \"2021-12-06\", \"2021-12-07\", \"2021-12-08\", \"2021-12-09\"], \"xaxis\": \"x\", \"y\": [0, 0, 0, 0, 0, 0, 1, 1, 1, 1, 2, 2, 3, 3, 5, 9, 11, 16, 20, 27, 44, 62, 82, 108, 140, 161, 199, 267, 355, 539, 647, 847, 917, 1005, 1232, 1504, 1700, 1932, 2183, 2350, 2443, 2805, 3156, 3518, 3840, 4070, 4202, 4377, 4753, 5063, 5368, 5617, 5863, 5938, 6044, 6442, 6770, 7228, 7538, 7742, 7871, 7910, 8244, 8549, 8801, 8952, 9116, 9255, 9310, 9508, 9702, 9946, 10138, 10249, 10356, 10435, 10586, 10747, 10843, 10985, 11081, 11133, 11144, 11191, 11339, 11401, 11531, 11634, 11698, 11721, 11770, 11880, 11970, 12049, 12106, 12176, 12214, 12303, 12377, 12443, 12489, 12589, 12625, 12676, 12727, 12769, 12800, 12835, 12857, 12870, 12895, 12949, 12995, 14872, 14914, 14948, 14975, 14992, 15035, 15078, 15107, 15164, 15189, 15211, 15229, 15281, 15423, 15448, 15479, 15525, 15525, 15560, 15582, 15634, 15665, 15684, 15699, 15706, 15715, 15737, 15707, 15730, 15765, 15776, 15787, 15804, 15825, 15798, 15809, 15819, 15830, 15836, 15846, 15857, 15842, 15849, 15860, 15869, 15874, 15878, 15890, 15885, 15893, 15903, 15910, 15912, 15916, 15925, 15926, 15932, 15941, 15943, 15946, 15946, 15953, 15914, 15921, 15930, 15933, 15937, 15945, 15950, 15964, 15971, 15978, 15985, 15989, 15991, 15996, 16009, 16014, 16023, 16027, 16031, 16034, 16043, 16054, 16057, 16061, 16064, 16067, 16069, 16076, 16082, 16091, 16097, 16103, 16106, 16107, 16117, 16122, 16127, 16131, 16135, 16136, 16138, 16147, 16152, 16161, 16164, 16171, 16174, 16175, 16182, 16191, 16197, 16202, 16204, 16211, 16214, 16227, 16245, 16263, 16273, 16281, 16285, 16292, 16306, 16324, 16332, 16339, 16350, 16354, 16357, 16371, 16391, 16403, 16416, 16425, 16429, 16440, 16461, 16476, 16495, 16522, 16548, 16566, 16580, 16618, 16655, 16689, 16712, 16746, 16761, 16772, 16819, 16886, 16925, 16942, 16965, 16978, 16993, 17083, 17145, 17209, 17255, 17306, 17321, 17336, 17426, 17542, 17608, 17662, 17732, 17751, 17775, 17872, 18003, 18080, 18124, 18173, 18194, 18223, 18326, 18466, 18544, 18595, 18613, 18630, 18651, 18777, 18952, 19042, 19160, 19187, 19208, 19244, 19382, 19523, 19646, 19756, 19854, 19886, 19932, 20039, 20166, 20253, 20320, 20414, 20439, 20458, 20512, 20667, 20760, 20875, 20934, 20951, 20972, 21105, 21234, 21301, 21383, 21455, 21484, 21513, 21584, 21693, 21793, 21886, 21964, 21989, 22011, 22103, 22191, 22329, 22393, 22440, 22454, 22466, 22497, 22589, 22721, 22784, 22834, 22858, 22874, 22978, 23035, 23105, 23192, 23238, 23252, 23273, 23321, 23383, 23491, 23521, 23557, 23574, 23590, 23635, 23691, 23737, 23854, 23888, 23903, 23925, 23966, 24004, 24076, 24103, 24134, 24174, 24181, 24242, 24293, 24330, 24358, 24382, 24389, 24404, 24486, 24528, 24591, 24615, 24632, 24637, 24649, 24700, 24744, 24783, 24826, 24859, 24870, 24896, 24945, 24987, 25034, 25094, 25134, 25143, 25161, 25206, 25252, 25282, 25328, 25367, 25380, 25399, 25460, 25495, 25529, 25554, 25588, 25600, 25616, 25658, 25692, 25740, 25769, 25791, 25801, 25809, 25840, 25873, 25905, 25931, 25952, 25961, 25974, 25998, 26018, 26041, 26059, 26072, 26079, 26088, 26112, 26137, 26173, 26185, 26201, 26207, 26212, 26219, 26239, 26253, 26265, 26273, 26279, 26285, 26295, 26309, 26322, 26324, 26327, 26330, 26334, 26345, 26352, 26364, 26368, 26372, 26374, 26377, 26392, 26403, 26417, 26428, 26434, 26437, 26438, 26444, 26452, 26463, 26468, 26473, 26473, 26477, 26477, 26490, 26493, 26496, 26501, 26505, 26509, 26517, 26520, 26529, 26531, 26536, 26539, 26545, 26557, 26562, 26564, 26568, 26573, 26575, 26579, 26586, 26589, 26590, 26595, 26602, 26607, 26606, 26614, 26625, 26629, 26636, 26645, 26650, 26650, 26659, 26665, 26672, 26681, 26692, 26695, 26696, 26715, 26721, 26731, 26739, 26750, 26752, 26755, 26775, 26796, 26807, 26826, 26844, 26849, 26864, 26882, 26902, 26919, 26929, 26942, 26948, 26952, 26978, 27007, 27024, 27039, 27054, 27058, 27079, 27101, 27122, 27148, 27165, 27182, 27190, 27202, 27240, 27264, 27288, 27307, 27323, 27328, 27346, 27380, 27400, 27427, 27443, 27465, 27472, 27488, 27525, 27542, 27551, 27570, 27590, 27597, 27603, 27624, 27653, 27673, 27692, 27720, 27725, 27737, 27768, 27783, 27805, 27828, 27848, 27851, 27863, 27896, 27929, 27949, 27961, 27972, 27972, 27980, 28004, 28011, 28011, 28062, 28080, 28085, 28092, 28119, 28134, 28146, 28152, 28169, 28172, 28177, 28200, 28220, 28230, 28243, 28250, 28254, 28265, 28295, 28307, 28323, 28326, 28335, 28339, 28348, 28390, 28409, 28420, 28434, 28452, 28457, 28465, 28494, 28518, 28526], \"yaxis\": \"y\"}],\n",
              "                        {\"legend\": {\"tracegroupgap\": 0}, \"margin\": {\"t\": 60}, \"template\": {\"data\": {\"bar\": [{\"error_x\": {\"color\": \"#2a3f5f\"}, \"error_y\": {\"color\": \"#2a3f5f\"}, \"marker\": {\"line\": {\"color\": \"#E5ECF6\", \"width\": 0.5}}, \"type\": \"bar\"}], \"barpolar\": [{\"marker\": {\"line\": {\"color\": \"#E5ECF6\", \"width\": 0.5}}, \"type\": \"barpolar\"}], \"carpet\": [{\"aaxis\": {\"endlinecolor\": \"#2a3f5f\", \"gridcolor\": \"white\", \"linecolor\": \"white\", \"minorgridcolor\": \"white\", \"startlinecolor\": \"#2a3f5f\"}, \"baxis\": {\"endlinecolor\": \"#2a3f5f\", \"gridcolor\": \"white\", \"linecolor\": \"white\", \"minorgridcolor\": \"white\", \"startlinecolor\": \"#2a3f5f\"}, \"type\": \"carpet\"}], \"choropleth\": [{\"colorbar\": {\"outlinewidth\": 0, \"ticks\": \"\"}, \"type\": \"choropleth\"}], \"contour\": [{\"colorbar\": {\"outlinewidth\": 0, \"ticks\": \"\"}, \"colorscale\": [[0.0, \"#0d0887\"], [0.1111111111111111, \"#46039f\"], [0.2222222222222222, \"#7201a8\"], [0.3333333333333333, \"#9c179e\"], [0.4444444444444444, \"#bd3786\"], [0.5555555555555556, \"#d8576b\"], [0.6666666666666666, \"#ed7953\"], [0.7777777777777778, \"#fb9f3a\"], [0.8888888888888888, \"#fdca26\"], [1.0, \"#f0f921\"]], \"type\": \"contour\"}], \"contourcarpet\": [{\"colorbar\": {\"outlinewidth\": 0, \"ticks\": \"\"}, \"type\": \"contourcarpet\"}], \"heatmap\": [{\"colorbar\": {\"outlinewidth\": 0, \"ticks\": \"\"}, \"colorscale\": [[0.0, \"#0d0887\"], [0.1111111111111111, \"#46039f\"], [0.2222222222222222, \"#7201a8\"], [0.3333333333333333, \"#9c179e\"], [0.4444444444444444, \"#bd3786\"], [0.5555555555555556, \"#d8576b\"], [0.6666666666666666, \"#ed7953\"], [0.7777777777777778, \"#fb9f3a\"], [0.8888888888888888, \"#fdca26\"], [1.0, \"#f0f921\"]], \"type\": \"heatmap\"}], \"heatmapgl\": [{\"colorbar\": {\"outlinewidth\": 0, \"ticks\": \"\"}, \"colorscale\": [[0.0, \"#0d0887\"], [0.1111111111111111, \"#46039f\"], [0.2222222222222222, \"#7201a8\"], [0.3333333333333333, \"#9c179e\"], [0.4444444444444444, \"#bd3786\"], [0.5555555555555556, \"#d8576b\"], [0.6666666666666666, \"#ed7953\"], [0.7777777777777778, \"#fb9f3a\"], [0.8888888888888888, \"#fdca26\"], [1.0, \"#f0f921\"]], \"type\": \"heatmapgl\"}], \"histogram\": [{\"marker\": {\"colorbar\": {\"outlinewidth\": 0, \"ticks\": \"\"}}, \"type\": \"histogram\"}], \"histogram2d\": [{\"colorbar\": {\"outlinewidth\": 0, \"ticks\": \"\"}, \"colorscale\": [[0.0, \"#0d0887\"], [0.1111111111111111, \"#46039f\"], [0.2222222222222222, \"#7201a8\"], [0.3333333333333333, \"#9c179e\"], [0.4444444444444444, \"#bd3786\"], [0.5555555555555556, \"#d8576b\"], [0.6666666666666666, \"#ed7953\"], [0.7777777777777778, \"#fb9f3a\"], [0.8888888888888888, \"#fdca26\"], [1.0, \"#f0f921\"]], \"type\": \"histogram2d\"}], \"histogram2dcontour\": [{\"colorbar\": {\"outlinewidth\": 0, \"ticks\": \"\"}, \"colorscale\": [[0.0, \"#0d0887\"], [0.1111111111111111, \"#46039f\"], [0.2222222222222222, \"#7201a8\"], [0.3333333333333333, \"#9c179e\"], [0.4444444444444444, \"#bd3786\"], [0.5555555555555556, \"#d8576b\"], [0.6666666666666666, \"#ed7953\"], [0.7777777777777778, \"#fb9f3a\"], [0.8888888888888888, \"#fdca26\"], [1.0, \"#f0f921\"]], \"type\": \"histogram2dcontour\"}], \"mesh3d\": [{\"colorbar\": {\"outlinewidth\": 0, \"ticks\": \"\"}, \"type\": \"mesh3d\"}], \"parcoords\": [{\"line\": {\"colorbar\": {\"outlinewidth\": 0, \"ticks\": \"\"}}, \"type\": \"parcoords\"}], \"pie\": [{\"automargin\": true, \"type\": \"pie\"}], \"scatter\": [{\"marker\": {\"colorbar\": {\"outlinewidth\": 0, \"ticks\": \"\"}}, \"type\": \"scatter\"}], \"scatter3d\": [{\"line\": {\"colorbar\": {\"outlinewidth\": 0, \"ticks\": \"\"}}, \"marker\": {\"colorbar\": {\"outlinewidth\": 0, \"ticks\": \"\"}}, \"type\": \"scatter3d\"}], \"scattercarpet\": [{\"marker\": {\"colorbar\": {\"outlinewidth\": 0, \"ticks\": \"\"}}, \"type\": \"scattercarpet\"}], \"scattergeo\": [{\"marker\": {\"colorbar\": {\"outlinewidth\": 0, \"ticks\": \"\"}}, \"type\": \"scattergeo\"}], \"scattergl\": [{\"marker\": {\"colorbar\": {\"outlinewidth\": 0, \"ticks\": \"\"}}, \"type\": \"scattergl\"}], \"scattermapbox\": [{\"marker\": {\"colorbar\": {\"outlinewidth\": 0, \"ticks\": \"\"}}, \"type\": \"scattermapbox\"}], \"scatterpolar\": [{\"marker\": {\"colorbar\": {\"outlinewidth\": 0, \"ticks\": \"\"}}, \"type\": \"scatterpolar\"}], \"scatterpolargl\": [{\"marker\": {\"colorbar\": {\"outlinewidth\": 0, \"ticks\": \"\"}}, \"type\": \"scatterpolargl\"}], \"scatterternary\": [{\"marker\": {\"colorbar\": {\"outlinewidth\": 0, \"ticks\": \"\"}}, \"type\": \"scatterternary\"}], \"surface\": [{\"colorbar\": {\"outlinewidth\": 0, \"ticks\": \"\"}, \"colorscale\": [[0.0, \"#0d0887\"], [0.1111111111111111, \"#46039f\"], [0.2222222222222222, \"#7201a8\"], [0.3333333333333333, \"#9c179e\"], [0.4444444444444444, \"#bd3786\"], [0.5555555555555556, \"#d8576b\"], [0.6666666666666666, \"#ed7953\"], [0.7777777777777778, \"#fb9f3a\"], [0.8888888888888888, \"#fdca26\"], [1.0, \"#f0f921\"]], \"type\": \"surface\"}], \"table\": [{\"cells\": {\"fill\": {\"color\": \"#EBF0F8\"}, \"line\": {\"color\": \"white\"}}, \"header\": {\"fill\": {\"color\": \"#C8D4E3\"}, \"line\": {\"color\": \"white\"}}, \"type\": \"table\"}]}, \"layout\": {\"annotationdefaults\": {\"arrowcolor\": \"#2a3f5f\", \"arrowhead\": 0, \"arrowwidth\": 1}, \"coloraxis\": {\"colorbar\": {\"outlinewidth\": 0, \"ticks\": \"\"}}, \"colorscale\": {\"diverging\": [[0, \"#8e0152\"], [0.1, \"#c51b7d\"], [0.2, \"#de77ae\"], [0.3, \"#f1b6da\"], [0.4, \"#fde0ef\"], [0.5, \"#f7f7f7\"], [0.6, \"#e6f5d0\"], [0.7, \"#b8e186\"], [0.8, \"#7fbc41\"], [0.9, \"#4d9221\"], [1, \"#276419\"]], \"sequential\": [[0.0, \"#0d0887\"], [0.1111111111111111, \"#46039f\"], [0.2222222222222222, \"#7201a8\"], [0.3333333333333333, \"#9c179e\"], [0.4444444444444444, \"#bd3786\"], [0.5555555555555556, \"#d8576b\"], [0.6666666666666666, \"#ed7953\"], [0.7777777777777778, \"#fb9f3a\"], [0.8888888888888888, \"#fdca26\"], [1.0, \"#f0f921\"]], \"sequentialminus\": [[0.0, \"#0d0887\"], [0.1111111111111111, \"#46039f\"], [0.2222222222222222, \"#7201a8\"], [0.3333333333333333, \"#9c179e\"], [0.4444444444444444, \"#bd3786\"], [0.5555555555555556, \"#d8576b\"], [0.6666666666666666, \"#ed7953\"], [0.7777777777777778, \"#fb9f3a\"], [0.8888888888888888, \"#fdca26\"], [1.0, \"#f0f921\"]]}, \"colorway\": [\"#636efa\", \"#EF553B\", \"#00cc96\", \"#ab63fa\", \"#FFA15A\", \"#19d3f3\", \"#FF6692\", \"#B6E880\", \"#FF97FF\", \"#FECB52\"], \"font\": {\"color\": \"#2a3f5f\"}, \"geo\": {\"bgcolor\": \"white\", \"lakecolor\": \"white\", \"landcolor\": \"#E5ECF6\", \"showlakes\": true, \"showland\": true, \"subunitcolor\": \"white\"}, \"hoverlabel\": {\"align\": \"left\"}, \"hovermode\": \"closest\", \"mapbox\": {\"style\": \"light\"}, \"paper_bgcolor\": \"white\", \"plot_bgcolor\": \"#E5ECF6\", \"polar\": {\"angularaxis\": {\"gridcolor\": \"white\", \"linecolor\": \"white\", \"ticks\": \"\"}, \"bgcolor\": \"#E5ECF6\", \"radialaxis\": {\"gridcolor\": \"white\", \"linecolor\": \"white\", \"ticks\": \"\"}}, \"scene\": {\"xaxis\": {\"backgroundcolor\": \"#E5ECF6\", \"gridcolor\": \"white\", \"gridwidth\": 2, \"linecolor\": \"white\", \"showbackground\": true, \"ticks\": \"\", \"zerolinecolor\": \"white\"}, \"yaxis\": {\"backgroundcolor\": \"#E5ECF6\", \"gridcolor\": \"white\", \"gridwidth\": 2, \"linecolor\": \"white\", \"showbackground\": true, \"ticks\": \"\", \"zerolinecolor\": \"white\"}, \"zaxis\": {\"backgroundcolor\": \"#E5ECF6\", \"gridcolor\": \"white\", \"gridwidth\": 2, \"linecolor\": \"white\", \"showbackground\": true, \"ticks\": \"\", \"zerolinecolor\": \"white\"}}, \"shapedefaults\": {\"line\": {\"color\": \"#2a3f5f\"}}, \"ternary\": {\"aaxis\": {\"gridcolor\": \"white\", \"linecolor\": \"white\", \"ticks\": \"\"}, \"baxis\": {\"gridcolor\": \"white\", \"linecolor\": \"white\", \"ticks\": \"\"}, \"bgcolor\": \"#E5ECF6\", \"caxis\": {\"gridcolor\": \"white\", \"linecolor\": \"white\", \"ticks\": \"\"}}, \"title\": {\"x\": 0.05}, \"xaxis\": {\"automargin\": true, \"gridcolor\": \"white\", \"linecolor\": \"white\", \"ticks\": \"\", \"title\": {\"standoff\": 15}, \"zerolinecolor\": \"white\", \"zerolinewidth\": 2}, \"yaxis\": {\"automargin\": true, \"gridcolor\": \"white\", \"linecolor\": \"white\", \"ticks\": \"\", \"title\": {\"standoff\": 15}, \"zerolinecolor\": \"white\", \"zerolinewidth\": 2}}}, \"xaxis\": {\"anchor\": \"y\", \"domain\": [0.0, 1.0], \"title\": {\"text\": \"date\"}}, \"yaxis\": {\"anchor\": \"x\", \"domain\": [0.0, 1.0], \"title\": {\"text\": \"deaths\"}}},\n",
              "                        {\"responsive\": true}\n",
              "                    ).then(function(){\n",
              "                            \n",
              "var gd = document.getElementById('7969ed4b-80ce-441c-ae9b-22c71dbd3948');\n",
              "var x = new MutationObserver(function (mutations, observer) {{\n",
              "        var display = window.getComputedStyle(gd).display;\n",
              "        if (!display || display === 'none') {{\n",
              "            console.log([gd, 'removed!']);\n",
              "            Plotly.purge(gd);\n",
              "            observer.disconnect();\n",
              "        }}\n",
              "}});\n",
              "\n",
              "// Listen for the removal of the full notebook cells\n",
              "var notebookContainer = gd.closest('#notebook-container');\n",
              "if (notebookContainer) {{\n",
              "    x.observe(notebookContainer, {childList: true});\n",
              "}}\n",
              "\n",
              "// Listen for the clearing of the current output cell\n",
              "var outputEl = gd.closest('.output');\n",
              "if (outputEl) {{\n",
              "    x.observe(outputEl, {childList: true});\n",
              "}}\n",
              "\n",
              "                        })\n",
              "                };\n",
              "                \n",
              "            </script>\n",
              "        </div>\n",
              "</body>\n",
              "</html>"
            ]
          },
          "metadata": {}
        }
      ]
    },
    {
      "cell_type": "markdown",
      "source": [
        "The above graph shows the total covid deaths from 02/13/2020 until 12/04/2021 for the states of Texas, Florida, New York, and New Jersey. Texas and Florida have the two most deaths with Texas leading. New York and New Jersey have the least deaths with New York leading New Jersey with the most deaths out of the two.  "
      ],
      "metadata": {
        "id": "FpyllGBC-vg5"
      }
    },
    {
      "cell_type": "markdown",
      "metadata": {
        "id": "YnmiPAyIrDtJ"
      },
      "source": [
        "## **Initial Questions ▶**"
      ]
    },
    {
      "cell_type": "markdown",
      "metadata": {
        "id": "Q1Vj1ovRqId7"
      },
      "source": [
        "1. **Would it stand to reason that the states with more positive-neutral sentiments toward COVID-19 had lower total deaths?**\n",
        "\n",
        "There are no correlations between tweet sentiments and total deaths according to the curated dataset. Looking at the CSV dataset from the New York Times' Github on the total COVID-19 deaths for the states of Texas, Florida, New York, and New Jersey, it shows that Texas and Florida are top out of the states in terms of the total death count. Texas and Florida had different Positive to Negative sentiments as is apparent from the graph.\n",
        "\n",
        "  \n",
        "\n",
        "2. **Which state had a higher infection death count?**\n",
        "\n",
        "Texas has the higher death count out of all of the states. New Jersey has the least.\n",
        "\n",
        "3. **Which states had more negative than positive twitter sentiment to 'COVID-19' in their dataset?**\n",
        "\n",
        "Texas was the only state that had more negative twitter sentiments in its dataset than positive.\n",
        "\n",
        "\n",
        "4. **What was the most common sentiment in all datasets?**\n",
        "\n",
        "Neutral sentiment tweet was the most popular category having much of the tweets in the total dataset: 45.7% of textual data was neutral. 28% of the total textual dataset was positive in sentiment and 26.3% was negative.\n",
        "\n",
        "\n",
        "5. **Are the sentiment results correlated or related to total death count?**\n",
        "\n",
        "  No. There are no correlations/realtions between sentiment and total death counts. In the Texas dataset, its graph observed more negative sentiments than positive. In the Florida dataset, its graph observed more positive sentiments than negative.\n",
        "\n",
        " \n",
        "  If we look at New Jersey and New York, both datasets have more positive than negative sentiment tweets. New York has considerably more positive tweets than negative tweets. NJ has slightly more positive tweets than negative tweets.\n",
        "\n",
        "  If we wanted to make a statement that states that have more positive tweets to negative tweets have higher total death counts, Texas would have to have that same trend. Texas breaks this trend such that there are more negative tweets than positive tweets in its dataset despite it having the highest total death count out of all of the states.\n",
        "\n",
        "\n"
      ]
    },
    {
      "cell_type": "code",
      "source": [
        "## Visualizing the Text sentiments \n",
        "\n",
        "pos=df1[df1['Sentiments']=='Positive']\n",
        "neg=df1[df1['Sentiments']=='Negative']\n",
        "\n",
        "neu=df1[df1['Sentiments']=='Neutral']\n",
        "\n",
        "import plotly.express as px\n",
        "#Frist_Day = Frist_Day\n",
        "fig = px.pie(df1, names='Sentiments')\n",
        "fig.show()"
      ],
      "metadata": {
        "colab": {
          "base_uri": "https://localhost:8080/",
          "height": 542
        },
        "outputId": "de94e784-665b-4eb9-8f8b-b2d20f3b4e63",
        "id": "2bM2QUYLXz7i"
      },
      "execution_count": 342,
      "outputs": [
        {
          "output_type": "display_data",
          "data": {
            "text/html": [
              "<html>\n",
              "<head><meta charset=\"utf-8\" /></head>\n",
              "<body>\n",
              "    <div>\n",
              "            <script src=\"https://cdnjs.cloudflare.com/ajax/libs/mathjax/2.7.5/MathJax.js?config=TeX-AMS-MML_SVG\"></script><script type=\"text/javascript\">if (window.MathJax) {MathJax.Hub.Config({SVG: {font: \"STIX-Web\"}});}</script>\n",
              "                <script type=\"text/javascript\">window.PlotlyConfig = {MathJaxConfig: 'local'};</script>\n",
              "        <script src=\"https://cdn.plot.ly/plotly-latest.min.js\"></script>    \n",
              "            <div id=\"b987eae7-9929-48b7-b72a-98f7276eea9f\" class=\"plotly-graph-div\" style=\"height:525px; width:100%;\"></div>\n",
              "            <script type=\"text/javascript\">\n",
              "                \n",
              "                    window.PLOTLYENV=window.PLOTLYENV || {};\n",
              "                    \n",
              "                if (document.getElementById(\"b987eae7-9929-48b7-b72a-98f7276eea9f\")) {\n",
              "                    Plotly.newPlot(\n",
              "                        'b987eae7-9929-48b7-b72a-98f7276eea9f',\n",
              "                        [{\"domain\": {\"x\": [0.0, 1.0], \"y\": [0.0, 1.0]}, \"hoverlabel\": {\"namelength\": 0}, \"hovertemplate\": \"Sentiments=%{label}\", \"labels\": [\"Positive\", \"Positive\", \"Positive\", \"Positive\", \"Neutral\", \"Negative\", \"Neutral\", \"Neutral\", \"Negative\", \"Positive\", \"Neutral\", \"Positive\", \"Negative\", \"Neutral\", \"Negative\", \"Negative\", \"Negative\", \"Neutral\", \"Neutral\", \"Neutral\", \"Positive\", \"Negative\", \"Positive\", \"Neutral\", \"Positive\", \"Positive\", \"Negative\", \"Positive\", \"Neutral\", \"Negative\", \"Negative\", \"Positive\", \"Neutral\", \"Negative\", \"Neutral\", \"Neutral\", \"Neutral\", \"Neutral\", \"Negative\", \"Neutral\", \"Positive\", \"Negative\", \"Positive\", \"Positive\", \"Neutral\", \"Negative\", \"Negative\", \"Neutral\", \"Negative\", \"Neutral\", \"Positive\", \"Neutral\", \"Negative\", \"Neutral\", \"Negative\", \"Neutral\", \"Negative\", \"Positive\", \"Positive\", \"Negative\", \"Positive\", \"Neutral\", \"Neutral\", \"Neutral\", \"Negative\", \"Negative\", \"Positive\", \"Negative\", \"Neutral\", \"Negative\", \"Neutral\", \"Negative\", \"Neutral\", \"Negative\", \"Neutral\", \"Negative\", \"Neutral\", \"Positive\", \"Neutral\", \"Neutral\", \"Positive\", \"Negative\", \"Negative\", \"Neutral\", \"Negative\", \"Neutral\", \"Negative\", \"Neutral\", \"Neutral\", \"Neutral\", \"Positive\", \"Positive\", \"Neutral\", \"Neutral\", \"Positive\", \"Neutral\", \"Negative\", \"Positive\", \"Neutral\", \"Neutral\", \"Negative\", \"Negative\", \"Positive\", \"Positive\", \"Neutral\", \"Negative\", \"Neutral\", \"Positive\", \"Positive\", \"Negative\", \"Neutral\", \"Neutral\", \"Neutral\", \"Neutral\", \"Neutral\", \"Positive\", \"Positive\", \"Positive\", \"Positive\", \"Neutral\", \"Neutral\", \"Positive\", \"Neutral\", \"Negative\", \"Positive\", \"Positive\", \"Negative\", \"Positive\", \"Neutral\", \"Positive\", \"Negative\", \"Neutral\", \"Positive\", \"Negative\", \"Negative\", \"Negative\", \"Negative\", \"Positive\", \"Neutral\", \"Positive\", \"Neutral\", \"Neutral\", \"Neutral\", \"Neutral\", \"Neutral\", \"Neutral\", \"Neutral\", \"Neutral\", \"Negative\", \"Neutral\", \"Negative\", \"Positive\", \"Neutral\", \"Positive\", \"Negative\", \"Positive\", \"Neutral\", \"Positive\", \"Neutral\", \"Positive\", \"Positive\", \"Negative\", \"Neutral\", \"Neutral\", \"Negative\", \"Negative\", \"Negative\", \"Positive\", \"Positive\", \"Neutral\", \"Neutral\", \"Negative\", \"Positive\", \"Positive\", \"Positive\", \"Negative\", \"Negative\", \"Negative\", \"Neutral\", \"Positive\", \"Positive\", \"Neutral\", \"Negative\", \"Positive\", \"Positive\", \"Neutral\", \"Negative\", \"Neutral\", \"Neutral\", \"Negative\", \"Negative\", \"Negative\", \"Negative\", \"Negative\", \"Neutral\", \"Neutral\", \"Neutral\", \"Neutral\", \"Positive\", \"Negative\", \"Positive\", \"Neutral\", \"Positive\", \"Neutral\", \"Negative\", \"Neutral\", \"Positive\", \"Negative\", \"Neutral\", \"Positive\", \"Negative\", \"Neutral\", \"Negative\", \"Positive\", \"Negative\", \"Negative\", \"Neutral\", \"Neutral\", \"Neutral\", \"Negative\", \"Neutral\", \"Neutral\", \"Neutral\", \"Neutral\", \"Neutral\", \"Neutral\", \"Negative\", \"Neutral\", \"Negative\", \"Positive\", \"Negative\", \"Negative\", \"Negative\", \"Neutral\", \"Positive\", \"Neutral\", \"Negative\", \"Neutral\", \"Positive\", \"Negative\", \"Neutral\", \"Negative\", \"Negative\", \"Neutral\", \"Negative\", \"Neutral\", \"Negative\", \"Negative\", \"Neutral\", \"Positive\", \"Neutral\", \"Neutral\", \"Neutral\", \"Neutral\", \"Neutral\", \"Neutral\", \"Positive\", \"Negative\", \"Positive\", \"Positive\", \"Negative\", \"Positive\", \"Neutral\", \"Positive\", \"Neutral\", \"Positive\", \"Neutral\", \"Neutral\", \"Negative\", \"Neutral\", \"Neutral\", \"Neutral\", \"Positive\", \"Positive\", \"Neutral\", \"Neutral\", \"Neutral\", \"Positive\", \"Neutral\", \"Negative\", \"Negative\", \"Positive\", \"Positive\", \"Positive\", \"Positive\", \"Neutral\", \"Neutral\", \"Negative\", \"Neutral\", \"Neutral\", \"Neutral\", \"Neutral\", \"Neutral\", \"Neutral\", \"Neutral\", \"Neutral\", \"Neutral\", \"Neutral\", \"Positive\", \"Neutral\", \"Neutral\", \"Neutral\", \"Neutral\", \"Positive\", \"Negative\", \"Positive\", \"Negative\", \"Neutral\", \"Negative\", \"Positive\", \"Positive\", \"Negative\", \"Neutral\", \"Neutral\", \"Neutral\", \"Neutral\", \"Positive\", \"Positive\", \"Neutral\", \"Neutral\", \"Negative\", \"Negative\", \"Positive\", \"Neutral\", \"Positive\", \"Negative\", \"Neutral\", \"Neutral\", \"Positive\", \"Positive\", \"Negative\", \"Neutral\", \"Neutral\", \"Positive\", \"Positive\", \"Neutral\", \"Neutral\", \"Positive\", \"Neutral\", \"Positive\", \"Neutral\", \"Neutral\", \"Neutral\", \"Neutral\", \"Neutral\", \"Positive\", \"Neutral\", \"Positive\", \"Negative\", \"Neutral\", \"Neutral\", \"Neutral\", \"Neutral\", \"Positive\", \"Neutral\", \"Negative\", \"Negative\", \"Neutral\", \"Negative\", \"Positive\", \"Neutral\", \"Neutral\", \"Positive\", \"Neutral\", \"Negative\", \"Neutral\", \"Neutral\", \"Neutral\", \"Neutral\", \"Positive\", \"Positive\", \"Positive\", \"Negative\", \"Neutral\", \"Neutral\", \"Neutral\", \"Positive\", \"Neutral\", \"Negative\", \"Negative\", \"Positive\", \"Neutral\", \"Neutral\", \"Positive\", \"Neutral\", \"Positive\", \"Neutral\", \"Neutral\", \"Negative\", \"Neutral\", \"Neutral\", \"Positive\", \"Positive\", \"Negative\", \"Negative\", \"Neutral\", \"Neutral\", \"Negative\", \"Neutral\", \"Neutral\", \"Neutral\", \"Neutral\", \"Neutral\", \"Negative\", \"Neutral\", \"Positive\", \"Negative\", \"Negative\", \"Negative\", \"Negative\", \"Negative\", \"Negative\", \"Negative\", \"Neutral\", \"Negative\", \"Neutral\", \"Negative\", \"Neutral\", \"Neutral\", \"Positive\", \"Negative\", \"Neutral\", \"Neutral\", \"Neutral\", \"Neutral\", \"Positive\", \"Negative\", \"Negative\", \"Negative\", \"Neutral\", \"Neutral\", \"Neutral\", \"Neutral\", \"Neutral\", \"Neutral\", \"Neutral\", \"Positive\", \"Negative\", \"Negative\", \"Positive\", \"Negative\", \"Neutral\", \"Neutral\", \"Neutral\", \"Positive\", \"Negative\", \"Neutral\", \"Negative\", \"Neutral\", \"Negative\", \"Negative\", \"Neutral\", \"Neutral\", \"Positive\", \"Negative\", \"Neutral\", \"Negative\", \"Negative\", \"Positive\", \"Positive\", \"Neutral\", \"Positive\", \"Neutral\", \"Neutral\", \"Neutral\", \"Negative\", \"Negative\", \"Negative\", \"Negative\", \"Positive\", \"Negative\", \"Neutral\", \"Positive\", \"Negative\", \"Positive\", \"Positive\", \"Neutral\", \"Neutral\", \"Negative\", \"Neutral\", \"Negative\", \"Neutral\", \"Negative\", \"Negative\", \"Neutral\", \"Neutral\", \"Positive\", \"Negative\", \"Positive\", \"Neutral\", \"Positive\", \"Negative\", \"Positive\", \"Neutral\", \"Neutral\", \"Neutral\", \"Neutral\", \"Neutral\", \"Negative\", \"Positive\", \"Neutral\", \"Neutral\", \"Negative\", \"Neutral\", \"Positive\", \"Neutral\", \"Positive\", \"Neutral\", \"Positive\", \"Neutral\", \"Negative\", \"Neutral\", \"Positive\", \"Neutral\", \"Negative\", \"Negative\", \"Positive\", \"Negative\", \"Negative\", \"Neutral\", \"Neutral\", \"Neutral\", \"Neutral\", \"Negative\", \"Neutral\", \"Neutral\", \"Negative\", \"Negative\", \"Positive\", \"Neutral\", \"Positive\", \"Neutral\", \"Positive\", \"Positive\", \"Positive\", \"Neutral\", \"Neutral\", \"Positive\", \"Negative\", \"Neutral\", \"Neutral\", \"Neutral\", \"Neutral\", \"Neutral\", \"Negative\", \"Neutral\", \"Neutral\", \"Negative\", \"Negative\", \"Negative\", \"Neutral\", \"Negative\", \"Negative\", \"Neutral\", \"Negative\", \"Neutral\", \"Neutral\", \"Neutral\", \"Neutral\", \"Positive\", \"Neutral\", \"Neutral\", \"Positive\", \"Neutral\", \"Negative\", \"Positive\", \"Positive\", \"Neutral\", \"Neutral\", \"Positive\", \"Neutral\", \"Neutral\", \"Neutral\", \"Neutral\", \"Negative\", \"Negative\", \"Negative\", \"Neutral\", \"Positive\", \"Negative\", \"Negative\", \"Neutral\", \"Positive\", \"Negative\", \"Neutral\", \"Negative\", \"Positive\", \"Positive\", \"Neutral\", \"Neutral\", \"Neutral\", \"Negative\", \"Negative\", \"Neutral\", \"Negative\", \"Positive\", \"Neutral\", \"Neutral\", \"Positive\", \"Neutral\", \"Neutral\", \"Neutral\", \"Neutral\", \"Positive\", \"Neutral\", \"Neutral\", \"Negative\", \"Neutral\", \"Neutral\", \"Negative\", \"Neutral\", \"Neutral\", \"Neutral\", \"Neutral\", \"Negative\", \"Neutral\", \"Negative\", \"Positive\", \"Negative\", \"Neutral\", \"Negative\", \"Neutral\", \"Positive\", \"Negative\", \"Neutral\", \"Neutral\", \"Positive\", \"Positive\", \"Negative\", \"Neutral\", \"Negative\", \"Negative\", \"Neutral\", \"Negative\", \"Neutral\", \"Positive\", \"Positive\", \"Negative\", \"Positive\", \"Neutral\", \"Neutral\", \"Neutral\", \"Negative\", \"Neutral\", \"Neutral\", \"Negative\", \"Negative\", \"Neutral\", \"Neutral\", \"Positive\", \"Neutral\", \"Neutral\", \"Neutral\", \"Neutral\", \"Neutral\", \"Negative\", \"Neutral\", \"Negative\", \"Neutral\", \"Neutral\", \"Positive\", \"Neutral\", \"Neutral\", \"Positive\", \"Positive\", \"Positive\", \"Positive\", \"Negative\", \"Neutral\", \"Neutral\", \"Neutral\", \"Neutral\", \"Neutral\", \"Positive\", \"Negative\", \"Negative\", \"Neutral\", \"Positive\", \"Neutral\", \"Negative\", \"Positive\", \"Negative\", \"Negative\", \"Negative\", \"Neutral\", \"Positive\", \"Negative\", \"Negative\", \"Neutral\", \"Neutral\", \"Positive\", \"Neutral\", \"Positive\", \"Neutral\", \"Negative\", \"Positive\", \"Neutral\", \"Negative\", \"Positive\", \"Neutral\", \"Positive\", \"Positive\", \"Neutral\", \"Positive\", \"Positive\", \"Negative\", \"Positive\", \"Negative\", \"Positive\", \"Positive\", \"Negative\", \"Negative\", \"Positive\", \"Positive\", \"Negative\", \"Negative\", \"Neutral\", \"Neutral\", \"Positive\", \"Neutral\", \"Neutral\", \"Neutral\", \"Neutral\", \"Positive\", \"Neutral\", \"Positive\", \"Negative\", \"Neutral\", \"Neutral\", \"Positive\", \"Positive\", \"Positive\", \"Neutral\", \"Neutral\", \"Positive\", \"Negative\", \"Negative\", \"Positive\", \"Neutral\", \"Positive\", \"Positive\", \"Negative\", \"Positive\", \"Neutral\", \"Neutral\", \"Neutral\", \"Negative\", \"Neutral\", \"Positive\", \"Neutral\", \"Neutral\", \"Positive\", \"Positive\", \"Positive\", \"Positive\", \"Positive\", \"Neutral\", \"Neutral\", \"Positive\", \"Neutral\", \"Neutral\", \"Neutral\", \"Positive\", \"Negative\", \"Neutral\", \"Neutral\", \"Negative\", \"Negative\", \"Neutral\", \"Positive\", \"Neutral\", \"Neutral\", \"Neutral\", \"Negative\", \"Neutral\", \"Neutral\", \"Negative\", \"Positive\", \"Neutral\", \"Neutral\", \"Positive\", \"Neutral\", \"Positive\", \"Negative\", \"Neutral\", \"Positive\", \"Negative\", \"Positive\", \"Positive\", \"Neutral\", \"Positive\", \"Positive\", \"Positive\", \"Neutral\", \"Neutral\", \"Neutral\", \"Negative\", \"Positive\", \"Negative\", \"Neutral\", \"Positive\", \"Positive\", \"Neutral\", \"Neutral\", \"Neutral\", \"Neutral\", \"Negative\", \"Neutral\", \"Positive\", \"Positive\", \"Neutral\", \"Neutral\", \"Positive\", \"Negative\", \"Positive\", \"Neutral\", \"Negative\", \"Neutral\", \"Neutral\", \"Neutral\", \"Positive\", \"Positive\", \"Negative\", \"Neutral\", \"Negative\", \"Negative\", \"Positive\", \"Positive\", \"Positive\", \"Neutral\", \"Positive\", \"Negative\", \"Positive\", \"Positive\", \"Neutral\", \"Negative\", \"Negative\", \"Positive\", \"Neutral\", \"Neutral\", \"Positive\", \"Positive\", \"Negative\", \"Positive\", \"Neutral\", \"Negative\", \"Neutral\", \"Negative\", \"Neutral\", \"Negative\", \"Neutral\", \"Neutral\", \"Neutral\", \"Neutral\", \"Neutral\", \"Negative\", \"Positive\", \"Positive\", \"Neutral\", \"Neutral\", \"Negative\", \"Neutral\", \"Neutral\", \"Neutral\", \"Neutral\", \"Positive\", \"Neutral\", \"Positive\", \"Neutral\", \"Neutral\", \"Positive\", \"Neutral\", \"Neutral\", \"Negative\", \"Neutral\", \"Positive\", \"Negative\", \"Neutral\", \"Neutral\", \"Positive\", \"Negative\", \"Positive\", \"Negative\", \"Neutral\", \"Neutral\", \"Positive\", \"Positive\", \"Positive\", \"Neutral\", \"Neutral\", \"Negative\", \"Neutral\", \"Neutral\", \"Neutral\", \"Negative\", \"Positive\", \"Neutral\", \"Negative\", \"Negative\", \"Neutral\", \"Neutral\", \"Negative\", \"Negative\", \"Neutral\", \"Neutral\", \"Positive\", \"Positive\", \"Neutral\", \"Negative\", \"Negative\", \"Positive\", \"Positive\", \"Positive\", \"Positive\", \"Neutral\", \"Positive\", \"Neutral\", \"Positive\", \"Positive\", \"Negative\", \"Positive\", \"Neutral\", \"Neutral\", \"Neutral\", \"Positive\", \"Positive\", \"Negative\", \"Negative\", \"Negative\", \"Negative\", \"Neutral\", \"Positive\", \"Negative\", \"Negative\", \"Negative\", \"Neutral\", \"Neutral\", \"Negative\", \"Neutral\", \"Negative\", \"Negative\", \"Neutral\", \"Negative\", \"Neutral\", \"Neutral\", \"Negative\", \"Negative\", \"Positive\", \"Negative\", \"Negative\", \"Neutral\", \"Neutral\", \"Negative\", \"Negative\", \"Positive\", \"Negative\", \"Positive\", \"Negative\", \"Neutral\", \"Negative\", \"Negative\", \"Positive\", \"Neutral\", \"Negative\", \"Negative\", \"Positive\", \"Neutral\", \"Negative\", \"Neutral\", \"Neutral\", \"Neutral\", \"Negative\", \"Negative\", \"Negative\", \"Positive\", \"Neutral\", \"Positive\", \"Neutral\", \"Positive\", \"Neutral\", \"Negative\", \"Positive\", \"Neutral\", \"Positive\", \"Positive\", \"Neutral\", \"Neutral\", \"Positive\", \"Positive\", \"Neutral\", \"Neutral\", \"Negative\", \"Neutral\", \"Negative\", \"Neutral\", \"Positive\", \"Negative\", \"Positive\", \"Neutral\", \"Neutral\", \"Neutral\", \"Negative\", \"Neutral\", \"Positive\", \"Neutral\", \"Neutral\", \"Neutral\", \"Positive\", \"Positive\", \"Negative\", \"Neutral\", \"Positive\", \"Neutral\", \"Negative\", \"Negative\", \"Neutral\", \"Positive\", \"Negative\", \"Neutral\", \"Neutral\", \"Neutral\", \"Neutral\", \"Negative\", \"Neutral\", \"Neutral\", \"Positive\", \"Negative\", \"Neutral\", \"Negative\", \"Positive\", \"Positive\", \"Neutral\", \"Neutral\", \"Neutral\", \"Neutral\", \"Neutral\", \"Positive\", \"Positive\", \"Neutral\", \"Neutral\", \"Positive\", \"Neutral\", \"Neutral\", \"Neutral\", \"Positive\", \"Positive\", \"Positive\", \"Neutral\", \"Positive\", \"Negative\", \"Negative\", \"Positive\", \"Positive\", \"Neutral\", \"Negative\", \"Negative\", \"Positive\", \"Positive\", \"Neutral\", \"Neutral\", \"Negative\", \"Neutral\", \"Negative\", \"Neutral\", \"Negative\", \"Negative\", \"Neutral\", \"Neutral\", \"Neutral\", \"Neutral\", \"Positive\", \"Neutral\", \"Neutral\", \"Neutral\", \"Positive\", \"Negative\", \"Neutral\", \"Neutral\", \"Neutral\", \"Positive\", \"Positive\", \"Neutral\", \"Negative\", \"Neutral\", \"Positive\", \"Negative\", \"Negative\", \"Positive\", \"Negative\", \"Negative\", \"Positive\", \"Positive\", \"Neutral\", \"Neutral\", \"Positive\", \"Positive\", \"Positive\", \"Negative\", \"Neutral\", \"Positive\", \"Neutral\", \"Neutral\", \"Neutral\", \"Neutral\", \"Neutral\", \"Positive\", \"Positive\", \"Positive\", \"Negative\", \"Neutral\", \"Neutral\", \"Neutral\", \"Positive\", \"Neutral\", \"Neutral\", \"Neutral\", \"Negative\", \"Neutral\", \"Negative\", \"Negative\", \"Neutral\", \"Neutral\", \"Neutral\", \"Negative\", \"Neutral\", \"Neutral\", \"Neutral\", \"Neutral\", \"Neutral\", \"Neutral\", \"Neutral\", \"Negative\", \"Neutral\", \"Neutral\", \"Positive\", \"Positive\", \"Neutral\", \"Neutral\", \"Negative\", \"Negative\", \"Neutral\", \"Negative\", \"Positive\", \"Positive\", \"Neutral\", \"Positive\", \"Positive\", \"Neutral\", \"Neutral\", \"Neutral\", \"Positive\", \"Neutral\", \"Positive\", \"Positive\", \"Positive\", \"Neutral\", \"Negative\", \"Neutral\", \"Neutral\", \"Neutral\", \"Neutral\", \"Negative\", \"Positive\", \"Positive\", \"Positive\", \"Negative\", \"Neutral\", \"Neutral\", \"Negative\", \"Neutral\", \"Neutral\", \"Neutral\", \"Neutral\", \"Negative\", \"Positive\", \"Neutral\", \"Negative\", \"Neutral\", \"Positive\", \"Positive\", \"Neutral\", \"Negative\", \"Positive\", \"Neutral\", \"Positive\", \"Neutral\", \"Neutral\", \"Positive\", \"Neutral\", \"Positive\", \"Positive\", \"Positive\", \"Neutral\", \"Neutral\", \"Positive\", \"Neutral\", \"Neutral\", \"Neutral\", \"Neutral\", \"Positive\", \"Negative\", \"Neutral\", \"Neutral\", \"Neutral\", \"Negative\", \"Positive\", \"Positive\", \"Neutral\", \"Neutral\", \"Neutral\", \"Negative\", \"Neutral\", \"Negative\", \"Neutral\", \"Negative\", \"Negative\", \"Neutral\", \"Positive\", \"Positive\", \"Negative\", \"Negative\", \"Neutral\", \"Positive\", \"Neutral\", \"Negative\", \"Neutral\", \"Positive\", \"Positive\", \"Negative\", \"Positive\", \"Neutral\", \"Neutral\", \"Negative\", \"Positive\", \"Neutral\", \"Neutral\", \"Negative\", \"Neutral\", \"Positive\", \"Positive\", \"Neutral\", \"Neutral\", \"Negative\", \"Neutral\", \"Neutral\", \"Negative\", \"Neutral\", \"Negative\", \"Negative\", \"Neutral\", \"Positive\", \"Negative\", \"Positive\", \"Negative\", \"Positive\", \"Negative\", \"Neutral\", \"Neutral\", \"Positive\", \"Negative\", \"Negative\", \"Neutral\", \"Positive\", \"Neutral\", \"Positive\", \"Neutral\", \"Positive\", \"Neutral\", \"Positive\", \"Neutral\", \"Negative\", \"Neutral\", \"Negative\", \"Negative\", \"Positive\", \"Positive\", \"Neutral\", \"Negative\", \"Positive\", \"Positive\", \"Neutral\", \"Neutral\", \"Positive\", \"Positive\", \"Neutral\", \"Positive\", \"Neutral\", \"Neutral\", \"Neutral\", \"Negative\", \"Negative\", \"Neutral\", \"Negative\", \"Positive\", \"Neutral\", \"Positive\", \"Neutral\", \"Neutral\", \"Neutral\", \"Negative\", \"Positive\", \"Negative\", \"Positive\", \"Neutral\", \"Positive\", \"Neutral\", \"Positive\", \"Negative\", \"Negative\", \"Positive\", \"Negative\", \"Negative\", \"Neutral\", \"Negative\", \"Neutral\", \"Positive\", \"Neutral\", \"Neutral\", \"Positive\", \"Positive\", \"Neutral\", \"Negative\", \"Neutral\", \"Positive\", \"Negative\", \"Negative\", \"Positive\", \"Positive\", \"Negative\", \"Neutral\", \"Neutral\", \"Positive\", \"Negative\", \"Negative\", \"Negative\", \"Neutral\", \"Negative\", \"Negative\", \"Negative\", \"Negative\", \"Neutral\", \"Neutral\", \"Neutral\", \"Positive\", \"Neutral\", \"Negative\", \"Positive\", \"Neutral\", \"Neutral\", \"Positive\", \"Neutral\", \"Positive\", \"Neutral\", \"Neutral\", \"Negative\", \"Negative\", \"Neutral\", \"Negative\", \"Neutral\", \"Neutral\", \"Neutral\", \"Neutral\", \"Negative\", \"Negative\", \"Negative\", \"Neutral\", \"Neutral\", \"Neutral\", \"Neutral\", \"Neutral\", \"Neutral\", \"Negative\", \"Positive\", \"Positive\", \"Neutral\", \"Neutral\", \"Neutral\", \"Neutral\", \"Positive\", \"Neutral\", \"Neutral\", \"Negative\", \"Neutral\", \"Neutral\", \"Positive\", \"Neutral\", \"Negative\", \"Neutral\", \"Neutral\", \"Positive\", \"Positive\", \"Negative\", \"Neutral\", \"Neutral\", \"Positive\", \"Neutral\", \"Negative\", \"Neutral\", \"Positive\", \"Neutral\", \"Neutral\", \"Positive\", \"Positive\", \"Neutral\", \"Neutral\", \"Neutral\", \"Negative\", \"Neutral\", \"Neutral\", \"Positive\", \"Neutral\", \"Positive\", \"Neutral\", \"Negative\", \"Negative\", \"Negative\", \"Positive\", \"Neutral\", \"Neutral\", \"Negative\", \"Neutral\", \"Neutral\", \"Neutral\", \"Positive\", \"Neutral\", \"Positive\", \"Neutral\", \"Positive\", \"Positive\", \"Negative\", \"Neutral\", \"Neutral\", \"Neutral\", \"Negative\", \"Positive\", \"Neutral\", \"Negative\", \"Neutral\", \"Positive\", \"Neutral\", \"Positive\", \"Neutral\", \"Negative\", \"Positive\", \"Neutral\", \"Positive\", \"Positive\", \"Neutral\", \"Neutral\", \"Neutral\", \"Negative\", \"Positive\", \"Neutral\", \"Neutral\", \"Negative\", \"Neutral\", \"Negative\", \"Negative\", \"Neutral\", \"Positive\", \"Neutral\", \"Neutral\", \"Negative\", \"Negative\", \"Neutral\", \"Neutral\", \"Positive\", \"Neutral\", \"Positive\", \"Neutral\", \"Neutral\", \"Neutral\", \"Negative\", \"Neutral\", \"Neutral\", \"Negative\", \"Positive\", \"Positive\", \"Positive\", \"Neutral\", \"Neutral\", \"Neutral\", \"Neutral\", \"Neutral\", \"Negative\", \"Negative\", \"Negative\", \"Negative\", \"Neutral\", \"Negative\", \"Neutral\", \"Positive\", \"Negative\", \"Neutral\", \"Neutral\", \"Negative\", \"Negative\", \"Negative\", \"Neutral\", \"Positive\", \"Negative\", \"Positive\", \"Neutral\", \"Positive\", \"Positive\", \"Neutral\", \"Positive\", \"Neutral\", \"Neutral\", \"Neutral\", \"Neutral\", \"Neutral\", \"Negative\", \"Positive\", \"Neutral\", \"Negative\", \"Neutral\", \"Positive\", \"Neutral\", \"Neutral\", \"Positive\", \"Positive\", \"Negative\", \"Neutral\", \"Neutral\", \"Positive\", \"Negative\", \"Positive\", \"Negative\", \"Neutral\", \"Neutral\", \"Positive\", \"Positive\", \"Neutral\", \"Positive\", \"Negative\", \"Neutral\", \"Negative\", \"Positive\", \"Neutral\", \"Neutral\", \"Positive\", \"Negative\", \"Negative\", \"Neutral\", \"Negative\", \"Positive\", \"Positive\", \"Neutral\", \"Negative\", \"Neutral\", \"Negative\", \"Negative\", \"Positive\", \"Negative\", \"Neutral\", \"Positive\", \"Negative\", \"Negative\", \"Neutral\", \"Negative\", \"Negative\", \"Neutral\", \"Positive\", \"Neutral\", \"Neutral\", \"Positive\", \"Negative\", \"Positive\", \"Neutral\", \"Negative\", \"Positive\", \"Negative\", \"Neutral\", \"Neutral\", \"Positive\", \"Negative\", \"Neutral\", \"Negative\", \"Negative\", \"Neutral\", \"Positive\", \"Positive\", \"Negative\", \"Neutral\", \"Neutral\", \"Neutral\", \"Negative\", \"Neutral\", \"Neutral\", \"Positive\", \"Negative\", \"Neutral\", \"Neutral\", \"Neutral\", \"Neutral\", \"Neutral\", \"Positive\", \"Neutral\", \"Neutral\", \"Positive\", \"Neutral\", \"Negative\", \"Neutral\", \"Positive\", \"Neutral\", \"Neutral\", \"Negative\", \"Neutral\", \"Positive\", \"Neutral\", \"Positive\", \"Neutral\", \"Neutral\", \"Neutral\", \"Neutral\", \"Neutral\", \"Neutral\", \"Positive\", \"Neutral\", \"Positive\", \"Neutral\", \"Negative\", \"Neutral\", \"Neutral\", \"Positive\", \"Positive\", \"Positive\", \"Neutral\", \"Neutral\", \"Negative\", \"Negative\", \"Positive\", \"Neutral\", \"Neutral\", \"Positive\", \"Positive\", \"Neutral\", \"Positive\", \"Negative\", \"Neutral\", \"Negative\", \"Neutral\", \"Positive\", \"Positive\", \"Neutral\", \"Positive\", \"Negative\", \"Neutral\", \"Positive\", \"Positive\", \"Neutral\", \"Neutral\", \"Positive\", \"Positive\", \"Positive\", \"Negative\", \"Neutral\", \"Neutral\", \"Negative\", \"Neutral\", \"Neutral\", \"Neutral\", \"Positive\", \"Negative\", \"Negative\", \"Neutral\", \"Neutral\", \"Neutral\", \"Positive\", \"Positive\", \"Neutral\", \"Neutral\", \"Neutral\", \"Negative\", \"Negative\", \"Neutral\", \"Neutral\", \"Neutral\", \"Negative\", \"Positive\", \"Neutral\", \"Positive\", \"Neutral\", \"Neutral\", \"Neutral\", \"Negative\", \"Positive\", \"Negative\", \"Neutral\", \"Negative\", \"Negative\", \"Neutral\", \"Neutral\", \"Positive\", \"Positive\", \"Positive\", \"Neutral\", \"Neutral\", \"Negative\", \"Positive\", \"Positive\", \"Negative\", \"Negative\", \"Positive\", \"Negative\", \"Positive\", \"Negative\", \"Neutral\", \"Neutral\", \"Neutral\", \"Neutral\", \"Positive\", \"Negative\", \"Neutral\", \"Negative\", \"Positive\", \"Neutral\", \"Neutral\", \"Neutral\", \"Negative\", \"Negative\", \"Positive\", \"Positive\", \"Negative\", \"Neutral\", \"Negative\", \"Positive\", \"Negative\", \"Neutral\", \"Neutral\", \"Positive\", \"Neutral\", \"Positive\", \"Neutral\", \"Neutral\", \"Negative\", \"Negative\", \"Neutral\", \"Positive\", \"Neutral\", \"Positive\", \"Neutral\", \"Neutral\", \"Neutral\", \"Positive\", \"Positive\", \"Positive\", \"Neutral\", \"Positive\", \"Positive\", \"Positive\", \"Neutral\", \"Negative\", \"Neutral\", \"Neutral\", \"Neutral\", \"Positive\", \"Positive\", \"Positive\", \"Positive\", \"Negative\", \"Positive\", \"Neutral\", \"Neutral\", \"Negative\", \"Neutral\", \"Neutral\", \"Negative\", \"Negative\", \"Negative\", \"Neutral\", \"Positive\", \"Positive\", \"Negative\", \"Positive\", \"Neutral\", \"Positive\", \"Neutral\", \"Negative\", \"Neutral\", \"Positive\", \"Positive\", \"Positive\", \"Negative\", \"Positive\", \"Positive\", \"Positive\", \"Neutral\", \"Neutral\", \"Positive\", \"Neutral\", \"Neutral\", \"Positive\", \"Neutral\", \"Positive\", \"Neutral\", \"Negative\", \"Neutral\", \"Positive\", \"Neutral\", \"Negative\", \"Neutral\", \"Neutral\", \"Positive\", \"Neutral\", \"Positive\", \"Negative\", \"Negative\", \"Positive\", \"Neutral\", \"Positive\", \"Neutral\", \"Negative\", \"Neutral\", \"Negative\", \"Neutral\", \"Negative\", \"Positive\", \"Negative\", \"Neutral\", \"Negative\", \"Negative\", \"Positive\", \"Neutral\", \"Neutral\", \"Neutral\", \"Negative\", \"Negative\", \"Negative\", \"Negative\", \"Neutral\", \"Neutral\", \"Negative\", \"Neutral\", \"Positive\", \"Positive\", \"Positive\", \"Positive\", \"Positive\", \"Neutral\", \"Positive\", \"Negative\", \"Negative\", \"Positive\", \"Negative\", \"Negative\", \"Neutral\", \"Neutral\", \"Positive\", \"Positive\", \"Neutral\", \"Neutral\", \"Positive\", \"Positive\", \"Neutral\", \"Neutral\", \"Negative\", \"Neutral\", \"Positive\", \"Negative\", \"Positive\", \"Neutral\", \"Neutral\", \"Negative\", \"Neutral\", \"Neutral\", \"Positive\", \"Neutral\", \"Neutral\", \"Negative\", \"Positive\", \"Neutral\", \"Neutral\", \"Positive\", \"Positive\", \"Negative\", \"Negative\", \"Neutral\", \"Neutral\", \"Neutral\", \"Positive\", \"Neutral\", \"Neutral\", \"Negative\", \"Negative\", \"Neutral\", \"Neutral\", \"Neutral\", \"Negative\", \"Negative\", \"Negative\", \"Positive\", \"Negative\", \"Neutral\", \"Negative\", \"Neutral\", \"Neutral\", \"Positive\", \"Positive\", \"Neutral\", \"Neutral\", \"Positive\", \"Neutral\", \"Neutral\", \"Negative\", \"Positive\", \"Neutral\", \"Neutral\", \"Positive\", \"Negative\", \"Neutral\", \"Negative\", \"Negative\", \"Negative\", \"Negative\", \"Negative\", \"Negative\", \"Neutral\", \"Positive\", \"Neutral\", \"Positive\", \"Neutral\", \"Negative\", \"Negative\", \"Neutral\", \"Negative\", \"Negative\", \"Negative\", \"Positive\", \"Negative\", \"Negative\", \"Negative\", \"Negative\", \"Neutral\", \"Negative\", \"Positive\", \"Neutral\", \"Neutral\", \"Neutral\", \"Neutral\", \"Neutral\", \"Neutral\", \"Negative\", \"Neutral\", \"Neutral\", \"Neutral\", \"Neutral\", \"Neutral\", \"Negative\", \"Neutral\", \"Neutral\", \"Neutral\", \"Neutral\", \"Negative\", \"Neutral\", \"Neutral\", \"Neutral\", \"Neutral\", \"Positive\", \"Negative\", \"Positive\", \"Neutral\", \"Negative\", \"Neutral\", \"Neutral\", \"Negative\", \"Negative\", \"Positive\", \"Positive\", \"Negative\", \"Positive\", \"Neutral\", \"Positive\", \"Negative\", \"Neutral\", \"Positive\", \"Neutral\", \"Neutral\", \"Neutral\", \"Negative\", \"Neutral\", \"Negative\", \"Negative\", \"Neutral\", \"Neutral\", \"Positive\", \"Neutral\", \"Positive\", \"Positive\", \"Negative\", \"Positive\", \"Neutral\", \"Neutral\", \"Neutral\", \"Positive\", \"Positive\", \"Negative\", \"Negative\", \"Neutral\", \"Negative\", \"Neutral\", \"Negative\", \"Positive\", \"Negative\", \"Negative\", \"Neutral\", \"Neutral\", \"Positive\", \"Negative\", \"Negative\", \"Negative\", \"Negative\", \"Neutral\", \"Negative\", \"Neutral\", \"Neutral\", \"Neutral\", \"Negative\", \"Negative\", \"Negative\", \"Negative\", \"Neutral\", \"Neutral\", \"Neutral\", \"Negative\", \"Positive\", \"Negative\", \"Neutral\", \"Neutral\", \"Positive\", \"Neutral\", \"Positive\", \"Neutral\", \"Neutral\", \"Negative\", \"Positive\", \"Neutral\", \"Positive\", \"Neutral\", \"Neutral\", \"Positive\", \"Negative\", \"Positive\", \"Positive\", \"Neutral\", \"Neutral\", \"Neutral\", \"Neutral\", \"Neutral\", \"Neutral\", \"Neutral\", \"Neutral\", \"Positive\", \"Negative\", \"Neutral\", \"Neutral\", \"Neutral\", \"Neutral\", \"Neutral\", \"Neutral\", \"Positive\", \"Positive\", \"Neutral\", \"Neutral\", \"Positive\", \"Positive\", \"Positive\", \"Negative\", \"Neutral\", \"Neutral\", \"Negative\", \"Positive\", \"Positive\", \"Positive\", \"Neutral\", \"Neutral\", \"Neutral\", \"Neutral\", \"Negative\", \"Positive\", \"Neutral\", \"Positive\", \"Positive\", \"Neutral\", \"Neutral\", \"Neutral\", \"Negative\", \"Positive\", \"Neutral\", \"Neutral\", \"Neutral\", \"Neutral\", \"Neutral\", \"Positive\", \"Positive\", \"Neutral\", \"Neutral\", \"Neutral\", \"Negative\", \"Negative\", \"Neutral\", \"Negative\", \"Neutral\", \"Neutral\", \"Negative\", \"Positive\", \"Negative\", \"Negative\", \"Neutral\", \"Neutral\", \"Positive\", \"Positive\", \"Negative\", \"Negative\", \"Neutral\", \"Neutral\", \"Negative\", \"Neutral\", \"Negative\", \"Positive\", \"Negative\", \"Positive\", \"Positive\", \"Positive\", \"Neutral\", \"Positive\", \"Positive\", \"Neutral\", \"Positive\", \"Positive\", \"Neutral\", \"Positive\", \"Neutral\", \"Negative\", \"Neutral\", \"Positive\", \"Neutral\", \"Positive\", \"Negative\", \"Negative\", \"Neutral\", \"Negative\", \"Negative\", \"Positive\", \"Negative\", \"Neutral\", \"Positive\", \"Neutral\", \"Negative\", \"Positive\", \"Positive\", \"Negative\", \"Neutral\", \"Positive\", \"Neutral\", \"Neutral\", \"Neutral\", \"Positive\", \"Neutral\", \"Positive\", \"Positive\", \"Positive\", \"Negative\", \"Positive\", \"Neutral\", \"Positive\", \"Negative\", \"Negative\", \"Negative\", \"Neutral\", \"Negative\", \"Neutral\", \"Neutral\", \"Negative\", \"Negative\", \"Positive\", \"Positive\", \"Negative\", \"Negative\", \"Positive\", \"Neutral\", \"Neutral\", \"Positive\", \"Positive\", \"Positive\", \"Negative\", \"Positive\", \"Neutral\", \"Neutral\", \"Neutral\", \"Neutral\", \"Negative\", \"Negative\", \"Positive\", \"Neutral\", \"Neutral\", \"Neutral\", \"Neutral\", \"Neutral\", \"Neutral\", \"Neutral\", \"Positive\", \"Neutral\", \"Positive\", \"Neutral\", \"Positive\", \"Neutral\", \"Neutral\", \"Neutral\", \"Positive\", \"Neutral\", \"Neutral\", \"Neutral\", \"Neutral\", \"Negative\", \"Neutral\", \"Positive\", \"Neutral\", \"Neutral\", \"Positive\", \"Positive\", \"Positive\", \"Positive\", \"Neutral\", \"Neutral\", \"Neutral\", \"Neutral\", \"Negative\", \"Neutral\", \"Neutral\", \"Neutral\", \"Neutral\", \"Negative\", \"Neutral\", \"Positive\", \"Neutral\", \"Positive\", \"Neutral\", \"Negative\", \"Neutral\", \"Negative\", \"Positive\", \"Neutral\", \"Negative\", \"Negative\", \"Negative\", \"Positive\", \"Positive\", \"Positive\", \"Neutral\", \"Neutral\", \"Neutral\", \"Negative\", \"Neutral\", \"Neutral\", \"Negative\", \"Negative\", \"Negative\", \"Negative\", \"Negative\", \"Neutral\", \"Negative\", \"Neutral\", \"Neutral\", \"Neutral\", \"Neutral\", \"Neutral\", \"Neutral\", \"Neutral\", \"Positive\", \"Neutral\", \"Neutral\", \"Negative\", \"Positive\", \"Positive\", \"Neutral\", \"Positive\", \"Negative\", \"Neutral\", \"Positive\", \"Positive\", \"Positive\", \"Positive\", \"Neutral\", \"Neutral\", \"Neutral\", \"Negative\", \"Neutral\", \"Neutral\", \"Neutral\", \"Positive\", \"Positive\", \"Positive\", \"Neutral\", \"Neutral\", \"Neutral\", \"Negative\", \"Neutral\", \"Positive\", \"Positive\", \"Neutral\", \"Neutral\", \"Positive\", \"Neutral\", \"Neutral\", \"Positive\", \"Neutral\", \"Neutral\", \"Neutral\", \"Neutral\", \"Neutral\", \"Neutral\", \"Positive\", \"Neutral\", \"Neutral\", \"Neutral\", \"Negative\", \"Neutral\", \"Neutral\", \"Neutral\", \"Neutral\", \"Positive\", \"Positive\", \"Positive\", \"Neutral\", \"Positive\", \"Negative\", \"Negative\", \"Neutral\", \"Positive\", \"Positive\", \"Neutral\", \"Neutral\", \"Neutral\", \"Neutral\", \"Negative\", \"Neutral\", \"Neutral\", \"Neutral\", \"Neutral\", \"Negative\", \"Negative\", \"Positive\", \"Positive\", \"Neutral\", \"Positive\", \"Neutral\", \"Positive\", \"Positive\", \"Neutral\", \"Neutral\", \"Positive\", \"Negative\", \"Neutral\", \"Positive\", \"Neutral\", \"Neutral\", \"Neutral\", \"Neutral\", \"Neutral\", \"Neutral\", \"Neutral\", \"Negative\", \"Negative\", \"Neutral\", \"Neutral\", \"Neutral\", \"Neutral\", \"Neutral\", \"Neutral\", \"Neutral\", \"Negative\", \"Neutral\", \"Neutral\", \"Negative\", \"Neutral\", \"Neutral\", \"Negative\", \"Neutral\", \"Neutral\", \"Negative\", \"Positive\", \"Positive\", \"Neutral\", \"Neutral\", \"Neutral\", \"Negative\", \"Neutral\", \"Negative\", \"Negative\", \"Neutral\", \"Negative\", \"Negative\", \"Neutral\", \"Neutral\", \"Positive\", \"Negative\", \"Negative\", \"Negative\", \"Negative\", \"Neutral\", \"Neutral\", \"Neutral\", \"Neutral\", \"Positive\", \"Neutral\", \"Positive\", \"Neutral\", \"Neutral\", \"Positive\", \"Negative\", \"Neutral\", \"Neutral\", \"Positive\", \"Negative\", \"Positive\", \"Neutral\", \"Positive\", \"Neutral\", \"Negative\", \"Positive\", \"Positive\", \"Neutral\", \"Positive\", \"Negative\", \"Positive\", \"Neutral\", \"Neutral\", \"Negative\", \"Positive\", \"Neutral\", \"Neutral\", \"Neutral\", \"Positive\", \"Positive\", \"Negative\", \"Positive\", \"Negative\", \"Positive\", \"Positive\", \"Neutral\", \"Negative\", \"Negative\", \"Positive\", \"Neutral\", \"Neutral\", \"Negative\", \"Positive\", \"Negative\", \"Neutral\", \"Positive\", \"Neutral\", \"Neutral\", \"Neutral\", \"Neutral\", \"Positive\", \"Positive\", \"Negative\", \"Neutral\", \"Neutral\", \"Negative\", \"Neutral\", \"Positive\", \"Neutral\", \"Positive\", \"Negative\", \"Neutral\", \"Neutral\", \"Neutral\", \"Neutral\", \"Negative\", \"Neutral\", \"Positive\", \"Positive\", \"Positive\", \"Neutral\", \"Negative\", \"Neutral\", \"Positive\", \"Positive\", \"Neutral\", \"Neutral\", \"Neutral\", \"Negative\", \"Neutral\", \"Negative\", \"Neutral\", \"Neutral\", \"Neutral\", \"Neutral\", \"Neutral\", \"Neutral\", \"Neutral\", \"Neutral\", \"Negative\", \"Positive\", \"Positive\", \"Neutral\", \"Negative\", \"Neutral\", \"Positive\", \"Neutral\", \"Neutral\", \"Negative\", \"Negative\", \"Positive\", \"Positive\", \"Neutral\", \"Neutral\", \"Neutral\", \"Neutral\", \"Neutral\", \"Positive\", \"Neutral\", \"Neutral\", \"Positive\", \"Negative\", \"Negative\", \"Positive\", \"Positive\", \"Neutral\", \"Neutral\", \"Positive\", \"Neutral\", \"Neutral\", \"Neutral\", \"Neutral\", \"Negative\", \"Neutral\", \"Neutral\", \"Negative\", \"Neutral\", \"Neutral\", \"Neutral\", \"Positive\", \"Negative\", \"Positive\", \"Positive\", \"Positive\", \"Positive\", \"Neutral\", \"Neutral\", \"Neutral\", \"Neutral\", \"Neutral\", \"Negative\", \"Neutral\", \"Positive\", \"Negative\", \"Neutral\", \"Neutral\", \"Negative\", \"Negative\", \"Neutral\", \"Neutral\", \"Neutral\", \"Neutral\", \"Neutral\", \"Positive\", \"Neutral\", \"Neutral\", \"Positive\", \"Negative\", \"Negative\", \"Neutral\", \"Neutral\", \"Positive\", \"Positive\", \"Negative\", \"Negative\", \"Positive\", \"Neutral\", \"Neutral\", \"Neutral\", \"Negative\", \"Negative\", \"Neutral\", \"Positive\", \"Neutral\", \"Positive\", \"Negative\", \"Positive\", \"Positive\", \"Negative\", \"Neutral\", \"Positive\", \"Neutral\", \"Negative\", \"Neutral\", \"Negative\", \"Neutral\", \"Positive\", \"Negative\", \"Negative\", \"Negative\", \"Neutral\", \"Neutral\", \"Positive\", \"Positive\", \"Positive\", \"Positive\", \"Positive\", \"Neutral\", \"Negative\", \"Neutral\", \"Negative\", \"Positive\", \"Negative\", \"Neutral\", \"Positive\", \"Negative\", \"Neutral\", \"Neutral\", \"Neutral\", \"Neutral\", \"Neutral\", \"Negative\", \"Neutral\", \"Neutral\", \"Neutral\", \"Positive\", \"Neutral\", \"Neutral\", \"Neutral\", \"Neutral\", \"Positive\", \"Neutral\", \"Neutral\", \"Negative\", \"Negative\", \"Neutral\", \"Neutral\", \"Negative\", \"Negative\", \"Neutral\", \"Neutral\", \"Neutral\", \"Neutral\", \"Negative\", \"Positive\", \"Neutral\", \"Negative\", \"Positive\", \"Positive\", \"Negative\", \"Negative\", \"Positive\", \"Positive\", \"Neutral\", \"Neutral\", \"Positive\", \"Neutral\", \"Negative\", \"Positive\", \"Neutral\", \"Positive\", \"Positive\", \"Positive\", \"Neutral\", \"Neutral\", \"Negative\", \"Positive\", \"Positive\", \"Neutral\", \"Positive\", \"Positive\", \"Positive\", \"Negative\", \"Negative\", \"Neutral\", \"Positive\", \"Neutral\", \"Negative\", \"Negative\", \"Positive\", \"Neutral\", \"Neutral\", \"Negative\", \"Neutral\", \"Negative\", \"Positive\", \"Positive\", \"Positive\", \"Neutral\", \"Neutral\", \"Positive\", \"Neutral\", \"Neutral\", \"Positive\", \"Neutral\", \"Positive\", \"Positive\", \"Negative\", \"Positive\", \"Positive\", \"Positive\", \"Neutral\", \"Neutral\", \"Positive\", \"Positive\", \"Positive\", \"Neutral\", \"Negative\", \"Negative\", \"Neutral\", \"Positive\", \"Negative\", \"Neutral\", \"Positive\", \"Negative\", \"Negative\", \"Neutral\", \"Negative\", \"Negative\", \"Neutral\", \"Negative\", \"Negative\", \"Negative\", \"Positive\", \"Positive\", \"Neutral\", \"Neutral\", \"Neutral\", \"Neutral\", \"Neutral\", \"Neutral\", \"Neutral\", \"Neutral\", \"Positive\", \"Positive\", \"Positive\", \"Neutral\", \"Negative\", \"Positive\", \"Positive\", \"Neutral\", \"Negative\", \"Positive\", \"Positive\", \"Neutral\", \"Negative\", \"Positive\", \"Negative\", \"Positive\", \"Neutral\", \"Neutral\", \"Positive\", \"Neutral\", \"Positive\", \"Neutral\", \"Neutral\", \"Neutral\", \"Negative\", \"Neutral\", \"Neutral\", \"Negative\", \"Negative\", \"Neutral\", \"Neutral\", \"Neutral\", \"Neutral\", \"Neutral\", \"Negative\", \"Positive\", \"Neutral\", \"Neutral\", \"Negative\", \"Negative\", \"Neutral\", \"Neutral\", \"Negative\", \"Neutral\", \"Neutral\", \"Neutral\", \"Neutral\", \"Negative\", \"Neutral\", \"Neutral\", \"Positive\", \"Neutral\", \"Positive\", \"Negative\", \"Neutral\", \"Negative\", \"Neutral\", \"Neutral\", \"Neutral\", \"Neutral\", \"Negative\", \"Neutral\", \"Neutral\", \"Neutral\", \"Negative\", \"Negative\", \"Negative\", \"Negative\", \"Positive\", \"Neutral\", \"Positive\", \"Positive\", \"Neutral\", \"Negative\", \"Positive\", \"Positive\", \"Neutral\", \"Negative\", \"Negative\", \"Positive\", \"Neutral\", \"Neutral\", \"Neutral\", \"Negative\", \"Negative\", \"Positive\", \"Neutral\", \"Neutral\", \"Neutral\", \"Positive\", \"Neutral\", \"Positive\", \"Neutral\", \"Negative\", \"Negative\", \"Negative\", \"Neutral\", \"Positive\", \"Positive\", \"Positive\", \"Positive\", \"Neutral\", \"Positive\", \"Neutral\", \"Neutral\", \"Neutral\", \"Negative\", \"Neutral\", \"Positive\", \"Neutral\", \"Neutral\", \"Positive\", \"Neutral\", \"Negative\", \"Neutral\", \"Negative\", \"Negative\", \"Negative\", \"Positive\", \"Positive\", \"Negative\", \"Negative\", \"Neutral\", \"Neutral\", \"Positive\", \"Neutral\", \"Neutral\", \"Negative\", \"Negative\", \"Neutral\", \"Positive\", \"Neutral\", \"Positive\", \"Positive\", \"Negative\", \"Neutral\", \"Neutral\", \"Negative\", \"Neutral\", \"Negative\", \"Neutral\", \"Neutral\", \"Negative\", \"Positive\", \"Positive\", \"Positive\", \"Negative\", \"Positive\", \"Positive\", \"Positive\", \"Positive\", \"Neutral\", \"Neutral\", \"Neutral\", \"Positive\", \"Negative\", \"Positive\", \"Neutral\", \"Neutral\", \"Negative\", \"Negative\", \"Neutral\", \"Neutral\", \"Neutral\", \"Neutral\", \"Neutral\", \"Positive\", \"Neutral\", \"Positive\", \"Positive\", \"Positive\", \"Negative\", \"Neutral\", \"Neutral\", \"Neutral\", \"Positive\", \"Neutral\", \"Neutral\", \"Negative\", \"Negative\", \"Neutral\", \"Negative\", \"Negative\", \"Negative\", \"Neutral\", \"Negative\", \"Positive\", \"Positive\", \"Positive\", \"Neutral\", \"Neutral\", \"Positive\", \"Negative\", \"Negative\", \"Positive\", \"Neutral\", \"Neutral\", \"Negative\", \"Neutral\", \"Neutral\", \"Positive\", \"Negative\", \"Neutral\", \"Positive\", \"Neutral\", \"Positive\", \"Neutral\", \"Positive\", \"Negative\", \"Negative\", \"Positive\", \"Negative\", \"Neutral\", \"Neutral\", \"Neutral\", \"Positive\", \"Positive\", \"Neutral\", \"Positive\", \"Neutral\", \"Positive\", \"Negative\", \"Negative\", \"Neutral\", \"Negative\", \"Neutral\", \"Neutral\", \"Neutral\", \"Neutral\", \"Positive\", \"Neutral\", \"Positive\", \"Positive\", \"Positive\", \"Neutral\", \"Neutral\", \"Neutral\", \"Negative\", \"Positive\", \"Neutral\", \"Positive\", \"Positive\", \"Neutral\", \"Neutral\", \"Positive\", \"Neutral\", \"Negative\", \"Neutral\", \"Negative\", \"Negative\", \"Positive\", \"Neutral\", \"Positive\", \"Positive\", \"Neutral\", \"Neutral\", \"Negative\", \"Positive\", \"Neutral\", \"Neutral\", \"Negative\", \"Negative\", \"Positive\", \"Positive\", \"Negative\", \"Positive\", \"Neutral\", \"Neutral\", \"Negative\", \"Neutral\", \"Neutral\", \"Positive\", \"Neutral\", \"Negative\", \"Positive\", \"Neutral\", \"Negative\", \"Neutral\", \"Negative\", \"Positive\", \"Neutral\", \"Negative\", \"Negative\", \"Positive\", \"Negative\", \"Positive\", \"Neutral\", \"Neutral\", \"Positive\", \"Negative\", \"Neutral\", \"Negative\", \"Neutral\", \"Neutral\", \"Neutral\", \"Neutral\", \"Neutral\", \"Neutral\", \"Neutral\", \"Positive\", \"Positive\", \"Neutral\", \"Positive\", \"Neutral\", \"Negative\", \"Negative\", \"Neutral\", \"Positive\", \"Positive\", \"Negative\", \"Neutral\", \"Neutral\", \"Neutral\", \"Positive\", \"Positive\", \"Positive\", \"Neutral\", \"Neutral\", \"Neutral\", \"Neutral\", \"Positive\", \"Positive\", \"Neutral\", \"Positive\", \"Neutral\", \"Neutral\", \"Neutral\", \"Neutral\", \"Neutral\", \"Positive\", \"Positive\", \"Neutral\", \"Positive\", \"Neutral\", \"Neutral\", \"Neutral\", \"Negative\", \"Neutral\", \"Negative\", \"Negative\", \"Positive\", \"Positive\", \"Positive\", \"Neutral\", \"Neutral\", \"Neutral\", \"Negative\", \"Neutral\", \"Neutral\", \"Positive\", \"Positive\", \"Neutral\", \"Neutral\", \"Neutral\", \"Neutral\", \"Positive\", \"Neutral\", \"Neutral\", \"Neutral\", \"Neutral\", \"Neutral\", \"Positive\", \"Neutral\", \"Neutral\", \"Positive\", \"Positive\", \"Neutral\", \"Negative\", \"Positive\", \"Neutral\", \"Neutral\", \"Neutral\", \"Neutral\", \"Positive\", \"Positive\", \"Negative\", \"Neutral\", \"Neutral\", \"Negative\", \"Neutral\", \"Positive\", \"Negative\", \"Negative\", \"Positive\", \"Neutral\", \"Neutral\", \"Negative\", \"Positive\", \"Neutral\", \"Negative\", \"Neutral\", \"Positive\", \"Positive\", \"Neutral\", \"Positive\", \"Positive\", \"Neutral\", \"Positive\", \"Positive\", \"Neutral\", \"Negative\", \"Positive\", \"Negative\", \"Neutral\", \"Neutral\", \"Neutral\", \"Neutral\", \"Neutral\", \"Positive\", \"Negative\", \"Negative\", \"Neutral\", \"Negative\", \"Negative\", \"Neutral\", \"Neutral\", \"Neutral\", \"Neutral\", \"Neutral\", \"Neutral\", \"Negative\", \"Neutral\", \"Positive\", \"Negative\", \"Positive\", \"Neutral\", \"Positive\", \"Negative\", \"Neutral\", \"Positive\", \"Neutral\", \"Neutral\", \"Neutral\", \"Neutral\", \"Negative\", \"Neutral\", \"Neutral\", \"Positive\", \"Positive\", \"Positive\", \"Neutral\", \"Neutral\", \"Negative\", \"Neutral\", \"Neutral\", \"Neutral\", \"Positive\", \"Negative\", \"Positive\", \"Neutral\", \"Positive\", \"Positive\", \"Neutral\", \"Neutral\", \"Neutral\", \"Neutral\", \"Negative\", \"Positive\", \"Positive\", \"Positive\", \"Positive\", \"Positive\", \"Negative\", \"Neutral\", \"Positive\", \"Neutral\", \"Neutral\", \"Negative\", \"Negative\", \"Neutral\", \"Neutral\", \"Neutral\", \"Neutral\", \"Negative\", \"Negative\", \"Positive\", \"Positive\", \"Negative\", \"Neutral\", \"Neutral\", \"Neutral\", \"Positive\", \"Neutral\", \"Positive\", \"Negative\", \"Neutral\", \"Neutral\", \"Negative\", \"Neutral\", \"Positive\", \"Neutral\", \"Neutral\", \"Positive\", \"Neutral\", \"Negative\", \"Negative\", \"Positive\", \"Neutral\", \"Negative\", \"Neutral\", \"Neutral\", \"Positive\", \"Negative\", \"Negative\", \"Negative\", \"Positive\", \"Positive\", \"Positive\", \"Neutral\", \"Negative\", \"Neutral\", \"Neutral\", \"Negative\", \"Negative\", \"Positive\", \"Negative\", \"Negative\", \"Neutral\", \"Negative\", \"Positive\", \"Neutral\", \"Neutral\", \"Positive\", \"Neutral\", \"Positive\", \"Neutral\", \"Neutral\", \"Neutral\", \"Positive\", \"Positive\", \"Neutral\", \"Positive\", \"Neutral\", \"Negative\", \"Positive\", \"Positive\", \"Negative\", \"Positive\", \"Neutral\", \"Neutral\", \"Negative\", \"Neutral\", \"Neutral\", \"Neutral\", \"Positive\", \"Negative\", \"Negative\", \"Negative\", \"Negative\", \"Positive\", \"Negative\", \"Neutral\", \"Neutral\", \"Positive\", \"Positive\", \"Positive\", \"Neutral\", \"Neutral\", \"Negative\", \"Neutral\", \"Neutral\", \"Negative\", \"Positive\", \"Neutral\", \"Positive\", \"Neutral\", \"Positive\", \"Neutral\", \"Neutral\", \"Positive\", \"Neutral\", \"Negative\", \"Neutral\", \"Positive\", \"Negative\", \"Positive\", \"Neutral\", \"Neutral\", \"Neutral\", \"Negative\", \"Neutral\", \"Neutral\", \"Negative\", \"Neutral\", \"Positive\", \"Neutral\", \"Negative\", \"Negative\", \"Negative\", \"Positive\", \"Neutral\", \"Positive\", \"Neutral\", \"Negative\", \"Negative\", \"Negative\", \"Positive\", \"Negative\", \"Positive\", \"Negative\", \"Neutral\", \"Negative\", \"Negative\", \"Positive\", \"Neutral\", \"Neutral\", \"Neutral\", \"Negative\", \"Negative\", \"Negative\", \"Neutral\", \"Neutral\", \"Neutral\", \"Positive\", \"Positive\", \"Positive\", \"Positive\", \"Neutral\", \"Neutral\", \"Neutral\", \"Neutral\", \"Positive\", \"Neutral\", \"Negative\", \"Positive\", \"Neutral\", \"Neutral\", \"Neutral\", \"Neutral\", \"Negative\", \"Positive\", \"Positive\", \"Neutral\", \"Neutral\", \"Neutral\", \"Neutral\", \"Negative\", \"Positive\", \"Neutral\", \"Negative\", \"Neutral\", \"Positive\", \"Neutral\", \"Negative\", \"Positive\", \"Negative\", \"Neutral\", \"Neutral\", \"Positive\", \"Negative\", \"Neutral\", \"Negative\", \"Negative\", \"Neutral\", \"Neutral\", \"Neutral\", \"Neutral\", \"Neutral\", \"Positive\", \"Negative\", \"Neutral\", \"Neutral\", \"Neutral\", \"Neutral\", \"Negative\", \"Negative\", \"Negative\", \"Neutral\", \"Positive\", \"Negative\", \"Negative\", \"Neutral\", \"Positive\", \"Negative\", \"Neutral\", \"Negative\", \"Neutral\", \"Neutral\", \"Negative\", \"Positive\", \"Positive\", \"Neutral\", \"Positive\", \"Positive\", \"Negative\", \"Neutral\", \"Neutral\", \"Neutral\", \"Neutral\", \"Negative\", \"Neutral\", \"Negative\", \"Neutral\", \"Neutral\", \"Neutral\", \"Neutral\", \"Neutral\", \"Neutral\", \"Positive\", \"Negative\", \"Neutral\", \"Neutral\", \"Negative\", \"Neutral\", \"Negative\", \"Neutral\", \"Neutral\", \"Neutral\", \"Positive\", \"Negative\", \"Positive\", \"Negative\", \"Neutral\", \"Positive\", \"Negative\", \"Negative\", \"Neutral\", \"Neutral\", \"Neutral\", \"Neutral\", \"Positive\", \"Positive\", \"Positive\", \"Neutral\", \"Neutral\", \"Positive\", \"Neutral\", \"Neutral\", \"Neutral\", \"Neutral\", \"Positive\", \"Positive\", \"Neutral\", \"Negative\", \"Neutral\", \"Negative\", \"Positive\", \"Positive\", \"Positive\", \"Negative\", \"Negative\", \"Neutral\", \"Positive\", \"Positive\", \"Neutral\", \"Neutral\", \"Positive\", \"Negative\", \"Neutral\", \"Neutral\", \"Neutral\", \"Negative\", \"Neutral\", \"Negative\", \"Positive\", \"Positive\", \"Negative\", \"Negative\", \"Positive\", \"Neutral\", \"Negative\", \"Positive\", \"Neutral\", \"Neutral\", \"Negative\", \"Neutral\", \"Negative\", \"Neutral\", \"Positive\", \"Positive\", \"Positive\", \"Positive\", \"Positive\", \"Negative\", \"Positive\", \"Neutral\", \"Neutral\", \"Neutral\", \"Positive\", \"Neutral\", \"Neutral\", \"Neutral\", \"Neutral\", \"Neutral\", \"Negative\", \"Negative\", \"Negative\", \"Positive\", \"Neutral\", \"Negative\", \"Neutral\", \"Negative\", \"Positive\", \"Neutral\", \"Negative\", \"Neutral\", \"Negative\", \"Positive\", \"Negative\", \"Neutral\", \"Neutral\", \"Neutral\", \"Positive\", \"Positive\", \"Positive\", \"Neutral\", \"Positive\", \"Positive\", \"Neutral\", \"Positive\", \"Positive\", \"Neutral\", \"Neutral\", \"Neutral\", \"Positive\", \"Neutral\", \"Neutral\", \"Negative\", \"Positive\", \"Positive\", \"Positive\", \"Negative\", \"Negative\", \"Neutral\", \"Positive\", \"Neutral\", \"Positive\", \"Neutral\", \"Positive\", \"Negative\", \"Negative\", \"Neutral\", \"Neutral\", \"Neutral\", \"Positive\", \"Neutral\", \"Neutral\", \"Negative\", \"Neutral\", \"Positive\", \"Positive\", \"Positive\", \"Negative\", \"Neutral\", \"Positive\", \"Neutral\", \"Neutral\", \"Positive\", \"Positive\", \"Positive\", \"Neutral\", \"Neutral\", \"Negative\", \"Neutral\", \"Neutral\", \"Neutral\", \"Negative\", \"Neutral\", \"Neutral\", \"Neutral\", \"Neutral\", \"Neutral\", \"Positive\", \"Negative\", \"Neutral\", \"Neutral\", \"Neutral\", \"Negative\", \"Positive\", \"Neutral\", \"Positive\", \"Neutral\", \"Positive\", \"Negative\", \"Negative\", \"Neutral\", \"Neutral\", \"Negative\", \"Neutral\", \"Neutral\", \"Negative\", \"Negative\", \"Neutral\", \"Neutral\", \"Positive\", \"Negative\", \"Neutral\", \"Neutral\", \"Neutral\", \"Positive\", \"Neutral\", \"Neutral\", \"Neutral\", \"Negative\", \"Positive\", \"Positive\", \"Neutral\", \"Negative\", \"Negative\", \"Negative\", \"Positive\", \"Negative\", \"Neutral\", \"Neutral\", \"Neutral\", \"Neutral\", \"Neutral\", \"Positive\", \"Positive\", \"Negative\", \"Negative\", \"Neutral\", \"Negative\", \"Negative\", \"Neutral\", \"Positive\", \"Positive\", \"Negative\", \"Negative\", \"Neutral\", \"Negative\", \"Negative\", \"Neutral\", \"Negative\", \"Negative\", \"Neutral\", \"Neutral\", \"Positive\", \"Positive\", \"Negative\", \"Neutral\", \"Neutral\", \"Negative\", \"Negative\", \"Negative\", \"Neutral\", \"Negative\", \"Negative\", \"Negative\", \"Negative\", \"Neutral\", \"Positive\", \"Positive\", \"Positive\", \"Negative\", \"Neutral\", \"Neutral\", \"Negative\", \"Negative\", \"Neutral\", \"Neutral\", \"Negative\", \"Neutral\", \"Positive\", \"Neutral\", \"Neutral\", \"Neutral\", \"Positive\", \"Positive\", \"Neutral\", \"Neutral\", \"Neutral\", \"Neutral\", \"Neutral\", \"Negative\", \"Positive\", \"Neutral\", \"Neutral\", \"Neutral\", \"Negative\", \"Neutral\", \"Negative\", \"Positive\", \"Neutral\", \"Neutral\", \"Negative\", \"Neutral\", \"Neutral\", \"Neutral\", \"Negative\", \"Neutral\", \"Neutral\", \"Negative\", \"Neutral\", \"Neutral\", \"Neutral\", \"Neutral\", \"Positive\", \"Neutral\", \"Negative\", \"Negative\", \"Positive\", \"Negative\", \"Positive\", \"Neutral\", \"Negative\", \"Positive\", \"Positive\", \"Neutral\", \"Negative\", \"Neutral\", \"Negative\", \"Positive\", \"Neutral\", \"Neutral\", \"Neutral\", \"Positive\", \"Positive\", \"Neutral\", \"Positive\", \"Neutral\", \"Negative\", \"Neutral\", \"Neutral\", \"Neutral\", \"Negative\", \"Neutral\", \"Positive\", \"Neutral\", \"Negative\", \"Negative\", \"Negative\", \"Negative\", \"Neutral\", \"Negative\", \"Positive\", \"Negative\", \"Neutral\", \"Positive\", \"Positive\", \"Negative\", \"Neutral\", \"Positive\", \"Positive\", \"Neutral\", \"Neutral\", \"Negative\", \"Negative\", \"Neutral\", \"Positive\", \"Neutral\", \"Positive\", \"Positive\", \"Positive\", \"Neutral\", \"Negative\", \"Neutral\", \"Negative\", \"Neutral\", \"Negative\", \"Neutral\", \"Negative\", \"Neutral\", \"Positive\", \"Neutral\", \"Positive\", \"Neutral\", \"Positive\", \"Negative\", \"Positive\", \"Neutral\", \"Negative\", \"Positive\", \"Negative\", \"Positive\", \"Negative\", \"Positive\", \"Neutral\", \"Positive\", \"Positive\", \"Positive\", \"Neutral\", \"Positive\", \"Negative\", \"Neutral\", \"Positive\", \"Neutral\", \"Positive\", \"Neutral\", \"Neutral\", \"Negative\", \"Positive\", \"Positive\", \"Neutral\", \"Neutral\", \"Positive\", \"Neutral\", \"Positive\", \"Positive\", \"Neutral\", \"Neutral\", \"Neutral\", \"Neutral\", \"Neutral\", \"Neutral\", \"Negative\", \"Neutral\", \"Negative\", \"Neutral\", \"Neutral\", \"Positive\", \"Negative\", \"Negative\", \"Neutral\", \"Negative\", \"Positive\", \"Negative\", \"Positive\", \"Negative\", \"Negative\", \"Positive\", \"Neutral\", \"Negative\", \"Neutral\", \"Negative\", \"Negative\", \"Negative\", \"Negative\", \"Positive\", \"Positive\", \"Positive\", \"Negative\", \"Negative\", \"Neutral\", \"Neutral\", \"Positive\", \"Negative\", \"Neutral\", \"Neutral\", \"Neutral\", \"Neutral\", \"Positive\", \"Neutral\", \"Neutral\", \"Positive\", \"Positive\", \"Neutral\", \"Neutral\", \"Neutral\", \"Neutral\", \"Negative\", \"Neutral\", \"Neutral\", \"Neutral\", \"Neutral\", \"Negative\", \"Negative\", \"Negative\", \"Negative\", \"Positive\", \"Neutral\", \"Negative\", \"Positive\", \"Positive\", \"Positive\", \"Positive\", \"Positive\", \"Neutral\", \"Neutral\", \"Neutral\", \"Negative\", \"Neutral\", \"Negative\", \"Neutral\", \"Neutral\", \"Positive\", \"Positive\", \"Neutral\", \"Neutral\", \"Neutral\", \"Positive\", \"Neutral\", \"Positive\", \"Neutral\", \"Negative\", \"Positive\", \"Positive\", \"Negative\", \"Neutral\", \"Negative\", \"Negative\", \"Negative\", \"Positive\", \"Negative\", \"Negative\", \"Negative\", \"Neutral\", \"Negative\", \"Negative\", \"Neutral\", \"Negative\", \"Negative\", \"Negative\", \"Neutral\", \"Negative\", \"Positive\", \"Negative\", \"Negative\", \"Positive\", \"Negative\", \"Neutral\", \"Positive\", \"Negative\", \"Neutral\", \"Neutral\", \"Negative\", \"Neutral\", \"Neutral\", \"Neutral\", \"Neutral\", \"Neutral\", \"Positive\", \"Negative\", \"Neutral\", \"Negative\", \"Positive\", \"Positive\", \"Neutral\", \"Negative\", \"Neutral\", \"Negative\", \"Neutral\", \"Neutral\", \"Negative\", \"Neutral\", \"Neutral\", \"Neutral\", \"Neutral\", \"Negative\", \"Neutral\", \"Neutral\", \"Positive\", \"Neutral\", \"Negative\", \"Positive\", \"Negative\", \"Negative\", \"Positive\", \"Positive\", \"Neutral\", \"Negative\", \"Positive\", \"Negative\", \"Neutral\", \"Neutral\", \"Neutral\", \"Neutral\", \"Positive\", \"Positive\", \"Neutral\", \"Neutral\", \"Negative\", \"Positive\", \"Neutral\", \"Neutral\", \"Negative\", \"Neutral\", \"Positive\", \"Neutral\", \"Neutral\", \"Positive\", \"Negative\", \"Negative\", \"Positive\", \"Neutral\", \"Positive\", \"Negative\", \"Neutral\", \"Neutral\", \"Negative\", \"Neutral\", \"Negative\", \"Negative\", \"Negative\", \"Neutral\", \"Negative\", \"Neutral\", \"Neutral\", \"Neutral\", \"Neutral\", \"Neutral\", \"Neutral\", \"Neutral\", \"Negative\", \"Negative\", \"Neutral\", \"Negative\", \"Positive\", \"Positive\", \"Positive\", \"Neutral\", \"Neutral\", \"Positive\", \"Positive\", \"Negative\", \"Neutral\", \"Neutral\", \"Negative\", \"Positive\", \"Negative\", \"Positive\", \"Neutral\", \"Negative\", \"Negative\", \"Negative\", \"Neutral\", \"Positive\", \"Neutral\", \"Neutral\", \"Neutral\", \"Positive\", \"Positive\", \"Neutral\", \"Neutral\", \"Negative\", \"Neutral\", \"Neutral\", \"Neutral\", \"Neutral\", \"Neutral\", \"Neutral\", \"Negative\", \"Neutral\", \"Neutral\", \"Neutral\", \"Negative\", \"Positive\", \"Positive\", \"Neutral\", \"Negative\", \"Neutral\", \"Negative\", \"Neutral\", \"Neutral\", \"Positive\", \"Negative\", \"Neutral\", \"Neutral\", \"Neutral\", \"Positive\", \"Neutral\", \"Negative\", \"Neutral\", \"Neutral\", \"Neutral\", \"Positive\", \"Negative\", \"Neutral\", \"Negative\", \"Negative\", \"Neutral\", \"Neutral\", \"Negative\", \"Positive\", \"Positive\", \"Negative\", \"Neutral\", \"Neutral\", \"Negative\", \"Neutral\", \"Neutral\", \"Neutral\", \"Neutral\", \"Neutral\", \"Positive\", \"Neutral\", \"Positive\", \"Neutral\", \"Neutral\", \"Neutral\", \"Positive\", \"Neutral\", \"Neutral\", \"Neutral\", \"Negative\", \"Neutral\", \"Positive\", \"Negative\", \"Neutral\", \"Positive\", \"Negative\", \"Neutral\", \"Negative\", \"Negative\", \"Neutral\", \"Neutral\", \"Negative\", \"Neutral\", \"Neutral\", \"Neutral\", \"Positive\", \"Neutral\", \"Negative\", \"Positive\", \"Neutral\", \"Neutral\", \"Negative\", \"Neutral\", \"Negative\", \"Neutral\", \"Neutral\", \"Neutral\", \"Neutral\", \"Neutral\", \"Positive\", \"Positive\", \"Negative\", \"Negative\", \"Positive\", \"Negative\", \"Positive\", \"Neutral\", \"Positive\", \"Positive\", \"Positive\", \"Neutral\", \"Positive\", \"Negative\", \"Positive\", \"Negative\", \"Positive\", \"Negative\", \"Positive\", \"Neutral\", \"Negative\", \"Neutral\", \"Neutral\", \"Negative\", \"Neutral\", \"Neutral\", \"Positive\", \"Negative\", \"Positive\", \"Neutral\", \"Negative\", \"Positive\", \"Positive\", \"Positive\", \"Neutral\", \"Negative\", \"Neutral\", \"Positive\", \"Neutral\", \"Neutral\", \"Negative\", \"Negative\", \"Neutral\", \"Positive\", \"Positive\", \"Positive\", \"Positive\", \"Positive\", \"Neutral\", \"Neutral\", \"Neutral\", \"Neutral\", \"Negative\", \"Positive\", \"Positive\", \"Neutral\", \"Neutral\", \"Neutral\", \"Negative\", \"Neutral\", \"Positive\", \"Negative\", \"Neutral\", \"Neutral\", \"Neutral\", \"Negative\", \"Positive\", \"Negative\", \"Positive\", \"Negative\", \"Neutral\", \"Negative\", \"Positive\", \"Positive\", \"Positive\", \"Neutral\", \"Positive\", \"Neutral\", \"Neutral\", \"Positive\", \"Neutral\", \"Negative\", \"Negative\", \"Positive\", \"Negative\", \"Positive\", \"Neutral\", \"Neutral\", \"Negative\", \"Negative\", \"Neutral\", \"Neutral\", \"Negative\", \"Positive\", \"Positive\", \"Negative\", \"Negative\", \"Neutral\", \"Neutral\", \"Negative\", \"Negative\", \"Negative\", \"Neutral\", \"Positive\", \"Negative\", \"Negative\", \"Negative\", \"Positive\", \"Positive\", \"Neutral\", \"Neutral\", \"Negative\", \"Negative\", \"Negative\", \"Neutral\", \"Positive\", \"Neutral\", \"Negative\", \"Positive\", \"Negative\", \"Negative\", \"Positive\", \"Positive\", \"Negative\", \"Negative\", \"Negative\", \"Negative\", \"Negative\", \"Negative\", \"Negative\", \"Positive\", \"Negative\", \"Positive\", \"Negative\", \"Positive\", \"Positive\", \"Positive\", \"Neutral\", \"Positive\", \"Neutral\", \"Neutral\", \"Neutral\", \"Neutral\", \"Neutral\", \"Positive\", \"Neutral\", \"Negative\", \"Positive\", \"Positive\", \"Negative\", \"Positive\", \"Negative\", \"Positive\", \"Negative\", \"Negative\", \"Neutral\", \"Neutral\", \"Negative\", \"Neutral\", \"Negative\", \"Neutral\", \"Negative\", \"Negative\", \"Negative\", \"Neutral\", \"Neutral\", \"Positive\", \"Negative\", \"Neutral\", \"Positive\", \"Neutral\", \"Neutral\", \"Negative\", \"Positive\", \"Positive\", \"Neutral\", \"Positive\", \"Negative\", \"Positive\", \"Neutral\", \"Neutral\", \"Positive\", \"Positive\", \"Positive\", \"Positive\", \"Neutral\", \"Neutral\", \"Negative\", \"Neutral\", \"Negative\", \"Neutral\", \"Neutral\", \"Neutral\", \"Neutral\", \"Positive\", \"Neutral\", \"Negative\", \"Neutral\", \"Neutral\", \"Neutral\", \"Positive\", \"Negative\", \"Negative\", \"Negative\", \"Neutral\", \"Positive\", \"Negative\", \"Positive\", \"Positive\", \"Neutral\", \"Negative\", \"Negative\", \"Positive\", \"Negative\", \"Positive\", \"Neutral\", \"Positive\", \"Neutral\", \"Negative\", \"Neutral\", \"Positive\", \"Positive\", \"Positive\", \"Negative\", \"Positive\", \"Neutral\", \"Neutral\", \"Positive\", \"Neutral\", \"Positive\", \"Negative\", \"Negative\", \"Neutral\", \"Neutral\", \"Negative\", \"Neutral\", \"Negative\", \"Neutral\", \"Negative\", \"Negative\", \"Negative\", \"Neutral\", \"Positive\", \"Negative\", \"Negative\", \"Negative\", \"Positive\", \"Positive\", \"Negative\", \"Negative\", \"Negative\", \"Negative\", \"Neutral\", \"Positive\", \"Positive\", \"Negative\", \"Negative\", \"Negative\", \"Neutral\", \"Neutral\", \"Neutral\", \"Neutral\", \"Neutral\", \"Negative\", \"Negative\", \"Negative\", \"Positive\", \"Positive\", \"Positive\", \"Neutral\", \"Neutral\", \"Neutral\", \"Negative\", \"Neutral\", \"Positive\", \"Neutral\", \"Negative\", \"Negative\", \"Neutral\", \"Negative\", \"Positive\", \"Positive\", \"Positive\", \"Neutral\", \"Neutral\", \"Neutral\", \"Positive\", \"Negative\", \"Neutral\", \"Neutral\", \"Negative\", \"Neutral\", \"Neutral\", \"Negative\", \"Positive\", \"Negative\", \"Negative\", \"Neutral\", \"Negative\", \"Positive\", \"Positive\", \"Neutral\", \"Neutral\", \"Neutral\", \"Negative\", \"Neutral\", \"Neutral\", \"Positive\", \"Neutral\", \"Positive\", \"Neutral\", \"Neutral\", \"Neutral\", \"Neutral\", \"Negative\", \"Negative\", \"Neutral\", \"Neutral\", \"Neutral\", \"Neutral\", \"Neutral\", \"Positive\", \"Neutral\", \"Neutral\", \"Neutral\", \"Neutral\", \"Negative\", \"Positive\", \"Negative\", \"Neutral\", \"Negative\", \"Neutral\", \"Neutral\", \"Negative\", \"Neutral\", \"Positive\", \"Neutral\", \"Neutral\", \"Positive\", \"Negative\", \"Positive\", \"Positive\", \"Negative\", \"Positive\", \"Neutral\", \"Negative\", \"Positive\", \"Neutral\", \"Neutral\", \"Positive\", \"Neutral\", \"Positive\", \"Negative\", \"Neutral\", \"Neutral\", \"Positive\", \"Negative\", \"Positive\", \"Positive\", \"Neutral\", \"Negative\", \"Neutral\", \"Negative\", \"Negative\", \"Positive\", \"Negative\", \"Neutral\", \"Positive\", \"Neutral\", \"Negative\", \"Neutral\", \"Negative\", \"Neutral\", \"Positive\", \"Neutral\", \"Neutral\", \"Neutral\", \"Neutral\", \"Positive\", \"Positive\", \"Negative\", \"Positive\", \"Positive\", \"Negative\", \"Negative\", \"Negative\", \"Neutral\", \"Positive\", \"Negative\", \"Neutral\", \"Negative\", \"Neutral\", \"Neutral\", \"Neutral\", \"Negative\", \"Positive\", \"Negative\", \"Neutral\", \"Positive\", \"Neutral\", \"Positive\", \"Neutral\", \"Positive\", \"Negative\", \"Neutral\", \"Positive\", \"Negative\", \"Neutral\", \"Negative\", \"Neutral\", \"Positive\", \"Negative\", \"Positive\", \"Neutral\", \"Neutral\", \"Positive\", \"Positive\", \"Neutral\", \"Neutral\", \"Negative\", \"Neutral\", \"Neutral\", \"Negative\", \"Negative\", \"Neutral\", \"Positive\", \"Positive\", \"Neutral\", \"Neutral\", \"Neutral\", \"Negative\", \"Neutral\", \"Negative\", \"Neutral\", \"Neutral\", \"Positive\", \"Neutral\", \"Negative\", \"Neutral\", \"Negative\", \"Neutral\", \"Positive\", \"Neutral\", \"Negative\", \"Neutral\", \"Neutral\", \"Positive\", \"Negative\", \"Negative\", \"Negative\", \"Neutral\", \"Negative\", \"Neutral\", \"Positive\", \"Neutral\", \"Neutral\", \"Negative\", \"Positive\", \"Negative\", \"Neutral\", \"Neutral\", \"Neutral\", \"Neutral\", \"Negative\", \"Neutral\", \"Neutral\", \"Negative\", \"Positive\", \"Positive\", \"Negative\", \"Neutral\", \"Negative\", \"Positive\", \"Positive\", \"Negative\", \"Neutral\", \"Neutral\", \"Negative\", \"Neutral\", \"Negative\", \"Neutral\", \"Negative\", \"Positive\", \"Negative\", \"Negative\", \"Positive\", \"Negative\", \"Positive\", \"Positive\", \"Negative\", \"Negative\", \"Positive\", \"Neutral\", \"Positive\", \"Positive\", \"Negative\", \"Positive\", \"Positive\", \"Negative\", \"Neutral\", \"Negative\", \"Neutral\", \"Neutral\", \"Positive\", \"Neutral\", \"Positive\", \"Positive\", \"Neutral\", \"Negative\", \"Positive\", \"Negative\", \"Negative\", \"Neutral\", \"Neutral\", \"Neutral\", \"Positive\", \"Neutral\", \"Negative\", \"Positive\", \"Negative\", \"Positive\", \"Positive\", \"Neutral\", \"Negative\", \"Neutral\", \"Positive\", \"Positive\", \"Neutral\", \"Negative\", \"Negative\", \"Positive\", \"Negative\", \"Positive\", \"Positive\", \"Neutral\", \"Negative\", \"Positive\", \"Negative\", \"Negative\", \"Neutral\", \"Neutral\", \"Negative\", \"Neutral\", \"Negative\", \"Positive\", \"Positive\", \"Positive\", \"Negative\", \"Positive\", \"Positive\", \"Positive\", \"Negative\", \"Positive\", \"Positive\", \"Positive\", \"Neutral\", \"Positive\", \"Neutral\", \"Positive\", \"Neutral\", \"Negative\", \"Neutral\", \"Negative\", \"Negative\", \"Positive\", \"Neutral\", \"Neutral\", \"Negative\", \"Neutral\", \"Negative\", \"Positive\", \"Neutral\", \"Negative\", \"Neutral\", \"Neutral\", \"Neutral\", \"Neutral\", \"Negative\", \"Neutral\", \"Neutral\", \"Neutral\", \"Neutral\", \"Negative\", \"Negative\", \"Neutral\", \"Neutral\", \"Positive\", \"Positive\", \"Negative\", \"Neutral\", \"Positive\", \"Negative\", \"Positive\", \"Positive\", \"Neutral\", \"Positive\", \"Neutral\", \"Neutral\", \"Positive\", \"Neutral\", \"Neutral\", \"Neutral\", \"Neutral\", \"Negative\", \"Negative\", \"Negative\", \"Negative\", \"Negative\", \"Positive\", \"Positive\", \"Neutral\", \"Neutral\", \"Neutral\", \"Positive\", \"Neutral\", \"Positive\", \"Positive\", \"Neutral\", \"Negative\", \"Positive\", \"Positive\", \"Positive\", \"Neutral\", \"Neutral\", \"Positive\", \"Positive\", \"Positive\", \"Neutral\", \"Positive\", \"Neutral\", \"Neutral\", \"Neutral\", \"Negative\", \"Neutral\", \"Positive\", \"Negative\", \"Neutral\", \"Neutral\", \"Positive\", \"Neutral\", \"Neutral\", \"Negative\", \"Neutral\", \"Neutral\", \"Neutral\", \"Negative\", \"Positive\", \"Neutral\", \"Positive\", \"Neutral\", \"Negative\", \"Neutral\", \"Neutral\", \"Negative\", \"Neutral\", \"Neutral\", \"Negative\", \"Neutral\", \"Neutral\", \"Negative\", \"Neutral\", \"Negative\", \"Neutral\", \"Positive\", \"Negative\", \"Neutral\", \"Negative\", \"Neutral\", \"Neutral\", \"Neutral\", \"Neutral\", \"Positive\", \"Positive\", \"Neutral\", \"Negative\", \"Positive\", \"Neutral\", \"Negative\", \"Neutral\", \"Neutral\", \"Positive\", \"Neutral\", \"Positive\", \"Positive\", \"Negative\", \"Neutral\", \"Negative\", \"Neutral\", \"Negative\", \"Neutral\", \"Neutral\", \"Negative\", \"Positive\", \"Neutral\", \"Neutral\", \"Positive\", \"Positive\", \"Neutral\", \"Negative\", \"Neutral\", \"Positive\", \"Negative\", \"Negative\", \"Positive\", \"Neutral\", \"Neutral\", \"Neutral\", \"Neutral\", \"Positive\", \"Neutral\", \"Neutral\", \"Positive\", \"Neutral\", \"Neutral\", \"Neutral\", \"Negative\", \"Neutral\", \"Neutral\", \"Positive\", \"Positive\", \"Negative\", \"Neutral\", \"Neutral\", \"Positive\", \"Positive\", \"Positive\", \"Negative\", \"Negative\", \"Negative\", \"Neutral\", \"Neutral\", \"Neutral\", \"Neutral\", \"Neutral\", \"Positive\", \"Positive\", \"Neutral\", \"Negative\", \"Neutral\", \"Neutral\", \"Negative\", \"Negative\", \"Neutral\", \"Negative\", \"Neutral\", \"Positive\", \"Positive\", \"Neutral\", \"Neutral\", \"Neutral\", \"Neutral\", \"Negative\", \"Neutral\", \"Neutral\", \"Neutral\", \"Neutral\", \"Neutral\", \"Positive\", \"Positive\", \"Negative\", \"Negative\", \"Negative\", \"Neutral\", \"Negative\", \"Neutral\", \"Negative\", \"Neutral\", \"Positive\", \"Negative\", \"Negative\", \"Negative\", \"Negative\", \"Positive\", \"Negative\", \"Positive\", \"Neutral\", \"Negative\", \"Positive\", \"Negative\", \"Negative\", \"Neutral\", \"Positive\", \"Neutral\", \"Negative\", \"Neutral\", \"Neutral\", \"Negative\", \"Positive\", \"Neutral\", \"Positive\", \"Negative\", \"Negative\", \"Positive\", \"Neutral\", \"Negative\", \"Negative\", \"Positive\", \"Positive\", \"Neutral\", \"Positive\", \"Negative\", \"Positive\", \"Negative\", \"Neutral\", \"Neutral\", \"Neutral\", \"Neutral\", \"Neutral\", \"Neutral\", \"Positive\", \"Negative\", \"Neutral\", \"Neutral\", \"Negative\", \"Positive\", \"Positive\", \"Neutral\", \"Positive\", \"Positive\", \"Negative\", \"Positive\", \"Negative\", \"Positive\", \"Positive\", \"Neutral\", \"Negative\", \"Negative\", \"Positive\", \"Neutral\", \"Positive\", \"Neutral\", \"Negative\", \"Negative\", \"Positive\", \"Neutral\", \"Positive\", \"Positive\", \"Negative\", \"Neutral\", \"Negative\", \"Positive\", \"Positive\", \"Positive\", \"Positive\", \"Neutral\", \"Neutral\", \"Positive\", \"Neutral\", \"Neutral\", \"Positive\", \"Positive\", \"Neutral\", \"Positive\", \"Positive\", \"Neutral\", \"Neutral\", \"Neutral\", \"Negative\", \"Negative\", \"Neutral\", \"Positive\", \"Negative\", \"Negative\", \"Neutral\", \"Neutral\", \"Positive\", \"Negative\", \"Positive\", \"Negative\", \"Positive\", \"Neutral\", \"Negative\", \"Neutral\", \"Negative\", \"Neutral\", \"Neutral\", \"Neutral\", \"Positive\", \"Neutral\", \"Neutral\", \"Neutral\", \"Neutral\", \"Negative\", \"Positive\", \"Neutral\", \"Negative\", \"Negative\", \"Neutral\", \"Neutral\", \"Positive\", \"Positive\", \"Positive\", \"Positive\", \"Positive\", \"Positive\", \"Negative\", \"Neutral\", \"Positive\", \"Neutral\", \"Neutral\", \"Negative\", \"Positive\", \"Neutral\", \"Neutral\", \"Negative\", \"Neutral\", \"Negative\", \"Negative\", \"Negative\", \"Neutral\", \"Neutral\", \"Neutral\", \"Negative\", \"Negative\", \"Negative\", \"Neutral\", \"Negative\", \"Neutral\", \"Negative\", \"Neutral\", \"Negative\", \"Positive\", \"Neutral\", \"Negative\", \"Neutral\", \"Positive\", \"Neutral\", \"Neutral\", \"Neutral\", \"Positive\", \"Positive\", \"Positive\", \"Negative\", \"Neutral\", \"Negative\", \"Neutral\", \"Positive\", \"Neutral\", \"Negative\", \"Neutral\", \"Negative\", \"Negative\", \"Positive\", \"Neutral\", \"Positive\", \"Positive\", \"Neutral\", \"Negative\", \"Neutral\", \"Positive\", \"Neutral\", \"Negative\", \"Neutral\", \"Positive\", \"Neutral\", \"Positive\", \"Negative\", \"Positive\", \"Positive\", \"Positive\", \"Negative\", \"Negative\", \"Positive\", \"Neutral\", \"Positive\", \"Negative\", \"Negative\", \"Neutral\", \"Positive\", \"Negative\", \"Neutral\", \"Negative\", \"Positive\", \"Neutral\", \"Negative\", \"Negative\", \"Negative\", \"Neutral\", \"Positive\", \"Negative\", \"Negative\", \"Neutral\", \"Neutral\", \"Positive\", \"Positive\", \"Neutral\", \"Positive\", \"Neutral\", \"Positive\", \"Negative\", \"Positive\", \"Neutral\", \"Neutral\", \"Negative\", \"Negative\", \"Positive\", \"Negative\", \"Negative\", \"Negative\", \"Negative\", \"Neutral\", \"Negative\", \"Positive\", \"Neutral\", \"Negative\", \"Negative\", \"Positive\", \"Positive\", \"Neutral\", \"Neutral\", \"Neutral\", \"Negative\", \"Negative\", \"Positive\", \"Negative\", \"Negative\", \"Negative\", \"Positive\", \"Positive\", \"Positive\", \"Neutral\", \"Negative\", \"Neutral\", \"Negative\", \"Neutral\", \"Neutral\", \"Positive\", \"Negative\", \"Neutral\", \"Neutral\", \"Negative\", \"Neutral\", \"Positive\", \"Neutral\", \"Neutral\", \"Neutral\", \"Positive\", \"Neutral\", \"Negative\", \"Positive\", \"Neutral\", \"Neutral\", \"Neutral\", \"Neutral\", \"Neutral\", \"Negative\", \"Negative\", \"Neutral\", \"Positive\", \"Negative\", \"Neutral\", \"Negative\", \"Positive\", \"Negative\", \"Negative\", \"Neutral\", \"Negative\", \"Neutral\", \"Neutral\", \"Negative\", \"Neutral\", \"Neutral\", \"Negative\", \"Negative\", \"Neutral\", \"Neutral\", \"Negative\", \"Neutral\", \"Negative\", \"Positive\", \"Neutral\", \"Positive\", \"Negative\", \"Neutral\", \"Positive\", \"Neutral\", \"Negative\", \"Negative\", \"Neutral\", \"Positive\", \"Neutral\", \"Positive\", \"Negative\", \"Neutral\", \"Neutral\", \"Positive\", \"Negative\", \"Neutral\", \"Neutral\", \"Negative\", \"Negative\", \"Negative\", \"Negative\", \"Positive\", \"Neutral\", \"Negative\", \"Neutral\", \"Neutral\", \"Negative\", \"Positive\", \"Positive\", \"Negative\", \"Neutral\", \"Positive\", \"Positive\", \"Neutral\", \"Neutral\", \"Positive\", \"Negative\", \"Neutral\", \"Neutral\", \"Neutral\", \"Neutral\", \"Negative\", \"Positive\", \"Negative\", \"Negative\", \"Positive\", \"Positive\", \"Negative\", \"Negative\", \"Neutral\", \"Positive\", \"Positive\", \"Positive\", \"Negative\", \"Neutral\", \"Positive\", \"Positive\", \"Neutral\", \"Neutral\", \"Positive\", \"Neutral\", \"Positive\", \"Neutral\", \"Neutral\", \"Negative\", \"Negative\", \"Neutral\", \"Negative\", \"Neutral\", \"Neutral\", \"Neutral\", \"Neutral\", \"Positive\", \"Neutral\", \"Positive\", \"Negative\", \"Positive\", \"Positive\", \"Neutral\", \"Neutral\", \"Neutral\", \"Neutral\", \"Positive\", \"Positive\", \"Neutral\", \"Negative\", \"Negative\", \"Negative\", \"Neutral\", \"Neutral\", \"Neutral\", \"Neutral\", \"Positive\", \"Positive\", \"Neutral\", \"Neutral\", \"Positive\", \"Neutral\", \"Neutral\", \"Neutral\", \"Neutral\", \"Positive\", \"Negative\", \"Neutral\", \"Neutral\", \"Positive\", \"Neutral\", \"Positive\", \"Neutral\", \"Neutral\", \"Neutral\", \"Neutral\", \"Neutral\", \"Positive\", \"Positive\", \"Negative\", \"Positive\", \"Positive\", \"Neutral\", \"Neutral\", \"Neutral\", \"Negative\", \"Neutral\", \"Neutral\", \"Positive\", \"Negative\", \"Negative\", \"Neutral\", \"Positive\", \"Neutral\", \"Negative\", \"Negative\", \"Negative\", \"Neutral\", \"Negative\", \"Negative\", \"Neutral\", \"Negative\", \"Negative\", \"Negative\", \"Neutral\", \"Negative\", \"Neutral\", \"Negative\", \"Negative\", \"Negative\", \"Negative\", \"Negative\", \"Positive\", \"Neutral\", \"Positive\", \"Neutral\", \"Negative\", \"Positive\", \"Neutral\", \"Positive\", \"Positive\", \"Neutral\", \"Negative\", \"Positive\", \"Neutral\", \"Neutral\", \"Negative\", \"Positive\", \"Negative\", \"Positive\", \"Neutral\", \"Neutral\", \"Positive\", \"Positive\", \"Positive\", \"Negative\", \"Positive\", \"Positive\", \"Negative\", \"Positive\", \"Positive\", \"Positive\", \"Negative\", \"Neutral\", \"Neutral\", \"Neutral\", \"Negative\", \"Negative\", \"Positive\", \"Neutral\", \"Neutral\", \"Negative\", \"Negative\", \"Neutral\", \"Positive\", \"Positive\", \"Positive\", \"Neutral\", \"Negative\", \"Positive\", \"Negative\", \"Neutral\", \"Negative\", \"Neutral\", \"Positive\", \"Positive\", \"Neutral\", \"Neutral\", \"Neutral\", \"Positive\", \"Neutral\", \"Positive\", \"Negative\", \"Negative\", \"Positive\", \"Positive\", \"Negative\", \"Neutral\", \"Negative\", \"Negative\", \"Positive\", \"Negative\", \"Negative\", \"Neutral\", \"Neutral\", \"Negative\", \"Negative\", \"Positive\", \"Positive\", \"Positive\", \"Negative\", \"Positive\", \"Negative\", \"Neutral\", \"Negative\", \"Negative\", \"Positive\", \"Neutral\", \"Negative\", \"Neutral\", \"Positive\", \"Negative\", \"Negative\", \"Positive\", \"Positive\", \"Neutral\", \"Positive\", \"Positive\", \"Positive\", \"Positive\", \"Negative\", \"Negative\", \"Neutral\", \"Positive\", \"Negative\", \"Neutral\", \"Negative\", \"Neutral\", \"Positive\", \"Neutral\", \"Neutral\", \"Negative\", \"Neutral\", \"Neutral\", \"Neutral\", \"Positive\", \"Neutral\", \"Neutral\", \"Negative\", \"Negative\", \"Neutral\", \"Negative\", \"Positive\", \"Negative\", \"Negative\", \"Positive\", \"Neutral\", \"Positive\", \"Neutral\", \"Positive\", \"Negative\", \"Neutral\", \"Neutral\", \"Neutral\", \"Neutral\", \"Neutral\", \"Negative\", \"Neutral\", \"Neutral\", \"Neutral\", \"Negative\", \"Negative\", \"Positive\", \"Positive\", \"Positive\", \"Negative\", \"Negative\", \"Neutral\", \"Neutral\", \"Neutral\", \"Negative\", \"Neutral\", \"Neutral\", \"Neutral\", \"Positive\", \"Neutral\", \"Negative\", \"Neutral\", \"Positive\", \"Neutral\", \"Negative\", \"Neutral\", \"Negative\", \"Neutral\", \"Neutral\", \"Negative\", \"Negative\", \"Negative\", \"Neutral\", \"Neutral\", \"Positive\", \"Positive\", \"Negative\", \"Positive\", \"Negative\", \"Neutral\", \"Positive\", \"Positive\", \"Neutral\", \"Neutral\", \"Positive\", \"Negative\", \"Neutral\", \"Neutral\", \"Positive\", \"Positive\", \"Neutral\", \"Neutral\", \"Negative\", \"Positive\", \"Negative\", \"Neutral\", \"Negative\", \"Neutral\", \"Neutral\", \"Positive\", \"Negative\", \"Negative\", \"Neutral\", \"Neutral\", \"Neutral\", \"Neutral\", \"Positive\", \"Positive\", \"Negative\", \"Neutral\", \"Negative\", \"Neutral\", \"Negative\", \"Negative\", \"Neutral\", \"Positive\", \"Positive\", \"Neutral\", \"Positive\", \"Neutral\", \"Negative\", \"Neutral\", \"Positive\", \"Neutral\", \"Neutral\", \"Positive\", \"Positive\", \"Neutral\", \"Negative\", \"Negative\", \"Neutral\", \"Negative\", \"Neutral\", \"Neutral\", \"Positive\", \"Negative\", \"Neutral\", \"Negative\", \"Neutral\", \"Negative\", \"Positive\", \"Positive\", \"Negative\", \"Negative\", \"Negative\", \"Positive\", \"Negative\", \"Neutral\", \"Negative\", \"Neutral\", \"Neutral\", \"Neutral\", \"Positive\", \"Neutral\", \"Neutral\", \"Neutral\", \"Negative\", \"Negative\", \"Negative\", \"Neutral\", \"Positive\", \"Positive\", \"Positive\", \"Neutral\", \"Positive\", \"Positive\", \"Positive\", \"Neutral\", \"Neutral\", \"Positive\", \"Neutral\", \"Neutral\", \"Positive\", \"Neutral\", \"Neutral\", \"Neutral\", \"Neutral\", \"Neutral\", \"Neutral\", \"Neutral\", \"Neutral\", \"Negative\", \"Positive\", \"Positive\", \"Neutral\", \"Neutral\", \"Neutral\", \"Positive\", \"Neutral\", \"Neutral\", \"Positive\", \"Negative\", \"Positive\", \"Positive\", \"Negative\", \"Positive\", \"Neutral\", \"Positive\", \"Negative\", \"Negative\", \"Positive\", \"Negative\", \"Neutral\", \"Neutral\", \"Negative\", \"Neutral\", \"Negative\", \"Neutral\", \"Neutral\", \"Positive\", \"Positive\", \"Positive\", \"Negative\", \"Neutral\", \"Negative\", \"Neutral\", \"Neutral\", \"Negative\", \"Neutral\", \"Positive\", \"Negative\", \"Positive\", \"Neutral\", \"Positive\", \"Negative\", \"Negative\", \"Neutral\", \"Neutral\", \"Negative\", \"Negative\", \"Neutral\", \"Negative\", \"Negative\", \"Neutral\", \"Negative\", \"Negative\", \"Positive\", \"Negative\", \"Positive\", \"Positive\", \"Negative\", \"Positive\", \"Neutral\", \"Negative\", \"Negative\", \"Neutral\", \"Neutral\", \"Negative\", \"Neutral\", \"Neutral\", \"Neutral\", \"Negative\", \"Positive\", \"Neutral\", \"Positive\", \"Neutral\", \"Positive\", \"Positive\", \"Neutral\", \"Negative\", \"Negative\", \"Positive\", \"Neutral\", \"Neutral\", \"Negative\", \"Neutral\", \"Positive\", \"Positive\", \"Negative\", \"Neutral\", \"Neutral\", \"Neutral\", \"Neutral\", \"Negative\", \"Neutral\", \"Negative\", \"Negative\", \"Neutral\", \"Neutral\", \"Neutral\", \"Neutral\", \"Neutral\", \"Negative\", \"Neutral\", \"Positive\", \"Negative\", \"Positive\", \"Negative\", \"Negative\", \"Negative\", \"Positive\", \"Positive\", \"Positive\", \"Positive\", \"Positive\", \"Positive\", \"Negative\", \"Positive\", \"Negative\", \"Negative\", \"Positive\", \"Positive\", \"Negative\", \"Positive\", \"Negative\", \"Negative\", \"Neutral\", \"Negative\", \"Neutral\", \"Negative\", \"Neutral\", \"Neutral\", \"Neutral\", \"Positive\", \"Negative\", \"Neutral\", \"Positive\", \"Negative\", \"Neutral\", \"Positive\", \"Neutral\", \"Neutral\", \"Neutral\", \"Neutral\", \"Neutral\", \"Negative\", \"Positive\", \"Positive\", \"Neutral\", \"Neutral\", \"Positive\", \"Negative\", \"Neutral\", \"Positive\", \"Positive\", \"Positive\", \"Neutral\", \"Neutral\", \"Neutral\", \"Neutral\", \"Neutral\", \"Neutral\", \"Positive\", \"Positive\", \"Positive\", \"Negative\", \"Positive\", \"Negative\", \"Neutral\", \"Positive\", \"Neutral\", \"Positive\", \"Neutral\", \"Positive\", \"Negative\", \"Positive\", \"Neutral\", \"Neutral\", \"Neutral\", \"Positive\", \"Neutral\", \"Neutral\", \"Negative\", \"Positive\", \"Neutral\", \"Negative\", \"Negative\", \"Neutral\", \"Neutral\", \"Negative\", \"Negative\", \"Positive\", \"Negative\", \"Positive\", \"Negative\", \"Negative\", \"Positive\", \"Negative\", \"Positive\", \"Positive\", \"Neutral\", \"Positive\", \"Positive\", \"Positive\", \"Neutral\", \"Positive\", \"Negative\", \"Neutral\", \"Negative\", \"Negative\", \"Positive\", \"Negative\", \"Positive\", \"Negative\", \"Negative\", \"Neutral\", \"Neutral\", \"Neutral\", \"Negative\", \"Negative\", \"Positive\", \"Negative\", \"Negative\", \"Positive\", \"Neutral\", \"Neutral\", \"Negative\", \"Positive\", \"Neutral\", \"Negative\", \"Negative\", \"Negative\", \"Neutral\", \"Neutral\", \"Negative\", \"Positive\", \"Neutral\", \"Neutral\", \"Neutral\", \"Neutral\", \"Positive\", \"Neutral\", \"Negative\", \"Negative\", \"Neutral\", \"Negative\", \"Positive\", \"Positive\", \"Positive\", \"Neutral\", \"Positive\", \"Positive\", \"Neutral\", \"Neutral\", \"Positive\", \"Positive\", \"Negative\", \"Neutral\", \"Neutral\", \"Neutral\", \"Neutral\", \"Neutral\", \"Positive\", \"Positive\", \"Positive\", \"Neutral\", \"Neutral\", \"Negative\", \"Neutral\", \"Positive\", \"Negative\", \"Negative\", \"Positive\", \"Positive\", \"Neutral\", \"Negative\", \"Negative\", \"Neutral\", \"Negative\", \"Neutral\", \"Positive\", \"Negative\", \"Neutral\", \"Neutral\", \"Neutral\", \"Positive\", \"Neutral\", \"Neutral\", \"Positive\", \"Neutral\", \"Neutral\", \"Positive\", \"Negative\", \"Neutral\", \"Positive\", \"Negative\", \"Negative\", \"Neutral\", \"Positive\", \"Neutral\", \"Positive\", \"Positive\", \"Negative\", \"Positive\", \"Negative\", \"Negative\", \"Negative\", \"Positive\", \"Positive\", \"Negative\", \"Positive\", \"Negative\", \"Positive\", \"Positive\", \"Neutral\", \"Negative\", \"Neutral\", \"Negative\", \"Negative\", \"Negative\", \"Neutral\", \"Neutral\", \"Neutral\", \"Positive\", \"Positive\", \"Neutral\", \"Neutral\", \"Positive\", \"Neutral\", \"Negative\", \"Negative\", \"Neutral\", \"Neutral\", \"Neutral\", \"Positive\", \"Negative\", \"Negative\", \"Neutral\", \"Negative\", \"Negative\", \"Positive\", \"Neutral\", \"Negative\", \"Negative\", \"Positive\", \"Neutral\", \"Neutral\", \"Neutral\", \"Positive\", \"Positive\", \"Positive\", \"Negative\", \"Negative\", \"Neutral\", \"Positive\", \"Negative\", \"Positive\", \"Positive\", \"Negative\", \"Neutral\", \"Neutral\", \"Positive\", \"Neutral\", \"Negative\", \"Neutral\", \"Negative\", \"Positive\", \"Negative\", \"Positive\", \"Neutral\", \"Neutral\", \"Neutral\", \"Positive\", \"Negative\", \"Neutral\", \"Negative\", \"Neutral\", \"Neutral\", \"Positive\", \"Negative\", \"Neutral\", \"Positive\", \"Negative\", \"Neutral\", \"Neutral\", \"Neutral\", \"Neutral\", \"Negative\", \"Neutral\", \"Neutral\", \"Neutral\", \"Neutral\", \"Neutral\", \"Neutral\", \"Positive\", \"Negative\", \"Neutral\", \"Neutral\", \"Negative\", \"Negative\", \"Negative\", \"Neutral\", \"Neutral\", \"Positive\", \"Neutral\", \"Neutral\", \"Neutral\", \"Negative\", \"Negative\", \"Positive\", \"Neutral\", \"Positive\", \"Negative\", \"Neutral\", \"Neutral\", \"Neutral\", \"Positive\", \"Positive\", \"Negative\", \"Neutral\", \"Neutral\", \"Neutral\", \"Neutral\", \"Negative\", \"Positive\", \"Neutral\", \"Neutral\", \"Neutral\", \"Positive\", \"Positive\", \"Positive\", \"Negative\", \"Positive\", \"Neutral\", \"Neutral\", \"Neutral\", \"Neutral\", \"Neutral\", \"Neutral\", \"Negative\", \"Negative\", \"Negative\", \"Positive\", \"Neutral\", \"Neutral\", \"Neutral\", \"Neutral\", \"Positive\", \"Neutral\", \"Negative\", \"Negative\", \"Negative\", \"Neutral\", \"Neutral\", \"Negative\", \"Neutral\", \"Negative\", \"Neutral\", \"Negative\", \"Neutral\", \"Positive\", \"Neutral\", \"Negative\", \"Neutral\", \"Negative\", \"Neutral\", \"Positive\", \"Negative\", \"Neutral\", \"Negative\", \"Neutral\", \"Neutral\", \"Positive\", \"Positive\", \"Negative\", \"Negative\", \"Positive\", \"Neutral\", \"Positive\", \"Positive\", \"Negative\", \"Positive\", \"Positive\", \"Neutral\", \"Negative\", \"Neutral\", \"Neutral\", \"Positive\", \"Neutral\", \"Neutral\", \"Neutral\", \"Positive\", \"Negative\", \"Positive\", \"Neutral\", \"Negative\", \"Neutral\", \"Negative\", \"Neutral\", \"Neutral\", \"Neutral\", \"Positive\", \"Neutral\", \"Neutral\", \"Neutral\", \"Positive\", \"Positive\", \"Positive\", \"Negative\", \"Negative\", \"Negative\", \"Positive\", \"Neutral\", \"Positive\", \"Neutral\", \"Positive\", \"Neutral\", \"Neutral\", \"Positive\", \"Neutral\", \"Positive\", \"Positive\", \"Positive\", \"Negative\", \"Positive\", \"Negative\", \"Negative\", \"Negative\", \"Positive\", \"Neutral\", \"Negative\", \"Negative\", \"Positive\", \"Negative\", \"Negative\", \"Negative\", \"Neutral\", \"Neutral\", \"Positive\", \"Neutral\", \"Positive\", \"Positive\", \"Neutral\", \"Negative\", \"Positive\", \"Negative\", \"Negative\", \"Negative\", \"Negative\", \"Neutral\", \"Positive\", \"Neutral\", \"Neutral\", \"Neutral\", \"Neutral\", \"Neutral\", \"Negative\", \"Negative\", \"Negative\", \"Neutral\", \"Negative\", \"Neutral\", \"Positive\", \"Neutral\", \"Neutral\", \"Positive\", \"Negative\", \"Neutral\", \"Negative\", \"Positive\", \"Positive\", \"Positive\", \"Neutral\", \"Positive\", \"Neutral\", \"Neutral\", \"Negative\", \"Negative\", \"Neutral\", \"Positive\", \"Negative\", \"Negative\", \"Neutral\", \"Negative\", \"Neutral\", \"Positive\", \"Neutral\", \"Positive\", \"Positive\", \"Negative\", \"Negative\", \"Negative\", \"Negative\", \"Negative\", \"Neutral\", \"Negative\", \"Neutral\", \"Negative\", \"Neutral\", \"Neutral\", \"Neutral\", \"Positive\", \"Neutral\", \"Negative\", \"Positive\", \"Neutral\", \"Neutral\", \"Positive\", \"Neutral\", \"Negative\", \"Positive\", \"Positive\", \"Positive\", \"Positive\", \"Positive\", \"Neutral\", \"Neutral\", \"Neutral\", \"Neutral\", \"Positive\", \"Neutral\", \"Negative\", \"Neutral\", \"Neutral\", \"Neutral\", \"Neutral\", \"Neutral\", \"Negative\", \"Neutral\", \"Neutral\", \"Neutral\", \"Positive\", \"Neutral\", \"Positive\", \"Negative\", \"Neutral\", \"Negative\", \"Neutral\", \"Positive\", \"Negative\", \"Neutral\", \"Negative\", \"Positive\", \"Neutral\", \"Neutral\", \"Negative\", \"Positive\", \"Negative\", \"Neutral\", \"Positive\", \"Positive\", \"Neutral\", \"Negative\", \"Negative\", \"Positive\", \"Neutral\", \"Positive\", \"Neutral\", \"Neutral\", \"Neutral\", \"Negative\", \"Negative\", \"Neutral\", \"Neutral\", \"Neutral\", \"Neutral\", \"Neutral\", \"Neutral\", \"Neutral\", \"Positive\", \"Neutral\", \"Neutral\", \"Negative\", \"Positive\", \"Neutral\", \"Neutral\", \"Negative\", \"Neutral\", \"Neutral\", \"Neutral\", \"Neutral\", \"Negative\", \"Negative\", \"Negative\", \"Positive\", \"Positive\", \"Negative\", \"Positive\", \"Neutral\", \"Neutral\", \"Negative\", \"Negative\", \"Neutral\", \"Neutral\", \"Neutral\", \"Neutral\", \"Positive\", \"Positive\", \"Negative\", \"Positive\", \"Neutral\", \"Negative\", \"Positive\", \"Negative\", \"Positive\", \"Neutral\", \"Positive\", \"Neutral\", \"Negative\", \"Positive\", \"Positive\", \"Positive\", \"Neutral\", \"Neutral\", \"Neutral\", \"Neutral\", \"Negative\", \"Neutral\", \"Negative\", \"Negative\", \"Positive\", \"Negative\", \"Negative\", \"Neutral\", \"Negative\", \"Neutral\", \"Negative\", \"Neutral\", \"Neutral\", \"Neutral\", \"Negative\", \"Positive\", \"Neutral\", \"Neutral\", \"Negative\", \"Neutral\", \"Neutral\", \"Positive\", \"Negative\", \"Neutral\", \"Neutral\", \"Neutral\", \"Neutral\", \"Neutral\", \"Negative\", \"Positive\", \"Negative\", \"Positive\", \"Neutral\", \"Negative\", \"Negative\", \"Positive\", \"Negative\", \"Neutral\", \"Neutral\", \"Negative\", \"Neutral\", \"Positive\", \"Negative\", \"Positive\", \"Neutral\", \"Negative\", \"Neutral\", \"Neutral\", \"Negative\", \"Negative\", \"Positive\", \"Negative\", \"Neutral\", \"Negative\", \"Negative\", \"Neutral\", \"Negative\", \"Negative\", \"Neutral\", \"Negative\", \"Positive\", \"Neutral\", \"Neutral\", \"Positive\", \"Neutral\", \"Positive\", \"Neutral\", \"Neutral\", \"Negative\", \"Positive\", \"Positive\", \"Positive\", \"Neutral\", \"Positive\", \"Neutral\", \"Negative\", \"Negative\", \"Positive\", \"Negative\", \"Neutral\", \"Neutral\", \"Neutral\", \"Negative\", \"Neutral\", \"Positive\", \"Neutral\", \"Neutral\", \"Neutral\", \"Negative\", \"Neutral\", \"Neutral\", \"Neutral\", \"Neutral\", \"Negative\", \"Positive\", \"Positive\", \"Positive\", \"Neutral\", \"Neutral\", \"Neutral\", \"Negative\", \"Neutral\", \"Neutral\", \"Negative\", \"Positive\", \"Neutral\", \"Neutral\", \"Positive\", \"Negative\", \"Negative\", \"Positive\", \"Neutral\", \"Negative\", \"Negative\", \"Positive\", \"Neutral\", \"Negative\", \"Neutral\", \"Neutral\", \"Positive\", \"Negative\", \"Neutral\", \"Neutral\", \"Neutral\", \"Positive\", \"Positive\", \"Positive\", \"Neutral\", \"Positive\", \"Neutral\", \"Neutral\", \"Positive\", \"Positive\", \"Neutral\", \"Neutral\", \"Positive\", \"Neutral\", \"Neutral\", \"Negative\", \"Positive\", \"Negative\", \"Neutral\", \"Negative\", \"Neutral\", \"Neutral\", \"Neutral\", \"Negative\", \"Neutral\", \"Neutral\", \"Neutral\", \"Negative\", \"Neutral\", \"Negative\", \"Neutral\", \"Negative\", \"Positive\", \"Positive\", \"Neutral\", \"Neutral\", \"Neutral\", \"Negative\", \"Positive\", \"Negative\", \"Negative\", \"Negative\", \"Neutral\", \"Neutral\", \"Neutral\", \"Neutral\", \"Positive\", \"Neutral\", \"Neutral\", \"Neutral\", \"Positive\", \"Negative\", \"Positive\", \"Neutral\", \"Neutral\", \"Negative\", \"Positive\", \"Neutral\", \"Negative\", \"Positive\", \"Neutral\", \"Positive\", \"Neutral\", \"Positive\", \"Neutral\", \"Neutral\", \"Positive\", \"Negative\", \"Negative\", \"Negative\", \"Negative\", \"Neutral\", \"Positive\", \"Neutral\", \"Negative\", \"Negative\", \"Negative\", \"Positive\", \"Neutral\", \"Neutral\", \"Neutral\", \"Neutral\", \"Negative\", \"Neutral\", \"Neutral\", \"Negative\", \"Positive\", \"Positive\", \"Neutral\", \"Neutral\", \"Positive\", \"Negative\", \"Negative\", \"Neutral\", \"Positive\", \"Neutral\", \"Neutral\", \"Positive\", \"Positive\", \"Positive\", \"Positive\", \"Positive\", \"Neutral\", \"Neutral\", \"Neutral\", \"Neutral\", \"Neutral\", \"Negative\", \"Neutral\", \"Positive\", \"Negative\", \"Negative\", \"Negative\", \"Positive\", \"Neutral\", \"Positive\", \"Positive\", \"Negative\", \"Neutral\", \"Negative\", \"Neutral\", \"Neutral\", \"Positive\", \"Negative\", \"Neutral\", \"Neutral\", \"Positive\", \"Neutral\", \"Positive\", \"Neutral\", \"Positive\", \"Negative\", \"Positive\", \"Negative\", \"Neutral\", \"Neutral\", \"Neutral\", \"Neutral\", \"Positive\", \"Neutral\", \"Neutral\", \"Positive\", \"Positive\", \"Negative\", \"Negative\", \"Positive\", \"Neutral\", \"Negative\", \"Positive\", \"Neutral\", \"Positive\", \"Neutral\", \"Neutral\", \"Negative\", \"Neutral\", \"Neutral\", \"Neutral\", \"Negative\", \"Neutral\", \"Positive\", \"Positive\", \"Negative\", \"Negative\", \"Neutral\", \"Negative\", \"Negative\", \"Neutral\", \"Neutral\", \"Positive\", \"Neutral\", \"Neutral\", \"Negative\", \"Negative\", \"Neutral\", \"Neutral\", \"Negative\", \"Positive\", \"Negative\", \"Negative\", \"Negative\", \"Negative\", \"Positive\", \"Negative\", \"Neutral\", \"Neutral\", \"Neutral\", \"Neutral\", \"Neutral\", \"Neutral\", \"Positive\", \"Negative\", \"Positive\", \"Neutral\", \"Neutral\", \"Neutral\", \"Positive\", \"Negative\", \"Neutral\", \"Neutral\", \"Positive\", \"Neutral\", \"Negative\", \"Negative\", \"Neutral\", \"Positive\", \"Negative\", \"Neutral\", \"Neutral\", \"Neutral\", \"Neutral\", \"Negative\", \"Neutral\", \"Positive\", \"Neutral\", \"Neutral\", \"Positive\", \"Neutral\", \"Neutral\", \"Neutral\", \"Neutral\", \"Neutral\", \"Neutral\", \"Negative\", \"Neutral\", \"Negative\", \"Neutral\", \"Neutral\", \"Negative\", \"Positive\", \"Negative\", \"Neutral\", \"Positive\", \"Positive\", \"Neutral\", \"Neutral\", \"Neutral\", \"Negative\", \"Negative\", \"Positive\", \"Positive\", \"Neutral\", \"Positive\", \"Neutral\", \"Positive\", \"Neutral\", \"Neutral\", \"Neutral\", \"Negative\", \"Neutral\", \"Negative\", \"Negative\", \"Negative\", \"Positive\", \"Negative\", \"Positive\", \"Neutral\", \"Positive\", \"Positive\", \"Negative\", \"Neutral\", \"Neutral\", \"Positive\", \"Neutral\", \"Positive\", \"Negative\", \"Negative\", \"Positive\", \"Positive\", \"Neutral\", \"Positive\", \"Negative\", \"Negative\", \"Neutral\", \"Negative\", \"Neutral\", \"Neutral\", \"Neutral\", \"Positive\", \"Negative\", \"Positive\", \"Neutral\", \"Neutral\", \"Neutral\", \"Neutral\", \"Neutral\", \"Positive\", \"Neutral\", \"Positive\", \"Negative\", \"Negative\", \"Positive\", \"Positive\", \"Negative\", \"Negative\", \"Neutral\", \"Positive\", \"Neutral\", \"Positive\", \"Neutral\", \"Negative\", \"Neutral\", \"Positive\", \"Negative\", \"Negative\", \"Negative\", \"Neutral\", \"Negative\", \"Neutral\", \"Negative\", \"Positive\", \"Positive\", \"Negative\", \"Negative\", \"Neutral\", \"Negative\", \"Negative\", \"Negative\", \"Negative\", \"Negative\", \"Positive\", \"Neutral\", \"Positive\", \"Neutral\", \"Neutral\", \"Neutral\", \"Positive\", \"Neutral\", \"Neutral\", \"Negative\", \"Neutral\", \"Neutral\", \"Positive\", \"Negative\", \"Neutral\", \"Neutral\", \"Neutral\", \"Negative\", \"Negative\", \"Negative\", \"Negative\", \"Positive\", \"Negative\", \"Negative\", \"Negative\", \"Negative\", \"Positive\", \"Negative\", \"Positive\", \"Positive\", \"Negative\", \"Positive\", \"Neutral\", \"Positive\", \"Neutral\", \"Negative\", \"Negative\", \"Neutral\", \"Neutral\", \"Neutral\", \"Positive\", \"Positive\", \"Positive\", \"Negative\", \"Positive\", \"Neutral\", \"Neutral\", \"Neutral\", \"Neutral\", \"Neutral\", \"Neutral\", \"Positive\", \"Neutral\", \"Positive\", \"Neutral\", \"Neutral\", \"Negative\", \"Negative\", \"Neutral\", \"Negative\", \"Negative\", \"Neutral\", \"Positive\", \"Neutral\", \"Neutral\", \"Positive\", \"Neutral\", \"Positive\", \"Negative\", \"Positive\", \"Neutral\", \"Negative\", \"Neutral\", \"Positive\", \"Neutral\", \"Positive\", \"Neutral\", \"Positive\", \"Positive\", \"Positive\", \"Negative\", \"Negative\", \"Neutral\", \"Neutral\", \"Positive\", \"Negative\", \"Negative\", \"Negative\", \"Positive\", \"Neutral\", \"Positive\", \"Positive\", \"Positive\", \"Negative\", \"Neutral\", \"Positive\", \"Neutral\", \"Neutral\", \"Negative\", \"Negative\", \"Neutral\", \"Positive\", \"Neutral\", \"Negative\", \"Neutral\", \"Negative\", \"Negative\", \"Neutral\", \"Neutral\", \"Negative\", \"Neutral\", \"Neutral\", \"Neutral\", \"Negative\", \"Positive\", \"Neutral\", \"Neutral\", \"Positive\", \"Positive\", \"Positive\", \"Neutral\", \"Neutral\", \"Negative\", \"Neutral\", \"Positive\", \"Negative\", \"Negative\", \"Neutral\", \"Neutral\", \"Neutral\", \"Positive\", \"Negative\", \"Neutral\", \"Neutral\", \"Negative\", \"Negative\", \"Positive\", \"Neutral\", \"Positive\", \"Positive\", \"Neutral\", \"Neutral\", \"Positive\", \"Neutral\", \"Neutral\", \"Negative\", \"Negative\", \"Positive\", \"Neutral\", \"Positive\", \"Positive\", \"Neutral\", \"Negative\", \"Neutral\", \"Negative\", \"Positive\", \"Negative\", \"Neutral\", \"Neutral\", \"Neutral\", \"Negative\", \"Neutral\", \"Negative\", \"Neutral\", \"Neutral\", \"Positive\", \"Neutral\", \"Negative\", \"Positive\", \"Negative\", \"Positive\", \"Negative\", \"Positive\", \"Negative\", \"Negative\", \"Positive\", \"Neutral\", \"Neutral\", \"Neutral\", \"Neutral\", \"Neutral\", \"Positive\", \"Neutral\", \"Neutral\", \"Neutral\", \"Positive\", \"Neutral\", \"Neutral\", \"Positive\", \"Negative\", \"Neutral\", \"Neutral\", \"Positive\", \"Positive\", \"Negative\", \"Negative\", \"Neutral\", \"Negative\", \"Negative\", \"Negative\", \"Neutral\", \"Positive\", \"Negative\", \"Negative\", \"Neutral\", \"Negative\", \"Negative\", \"Negative\", \"Neutral\", \"Positive\", \"Negative\", \"Negative\", \"Positive\", \"Neutral\", \"Neutral\", \"Positive\", \"Neutral\", \"Positive\", \"Neutral\", \"Neutral\", \"Positive\", \"Negative\", \"Negative\", \"Negative\", \"Neutral\", \"Negative\", \"Neutral\", \"Negative\", \"Neutral\", \"Neutral\", \"Negative\", \"Negative\", \"Neutral\", \"Negative\", \"Negative\", \"Positive\", \"Negative\", \"Positive\", \"Negative\", \"Neutral\", \"Negative\", \"Positive\", \"Negative\", \"Positive\", \"Neutral\", \"Neutral\", \"Positive\", \"Positive\", \"Positive\", \"Negative\", \"Neutral\", \"Negative\", \"Neutral\", \"Negative\", \"Neutral\", \"Negative\", \"Positive\", \"Neutral\", \"Positive\", \"Neutral\", \"Neutral\", \"Positive\", \"Neutral\", \"Negative\", \"Positive\", \"Neutral\", \"Negative\", \"Neutral\", \"Positive\", \"Neutral\", \"Negative\", \"Positive\", \"Neutral\", \"Neutral\", \"Neutral\", \"Neutral\", \"Neutral\", \"Neutral\", \"Negative\", \"Neutral\", \"Negative\", \"Neutral\", \"Neutral\", \"Neutral\", \"Neutral\", \"Positive\", \"Positive\", \"Neutral\", \"Neutral\", \"Positive\", \"Negative\", \"Neutral\", \"Negative\", \"Neutral\", \"Neutral\", \"Neutral\", \"Positive\", \"Negative\", \"Negative\", \"Neutral\", \"Neutral\", \"Neutral\", \"Neutral\", \"Neutral\", \"Positive\", \"Neutral\", \"Positive\", \"Negative\", \"Neutral\", \"Neutral\", \"Neutral\", \"Neutral\", \"Neutral\", \"Positive\", \"Neutral\", \"Neutral\", \"Negative\", \"Positive\", \"Negative\", \"Neutral\", \"Neutral\", \"Neutral\", \"Neutral\", \"Positive\", \"Negative\", \"Negative\", \"Positive\", \"Neutral\", \"Neutral\", \"Negative\", \"Neutral\", \"Positive\", \"Neutral\", \"Neutral\", \"Negative\", \"Negative\", \"Negative\", \"Negative\", \"Positive\", \"Negative\", \"Positive\", \"Neutral\", \"Negative\", \"Negative\", \"Negative\", \"Neutral\", \"Positive\", \"Positive\", \"Neutral\", \"Positive\", \"Neutral\", \"Neutral\", \"Positive\", \"Negative\", \"Neutral\", \"Neutral\", \"Neutral\", \"Positive\", \"Neutral\", \"Positive\", \"Neutral\", \"Negative\", \"Negative\", \"Negative\", \"Neutral\", \"Positive\", \"Neutral\", \"Negative\", \"Neutral\", \"Positive\", \"Positive\", \"Negative\", \"Neutral\", \"Neutral\", \"Negative\", \"Positive\", \"Neutral\", \"Negative\", \"Positive\", \"Neutral\", \"Negative\", \"Negative\", \"Neutral\", \"Positive\", \"Positive\", \"Positive\", \"Positive\", \"Positive\", \"Positive\", \"Positive\", \"Neutral\", \"Neutral\", \"Neutral\", \"Negative\", \"Positive\", \"Neutral\", \"Negative\", \"Positive\", \"Neutral\", \"Negative\", \"Neutral\", \"Neutral\", \"Negative\", \"Positive\", \"Neutral\", \"Negative\", \"Positive\", \"Negative\", \"Neutral\", \"Positive\", \"Negative\", \"Positive\", \"Positive\", \"Negative\", \"Positive\", \"Neutral\", \"Neutral\", \"Negative\", \"Neutral\", \"Neutral\", \"Neutral\", \"Positive\", \"Positive\", \"Neutral\", \"Neutral\", \"Neutral\", \"Negative\", \"Neutral\", \"Positive\", \"Negative\", \"Neutral\", \"Positive\", \"Neutral\", \"Negative\", \"Positive\", \"Neutral\", \"Negative\", \"Neutral\", \"Neutral\", \"Negative\", \"Negative\", \"Neutral\", \"Neutral\", \"Negative\", \"Neutral\", \"Positive\", \"Neutral\", \"Negative\", \"Negative\", \"Neutral\", \"Positive\", \"Negative\", \"Neutral\", \"Positive\", \"Negative\", \"Neutral\", \"Neutral\", \"Positive\", \"Positive\", \"Positive\", \"Positive\", \"Positive\", \"Negative\", \"Positive\", \"Neutral\", \"Neutral\", \"Neutral\", \"Positive\", \"Positive\", \"Positive\", \"Neutral\", \"Neutral\", \"Neutral\", \"Negative\", \"Neutral\", \"Negative\", \"Positive\", \"Positive\", \"Neutral\", \"Neutral\", \"Neutral\", \"Negative\", \"Neutral\", \"Neutral\", \"Positive\", \"Neutral\", \"Neutral\", \"Neutral\", \"Neutral\", \"Neutral\", \"Negative\", \"Neutral\", \"Positive\", \"Neutral\", \"Positive\", \"Neutral\", \"Negative\", \"Neutral\", \"Negative\", \"Negative\", \"Neutral\", \"Positive\", \"Positive\", \"Neutral\", \"Positive\", \"Negative\", \"Negative\", \"Neutral\", \"Negative\", \"Neutral\", \"Positive\", \"Negative\", \"Neutral\", \"Positive\", \"Negative\", \"Negative\", \"Neutral\", \"Neutral\", \"Neutral\", \"Negative\", \"Negative\", \"Neutral\", \"Neutral\", \"Negative\", \"Positive\", \"Neutral\", \"Neutral\", \"Neutral\", \"Negative\", \"Neutral\", \"Negative\", \"Negative\", \"Negative\", \"Neutral\", \"Positive\", \"Positive\", \"Positive\", \"Neutral\", \"Negative\", \"Positive\", \"Negative\", \"Positive\", \"Neutral\", \"Neutral\", \"Negative\", \"Negative\", \"Positive\", \"Positive\", \"Neutral\", \"Neutral\", \"Neutral\", \"Positive\", \"Positive\", \"Negative\", \"Neutral\", \"Neutral\", \"Neutral\", \"Negative\", \"Negative\", \"Neutral\", \"Neutral\", \"Positive\", \"Positive\", \"Neutral\", \"Neutral\", \"Neutral\", \"Negative\", \"Positive\", \"Positive\", \"Neutral\", \"Negative\", \"Neutral\", \"Neutral\", \"Neutral\", \"Neutral\", \"Negative\", \"Neutral\", \"Neutral\", \"Neutral\", \"Positive\", \"Negative\", \"Positive\", \"Neutral\", \"Neutral\", \"Negative\", \"Positive\", \"Neutral\", \"Neutral\", \"Neutral\", \"Positive\", \"Positive\", \"Positive\", \"Negative\", \"Neutral\", \"Positive\", \"Neutral\", \"Positive\", \"Positive\", \"Neutral\", \"Negative\", \"Neutral\", \"Neutral\", \"Neutral\", \"Neutral\", \"Negative\", \"Neutral\", \"Negative\", \"Neutral\", \"Neutral\", \"Positive\", \"Negative\", \"Neutral\", \"Positive\", \"Neutral\", \"Neutral\", \"Negative\", \"Neutral\", \"Neutral\", \"Positive\", \"Neutral\", \"Neutral\", \"Negative\", \"Negative\", \"Neutral\", \"Neutral\", \"Neutral\", \"Neutral\", \"Negative\", \"Neutral\", \"Neutral\", \"Neutral\", \"Neutral\", \"Negative\", \"Positive\", \"Negative\", \"Negative\", \"Positive\", \"Neutral\", \"Neutral\", \"Neutral\", \"Neutral\", \"Neutral\", \"Negative\", \"Neutral\", \"Neutral\", \"Negative\", \"Negative\", \"Neutral\", \"Neutral\", \"Positive\", \"Negative\", \"Positive\", \"Negative\", \"Negative\", \"Negative\", \"Neutral\", \"Neutral\", \"Neutral\", \"Negative\", \"Negative\", \"Positive\", \"Positive\", \"Negative\", \"Positive\", \"Positive\", \"Negative\", \"Neutral\", \"Neutral\", \"Neutral\", \"Neutral\", \"Positive\", \"Positive\", \"Negative\", \"Neutral\", \"Neutral\", \"Neutral\", \"Neutral\", \"Negative\", \"Neutral\", \"Positive\", \"Neutral\", \"Positive\", \"Positive\", \"Negative\", \"Neutral\", \"Neutral\", \"Neutral\", \"Positive\", \"Negative\", \"Positive\", \"Negative\", \"Neutral\", \"Positive\", \"Negative\", \"Neutral\", \"Positive\", \"Positive\", \"Neutral\", \"Neutral\", \"Negative\", \"Negative\", \"Negative\", \"Positive\", \"Positive\", \"Neutral\", \"Neutral\", \"Neutral\", \"Neutral\", \"Neutral\", \"Neutral\", \"Negative\", \"Positive\", \"Neutral\", \"Neutral\", \"Negative\", \"Neutral\", \"Neutral\", \"Negative\", \"Neutral\", \"Neutral\", \"Positive\", \"Neutral\", \"Positive\", \"Positive\", \"Neutral\", \"Positive\", \"Neutral\", \"Positive\", \"Positive\", \"Neutral\", \"Positive\", \"Positive\", \"Negative\", \"Negative\", \"Positive\", \"Negative\", \"Negative\", \"Positive\", \"Negative\", \"Negative\", \"Neutral\", \"Positive\", \"Neutral\", \"Positive\", \"Positive\", \"Neutral\", \"Neutral\", \"Neutral\", \"Negative\", \"Neutral\", \"Neutral\", \"Neutral\", \"Neutral\", \"Negative\", \"Negative\", \"Neutral\", \"Negative\", \"Negative\", \"Positive\", \"Negative\", \"Negative\", \"Positive\", \"Negative\", \"Negative\", \"Positive\", \"Positive\", \"Neutral\", \"Negative\", \"Neutral\", \"Positive\", \"Neutral\", \"Positive\", \"Neutral\", \"Positive\", \"Neutral\", \"Negative\", \"Positive\", \"Positive\", \"Positive\", \"Neutral\", \"Negative\", \"Positive\", \"Positive\", \"Neutral\", \"Neutral\", \"Neutral\", \"Neutral\", \"Neutral\", \"Neutral\", \"Negative\", \"Negative\", \"Negative\", \"Neutral\", \"Neutral\", \"Positive\", \"Neutral\", \"Negative\", \"Neutral\", \"Neutral\", \"Negative\", \"Neutral\", \"Positive\", \"Neutral\", \"Neutral\", \"Positive\", \"Neutral\", \"Positive\", \"Neutral\", \"Neutral\", \"Neutral\", \"Negative\", \"Neutral\", \"Neutral\", \"Negative\", \"Negative\", \"Neutral\", \"Neutral\", \"Neutral\", \"Neutral\", \"Neutral\", \"Neutral\", \"Negative\", \"Positive\", \"Neutral\", \"Negative\", \"Neutral\", \"Positive\", \"Negative\", \"Positive\", \"Neutral\", \"Neutral\", \"Neutral\", \"Negative\", \"Positive\", \"Neutral\", \"Neutral\", \"Neutral\", \"Neutral\", \"Neutral\", \"Neutral\", \"Negative\", \"Negative\", \"Positive\", \"Positive\", \"Neutral\", \"Negative\", \"Neutral\", \"Positive\", \"Neutral\", \"Positive\", \"Positive\", \"Negative\", \"Positive\", \"Negative\", \"Neutral\", \"Neutral\", \"Neutral\", \"Negative\", \"Negative\", \"Positive\", \"Negative\", \"Negative\", \"Positive\", \"Negative\", \"Neutral\", \"Positive\", \"Positive\", \"Positive\", \"Neutral\", \"Negative\", \"Neutral\", \"Neutral\", \"Neutral\", \"Neutral\", \"Positive\", \"Neutral\", \"Neutral\", \"Neutral\", \"Positive\", \"Neutral\", \"Negative\", \"Positive\", \"Negative\", \"Negative\", \"Positive\", \"Negative\", \"Neutral\", \"Positive\", \"Negative\", \"Neutral\", \"Neutral\", \"Negative\", \"Neutral\", \"Positive\", \"Neutral\", \"Neutral\", \"Neutral\", \"Positive\", \"Neutral\", \"Neutral\", \"Neutral\", \"Neutral\", \"Positive\", \"Negative\", \"Negative\", \"Positive\", \"Neutral\", \"Positive\", \"Neutral\", \"Positive\", \"Positive\", \"Positive\", \"Positive\", \"Negative\", \"Neutral\", \"Negative\", \"Positive\", \"Neutral\", \"Negative\", \"Negative\", \"Positive\", \"Positive\", \"Positive\", \"Negative\", \"Positive\", \"Positive\", \"Neutral\", \"Positive\", \"Negative\", \"Positive\", \"Positive\", \"Negative\", \"Positive\", \"Neutral\", \"Neutral\", \"Neutral\", \"Neutral\", \"Positive\", \"Neutral\", \"Neutral\", \"Neutral\", \"Neutral\", \"Negative\", \"Positive\", \"Positive\", \"Negative\", \"Negative\", \"Neutral\", \"Neutral\", \"Negative\", \"Neutral\", \"Neutral\", \"Negative\", \"Positive\", \"Negative\", \"Neutral\", \"Positive\", \"Negative\", \"Negative\", \"Neutral\", \"Neutral\", \"Negative\", \"Neutral\", \"Positive\", \"Negative\", \"Neutral\", \"Negative\", \"Neutral\", \"Neutral\", \"Negative\", \"Negative\", \"Positive\", \"Neutral\", \"Positive\", \"Neutral\", \"Neutral\", \"Positive\", \"Neutral\", \"Positive\", \"Negative\", \"Neutral\", \"Positive\", \"Neutral\", \"Neutral\", \"Neutral\", \"Positive\", \"Neutral\", \"Neutral\", \"Negative\", \"Negative\", \"Neutral\", \"Neutral\", \"Positive\", \"Neutral\", \"Neutral\", \"Neutral\", \"Negative\", \"Neutral\", \"Positive\", \"Neutral\", \"Neutral\", \"Negative\", \"Positive\", \"Negative\", \"Positive\", \"Neutral\", \"Negative\", \"Negative\", \"Negative\", \"Positive\", \"Neutral\", \"Positive\", \"Neutral\", \"Negative\", \"Neutral\", \"Neutral\", \"Negative\", \"Neutral\", \"Neutral\", \"Neutral\", \"Positive\", \"Negative\", \"Neutral\", \"Neutral\", \"Neutral\", \"Negative\", \"Neutral\", \"Positive\", \"Positive\", \"Neutral\", \"Neutral\", \"Positive\", \"Positive\", \"Neutral\", \"Neutral\", \"Negative\", \"Positive\", \"Positive\", \"Positive\", \"Positive\", \"Positive\", \"Positive\", \"Negative\", \"Negative\", \"Neutral\", \"Neutral\", \"Positive\", \"Neutral\", \"Positive\", \"Neutral\", \"Neutral\", \"Neutral\", \"Positive\", \"Negative\", \"Negative\", \"Positive\", \"Neutral\", \"Neutral\", \"Neutral\", \"Neutral\", \"Positive\", \"Negative\", \"Negative\", \"Negative\", \"Neutral\", \"Negative\", \"Neutral\", \"Neutral\", \"Positive\", \"Positive\", \"Positive\", \"Positive\", \"Neutral\", \"Neutral\", \"Positive\", \"Negative\", \"Neutral\", \"Neutral\", \"Neutral\", \"Neutral\", \"Positive\", \"Neutral\", \"Neutral\", \"Neutral\", \"Negative\", \"Neutral\", \"Positive\", \"Negative\", \"Negative\", \"Positive\", \"Positive\", \"Positive\", \"Neutral\", \"Positive\", \"Neutral\", \"Positive\", \"Negative\", \"Positive\", \"Positive\", \"Neutral\", \"Positive\", \"Neutral\", \"Neutral\", \"Negative\", \"Neutral\", \"Neutral\", \"Neutral\", \"Negative\", \"Negative\", \"Positive\", \"Negative\", \"Positive\", \"Neutral\", \"Negative\", \"Negative\", \"Neutral\", \"Negative\", \"Negative\", \"Positive\", \"Positive\", \"Neutral\", \"Neutral\", \"Neutral\", \"Positive\", \"Negative\", \"Neutral\", \"Neutral\", \"Neutral\", \"Positive\", \"Neutral\", \"Neutral\", \"Positive\", \"Neutral\", \"Positive\", \"Negative\", \"Positive\", \"Neutral\", \"Neutral\", \"Negative\", \"Positive\", \"Positive\", \"Neutral\", \"Neutral\", \"Neutral\", \"Positive\", \"Negative\", \"Negative\", \"Negative\", \"Positive\", \"Negative\", \"Neutral\", \"Positive\", \"Positive\", \"Positive\", \"Positive\", \"Negative\", \"Neutral\", \"Neutral\", \"Negative\", \"Negative\", \"Neutral\", \"Neutral\", \"Negative\", \"Neutral\", \"Negative\", \"Neutral\", \"Neutral\", \"Negative\", \"Negative\", \"Positive\", \"Negative\", \"Neutral\", \"Negative\", \"Negative\", \"Neutral\", \"Negative\", \"Positive\", \"Negative\", \"Positive\", \"Neutral\", \"Negative\", \"Positive\", \"Negative\", \"Negative\", \"Neutral\", \"Positive\", \"Negative\", \"Neutral\", \"Positive\", \"Neutral\", \"Neutral\", \"Positive\", \"Positive\", \"Neutral\", \"Neutral\", \"Positive\", \"Positive\", \"Positive\", \"Positive\", \"Neutral\", \"Negative\", \"Negative\", \"Neutral\", \"Neutral\", \"Negative\", \"Negative\", \"Neutral\", \"Positive\", \"Neutral\", \"Neutral\", \"Negative\", \"Neutral\", \"Neutral\", \"Neutral\", \"Neutral\", \"Neutral\", \"Neutral\", \"Neutral\", \"Neutral\", \"Positive\", \"Negative\", \"Neutral\", \"Negative\", \"Neutral\", \"Positive\", \"Neutral\", \"Neutral\", \"Positive\", \"Neutral\", \"Negative\", \"Positive\", \"Negative\", \"Positive\", \"Neutral\", \"Negative\", \"Neutral\", \"Neutral\", \"Negative\", \"Neutral\", \"Neutral\", \"Neutral\", \"Negative\", \"Neutral\", \"Negative\", \"Neutral\", \"Negative\", \"Negative\", \"Positive\", \"Neutral\", \"Negative\", \"Neutral\", \"Negative\", \"Negative\", \"Negative\", \"Neutral\", \"Neutral\", \"Neutral\", \"Neutral\", \"Neutral\", \"Neutral\", \"Positive\", \"Neutral\", \"Neutral\", \"Negative\", \"Positive\", \"Positive\", \"Neutral\", \"Neutral\", \"Positive\", \"Negative\", \"Neutral\", \"Negative\", \"Negative\", \"Neutral\", \"Neutral\", \"Neutral\", \"Negative\", \"Negative\", \"Neutral\", \"Negative\", \"Neutral\", \"Positive\", \"Positive\", \"Neutral\", \"Neutral\", \"Negative\", \"Positive\", \"Neutral\", \"Neutral\", \"Neutral\", \"Neutral\", \"Neutral\", \"Positive\", \"Neutral\", \"Negative\", \"Negative\", \"Neutral\", \"Neutral\", \"Neutral\", \"Negative\", \"Neutral\", \"Neutral\", \"Positive\", \"Positive\", \"Negative\", \"Negative\", \"Neutral\", \"Neutral\", \"Neutral\", \"Positive\", \"Neutral\", \"Positive\", \"Negative\", \"Negative\", \"Positive\", \"Positive\", \"Neutral\", \"Positive\", \"Negative\", \"Negative\", \"Positive\", \"Neutral\", \"Neutral\", \"Positive\", \"Negative\", \"Positive\", \"Negative\", \"Negative\", \"Neutral\", \"Neutral\", \"Neutral\", \"Negative\", \"Positive\", \"Negative\", \"Negative\", \"Positive\", \"Neutral\", \"Positive\", \"Neutral\", \"Negative\", \"Positive\", \"Neutral\", \"Neutral\", \"Negative\", \"Positive\", \"Neutral\", \"Neutral\", \"Positive\", \"Neutral\", \"Neutral\", \"Negative\", \"Positive\", \"Neutral\", \"Neutral\", \"Neutral\", \"Negative\", \"Positive\", \"Negative\", \"Negative\", \"Neutral\", \"Neutral\", \"Neutral\", \"Neutral\", \"Neutral\", \"Negative\", \"Neutral\", \"Negative\", \"Positive\", \"Neutral\", \"Neutral\", \"Neutral\", \"Neutral\", \"Negative\", \"Neutral\", \"Neutral\", \"Neutral\", \"Neutral\", \"Positive\", \"Neutral\", \"Neutral\", \"Negative\", \"Neutral\", \"Negative\", \"Negative\", \"Negative\", \"Neutral\", \"Positive\", \"Neutral\", \"Positive\", \"Positive\", \"Neutral\", \"Neutral\", \"Positive\", \"Neutral\", \"Negative\", \"Positive\", \"Neutral\", \"Neutral\", \"Neutral\", \"Neutral\", \"Neutral\", \"Neutral\", \"Negative\", \"Positive\", \"Positive\", \"Neutral\", \"Neutral\", \"Positive\", \"Negative\", \"Neutral\", \"Neutral\", \"Positive\", \"Positive\", \"Positive\", \"Neutral\", \"Negative\", \"Positive\", \"Positive\", \"Neutral\", \"Positive\", \"Positive\", \"Negative\", \"Positive\", \"Positive\", \"Positive\", \"Neutral\", \"Neutral\", \"Negative\", \"Negative\", \"Positive\", \"Negative\", \"Negative\", \"Negative\", \"Negative\", \"Neutral\", \"Negative\", \"Negative\", \"Neutral\", \"Positive\", \"Negative\", \"Neutral\", \"Negative\", \"Positive\", \"Negative\", \"Neutral\", \"Positive\", \"Neutral\", \"Positive\", \"Positive\", \"Negative\", \"Neutral\", \"Neutral\", \"Positive\", \"Negative\", \"Positive\", \"Neutral\", \"Negative\", \"Positive\", \"Neutral\", \"Positive\", \"Neutral\", \"Positive\", \"Positive\", \"Positive\", \"Positive\", \"Neutral\", \"Neutral\", \"Positive\", \"Positive\", \"Positive\", \"Negative\", \"Neutral\", \"Neutral\", \"Negative\", \"Positive\", \"Positive\", \"Negative\", \"Positive\", \"Positive\", \"Positive\", \"Positive\", \"Neutral\", \"Neutral\", \"Neutral\", \"Neutral\", \"Neutral\", \"Neutral\", \"Negative\", \"Negative\", \"Neutral\", \"Negative\", \"Negative\", \"Neutral\", \"Neutral\", \"Negative\", \"Negative\", \"Positive\", \"Neutral\", \"Neutral\", \"Neutral\", \"Positive\", \"Neutral\", \"Neutral\", \"Neutral\", \"Neutral\", \"Negative\", \"Neutral\", \"Neutral\", \"Positive\", \"Negative\", \"Positive\", \"Negative\", \"Positive\", \"Positive\", \"Neutral\", \"Negative\", \"Neutral\", \"Negative\", \"Neutral\", \"Neutral\", \"Positive\", \"Negative\", \"Negative\", \"Positive\", \"Negative\", \"Neutral\", \"Neutral\", \"Neutral\", \"Neutral\", \"Positive\", \"Neutral\", \"Positive\", \"Positive\", \"Negative\", \"Neutral\", \"Negative\", \"Positive\", \"Neutral\", \"Neutral\", \"Neutral\", \"Neutral\", \"Neutral\", \"Negative\", \"Positive\", \"Neutral\", \"Neutral\", \"Negative\", \"Positive\", \"Neutral\", \"Neutral\", \"Negative\", \"Positive\", \"Neutral\", \"Positive\", \"Positive\", \"Positive\", \"Positive\", \"Negative\", \"Positive\", \"Positive\", \"Negative\", \"Neutral\", \"Neutral\", \"Neutral\", \"Negative\", \"Negative\", \"Neutral\", \"Negative\", \"Neutral\", \"Negative\", \"Positive\", \"Negative\", \"Negative\", \"Positive\", \"Positive\", \"Neutral\", \"Positive\", \"Neutral\", \"Negative\", \"Neutral\", \"Neutral\", \"Positive\", \"Neutral\", \"Positive\", \"Neutral\", \"Positive\", \"Neutral\", \"Negative\", \"Neutral\", \"Neutral\", \"Neutral\", \"Positive\", \"Negative\", \"Positive\", \"Positive\", \"Positive\", \"Neutral\", \"Positive\", \"Neutral\", \"Neutral\", \"Negative\", \"Positive\", \"Positive\", \"Positive\", \"Positive\", \"Neutral\", \"Neutral\", \"Negative\", \"Neutral\", \"Negative\", \"Negative\", \"Neutral\", \"Positive\", \"Neutral\", \"Negative\", \"Negative\", \"Neutral\", \"Negative\", \"Neutral\", \"Negative\", \"Positive\", \"Neutral\", \"Negative\", \"Neutral\", \"Neutral\", \"Neutral\", \"Positive\", \"Neutral\", \"Neutral\", \"Negative\", \"Neutral\", \"Negative\", \"Neutral\", \"Neutral\", \"Positive\", \"Positive\", \"Negative\", \"Neutral\", \"Neutral\", \"Neutral\", \"Neutral\", \"Positive\", \"Neutral\", \"Negative\", \"Positive\", \"Neutral\", \"Neutral\", \"Positive\", \"Negative\", \"Positive\", \"Neutral\", \"Neutral\", \"Neutral\", \"Negative\", \"Positive\", \"Negative\", \"Negative\", \"Neutral\", \"Positive\", \"Negative\", \"Negative\", \"Neutral\", \"Positive\", \"Positive\", \"Positive\", \"Neutral\", \"Negative\", \"Positive\", \"Neutral\", \"Neutral\", \"Neutral\", \"Positive\", \"Neutral\", \"Negative\", \"Negative\", \"Positive\", \"Positive\", \"Neutral\", \"Neutral\", \"Neutral\", \"Neutral\", \"Negative\", \"Negative\", \"Neutral\", \"Positive\", \"Negative\", \"Negative\", \"Neutral\", \"Negative\", \"Positive\", \"Neutral\", \"Neutral\", \"Neutral\", \"Negative\", \"Neutral\", \"Neutral\", \"Positive\", \"Positive\", \"Positive\", \"Negative\", \"Positive\", \"Positive\", \"Positive\", \"Negative\", \"Positive\", \"Neutral\", \"Neutral\", \"Neutral\", \"Neutral\", \"Neutral\", \"Positive\", \"Negative\", \"Negative\", \"Neutral\", \"Neutral\", \"Neutral\", \"Negative\", \"Negative\", \"Negative\", \"Negative\", \"Positive\", \"Negative\", \"Neutral\", \"Negative\", \"Negative\", \"Neutral\", \"Neutral\", \"Negative\", \"Positive\", \"Negative\", \"Neutral\", \"Positive\", \"Negative\", \"Negative\", \"Positive\", \"Neutral\", \"Neutral\", \"Neutral\", \"Negative\", \"Negative\", \"Negative\", \"Positive\", \"Negative\", \"Negative\", \"Neutral\", \"Neutral\", \"Neutral\", \"Positive\", \"Positive\", \"Negative\", \"Negative\", \"Neutral\", \"Negative\", \"Negative\", \"Neutral\", \"Neutral\", \"Neutral\", \"Neutral\", \"Negative\", \"Negative\", \"Positive\", \"Negative\", \"Neutral\", \"Neutral\", \"Positive\", \"Negative\", \"Negative\", \"Positive\", \"Neutral\", \"Positive\", \"Neutral\", \"Negative\", \"Negative\", \"Neutral\", \"Positive\", \"Neutral\", \"Positive\", \"Positive\", \"Neutral\", \"Negative\", \"Negative\", \"Positive\", \"Negative\", \"Negative\", \"Positive\", \"Positive\", \"Neutral\", \"Neutral\", \"Negative\", \"Neutral\", \"Negative\", \"Negative\", \"Positive\", \"Neutral\", \"Neutral\", \"Neutral\", \"Neutral\", \"Negative\", \"Negative\", \"Positive\", \"Positive\", \"Neutral\", \"Neutral\", \"Positive\", \"Neutral\", \"Negative\", \"Neutral\", \"Neutral\", \"Positive\", \"Neutral\", \"Positive\", \"Neutral\", \"Positive\", \"Negative\", \"Positive\", \"Positive\", \"Neutral\", \"Negative\", \"Positive\", \"Negative\", \"Neutral\", \"Neutral\", \"Neutral\", \"Positive\", \"Positive\", \"Positive\", \"Neutral\", \"Neutral\", \"Positive\", \"Negative\", \"Positive\", \"Neutral\", \"Positive\", \"Neutral\", \"Neutral\", \"Positive\", \"Negative\", \"Neutral\", \"Positive\", \"Neutral\", \"Neutral\", \"Neutral\", \"Negative\", \"Neutral\", \"Neutral\", \"Neutral\", \"Neutral\", \"Neutral\", \"Negative\", \"Neutral\", \"Positive\", \"Neutral\", \"Positive\", \"Positive\", \"Positive\", \"Positive\", \"Positive\", \"Neutral\", \"Neutral\", \"Neutral\", \"Positive\", \"Positive\", \"Positive\", \"Neutral\", \"Negative\", \"Negative\", \"Neutral\", \"Negative\", \"Positive\", \"Neutral\", \"Negative\", \"Negative\", \"Negative\", \"Neutral\", \"Neutral\", \"Neutral\", \"Negative\", \"Positive\", \"Neutral\", \"Positive\", \"Negative\", \"Negative\", \"Neutral\", \"Neutral\", \"Neutral\", \"Neutral\", \"Neutral\", \"Neutral\", \"Negative\", \"Neutral\", \"Neutral\", \"Neutral\", \"Neutral\", \"Neutral\", \"Neutral\", \"Positive\", \"Neutral\", \"Negative\", \"Neutral\", \"Positive\", \"Negative\", \"Positive\", \"Negative\", \"Negative\", \"Negative\", \"Neutral\", \"Neutral\", \"Positive\", \"Negative\", \"Positive\", \"Negative\", \"Positive\", \"Positive\", \"Negative\", \"Negative\", \"Neutral\", \"Neutral\", \"Neutral\", \"Positive\", \"Neutral\", \"Neutral\", \"Neutral\", \"Positive\", \"Positive\", \"Neutral\", \"Neutral\", \"Positive\", \"Negative\", \"Neutral\", \"Positive\", \"Negative\", \"Neutral\", \"Positive\", \"Positive\", \"Negative\", \"Positive\", \"Positive\", \"Neutral\", \"Negative\", \"Positive\", \"Neutral\", \"Negative\", \"Negative\", \"Neutral\", \"Negative\", \"Positive\", \"Neutral\", \"Positive\", \"Neutral\", \"Neutral\", \"Neutral\", \"Neutral\", \"Neutral\", \"Negative\", \"Neutral\", \"Neutral\", \"Neutral\", \"Neutral\", \"Neutral\", \"Neutral\", \"Neutral\", \"Negative\", \"Neutral\", \"Neutral\", \"Neutral\", \"Positive\", \"Neutral\", \"Positive\", \"Negative\", \"Neutral\", \"Positive\", \"Positive\", \"Negative\", \"Negative\", \"Negative\", \"Neutral\", \"Neutral\", \"Neutral\", \"Positive\", \"Positive\", \"Neutral\", \"Positive\", \"Negative\", \"Neutral\", \"Positive\", \"Neutral\", \"Positive\", \"Neutral\", \"Neutral\", \"Positive\", \"Positive\", \"Positive\", \"Negative\", \"Neutral\", \"Neutral\", \"Neutral\", \"Neutral\", \"Neutral\", \"Positive\", \"Neutral\", \"Neutral\", \"Neutral\", \"Neutral\", \"Positive\", \"Neutral\", \"Positive\", \"Neutral\", \"Positive\", \"Positive\", \"Negative\", \"Neutral\", \"Negative\", \"Neutral\", \"Neutral\", \"Positive\", \"Neutral\", \"Negative\", \"Positive\", \"Positive\", \"Positive\", \"Neutral\", \"Negative\", \"Neutral\", \"Negative\", \"Negative\", \"Negative\", \"Positive\", \"Positive\", \"Neutral\", \"Neutral\", \"Neutral\", \"Positive\", \"Positive\", \"Neutral\", \"Neutral\", \"Neutral\", \"Positive\", \"Positive\", \"Positive\", \"Neutral\", \"Positive\", \"Negative\", \"Neutral\", \"Neutral\", \"Neutral\", \"Negative\", \"Neutral\", \"Neutral\", \"Negative\", \"Neutral\", \"Negative\", \"Neutral\", \"Positive\", \"Positive\", \"Neutral\", \"Positive\", \"Negative\", \"Positive\", \"Neutral\", \"Positive\", \"Neutral\", \"Positive\", \"Neutral\", \"Positive\", \"Neutral\", \"Negative\", \"Negative\", \"Positive\", \"Negative\", \"Positive\", \"Neutral\", \"Neutral\", \"Neutral\", \"Positive\", \"Positive\", \"Negative\", \"Positive\", \"Neutral\", \"Positive\", \"Positive\", \"Negative\", \"Negative\", \"Neutral\", \"Neutral\", \"Negative\", \"Neutral\", \"Neutral\", \"Positive\", \"Neutral\", \"Negative\", \"Positive\", \"Negative\", \"Neutral\", \"Neutral\", \"Positive\", \"Positive\", \"Negative\", \"Neutral\", \"Neutral\", \"Neutral\", \"Positive\", \"Positive\", \"Neutral\", \"Positive\", \"Negative\", \"Neutral\", \"Positive\", \"Neutral\", \"Positive\", \"Negative\", \"Negative\", \"Neutral\", \"Negative\", \"Neutral\", \"Positive\", \"Neutral\", \"Positive\", \"Neutral\", \"Negative\", \"Neutral\", \"Positive\", \"Negative\", \"Positive\", \"Negative\", \"Positive\", \"Neutral\", \"Neutral\", \"Neutral\", \"Neutral\", \"Neutral\", \"Negative\", \"Neutral\", \"Positive\", \"Neutral\", \"Neutral\", \"Negative\", \"Neutral\", \"Neutral\", \"Positive\", \"Neutral\", \"Negative\", \"Neutral\", \"Neutral\", \"Negative\", \"Negative\", \"Negative\", \"Positive\", \"Neutral\", \"Neutral\", \"Neutral\", \"Neutral\", \"Positive\", \"Positive\", \"Neutral\", \"Neutral\", \"Neutral\", \"Negative\", \"Positive\", \"Positive\", \"Neutral\", \"Neutral\", \"Negative\", \"Negative\", \"Neutral\", \"Neutral\", \"Negative\", \"Positive\", \"Negative\", \"Neutral\", \"Negative\", \"Negative\", \"Positive\", \"Positive\", \"Neutral\", \"Negative\", \"Positive\", \"Neutral\", \"Neutral\", \"Neutral\", \"Neutral\", \"Neutral\", \"Positive\", \"Positive\", \"Positive\", \"Neutral\", \"Neutral\", \"Negative\", \"Neutral\", \"Neutral\", \"Negative\", \"Neutral\", \"Neutral\", \"Negative\", \"Neutral\", \"Neutral\", \"Positive\", \"Neutral\", \"Neutral\", \"Neutral\", \"Neutral\", \"Negative\", \"Positive\", \"Positive\", \"Neutral\", \"Positive\", \"Negative\", \"Negative\", \"Positive\", \"Negative\", \"Neutral\", \"Neutral\", \"Negative\", \"Negative\", \"Negative\", \"Negative\", \"Positive\", \"Neutral\", \"Neutral\", \"Neutral\", \"Neutral\", \"Negative\", \"Negative\", \"Positive\", \"Neutral\", \"Neutral\", \"Negative\", \"Positive\", \"Positive\", \"Neutral\", \"Positive\", \"Positive\", \"Negative\", \"Positive\", \"Positive\", \"Positive\", \"Negative\", \"Positive\", \"Neutral\", \"Neutral\", \"Neutral\", \"Neutral\", \"Negative\", \"Positive\", \"Positive\", \"Negative\", \"Neutral\", \"Neutral\", \"Neutral\", \"Neutral\", \"Negative\", \"Positive\", \"Neutral\", \"Neutral\", \"Neutral\", \"Positive\", \"Negative\", \"Neutral\", \"Neutral\", \"Neutral\", \"Negative\", \"Negative\", \"Negative\", \"Neutral\", \"Negative\", \"Positive\", \"Neutral\", \"Neutral\", \"Negative\", \"Neutral\", \"Negative\", \"Positive\", \"Positive\", \"Negative\", \"Negative\", \"Negative\", \"Positive\", \"Negative\", \"Negative\", \"Negative\", \"Neutral\", \"Negative\", \"Neutral\", \"Neutral\", \"Positive\", \"Neutral\", \"Neutral\", \"Negative\", \"Positive\", \"Neutral\", \"Neutral\", \"Positive\", \"Positive\", \"Neutral\", \"Neutral\", \"Neutral\", \"Neutral\", \"Negative\", \"Neutral\", \"Positive\", \"Neutral\", \"Positive\", \"Negative\", \"Negative\", \"Neutral\", \"Positive\", \"Negative\", \"Neutral\", \"Negative\", \"Neutral\", \"Neutral\", \"Neutral\", \"Negative\", \"Neutral\", \"Neutral\", \"Neutral\", \"Positive\", \"Negative\", \"Negative\", \"Positive\", \"Positive\", \"Negative\", \"Neutral\", \"Neutral\", \"Negative\", \"Neutral\", \"Neutral\", \"Neutral\", \"Neutral\", \"Negative\", \"Neutral\", \"Negative\", \"Neutral\", \"Positive\", \"Positive\", \"Neutral\", \"Neutral\", \"Positive\", \"Negative\", \"Negative\", \"Neutral\", \"Neutral\", \"Negative\", \"Neutral\", \"Positive\", \"Neutral\", \"Positive\", \"Negative\", \"Negative\", \"Neutral\", \"Negative\", \"Neutral\", \"Negative\", \"Neutral\", \"Neutral\", \"Neutral\", \"Negative\", \"Positive\", \"Neutral\", \"Neutral\", \"Negative\", \"Negative\", \"Negative\", \"Negative\", \"Negative\", \"Neutral\", \"Positive\", \"Neutral\", \"Positive\", \"Negative\", \"Neutral\", \"Neutral\", \"Neutral\", \"Positive\", \"Negative\", \"Neutral\", \"Positive\", \"Neutral\", \"Neutral\", \"Neutral\", \"Neutral\", \"Negative\", \"Positive\", \"Neutral\", \"Neutral\", \"Neutral\", \"Neutral\", \"Neutral\", \"Neutral\", \"Neutral\", \"Neutral\", \"Negative\", \"Neutral\", \"Positive\", \"Negative\", \"Negative\", \"Negative\", \"Negative\", \"Negative\", \"Neutral\", \"Positive\", \"Neutral\", \"Negative\", \"Neutral\", \"Negative\", \"Positive\", \"Negative\", \"Positive\", \"Neutral\", \"Neutral\", \"Neutral\", \"Neutral\", \"Positive\", \"Positive\", \"Neutral\", \"Neutral\", \"Positive\", \"Neutral\", \"Positive\", \"Neutral\", \"Neutral\", \"Neutral\", \"Positive\", \"Positive\", \"Neutral\", \"Neutral\", \"Neutral\", \"Neutral\", \"Neutral\", \"Positive\", \"Positive\", \"Negative\", \"Positive\", \"Neutral\", \"Neutral\", \"Neutral\", \"Negative\", \"Negative\", \"Neutral\", \"Neutral\", \"Positive\", \"Positive\", \"Neutral\", \"Neutral\", \"Positive\", \"Positive\", \"Neutral\", \"Negative\", \"Neutral\", \"Negative\", \"Neutral\", \"Neutral\", \"Neutral\", \"Negative\", \"Neutral\", \"Neutral\", \"Neutral\", \"Neutral\", \"Neutral\", \"Neutral\", \"Neutral\", \"Neutral\", \"Neutral\", \"Neutral\", \"Neutral\", \"Positive\", \"Negative\", \"Neutral\", \"Neutral\", \"Positive\", \"Neutral\", \"Positive\", \"Negative\", \"Neutral\", \"Positive\", \"Neutral\", \"Negative\", \"Neutral\", \"Neutral\", \"Neutral\", \"Neutral\", \"Neutral\", \"Neutral\", \"Positive\", \"Neutral\", \"Negative\", \"Neutral\", \"Neutral\", \"Neutral\", \"Neutral\", \"Neutral\", \"Positive\", \"Neutral\", \"Positive\", \"Neutral\", \"Negative\", \"Positive\", \"Neutral\", \"Neutral\", \"Neutral\", \"Positive\", \"Neutral\", \"Positive\", \"Positive\", \"Neutral\", \"Negative\", \"Positive\", \"Neutral\", \"Positive\", \"Neutral\", \"Neutral\", \"Neutral\", \"Positive\", \"Negative\", \"Neutral\", \"Positive\", \"Neutral\", \"Neutral\", \"Positive\", \"Neutral\", \"Neutral\", \"Neutral\", \"Positive\", \"Positive\", \"Negative\", \"Neutral\", \"Negative\", \"Neutral\", \"Neutral\", \"Positive\", \"Neutral\", \"Negative\", \"Negative\", \"Neutral\", \"Negative\", \"Neutral\", \"Positive\", \"Neutral\", \"Negative\", \"Negative\", \"Positive\", \"Negative\", \"Positive\", \"Neutral\", \"Negative\", \"Positive\", \"Positive\", \"Negative\", \"Negative\", \"Neutral\", \"Negative\", \"Positive\", \"Negative\", \"Negative\", \"Negative\", \"Negative\", \"Neutral\", \"Neutral\", \"Neutral\", \"Neutral\", \"Negative\", \"Neutral\", \"Negative\", \"Positive\", \"Negative\", \"Neutral\", \"Neutral\", \"Positive\", \"Positive\", \"Negative\", \"Neutral\", \"Neutral\", \"Negative\", \"Neutral\", \"Neutral\", \"Neutral\", \"Neutral\", \"Positive\", \"Positive\", \"Negative\", \"Neutral\", \"Positive\", \"Negative\", \"Negative\", \"Neutral\", \"Neutral\", \"Neutral\", \"Positive\", \"Neutral\", \"Neutral\", \"Negative\", \"Positive\", \"Negative\", \"Positive\", \"Positive\", \"Positive\", \"Positive\", \"Neutral\", \"Neutral\", \"Positive\", \"Positive\", \"Negative\", \"Neutral\", \"Positive\", \"Negative\", \"Neutral\", \"Positive\", \"Neutral\", \"Negative\", \"Neutral\", \"Positive\", \"Positive\", \"Positive\", \"Neutral\", \"Negative\", \"Positive\", \"Negative\", \"Neutral\", \"Negative\", \"Neutral\", \"Positive\", \"Negative\", \"Negative\", \"Neutral\", \"Neutral\", \"Positive\", \"Negative\", \"Negative\", \"Negative\", \"Neutral\", \"Positive\", \"Negative\", \"Neutral\", \"Positive\", \"Neutral\", \"Neutral\", \"Negative\", \"Neutral\", \"Neutral\", \"Negative\", \"Negative\", \"Neutral\", \"Neutral\", \"Neutral\", \"Positive\", \"Neutral\", \"Negative\", \"Negative\", \"Neutral\", \"Positive\", \"Neutral\", \"Positive\", \"Positive\", \"Neutral\", \"Positive\", \"Positive\", \"Positive\", \"Positive\", \"Neutral\", \"Positive\", \"Negative\", \"Negative\", \"Neutral\", \"Negative\", \"Negative\", \"Positive\", \"Neutral\", \"Neutral\", \"Neutral\", \"Neutral\", \"Positive\", \"Neutral\", \"Neutral\", \"Neutral\", \"Positive\", \"Negative\", \"Positive\", \"Negative\", \"Negative\", \"Positive\", \"Negative\", \"Positive\", \"Neutral\", \"Negative\", \"Neutral\", \"Neutral\", \"Neutral\", \"Positive\", \"Neutral\", \"Negative\", \"Neutral\", \"Positive\", \"Neutral\", \"Neutral\", \"Neutral\", \"Neutral\", \"Negative\", \"Neutral\", \"Neutral\", \"Positive\", \"Negative\", \"Neutral\", \"Negative\", \"Neutral\", \"Positive\", \"Neutral\", \"Neutral\", \"Neutral\", \"Negative\", \"Positive\", \"Neutral\", \"Neutral\", \"Neutral\", \"Negative\", \"Neutral\", \"Neutral\", \"Negative\", \"Neutral\", \"Neutral\", \"Neutral\", \"Neutral\", \"Positive\", \"Positive\", \"Neutral\", \"Negative\", \"Positive\", \"Negative\", \"Neutral\", \"Neutral\", \"Neutral\", \"Negative\", \"Positive\", \"Neutral\", \"Positive\", \"Negative\", \"Negative\", \"Neutral\", \"Positive\", \"Neutral\", \"Negative\", \"Positive\", \"Neutral\", \"Neutral\", \"Neutral\", \"Positive\", \"Neutral\", \"Neutral\", \"Positive\", \"Negative\", \"Positive\", \"Positive\", \"Positive\", \"Positive\", \"Neutral\", \"Neutral\", \"Negative\", \"Neutral\", \"Negative\", \"Neutral\", \"Positive\", \"Negative\", \"Negative\", \"Positive\", \"Neutral\", \"Neutral\", \"Neutral\", \"Negative\", \"Neutral\", \"Negative\", \"Neutral\", \"Neutral\", \"Positive\", \"Neutral\", \"Positive\", \"Neutral\", \"Neutral\", \"Negative\", \"Positive\", \"Negative\", \"Positive\", \"Neutral\", \"Positive\", \"Positive\", \"Neutral\", \"Neutral\", \"Neutral\", \"Positive\", \"Positive\", \"Negative\", \"Positive\", \"Neutral\", \"Positive\", \"Negative\", \"Positive\", \"Neutral\", \"Negative\", \"Negative\", \"Neutral\", \"Neutral\", \"Negative\", \"Positive\", \"Neutral\", \"Positive\", \"Neutral\", \"Neutral\", \"Negative\", \"Negative\", \"Positive\", \"Positive\", \"Negative\", \"Negative\", \"Negative\", \"Neutral\", \"Negative\", \"Neutral\", \"Neutral\", \"Negative\", \"Neutral\", \"Negative\", \"Negative\", \"Positive\", \"Positive\", \"Neutral\", \"Neutral\", \"Positive\", \"Positive\", \"Neutral\", \"Negative\", \"Neutral\", \"Neutral\", \"Positive\", \"Neutral\", \"Neutral\", \"Neutral\", \"Neutral\", \"Neutral\", \"Positive\", \"Positive\", \"Negative\", \"Neutral\", \"Negative\", \"Negative\", \"Neutral\", \"Positive\", \"Neutral\", \"Positive\", \"Neutral\", \"Neutral\", \"Neutral\", \"Positive\", \"Neutral\", \"Neutral\", \"Neutral\", \"Neutral\", \"Neutral\", \"Neutral\", \"Negative\", \"Neutral\", \"Neutral\", \"Positive\", \"Neutral\", \"Neutral\", \"Neutral\", \"Neutral\", \"Positive\", \"Neutral\", \"Negative\", \"Positive\", \"Negative\", \"Negative\", \"Neutral\", \"Neutral\", \"Neutral\", \"Neutral\", \"Positive\", \"Negative\", \"Negative\", \"Negative\", \"Negative\", \"Neutral\", \"Neutral\", \"Positive\", \"Neutral\", \"Neutral\", \"Positive\", \"Neutral\", \"Neutral\", \"Positive\", \"Neutral\", \"Neutral\", \"Negative\", \"Negative\", \"Neutral\", \"Negative\", \"Positive\", \"Negative\", \"Neutral\", \"Positive\", \"Neutral\", \"Negative\", \"Neutral\", \"Negative\", \"Neutral\", \"Negative\", \"Positive\", \"Positive\", \"Positive\", \"Positive\", \"Neutral\", \"Negative\", \"Negative\", \"Negative\", \"Neutral\", \"Neutral\", \"Neutral\", \"Neutral\", \"Negative\", \"Negative\", \"Neutral\", \"Neutral\", \"Positive\", \"Neutral\", \"Positive\", \"Neutral\", \"Positive\", \"Negative\", \"Negative\", \"Neutral\", \"Neutral\", \"Neutral\", \"Neutral\", \"Positive\", \"Neutral\", \"Neutral\", \"Negative\", \"Neutral\", \"Positive\", \"Negative\", \"Neutral\", \"Neutral\", \"Negative\", \"Neutral\", \"Positive\", \"Positive\", \"Positive\", \"Neutral\", \"Neutral\", \"Neutral\", \"Negative\", \"Neutral\", \"Neutral\", \"Positive\", \"Neutral\", \"Neutral\", \"Neutral\", \"Negative\", \"Neutral\", \"Negative\", \"Neutral\", \"Neutral\", \"Negative\", \"Neutral\", \"Neutral\", \"Neutral\", \"Neutral\", \"Negative\", \"Neutral\", \"Neutral\", \"Positive\", \"Positive\", \"Positive\", \"Positive\", \"Neutral\", \"Positive\", \"Positive\", \"Neutral\", \"Positive\", \"Neutral\", \"Neutral\", \"Neutral\", \"Neutral\", \"Positive\", \"Neutral\", \"Positive\", \"Negative\", \"Positive\", \"Neutral\", \"Neutral\", \"Negative\", \"Positive\", \"Negative\", \"Negative\", \"Negative\", \"Neutral\", \"Negative\", \"Positive\", \"Positive\", \"Negative\", \"Positive\", \"Neutral\", \"Neutral\", \"Negative\", \"Neutral\", \"Positive\", \"Negative\", \"Neutral\", \"Neutral\", \"Positive\", \"Neutral\", \"Neutral\", \"Negative\", \"Positive\", \"Positive\", \"Neutral\", \"Neutral\", \"Positive\", \"Neutral\", \"Positive\", \"Negative\", \"Positive\", \"Positive\", \"Positive\", \"Neutral\", \"Negative\", \"Positive\", \"Neutral\", \"Negative\", \"Positive\", \"Positive\", \"Negative\", \"Negative\", \"Neutral\", \"Neutral\", \"Neutral\", \"Positive\", \"Neutral\", \"Neutral\", \"Neutral\", \"Neutral\", \"Neutral\", \"Negative\", \"Negative\", \"Negative\", \"Positive\", \"Neutral\", \"Neutral\", \"Negative\", \"Neutral\", \"Negative\", \"Negative\", \"Neutral\", \"Negative\", \"Neutral\", \"Positive\", \"Positive\", \"Positive\", \"Negative\", \"Neutral\", \"Neutral\", \"Positive\", \"Negative\", \"Neutral\", \"Neutral\", \"Positive\", \"Neutral\", \"Negative\", \"Negative\", \"Negative\", \"Negative\", \"Negative\", \"Positive\", \"Negative\", \"Negative\", \"Neutral\", \"Neutral\", \"Positive\", \"Neutral\", \"Negative\", \"Neutral\", \"Negative\", \"Neutral\", \"Positive\", \"Neutral\", \"Negative\", \"Negative\", \"Negative\", \"Positive\", \"Neutral\", \"Positive\", \"Positive\", \"Positive\", \"Neutral\", \"Negative\", \"Negative\", \"Positive\", \"Positive\", \"Negative\", \"Positive\", \"Neutral\", \"Neutral\", \"Neutral\", \"Negative\", \"Neutral\", \"Neutral\", \"Positive\", \"Negative\", \"Negative\", \"Positive\", \"Neutral\", \"Positive\", \"Neutral\", \"Neutral\", \"Negative\", \"Neutral\", \"Neutral\", \"Negative\", \"Positive\", \"Neutral\", \"Positive\", \"Negative\", \"Neutral\", \"Negative\", \"Neutral\", \"Positive\", \"Neutral\", \"Neutral\", \"Positive\", \"Neutral\", \"Neutral\", \"Neutral\", \"Neutral\", \"Neutral\", \"Neutral\", \"Neutral\", \"Neutral\", \"Positive\", \"Negative\", \"Neutral\", \"Neutral\", \"Negative\", \"Neutral\", \"Positive\", \"Neutral\", \"Negative\", \"Negative\", \"Neutral\", \"Negative\", \"Neutral\", \"Negative\", \"Neutral\", \"Positive\", \"Negative\", \"Negative\", \"Neutral\", \"Positive\", \"Neutral\", \"Neutral\", \"Negative\", \"Negative\", \"Neutral\", \"Neutral\", \"Neutral\", \"Neutral\", \"Neutral\", \"Neutral\", \"Neutral\", \"Neutral\", \"Neutral\", \"Positive\", \"Positive\", \"Positive\", \"Neutral\", \"Neutral\", \"Neutral\", \"Negative\", \"Neutral\", \"Neutral\", \"Neutral\", \"Positive\", \"Positive\", \"Positive\", \"Negative\", \"Negative\", \"Positive\", \"Negative\", \"Neutral\", \"Neutral\", \"Negative\", \"Neutral\", \"Neutral\", \"Neutral\", \"Neutral\", \"Positive\", \"Neutral\", \"Negative\", \"Neutral\", \"Positive\", \"Neutral\", \"Negative\", \"Neutral\", \"Negative\", \"Positive\", \"Neutral\", \"Positive\", \"Negative\", \"Neutral\", \"Neutral\", \"Positive\", \"Negative\", \"Positive\", \"Neutral\", \"Neutral\", \"Negative\", \"Neutral\", \"Positive\", \"Neutral\", \"Neutral\", \"Neutral\", \"Neutral\", \"Positive\", \"Negative\", \"Negative\", \"Neutral\", \"Neutral\", \"Neutral\", \"Neutral\", \"Positive\", \"Neutral\", \"Positive\", \"Neutral\", \"Negative\", \"Neutral\", \"Neutral\", \"Neutral\", \"Negative\", \"Neutral\", \"Neutral\", \"Neutral\", \"Neutral\", \"Negative\", \"Positive\", \"Neutral\", \"Positive\", \"Neutral\", \"Neutral\", \"Positive\", \"Positive\", \"Neutral\", \"Positive\", \"Positive\", \"Positive\", \"Positive\", \"Neutral\", \"Neutral\", \"Positive\", \"Neutral\", \"Neutral\", \"Positive\", \"Negative\", \"Neutral\", \"Neutral\", \"Neutral\", \"Neutral\", \"Neutral\", \"Negative\", \"Negative\", \"Neutral\", \"Positive\", \"Neutral\", \"Neutral\", \"Neutral\", \"Neutral\", \"Negative\", \"Positive\", \"Negative\", \"Neutral\", \"Neutral\", \"Neutral\", \"Neutral\", \"Neutral\", \"Negative\", \"Neutral\", \"Positive\", \"Neutral\", \"Neutral\", \"Negative\", \"Positive\", \"Negative\", \"Positive\", \"Positive\", \"Positive\", \"Negative\", \"Negative\", \"Neutral\", \"Neutral\", \"Neutral\", \"Neutral\", \"Positive\", \"Neutral\", \"Positive\", \"Neutral\", \"Negative\", \"Negative\", \"Neutral\", \"Negative\", \"Neutral\", \"Negative\", \"Neutral\", \"Neutral\", \"Neutral\", \"Neutral\", \"Positive\", \"Neutral\", \"Negative\", \"Positive\", \"Positive\", \"Neutral\", \"Positive\", \"Negative\", \"Positive\", \"Positive\", \"Positive\", \"Neutral\", \"Negative\", \"Positive\", \"Negative\", \"Negative\", \"Neutral\", \"Positive\", \"Positive\", \"Neutral\", \"Neutral\", \"Neutral\", \"Neutral\", \"Neutral\", \"Neutral\", \"Neutral\", \"Neutral\", \"Positive\", \"Positive\", \"Positive\", \"Neutral\", \"Neutral\", \"Positive\", \"Neutral\", \"Negative\", \"Negative\", \"Neutral\", \"Positive\", \"Positive\", \"Positive\", \"Neutral\", \"Negative\", \"Positive\", \"Negative\", \"Positive\", \"Neutral\", \"Positive\", \"Negative\", \"Positive\", \"Neutral\", \"Positive\", \"Neutral\", \"Neutral\", \"Negative\", \"Neutral\", \"Neutral\", \"Neutral\", \"Positive\", \"Negative\", \"Neutral\", \"Negative\", \"Negative\", \"Neutral\", \"Positive\", \"Negative\", \"Positive\", \"Neutral\", \"Neutral\", \"Positive\", \"Neutral\", \"Negative\", \"Negative\", \"Positive\", \"Neutral\", \"Positive\", \"Negative\", \"Neutral\", \"Positive\", \"Neutral\", \"Positive\", \"Neutral\", \"Positive\", \"Neutral\", \"Neutral\", \"Neutral\", \"Negative\", \"Neutral\", \"Neutral\", \"Positive\", \"Neutral\", \"Negative\", \"Negative\", \"Neutral\", \"Neutral\", \"Positive\", \"Positive\", \"Neutral\", \"Neutral\", \"Positive\", \"Positive\", \"Positive\", \"Negative\", \"Negative\", \"Neutral\", \"Positive\", \"Negative\", \"Negative\", \"Negative\", \"Neutral\", \"Negative\", \"Neutral\", \"Neutral\", \"Neutral\", \"Neutral\", \"Neutral\", \"Neutral\", \"Neutral\", \"Neutral\", \"Positive\", \"Positive\", \"Neutral\", \"Positive\", \"Negative\", \"Negative\", \"Negative\", \"Neutral\", \"Neutral\", \"Neutral\", \"Negative\", \"Negative\", \"Positive\", \"Negative\", \"Neutral\", \"Negative\", \"Positive\", \"Positive\", \"Positive\", \"Positive\", \"Neutral\", \"Neutral\", \"Neutral\", \"Negative\", \"Neutral\", \"Neutral\", \"Negative\", \"Positive\", \"Positive\", \"Positive\", \"Neutral\", \"Negative\", \"Positive\", \"Neutral\", \"Positive\", \"Neutral\", \"Neutral\", \"Neutral\", \"Neutral\", \"Neutral\", \"Negative\", \"Positive\", \"Positive\", \"Neutral\", \"Neutral\", \"Neutral\", \"Positive\", \"Neutral\", \"Positive\", \"Neutral\", \"Positive\", \"Neutral\", \"Negative\", \"Negative\", \"Neutral\", \"Negative\", \"Positive\", \"Neutral\", \"Neutral\", \"Positive\", \"Neutral\", \"Neutral\", \"Negative\", \"Negative\", \"Neutral\", \"Positive\", \"Positive\", \"Neutral\", \"Positive\", \"Neutral\", \"Neutral\", \"Neutral\", \"Negative\", \"Neutral\", \"Positive\", \"Positive\", \"Positive\", \"Neutral\", \"Neutral\", \"Neutral\", \"Neutral\", \"Negative\", \"Negative\", \"Neutral\", \"Negative\", \"Neutral\", \"Neutral\", \"Neutral\", \"Neutral\", \"Negative\", \"Neutral\", \"Positive\", \"Neutral\", \"Negative\", \"Neutral\", \"Positive\", \"Neutral\", \"Neutral\", \"Negative\", \"Positive\", \"Neutral\", \"Positive\", \"Positive\", \"Positive\", \"Positive\", \"Neutral\", \"Negative\", \"Neutral\", \"Neutral\", \"Neutral\", \"Neutral\", \"Neutral\", \"Negative\", \"Positive\", \"Neutral\", \"Neutral\", \"Neutral\", \"Neutral\", \"Neutral\", \"Neutral\", \"Positive\", \"Neutral\", \"Positive\", \"Neutral\", \"Positive\", \"Neutral\", \"Negative\", \"Neutral\", \"Neutral\", \"Neutral\", \"Negative\", \"Neutral\", \"Positive\", \"Positive\", \"Negative\", \"Positive\", \"Neutral\", \"Neutral\", \"Positive\", \"Positive\", \"Negative\", \"Neutral\", \"Neutral\", \"Neutral\", \"Neutral\", \"Negative\", \"Positive\", \"Neutral\", \"Positive\", \"Positive\", \"Neutral\", \"Neutral\", \"Neutral\", \"Negative\", \"Neutral\", \"Positive\", \"Neutral\", \"Positive\", \"Positive\", \"Positive\", \"Negative\", \"Neutral\", \"Positive\", \"Neutral\", \"Positive\", \"Positive\", \"Positive\", \"Neutral\", \"Positive\", \"Negative\", \"Neutral\", \"Neutral\", \"Positive\", \"Negative\", \"Neutral\", \"Neutral\", \"Positive\", \"Negative\", \"Negative\", \"Positive\", \"Negative\", \"Positive\", \"Positive\", \"Neutral\", \"Neutral\", \"Negative\", \"Negative\", \"Neutral\", \"Neutral\", \"Positive\", \"Neutral\", \"Neutral\", \"Neutral\", \"Positive\", \"Neutral\", \"Negative\", \"Negative\", \"Negative\", \"Neutral\", \"Neutral\", \"Positive\", \"Positive\", \"Negative\", \"Positive\", \"Positive\", \"Positive\", \"Neutral\", \"Positive\", \"Positive\", \"Neutral\", \"Neutral\", \"Neutral\", \"Negative\", \"Positive\", \"Neutral\", \"Neutral\", \"Negative\", \"Positive\", \"Neutral\", \"Neutral\", \"Neutral\", \"Negative\", \"Neutral\", \"Negative\", \"Neutral\", \"Neutral\", \"Positive\", \"Negative\", \"Neutral\", \"Neutral\", \"Positive\", \"Neutral\", \"Negative\", \"Positive\", \"Positive\", \"Positive\", \"Positive\", \"Positive\", \"Positive\", \"Positive\", \"Positive\", \"Neutral\", \"Positive\", \"Neutral\", \"Neutral\", \"Neutral\", \"Neutral\", \"Negative\", \"Neutral\", \"Negative\", \"Negative\", \"Neutral\", \"Positive\", \"Negative\", \"Neutral\", \"Negative\", \"Negative\", \"Negative\", \"Neutral\", \"Neutral\", \"Neutral\", \"Neutral\", \"Negative\", \"Neutral\", \"Negative\", \"Negative\", \"Negative\", \"Positive\", \"Neutral\", \"Negative\", \"Neutral\", \"Positive\", \"Negative\", \"Positive\", \"Neutral\", \"Positive\", \"Positive\", \"Positive\", \"Neutral\", \"Neutral\", \"Positive\", \"Negative\", \"Neutral\", \"Neutral\", \"Neutral\", \"Positive\", \"Negative\", \"Neutral\", \"Positive\", \"Neutral\", \"Neutral\", \"Neutral\", \"Positive\", \"Positive\", \"Positive\", \"Neutral\", \"Neutral\", \"Positive\", \"Neutral\", \"Positive\", \"Positive\", \"Neutral\", \"Negative\", \"Neutral\", \"Positive\", \"Positive\", \"Neutral\", \"Neutral\", \"Positive\", \"Neutral\", \"Neutral\", \"Neutral\", \"Positive\", \"Neutral\", \"Neutral\", \"Neutral\", \"Negative\", \"Neutral\", \"Positive\", \"Neutral\", \"Positive\", \"Positive\", \"Neutral\", \"Positive\", \"Negative\", \"Neutral\", \"Negative\", \"Neutral\", \"Positive\", \"Neutral\", \"Positive\", \"Neutral\", \"Negative\", \"Positive\", \"Neutral\", \"Neutral\", \"Neutral\", \"Positive\", \"Neutral\", \"Negative\", \"Negative\", \"Neutral\", \"Neutral\", \"Positive\", \"Negative\", \"Neutral\", \"Neutral\", \"Neutral\", \"Negative\", \"Neutral\", \"Neutral\", \"Neutral\", \"Neutral\", \"Neutral\", \"Neutral\", \"Positive\", \"Positive\", \"Negative\", \"Positive\", \"Neutral\", \"Neutral\", \"Negative\", \"Negative\", \"Neutral\", \"Neutral\", \"Positive\", \"Positive\", \"Neutral\", \"Positive\", \"Negative\", \"Neutral\", \"Positive\", \"Neutral\", \"Positive\", \"Positive\", \"Neutral\", \"Positive\", \"Negative\", \"Neutral\", \"Neutral\", \"Neutral\", \"Neutral\", \"Positive\", \"Neutral\", \"Positive\", \"Neutral\", \"Negative\", \"Neutral\", \"Neutral\", \"Positive\", \"Neutral\", \"Positive\", \"Positive\", \"Negative\", \"Neutral\", \"Neutral\", \"Positive\", \"Neutral\", \"Neutral\", \"Negative\", \"Positive\", \"Neutral\", \"Negative\", \"Neutral\", \"Negative\", \"Positive\", \"Negative\", \"Positive\", \"Neutral\", \"Neutral\", \"Negative\", \"Neutral\", \"Positive\", \"Neutral\", \"Neutral\", \"Neutral\", \"Negative\", \"Positive\", \"Neutral\", \"Positive\", \"Neutral\", \"Neutral\", \"Neutral\", \"Neutral\", \"Negative\", \"Negative\", \"Neutral\", \"Positive\", \"Positive\", \"Neutral\", \"Neutral\", \"Positive\", \"Positive\", \"Positive\", \"Negative\", \"Positive\", \"Neutral\", \"Positive\", \"Neutral\", \"Negative\", \"Negative\", \"Positive\", \"Positive\", \"Negative\", \"Negative\", \"Positive\", \"Neutral\", \"Negative\", \"Positive\", \"Positive\", \"Neutral\", \"Neutral\", \"Positive\", \"Neutral\", \"Neutral\", \"Positive\", \"Positive\", \"Neutral\", \"Neutral\", \"Positive\", \"Negative\", \"Neutral\", \"Positive\", \"Neutral\", \"Neutral\", \"Positive\", \"Neutral\", \"Negative\", \"Negative\", \"Neutral\", \"Neutral\", \"Positive\", \"Neutral\", \"Positive\", \"Neutral\", \"Neutral\", \"Neutral\", \"Neutral\", \"Negative\", \"Negative\", \"Neutral\", \"Negative\", \"Positive\", \"Neutral\", \"Neutral\", \"Negative\", \"Negative\", \"Positive\", \"Positive\", \"Negative\", \"Positive\", \"Neutral\", \"Neutral\", \"Neutral\", \"Neutral\", \"Positive\", \"Positive\", \"Neutral\", \"Positive\", \"Positive\", \"Positive\", \"Positive\", \"Positive\", \"Neutral\", \"Neutral\", \"Neutral\", \"Neutral\", \"Neutral\", \"Negative\", \"Neutral\", \"Positive\", \"Positive\", \"Neutral\", \"Negative\", \"Positive\", \"Negative\", \"Positive\", \"Neutral\", \"Positive\", \"Positive\", \"Positive\", \"Neutral\", \"Neutral\", \"Neutral\", \"Neutral\", \"Negative\", \"Neutral\", \"Neutral\", \"Negative\", \"Neutral\", \"Positive\", \"Neutral\", \"Neutral\", \"Negative\", \"Negative\", \"Negative\", \"Neutral\", \"Neutral\", \"Neutral\", \"Positive\", \"Positive\", \"Positive\", \"Negative\", \"Negative\", \"Positive\", \"Neutral\", \"Neutral\", \"Negative\", \"Neutral\", \"Neutral\", \"Negative\", \"Neutral\", \"Neutral\", \"Neutral\", \"Neutral\", \"Neutral\", \"Positive\", \"Neutral\", \"Neutral\", \"Positive\", \"Positive\", \"Negative\", \"Neutral\", \"Neutral\", \"Neutral\", \"Neutral\", \"Neutral\", \"Neutral\", \"Neutral\", \"Neutral\", \"Negative\", \"Negative\", \"Neutral\", \"Positive\", \"Neutral\", \"Positive\", \"Positive\", \"Positive\", \"Positive\", \"Neutral\", \"Neutral\", \"Neutral\", \"Positive\", \"Neutral\", \"Negative\", \"Neutral\", \"Neutral\", \"Negative\", \"Neutral\", \"Neutral\", \"Neutral\", \"Positive\", \"Neutral\", \"Neutral\", \"Neutral\", \"Neutral\", \"Neutral\", \"Neutral\", \"Neutral\", \"Neutral\", \"Positive\", \"Positive\", \"Neutral\", \"Neutral\", \"Neutral\", \"Neutral\", \"Neutral\", \"Neutral\", \"Positive\", \"Positive\", \"Negative\", \"Negative\", \"Positive\", \"Neutral\", \"Neutral\", \"Negative\", \"Positive\", \"Neutral\", \"Negative\", \"Neutral\", \"Neutral\", \"Positive\", \"Neutral\", \"Positive\", \"Positive\", \"Neutral\", \"Neutral\", \"Positive\", \"Neutral\", \"Neutral\", \"Negative\", \"Positive\", \"Negative\", \"Neutral\", \"Positive\", \"Positive\", \"Neutral\", \"Negative\", \"Negative\", \"Neutral\", \"Neutral\", \"Negative\", \"Positive\", \"Neutral\", \"Negative\", \"Neutral\", \"Neutral\", \"Neutral\", \"Neutral\", \"Neutral\", \"Positive\", \"Negative\", \"Neutral\", \"Positive\", \"Negative\", \"Neutral\", \"Negative\", \"Positive\", \"Positive\", \"Positive\", \"Positive\", \"Positive\", \"Neutral\", \"Neutral\", \"Neutral\", \"Neutral\", \"Neutral\", \"Positive\", \"Positive\", \"Neutral\", \"Positive\", \"Negative\", \"Negative\", \"Negative\", \"Positive\", \"Neutral\", \"Positive\", \"Neutral\", \"Neutral\", \"Neutral\", \"Positive\", \"Negative\", \"Positive\", \"Positive\", \"Positive\", \"Neutral\", \"Negative\", \"Neutral\", \"Negative\", \"Neutral\", \"Neutral\", \"Neutral\", \"Negative\", \"Positive\", \"Neutral\", \"Neutral\", \"Negative\", \"Neutral\", \"Neutral\", \"Neutral\", \"Neutral\", \"Neutral\", \"Negative\", \"Positive\", \"Negative\", \"Negative\", \"Negative\", \"Positive\", \"Negative\", \"Neutral\", \"Negative\", \"Positive\", \"Neutral\", \"Neutral\", \"Neutral\", \"Negative\", \"Negative\", \"Negative\", \"Neutral\", \"Neutral\", \"Positive\", \"Negative\", \"Neutral\", \"Negative\", \"Positive\", \"Neutral\", \"Neutral\", \"Neutral\", \"Neutral\", \"Positive\", \"Negative\", \"Positive\", \"Negative\", \"Positive\", \"Negative\", \"Positive\", \"Neutral\", \"Positive\", \"Neutral\", \"Positive\", \"Neutral\", \"Neutral\", \"Neutral\", \"Neutral\", \"Negative\", \"Neutral\", \"Positive\", \"Neutral\", \"Positive\", \"Positive\", \"Negative\", \"Neutral\", \"Neutral\", \"Neutral\", \"Neutral\", \"Neutral\", \"Positive\", \"Positive\", \"Neutral\", \"Negative\", \"Negative\", \"Positive\", \"Positive\", \"Positive\", \"Neutral\", \"Negative\", \"Neutral\", \"Neutral\", \"Positive\", \"Positive\", \"Neutral\", \"Negative\", \"Neutral\", \"Neutral\", \"Neutral\", \"Neutral\", \"Negative\", \"Neutral\", \"Positive\", \"Positive\", \"Negative\", \"Neutral\", \"Positive\", \"Positive\", \"Negative\", \"Positive\", \"Neutral\", \"Positive\", \"Positive\", \"Neutral\", \"Neutral\", \"Neutral\", \"Negative\", \"Positive\", \"Negative\", \"Neutral\", \"Neutral\", \"Positive\", \"Negative\", \"Negative\", \"Negative\", \"Negative\", \"Neutral\", \"Positive\", \"Positive\", \"Neutral\", \"Positive\", \"Positive\", \"Negative\", \"Neutral\", \"Neutral\", \"Positive\", \"Negative\", \"Positive\", \"Neutral\", \"Neutral\", \"Neutral\", \"Negative\", \"Positive\", \"Negative\", \"Negative\", \"Positive\", \"Neutral\", \"Negative\", \"Negative\", \"Negative\", \"Neutral\", \"Neutral\", \"Positive\", \"Positive\", \"Neutral\", \"Neutral\", \"Positive\", \"Neutral\", \"Neutral\", \"Positive\", \"Positive\", \"Positive\", \"Neutral\", \"Positive\", \"Positive\", \"Positive\", \"Neutral\", \"Positive\", \"Positive\", \"Positive\", \"Negative\", \"Neutral\", \"Neutral\", \"Neutral\", \"Positive\", \"Positive\", \"Negative\", \"Positive\", \"Positive\", \"Negative\", \"Neutral\", \"Positive\", \"Negative\", \"Neutral\", \"Positive\", \"Neutral\", \"Negative\", \"Positive\", \"Positive\", \"Positive\", \"Positive\", \"Neutral\", \"Negative\", \"Positive\", \"Negative\", \"Negative\", \"Neutral\", \"Negative\", \"Positive\", \"Positive\", \"Positive\", \"Neutral\", \"Negative\", \"Neutral\", \"Neutral\", \"Negative\", \"Positive\", \"Negative\", \"Neutral\", \"Neutral\", \"Neutral\", \"Neutral\", \"Positive\", \"Negative\", \"Neutral\", \"Positive\", \"Negative\", \"Neutral\", \"Neutral\", \"Neutral\", \"Neutral\", \"Neutral\", \"Neutral\", \"Negative\", \"Neutral\", \"Neutral\", \"Neutral\", \"Neutral\", \"Neutral\", \"Negative\", \"Neutral\", \"Neutral\", \"Negative\", \"Positive\", \"Neutral\", \"Neutral\", \"Neutral\", \"Neutral\", \"Neutral\", \"Neutral\", \"Positive\", \"Neutral\", \"Negative\", \"Positive\", \"Positive\", \"Neutral\", \"Positive\", \"Neutral\", \"Negative\", \"Positive\", \"Neutral\", \"Positive\", \"Neutral\", \"Neutral\", \"Negative\", \"Neutral\", \"Positive\", \"Negative\", \"Negative\", \"Positive\", \"Positive\", \"Neutral\", \"Positive\", \"Negative\", \"Positive\", \"Neutral\", \"Negative\", \"Neutral\", \"Positive\", \"Negative\", \"Neutral\", \"Negative\", \"Positive\", \"Neutral\", \"Neutral\", \"Neutral\", \"Neutral\", \"Negative\", \"Positive\", \"Neutral\", \"Positive\", \"Negative\", \"Negative\", \"Positive\", \"Negative\", \"Positive\", \"Positive\", \"Neutral\", \"Neutral\", \"Positive\", \"Neutral\", \"Negative\", \"Positive\", \"Neutral\", \"Neutral\", \"Negative\", \"Neutral\", \"Positive\", \"Neutral\", \"Negative\", \"Neutral\", \"Neutral\", \"Negative\", \"Neutral\", \"Neutral\", \"Neutral\", \"Positive\", \"Negative\", \"Neutral\", \"Negative\", \"Negative\", \"Positive\", \"Neutral\", \"Positive\", \"Neutral\", \"Neutral\", \"Neutral\", \"Neutral\", \"Neutral\", \"Neutral\", \"Neutral\", \"Neutral\", \"Negative\", \"Negative\", \"Neutral\", \"Negative\", \"Neutral\", \"Negative\", \"Positive\", \"Positive\", \"Negative\", \"Positive\", \"Positive\", \"Neutral\", \"Negative\", \"Positive\", \"Positive\", \"Neutral\", \"Positive\", \"Positive\", \"Neutral\", \"Negative\", \"Neutral\", \"Positive\", \"Neutral\", \"Neutral\", \"Neutral\", \"Neutral\", \"Neutral\", \"Negative\", \"Neutral\", \"Positive\", \"Neutral\", \"Positive\", \"Negative\", \"Positive\", \"Neutral\", \"Neutral\", \"Positive\", \"Positive\", \"Negative\", \"Negative\", \"Neutral\", \"Positive\", \"Neutral\", \"Neutral\", \"Positive\", \"Neutral\", \"Neutral\", \"Neutral\", \"Positive\", \"Neutral\", \"Positive\", \"Negative\", \"Negative\", \"Negative\", \"Neutral\", \"Neutral\", \"Positive\", \"Neutral\", \"Negative\", \"Positive\", \"Positive\", \"Negative\", \"Neutral\", \"Negative\", \"Neutral\", \"Negative\", \"Neutral\", \"Negative\", \"Neutral\", \"Neutral\", \"Negative\", \"Positive\", \"Neutral\", \"Neutral\", \"Positive\", \"Neutral\", \"Positive\", \"Positive\", \"Positive\", \"Negative\", \"Neutral\", \"Neutral\", \"Negative\", \"Positive\", \"Neutral\", \"Negative\", \"Neutral\", \"Positive\", \"Neutral\", \"Positive\", \"Positive\", \"Neutral\", \"Positive\", \"Positive\", \"Neutral\", \"Positive\", \"Positive\", \"Negative\", \"Neutral\", \"Negative\", \"Negative\", \"Negative\", \"Neutral\", \"Positive\", \"Negative\", \"Positive\", \"Neutral\", \"Negative\", \"Neutral\", \"Negative\", \"Positive\", \"Positive\", \"Negative\", \"Neutral\", \"Positive\", \"Neutral\", \"Neutral\", \"Negative\", \"Neutral\", \"Negative\", \"Neutral\", \"Negative\", \"Negative\", \"Positive\", \"Negative\", \"Neutral\", \"Positive\", \"Positive\", \"Negative\", \"Neutral\", \"Negative\", \"Positive\", \"Negative\", \"Positive\", \"Positive\", \"Neutral\", \"Positive\", \"Neutral\", \"Neutral\", \"Negative\", \"Neutral\", \"Positive\", \"Negative\", \"Neutral\", \"Negative\", \"Negative\", \"Negative\", \"Negative\", \"Neutral\", \"Negative\", \"Negative\", \"Positive\", \"Negative\", \"Negative\", \"Negative\", \"Neutral\", \"Neutral\", \"Positive\", \"Neutral\", \"Negative\", \"Neutral\", \"Neutral\", \"Positive\", \"Neutral\", \"Neutral\", \"Negative\", \"Negative\", \"Neutral\", \"Negative\", \"Positive\", \"Neutral\", \"Positive\", \"Neutral\", \"Negative\", \"Positive\", \"Positive\", \"Neutral\", \"Negative\", \"Positive\", \"Neutral\", \"Negative\", \"Positive\", \"Positive\", \"Positive\", \"Neutral\", \"Positive\", \"Neutral\", \"Positive\", \"Neutral\", \"Neutral\", \"Positive\", \"Positive\", \"Neutral\", \"Neutral\", \"Negative\", \"Negative\", \"Neutral\", \"Neutral\", \"Negative\", \"Neutral\", \"Neutral\", \"Negative\", \"Positive\", \"Neutral\", \"Neutral\", \"Positive\", \"Positive\", \"Positive\", \"Neutral\", \"Positive\", \"Positive\", \"Neutral\", \"Positive\", \"Positive\", \"Negative\", \"Neutral\", \"Negative\", \"Neutral\", \"Negative\", \"Neutral\", \"Neutral\", \"Positive\", \"Neutral\", \"Neutral\", \"Positive\", \"Neutral\", \"Positive\", \"Neutral\", \"Negative\", \"Neutral\", \"Negative\", \"Negative\", \"Neutral\", \"Positive\", \"Positive\", \"Neutral\", \"Neutral\", \"Neutral\", \"Neutral\", \"Negative\", \"Positive\", \"Positive\", \"Positive\", \"Positive\", \"Positive\", \"Positive\", \"Neutral\", \"Neutral\", \"Positive\", \"Negative\", \"Negative\", \"Positive\", \"Negative\", \"Neutral\", \"Neutral\", \"Positive\", \"Negative\", \"Positive\", \"Neutral\", \"Neutral\", \"Negative\", \"Neutral\", \"Positive\", \"Positive\", \"Positive\", \"Neutral\", \"Negative\", \"Neutral\", \"Negative\", \"Positive\", \"Positive\", \"Neutral\", \"Positive\", \"Negative\", \"Neutral\", \"Neutral\", \"Neutral\", \"Positive\", \"Neutral\", \"Positive\", \"Negative\", \"Neutral\", \"Neutral\", \"Neutral\", \"Negative\", \"Neutral\", \"Neutral\", \"Neutral\", \"Neutral\", \"Neutral\", \"Positive\", \"Neutral\", \"Positive\", \"Negative\", \"Positive\", \"Neutral\", \"Positive\", \"Positive\", \"Negative\", \"Positive\", \"Neutral\", \"Neutral\", \"Positive\", \"Positive\", \"Positive\", \"Negative\", \"Negative\", \"Neutral\", \"Neutral\", \"Positive\", \"Positive\", \"Positive\", \"Positive\", \"Positive\", \"Positive\", \"Neutral\", \"Negative\", \"Neutral\", \"Neutral\", \"Neutral\", \"Neutral\", \"Neutral\", \"Positive\", \"Neutral\", \"Neutral\", \"Neutral\", \"Neutral\", \"Neutral\", \"Positive\", \"Positive\", \"Neutral\", \"Neutral\", \"Neutral\", \"Negative\", \"Positive\", \"Neutral\", \"Neutral\", \"Positive\", \"Neutral\", \"Negative\", \"Positive\", \"Positive\", \"Negative\", \"Negative\", \"Negative\", \"Negative\", \"Positive\", \"Neutral\", \"Negative\", \"Positive\", \"Positive\", \"Positive\", \"Negative\", \"Negative\", \"Neutral\", \"Negative\", \"Neutral\", \"Positive\", \"Neutral\", \"Positive\", \"Positive\", \"Negative\", \"Neutral\", \"Negative\", \"Positive\", \"Neutral\", \"Negative\", \"Neutral\", \"Neutral\", \"Negative\", \"Positive\", \"Positive\", \"Negative\", \"Negative\", \"Neutral\", \"Negative\", \"Neutral\", \"Neutral\", \"Negative\", \"Negative\", \"Negative\", \"Neutral\", \"Positive\", \"Positive\", \"Positive\", \"Positive\", \"Negative\", \"Neutral\", \"Negative\", \"Positive\", \"Neutral\", \"Positive\", \"Neutral\", \"Neutral\", \"Negative\", \"Positive\", \"Neutral\", \"Negative\", \"Neutral\", \"Neutral\", \"Positive\", \"Negative\", \"Neutral\", \"Negative\", \"Negative\", \"Neutral\", \"Neutral\", \"Negative\", \"Neutral\", \"Negative\", \"Positive\", \"Neutral\", \"Positive\", \"Negative\", \"Neutral\", \"Positive\", \"Neutral\", \"Neutral\", \"Positive\", \"Positive\", \"Negative\", \"Negative\", \"Negative\", \"Neutral\", \"Positive\", \"Positive\", \"Neutral\", \"Positive\", \"Neutral\", \"Neutral\", \"Neutral\", \"Positive\", \"Neutral\", \"Positive\", \"Negative\", \"Neutral\", \"Positive\", \"Positive\", \"Negative\", \"Positive\", \"Negative\", \"Neutral\", \"Negative\", \"Neutral\", \"Negative\", \"Negative\", \"Neutral\", \"Negative\", \"Neutral\", \"Negative\", \"Positive\", \"Positive\", \"Neutral\", \"Positive\", \"Neutral\", \"Negative\", \"Positive\", \"Neutral\", \"Negative\", \"Neutral\", \"Neutral\", \"Positive\", \"Negative\", \"Neutral\", \"Neutral\", \"Positive\", \"Neutral\", \"Negative\", \"Negative\", \"Negative\", \"Positive\", \"Neutral\", \"Neutral\", \"Positive\", \"Positive\", \"Neutral\", \"Negative\", \"Neutral\", \"Neutral\", \"Positive\", \"Neutral\", \"Positive\", \"Positive\", \"Positive\", \"Neutral\", \"Positive\", \"Positive\", \"Negative\", \"Positive\", \"Neutral\", \"Negative\", \"Neutral\", \"Negative\", \"Negative\", \"Positive\", \"Positive\", \"Negative\", \"Positive\", \"Neutral\", \"Positive\", \"Positive\", \"Negative\", \"Negative\", \"Positive\", \"Positive\", \"Neutral\", \"Positive\", \"Negative\", \"Negative\", \"Neutral\", \"Negative\", \"Neutral\", \"Positive\", \"Neutral\", \"Neutral\", \"Neutral\", \"Positive\", \"Neutral\", \"Positive\", \"Neutral\", \"Negative\", \"Neutral\", \"Negative\", \"Neutral\", \"Positive\", \"Negative\", \"Neutral\", \"Neutral\", \"Positive\", \"Negative\", \"Positive\", \"Neutral\", \"Negative\", \"Neutral\", \"Positive\", \"Neutral\", \"Positive\", \"Positive\", \"Neutral\", \"Neutral\", \"Positive\", \"Positive\", \"Negative\", \"Positive\", \"Positive\", \"Negative\", \"Neutral\", \"Positive\", \"Positive\", \"Negative\", \"Negative\", \"Neutral\", \"Neutral\", \"Neutral\", \"Negative\", \"Positive\", \"Positive\", \"Negative\", \"Neutral\", \"Neutral\", \"Neutral\", \"Positive\", \"Positive\", \"Negative\", \"Neutral\", \"Neutral\", \"Negative\", \"Neutral\", \"Positive\", \"Negative\", \"Neutral\", \"Negative\", \"Neutral\", \"Positive\", \"Positive\", \"Positive\", \"Neutral\", \"Neutral\", \"Positive\", \"Negative\", \"Negative\", \"Neutral\", \"Negative\", \"Neutral\", \"Negative\", \"Positive\", \"Positive\", \"Positive\", \"Positive\", \"Negative\", \"Neutral\", \"Negative\", \"Negative\", \"Positive\", \"Neutral\", \"Positive\", \"Neutral\", \"Positive\", \"Neutral\", \"Neutral\", \"Neutral\", \"Positive\", \"Negative\", \"Negative\", \"Negative\", \"Negative\", \"Negative\", \"Positive\", \"Negative\", \"Neutral\", \"Neutral\", \"Neutral\", \"Neutral\", \"Neutral\", \"Neutral\", \"Neutral\", \"Neutral\", \"Positive\", \"Positive\", \"Positive\", \"Positive\", \"Negative\", \"Neutral\", \"Neutral\", \"Positive\", \"Negative\", \"Neutral\", \"Neutral\", \"Negative\", \"Positive\", \"Positive\", \"Positive\", \"Neutral\", \"Negative\", \"Neutral\", \"Neutral\", \"Neutral\", \"Positive\", \"Negative\", \"Neutral\", \"Positive\", \"Positive\", \"Negative\", \"Neutral\", \"Positive\", \"Neutral\", \"Neutral\", \"Negative\", \"Neutral\", \"Neutral\", \"Positive\", \"Neutral\", \"Neutral\", \"Neutral\", \"Positive\", \"Neutral\", \"Positive\", \"Negative\", \"Negative\", \"Negative\", \"Positive\", \"Neutral\", \"Neutral\", \"Positive\", \"Positive\", \"Positive\", \"Negative\", \"Negative\", \"Negative\", \"Positive\", \"Positive\", \"Neutral\", \"Positive\", \"Positive\", \"Neutral\", \"Neutral\", \"Negative\", \"Negative\", \"Neutral\", \"Positive\", \"Negative\", \"Negative\", \"Positive\", \"Neutral\", \"Positive\", \"Neutral\", \"Neutral\", \"Neutral\", \"Neutral\", \"Neutral\", \"Neutral\", \"Neutral\", \"Neutral\", \"Negative\", \"Positive\", \"Positive\", \"Neutral\", \"Neutral\", \"Neutral\", \"Neutral\", \"Positive\", \"Positive\", \"Negative\", \"Neutral\", \"Positive\", \"Negative\", \"Positive\", \"Positive\", \"Neutral\", \"Negative\", \"Neutral\", \"Positive\", \"Positive\", \"Neutral\", \"Neutral\", \"Positive\", \"Negative\", \"Neutral\", \"Positive\", \"Neutral\", \"Neutral\", \"Negative\", \"Neutral\", \"Neutral\", \"Neutral\", \"Negative\", \"Neutral\", \"Positive\", \"Positive\", \"Positive\", \"Neutral\", \"Positive\", \"Positive\", \"Positive\", \"Neutral\", \"Neutral\", \"Neutral\", \"Positive\", \"Neutral\", \"Positive\", \"Neutral\", \"Negative\", \"Positive\", \"Neutral\", \"Neutral\", \"Positive\", \"Positive\", \"Neutral\", \"Negative\", \"Negative\", \"Neutral\", \"Neutral\", \"Negative\", \"Positive\", \"Positive\", \"Neutral\", \"Neutral\", \"Neutral\", \"Positive\", \"Neutral\", \"Neutral\", \"Neutral\", \"Neutral\", \"Neutral\", \"Neutral\", \"Negative\", \"Neutral\", \"Positive\", \"Negative\", \"Neutral\", \"Neutral\", \"Positive\", \"Neutral\", \"Neutral\", \"Negative\", \"Positive\", \"Positive\", \"Negative\", \"Positive\", \"Positive\", \"Neutral\", \"Positive\", \"Neutral\", \"Neutral\", \"Positive\", \"Negative\", \"Positive\", \"Positive\", \"Neutral\", \"Neutral\", \"Positive\", \"Neutral\", \"Positive\", \"Neutral\", \"Positive\", \"Negative\", \"Neutral\", \"Neutral\", \"Negative\", \"Neutral\", \"Negative\", \"Positive\", \"Neutral\", \"Neutral\", \"Positive\", \"Negative\", \"Neutral\", \"Negative\", \"Negative\", \"Neutral\", \"Positive\", \"Positive\", \"Negative\", \"Positive\", \"Positive\", \"Neutral\", \"Positive\", \"Neutral\", \"Neutral\", \"Neutral\", \"Neutral\", \"Positive\", \"Positive\", \"Neutral\", \"Neutral\", \"Neutral\", \"Neutral\", \"Neutral\", \"Neutral\", \"Neutral\", \"Positive\", \"Negative\", \"Neutral\", \"Negative\", \"Neutral\", \"Positive\", \"Negative\", \"Neutral\", \"Neutral\", \"Positive\", \"Negative\", \"Positive\", \"Neutral\", \"Neutral\", \"Neutral\", \"Neutral\", \"Neutral\", \"Neutral\", \"Positive\", \"Positive\", \"Negative\", \"Positive\", \"Neutral\", \"Neutral\", \"Positive\", \"Negative\", \"Neutral\", \"Positive\", \"Positive\", \"Negative\", \"Neutral\", \"Neutral\", \"Negative\", \"Neutral\", \"Negative\", \"Positive\", \"Neutral\", \"Neutral\", \"Neutral\", \"Neutral\", \"Positive\", \"Positive\", \"Negative\", \"Neutral\", \"Negative\", \"Positive\", \"Neutral\", \"Positive\", \"Neutral\", \"Positive\", \"Neutral\", \"Negative\", \"Neutral\", \"Neutral\", \"Neutral\", \"Positive\", \"Negative\", \"Neutral\", \"Negative\", \"Positive\", \"Neutral\", \"Positive\", \"Positive\", \"Positive\", \"Neutral\", \"Neutral\", \"Neutral\", \"Positive\", \"Neutral\", \"Neutral\", \"Positive\", \"Negative\", \"Positive\", \"Positive\", \"Positive\", \"Neutral\", \"Neutral\", \"Neutral\", \"Neutral\", \"Positive\", \"Neutral\", \"Neutral\", \"Neutral\", \"Neutral\", \"Neutral\", \"Positive\", \"Neutral\", \"Neutral\", \"Neutral\", \"Positive\", \"Neutral\", \"Positive\", \"Negative\", \"Neutral\", \"Neutral\", \"Neutral\", \"Negative\", \"Positive\", \"Positive\", \"Neutral\", \"Neutral\", \"Neutral\", \"Positive\", \"Positive\", \"Neutral\", \"Negative\", \"Negative\", \"Neutral\", \"Neutral\", \"Negative\", \"Negative\", \"Neutral\", \"Negative\", \"Negative\", \"Positive\", \"Positive\", \"Neutral\", \"Negative\", \"Positive\", \"Neutral\", \"Neutral\", \"Positive\", \"Negative\", \"Neutral\", \"Negative\", \"Positive\", \"Neutral\", \"Positive\", \"Neutral\", \"Positive\", \"Neutral\", \"Positive\", \"Negative\", \"Negative\", \"Neutral\", \"Positive\", \"Negative\", \"Negative\", \"Neutral\", \"Neutral\", \"Negative\", \"Neutral\", \"Negative\", \"Neutral\", \"Neutral\", \"Neutral\", \"Negative\", \"Neutral\", \"Neutral\", \"Neutral\", \"Positive\", \"Positive\", \"Neutral\", \"Neutral\", \"Negative\", \"Neutral\", \"Neutral\", \"Neutral\", \"Neutral\", \"Neutral\", \"Positive\", \"Negative\", \"Neutral\", \"Negative\", \"Neutral\", \"Negative\", \"Neutral\", \"Neutral\", \"Neutral\", \"Neutral\", \"Neutral\", \"Positive\", \"Positive\", \"Positive\", \"Positive\", \"Neutral\", \"Negative\", \"Neutral\", \"Positive\", \"Neutral\", \"Neutral\", \"Neutral\", \"Neutral\", \"Neutral\", \"Neutral\", \"Positive\", \"Neutral\", \"Negative\", \"Negative\", \"Negative\", \"Neutral\", \"Neutral\", \"Neutral\", \"Positive\", \"Neutral\", \"Neutral\", \"Negative\", \"Positive\", \"Neutral\", \"Negative\", \"Neutral\", \"Negative\", \"Positive\", \"Neutral\", \"Neutral\", \"Neutral\", \"Neutral\", \"Negative\", \"Negative\", \"Neutral\", \"Negative\", \"Negative\", \"Positive\", \"Neutral\", \"Positive\", \"Neutral\", \"Positive\", \"Negative\", \"Neutral\", \"Positive\", \"Neutral\", \"Neutral\", \"Negative\", \"Positive\", \"Neutral\", \"Positive\", \"Neutral\", \"Neutral\", \"Neutral\", \"Positive\", \"Positive\", \"Negative\", \"Neutral\", \"Neutral\", \"Positive\", \"Neutral\", \"Positive\", \"Positive\", \"Positive\", \"Neutral\", \"Negative\", \"Neutral\", \"Positive\", \"Neutral\", \"Positive\", \"Positive\", \"Positive\", \"Negative\", \"Positive\", \"Positive\", \"Neutral\", \"Neutral\", \"Negative\", \"Positive\", \"Neutral\", \"Neutral\", \"Neutral\", \"Negative\", \"Negative\", \"Neutral\", \"Negative\", \"Neutral\", \"Neutral\", \"Positive\", \"Neutral\", \"Neutral\", \"Neutral\", \"Neutral\", \"Neutral\", \"Neutral\", \"Positive\", \"Neutral\", \"Neutral\", \"Neutral\", \"Positive\", \"Positive\", \"Positive\", \"Neutral\", \"Negative\", \"Neutral\", \"Neutral\", \"Neutral\", \"Negative\", \"Positive\", \"Neutral\", \"Neutral\", \"Negative\", \"Neutral\", \"Positive\", \"Neutral\", \"Positive\", \"Positive\", \"Neutral\", \"Neutral\", \"Positive\", \"Positive\", \"Positive\", \"Neutral\", \"Negative\", \"Neutral\", \"Neutral\", \"Neutral\", \"Neutral\", \"Negative\", \"Neutral\", \"Positive\", \"Neutral\", \"Neutral\", \"Neutral\", \"Positive\", \"Positive\", \"Neutral\", \"Positive\", \"Positive\", \"Positive\", \"Positive\", \"Neutral\", \"Negative\", \"Positive\", \"Neutral\", \"Neutral\", \"Negative\", \"Neutral\", \"Neutral\", \"Negative\", \"Positive\", \"Negative\", \"Negative\", \"Negative\", \"Neutral\", \"Negative\", \"Neutral\", \"Neutral\", \"Neutral\", \"Neutral\", \"Neutral\", \"Neutral\", \"Neutral\", \"Neutral\", \"Neutral\", \"Neutral\", \"Neutral\", \"Positive\", \"Positive\", \"Negative\", \"Neutral\", \"Neutral\", \"Neutral\", \"Neutral\", \"Negative\", \"Neutral\", \"Negative\", \"Negative\", \"Neutral\", \"Neutral\", \"Neutral\", \"Positive\", \"Neutral\", \"Neutral\", \"Negative\", \"Negative\", \"Neutral\", \"Neutral\", \"Positive\", \"Neutral\", \"Neutral\", \"Neutral\", \"Positive\", \"Positive\", \"Positive\", \"Neutral\", \"Negative\", \"Positive\", \"Positive\", \"Positive\", \"Neutral\", \"Neutral\", \"Negative\", \"Positive\", \"Neutral\", \"Neutral\", \"Neutral\", \"Neutral\", \"Neutral\", \"Neutral\", \"Neutral\", \"Neutral\", \"Neutral\", \"Neutral\", \"Negative\", \"Positive\", \"Neutral\", \"Neutral\", \"Neutral\", \"Positive\", \"Positive\", \"Neutral\", \"Positive\", \"Neutral\", \"Neutral\", \"Positive\", \"Neutral\", \"Neutral\", \"Neutral\", \"Negative\", \"Positive\", \"Neutral\", \"Positive\", \"Negative\", \"Positive\", \"Neutral\", \"Positive\", \"Neutral\", \"Neutral\", \"Positive\", \"Neutral\", \"Neutral\", \"Negative\", \"Negative\", \"Neutral\", \"Positive\", \"Neutral\", \"Negative\", \"Positive\", \"Negative\", \"Negative\", \"Neutral\", \"Positive\", \"Neutral\", \"Positive\", \"Positive\", \"Positive\", \"Neutral\", \"Negative\", \"Positive\", \"Positive\", \"Positive\", \"Negative\", \"Neutral\", \"Neutral\", \"Negative\", \"Negative\", \"Neutral\", \"Neutral\", \"Positive\", \"Positive\", \"Neutral\", \"Negative\", \"Neutral\", \"Neutral\", \"Neutral\", \"Neutral\", \"Positive\", \"Neutral\", \"Negative\", \"Positive\", \"Positive\", \"Negative\", \"Neutral\", \"Neutral\", \"Negative\", \"Neutral\", \"Neutral\", \"Neutral\", \"Positive\", \"Neutral\", \"Negative\", \"Neutral\", \"Positive\", \"Neutral\", \"Positive\", \"Neutral\", \"Neutral\", \"Positive\", \"Positive\", \"Neutral\", \"Neutral\", \"Negative\", \"Neutral\", \"Neutral\", \"Negative\", \"Neutral\", \"Positive\", \"Negative\", \"Neutral\", \"Neutral\", \"Negative\", \"Neutral\", \"Neutral\", \"Neutral\", \"Neutral\", \"Neutral\", \"Neutral\", \"Neutral\", \"Neutral\", \"Positive\", \"Neutral\", \"Neutral\", \"Neutral\", \"Negative\", \"Neutral\", \"Neutral\", \"Neutral\", \"Negative\", \"Neutral\", \"Neutral\", \"Negative\", \"Neutral\", \"Neutral\", \"Positive\", \"Negative\", \"Positive\", \"Neutral\", \"Neutral\", \"Neutral\", \"Neutral\", \"Neutral\", \"Positive\", \"Neutral\", \"Positive\", \"Positive\", \"Negative\", \"Neutral\", \"Neutral\", \"Neutral\", \"Positive\", \"Positive\", \"Neutral\", \"Positive\", \"Negative\", \"Positive\", \"Positive\", \"Positive\", \"Neutral\", \"Neutral\", \"Neutral\", \"Neutral\", \"Positive\", \"Positive\", \"Neutral\", \"Neutral\", \"Positive\", \"Positive\", \"Neutral\", \"Neutral\", \"Neutral\", \"Positive\", \"Negative\", \"Neutral\", \"Positive\", \"Neutral\", \"Neutral\", \"Neutral\", \"Neutral\", \"Negative\", \"Neutral\", \"Neutral\", \"Positive\", \"Positive\", \"Neutral\", \"Positive\", \"Neutral\", \"Negative\", \"Neutral\", \"Neutral\", \"Neutral\", \"Neutral\", \"Positive\", \"Neutral\", \"Positive\", \"Positive\", \"Positive\", \"Neutral\", \"Neutral\", \"Negative\", \"Neutral\", \"Positive\", \"Negative\", \"Negative\", \"Neutral\", \"Positive\", \"Neutral\", \"Neutral\", \"Negative\", \"Neutral\", \"Positive\", \"Positive\", \"Neutral\", \"Neutral\", \"Neutral\", \"Neutral\", \"Negative\", \"Neutral\", \"Negative\", \"Positive\", \"Positive\", \"Neutral\", \"Negative\", \"Neutral\", \"Neutral\", \"Neutral\", \"Neutral\", \"Neutral\", \"Positive\", \"Negative\", \"Negative\", \"Negative\", \"Negative\", \"Neutral\", \"Neutral\", \"Neutral\", \"Positive\", \"Negative\", \"Positive\", \"Neutral\", \"Negative\", \"Positive\", \"Positive\", \"Neutral\", \"Neutral\", \"Neutral\", \"Neutral\", \"Neutral\", \"Positive\", \"Positive\", \"Neutral\", \"Positive\", \"Neutral\", \"Negative\", \"Neutral\", \"Positive\", \"Negative\", \"Neutral\", \"Neutral\", \"Positive\", \"Neutral\", \"Negative\", \"Positive\", \"Positive\", \"Positive\", \"Neutral\", \"Negative\", \"Negative\", \"Neutral\", \"Negative\", \"Negative\", \"Neutral\", \"Neutral\", \"Neutral\", \"Neutral\", \"Positive\", \"Positive\", \"Positive\", \"Positive\", \"Neutral\", \"Positive\", \"Neutral\", \"Negative\", \"Negative\", \"Neutral\", \"Neutral\", \"Positive\", \"Positive\", \"Positive\", \"Neutral\", \"Neutral\", \"Negative\", \"Negative\", \"Positive\", \"Positive\", \"Negative\", \"Positive\", \"Negative\", \"Positive\", \"Negative\", \"Positive\", \"Neutral\", \"Neutral\", \"Negative\", \"Positive\", \"Positive\", \"Positive\", \"Positive\", \"Negative\", \"Neutral\", \"Neutral\", \"Negative\", \"Neutral\", \"Neutral\", \"Neutral\", \"Neutral\", \"Neutral\", \"Neutral\", \"Negative\", \"Neutral\", \"Neutral\", \"Neutral\", \"Negative\", \"Positive\", \"Neutral\", \"Neutral\", \"Positive\", \"Negative\", \"Positive\", \"Neutral\", \"Neutral\", \"Neutral\", \"Positive\", \"Positive\", \"Positive\", \"Neutral\", \"Positive\", \"Neutral\", \"Positive\", \"Positive\", \"Neutral\", \"Negative\", \"Positive\", \"Negative\", \"Neutral\", \"Positive\", \"Positive\", \"Neutral\", \"Neutral\", \"Negative\", \"Negative\", \"Positive\", \"Negative\", \"Negative\", \"Negative\", \"Neutral\", \"Negative\", \"Neutral\", \"Neutral\", \"Negative\", \"Positive\", \"Neutral\", \"Neutral\", \"Neutral\", \"Neutral\", \"Neutral\", \"Negative\", \"Neutral\", \"Negative\", \"Positive\", \"Negative\", \"Neutral\", \"Neutral\", \"Neutral\", \"Neutral\", \"Neutral\", \"Neutral\", \"Positive\", \"Negative\", \"Negative\", \"Positive\", \"Positive\", \"Neutral\", \"Neutral\", \"Neutral\", \"Positive\", \"Positive\", \"Positive\", \"Neutral\", \"Negative\", \"Positive\", \"Negative\", \"Positive\", \"Neutral\", \"Negative\", \"Neutral\", \"Neutral\", \"Negative\", \"Neutral\", \"Neutral\", \"Positive\", \"Neutral\", \"Negative\", \"Positive\", \"Neutral\", \"Neutral\", \"Positive\", \"Neutral\", \"Neutral\", \"Positive\", \"Positive\", \"Neutral\", \"Neutral\", \"Neutral\", \"Neutral\", \"Neutral\", \"Neutral\", \"Negative\", \"Neutral\", \"Neutral\", \"Negative\", \"Neutral\", \"Negative\", \"Positive\", \"Negative\", \"Negative\", \"Neutral\", \"Neutral\", \"Neutral\", \"Positive\", \"Positive\", \"Positive\", \"Negative\", \"Neutral\", \"Neutral\", \"Negative\", \"Neutral\", \"Neutral\", \"Positive\", \"Neutral\", \"Negative\", \"Negative\", \"Neutral\", \"Neutral\", \"Neutral\", \"Neutral\", \"Neutral\", \"Neutral\", \"Positive\", \"Neutral\", \"Neutral\", \"Neutral\", \"Neutral\", \"Neutral\", \"Neutral\", \"Neutral\", \"Neutral\", \"Positive\", \"Negative\", \"Neutral\", \"Negative\", \"Neutral\", \"Positive\", \"Negative\", \"Neutral\", \"Positive\", \"Neutral\", \"Positive\", \"Neutral\", \"Positive\", \"Negative\", \"Negative\", \"Positive\", \"Positive\", \"Neutral\", \"Positive\", \"Neutral\", \"Neutral\", \"Neutral\", \"Positive\", \"Positive\", \"Negative\", \"Positive\", \"Positive\", \"Positive\", \"Negative\", \"Neutral\", \"Negative\", \"Positive\", \"Neutral\", \"Neutral\", \"Neutral\", \"Neutral\", \"Neutral\", \"Neutral\", \"Neutral\", \"Negative\", \"Negative\", \"Positive\", \"Negative\", \"Neutral\", \"Positive\", \"Neutral\", \"Neutral\", \"Negative\", \"Positive\", \"Neutral\", \"Neutral\", \"Neutral\", \"Negative\", \"Negative\", \"Neutral\", \"Positive\", \"Positive\", \"Neutral\", \"Negative\", \"Neutral\", \"Neutral\", \"Neutral\", \"Negative\", \"Neutral\", \"Negative\", \"Neutral\", \"Negative\", \"Negative\", \"Neutral\", \"Positive\", \"Neutral\", \"Positive\", \"Positive\", \"Neutral\", \"Neutral\", \"Neutral\", \"Neutral\", \"Positive\", \"Negative\", \"Neutral\", \"Neutral\", \"Neutral\", \"Neutral\", \"Neutral\", \"Neutral\", \"Negative\", \"Negative\", \"Neutral\", \"Negative\", \"Neutral\", \"Negative\", \"Positive\", \"Neutral\", \"Negative\", \"Positive\", \"Negative\", \"Neutral\", \"Positive\", \"Neutral\", \"Negative\", \"Neutral\", \"Positive\", \"Neutral\", \"Positive\", \"Neutral\", \"Positive\", \"Neutral\", \"Neutral\", \"Negative\", \"Negative\", \"Negative\", \"Neutral\", \"Neutral\", \"Positive\", \"Negative\", \"Negative\", \"Neutral\", \"Neutral\", \"Positive\", \"Neutral\", \"Negative\", \"Negative\", \"Neutral\", \"Negative\", \"Neutral\", \"Neutral\", \"Positive\", \"Positive\", \"Neutral\", \"Negative\", \"Neutral\", \"Neutral\", \"Neutral\", \"Neutral\", \"Neutral\", \"Negative\", \"Neutral\", \"Neutral\", \"Neutral\", \"Neutral\", \"Negative\", \"Negative\", \"Neutral\", \"Neutral\", \"Negative\", \"Positive\", \"Negative\", \"Negative\", \"Neutral\", \"Negative\", \"Neutral\", \"Positive\", \"Neutral\", \"Negative\", \"Negative\", \"Positive\", \"Neutral\", \"Neutral\", \"Positive\", \"Positive\", \"Positive\", \"Positive\", \"Neutral\", \"Negative\", \"Positive\", \"Negative\", \"Positive\", \"Neutral\", \"Positive\", \"Neutral\", \"Positive\", \"Positive\", \"Neutral\", \"Neutral\", \"Positive\", \"Negative\", \"Neutral\", \"Negative\", \"Neutral\", \"Neutral\", \"Neutral\", \"Negative\", \"Negative\", \"Negative\", \"Neutral\", \"Negative\", \"Positive\", \"Neutral\", \"Neutral\", \"Negative\", \"Negative\", \"Neutral\", \"Neutral\", \"Positive\", \"Neutral\", \"Neutral\", \"Neutral\", \"Neutral\", \"Neutral\", \"Negative\", \"Positive\", \"Neutral\", \"Neutral\", \"Negative\", \"Negative\", \"Negative\", \"Negative\", \"Neutral\", \"Negative\", \"Positive\", \"Positive\", \"Neutral\", \"Positive\", \"Positive\", \"Neutral\", \"Neutral\", \"Positive\", \"Neutral\", \"Neutral\", \"Neutral\", \"Positive\", \"Neutral\", \"Neutral\", \"Neutral\", \"Negative\", \"Negative\", \"Neutral\", \"Positive\", \"Negative\", \"Positive\", \"Negative\", \"Negative\", \"Positive\", \"Neutral\", \"Neutral\", \"Positive\", \"Neutral\", \"Negative\", \"Neutral\", \"Neutral\", \"Positive\", \"Neutral\", \"Neutral\", \"Neutral\", \"Negative\", \"Negative\", \"Positive\", \"Neutral\", \"Neutral\", \"Neutral\", \"Neutral\", \"Neutral\", \"Neutral\", \"Positive\", \"Neutral\", \"Neutral\", \"Neutral\", \"Negative\", \"Positive\", \"Positive\", \"Negative\", \"Neutral\", \"Neutral\", \"Negative\", \"Positive\", \"Negative\", \"Negative\", \"Neutral\", \"Negative\", \"Neutral\", \"Negative\", \"Negative\", \"Negative\", \"Negative\", \"Negative\", \"Positive\", \"Neutral\", \"Neutral\", \"Neutral\", \"Positive\", \"Neutral\", \"Negative\", \"Positive\", \"Neutral\", \"Positive\", \"Negative\", \"Neutral\", \"Negative\", \"Neutral\", \"Neutral\", \"Positive\", \"Neutral\", \"Negative\", \"Neutral\", \"Neutral\", \"Negative\", \"Neutral\", \"Neutral\", \"Positive\", \"Neutral\", \"Positive\", \"Positive\", \"Neutral\", \"Neutral\", \"Positive\", \"Positive\", \"Negative\", \"Neutral\", \"Negative\", \"Negative\", \"Negative\", \"Negative\", \"Neutral\", \"Neutral\", \"Neutral\", \"Neutral\", \"Positive\", \"Negative\", \"Neutral\", \"Negative\", \"Negative\", \"Neutral\", \"Negative\", \"Positive\", \"Neutral\", \"Neutral\", \"Neutral\", \"Negative\", \"Neutral\", \"Neutral\", \"Neutral\", \"Neutral\", \"Positive\", \"Neutral\", \"Neutral\", \"Neutral\", \"Neutral\", \"Neutral\", \"Neutral\", \"Positive\", \"Neutral\", \"Negative\", \"Positive\", \"Positive\", \"Positive\", \"Neutral\", \"Positive\", \"Negative\", \"Neutral\", \"Neutral\", \"Positive\", \"Positive\", \"Neutral\", \"Positive\", \"Negative\", \"Negative\", \"Negative\", \"Neutral\", \"Neutral\", \"Neutral\", \"Positive\", \"Neutral\", \"Negative\", \"Neutral\", \"Negative\", \"Negative\", \"Neutral\", \"Negative\", \"Positive\", \"Neutral\", \"Neutral\", \"Neutral\", \"Neutral\", \"Positive\", \"Neutral\", \"Negative\", \"Positive\", \"Negative\", \"Neutral\", \"Neutral\", \"Negative\", \"Neutral\", \"Neutral\", \"Neutral\", \"Neutral\", \"Neutral\", \"Negative\", \"Positive\", \"Positive\", \"Neutral\", \"Positive\", \"Negative\", \"Positive\", \"Positive\", \"Positive\", \"Positive\", \"Negative\", \"Neutral\", \"Neutral\", \"Neutral\", \"Negative\", \"Neutral\", \"Neutral\", \"Negative\", \"Neutral\", \"Positive\", \"Positive\", \"Positive\", \"Neutral\", \"Neutral\", \"Negative\", \"Neutral\", \"Positive\", \"Neutral\", \"Positive\", \"Negative\", \"Negative\", \"Neutral\", \"Negative\", \"Positive\", \"Negative\", \"Neutral\", \"Neutral\", \"Positive\", \"Neutral\", \"Negative\"], \"legendgroup\": \"\", \"name\": \"\", \"showlegend\": true, \"type\": \"pie\"}],\n",
              "                        {\"legend\": {\"tracegroupgap\": 0}, \"margin\": {\"t\": 60}, \"template\": {\"data\": {\"bar\": [{\"error_x\": {\"color\": \"#2a3f5f\"}, \"error_y\": {\"color\": \"#2a3f5f\"}, \"marker\": {\"line\": {\"color\": \"#E5ECF6\", \"width\": 0.5}}, \"type\": \"bar\"}], \"barpolar\": [{\"marker\": {\"line\": {\"color\": \"#E5ECF6\", \"width\": 0.5}}, \"type\": \"barpolar\"}], \"carpet\": [{\"aaxis\": {\"endlinecolor\": \"#2a3f5f\", \"gridcolor\": \"white\", \"linecolor\": \"white\", \"minorgridcolor\": \"white\", \"startlinecolor\": \"#2a3f5f\"}, \"baxis\": {\"endlinecolor\": \"#2a3f5f\", \"gridcolor\": \"white\", \"linecolor\": \"white\", \"minorgridcolor\": \"white\", \"startlinecolor\": \"#2a3f5f\"}, \"type\": \"carpet\"}], \"choropleth\": [{\"colorbar\": {\"outlinewidth\": 0, \"ticks\": \"\"}, \"type\": \"choropleth\"}], \"contour\": [{\"colorbar\": {\"outlinewidth\": 0, \"ticks\": \"\"}, \"colorscale\": [[0.0, \"#0d0887\"], [0.1111111111111111, \"#46039f\"], [0.2222222222222222, \"#7201a8\"], [0.3333333333333333, \"#9c179e\"], [0.4444444444444444, \"#bd3786\"], [0.5555555555555556, \"#d8576b\"], [0.6666666666666666, \"#ed7953\"], [0.7777777777777778, \"#fb9f3a\"], [0.8888888888888888, \"#fdca26\"], [1.0, \"#f0f921\"]], \"type\": \"contour\"}], \"contourcarpet\": [{\"colorbar\": {\"outlinewidth\": 0, \"ticks\": \"\"}, \"type\": \"contourcarpet\"}], \"heatmap\": [{\"colorbar\": {\"outlinewidth\": 0, \"ticks\": \"\"}, \"colorscale\": [[0.0, \"#0d0887\"], [0.1111111111111111, \"#46039f\"], [0.2222222222222222, \"#7201a8\"], [0.3333333333333333, \"#9c179e\"], [0.4444444444444444, \"#bd3786\"], [0.5555555555555556, \"#d8576b\"], [0.6666666666666666, \"#ed7953\"], [0.7777777777777778, \"#fb9f3a\"], [0.8888888888888888, \"#fdca26\"], [1.0, \"#f0f921\"]], \"type\": \"heatmap\"}], \"heatmapgl\": [{\"colorbar\": {\"outlinewidth\": 0, \"ticks\": \"\"}, \"colorscale\": [[0.0, \"#0d0887\"], [0.1111111111111111, \"#46039f\"], [0.2222222222222222, \"#7201a8\"], [0.3333333333333333, \"#9c179e\"], [0.4444444444444444, \"#bd3786\"], [0.5555555555555556, \"#d8576b\"], [0.6666666666666666, \"#ed7953\"], [0.7777777777777778, \"#fb9f3a\"], [0.8888888888888888, \"#fdca26\"], [1.0, \"#f0f921\"]], \"type\": \"heatmapgl\"}], \"histogram\": [{\"marker\": {\"colorbar\": {\"outlinewidth\": 0, \"ticks\": \"\"}}, \"type\": \"histogram\"}], \"histogram2d\": [{\"colorbar\": {\"outlinewidth\": 0, \"ticks\": \"\"}, \"colorscale\": [[0.0, \"#0d0887\"], [0.1111111111111111, \"#46039f\"], [0.2222222222222222, \"#7201a8\"], [0.3333333333333333, \"#9c179e\"], [0.4444444444444444, \"#bd3786\"], [0.5555555555555556, \"#d8576b\"], [0.6666666666666666, \"#ed7953\"], [0.7777777777777778, \"#fb9f3a\"], [0.8888888888888888, \"#fdca26\"], [1.0, \"#f0f921\"]], \"type\": \"histogram2d\"}], \"histogram2dcontour\": [{\"colorbar\": {\"outlinewidth\": 0, \"ticks\": \"\"}, \"colorscale\": [[0.0, \"#0d0887\"], [0.1111111111111111, \"#46039f\"], [0.2222222222222222, \"#7201a8\"], [0.3333333333333333, \"#9c179e\"], [0.4444444444444444, \"#bd3786\"], [0.5555555555555556, \"#d8576b\"], [0.6666666666666666, \"#ed7953\"], [0.7777777777777778, \"#fb9f3a\"], [0.8888888888888888, \"#fdca26\"], [1.0, \"#f0f921\"]], \"type\": \"histogram2dcontour\"}], \"mesh3d\": [{\"colorbar\": {\"outlinewidth\": 0, \"ticks\": \"\"}, \"type\": \"mesh3d\"}], \"parcoords\": [{\"line\": {\"colorbar\": {\"outlinewidth\": 0, \"ticks\": \"\"}}, \"type\": \"parcoords\"}], \"pie\": [{\"automargin\": true, \"type\": \"pie\"}], \"scatter\": [{\"marker\": {\"colorbar\": {\"outlinewidth\": 0, \"ticks\": \"\"}}, \"type\": \"scatter\"}], \"scatter3d\": [{\"line\": {\"colorbar\": {\"outlinewidth\": 0, \"ticks\": \"\"}}, \"marker\": {\"colorbar\": {\"outlinewidth\": 0, \"ticks\": \"\"}}, \"type\": \"scatter3d\"}], \"scattercarpet\": [{\"marker\": {\"colorbar\": {\"outlinewidth\": 0, \"ticks\": \"\"}}, \"type\": \"scattercarpet\"}], \"scattergeo\": [{\"marker\": {\"colorbar\": {\"outlinewidth\": 0, \"ticks\": \"\"}}, \"type\": \"scattergeo\"}], \"scattergl\": [{\"marker\": {\"colorbar\": {\"outlinewidth\": 0, \"ticks\": \"\"}}, \"type\": \"scattergl\"}], \"scattermapbox\": [{\"marker\": {\"colorbar\": {\"outlinewidth\": 0, \"ticks\": \"\"}}, \"type\": \"scattermapbox\"}], \"scatterpolar\": [{\"marker\": {\"colorbar\": {\"outlinewidth\": 0, \"ticks\": \"\"}}, \"type\": \"scatterpolar\"}], \"scatterpolargl\": [{\"marker\": {\"colorbar\": {\"outlinewidth\": 0, \"ticks\": \"\"}}, \"type\": \"scatterpolargl\"}], \"scatterternary\": [{\"marker\": {\"colorbar\": {\"outlinewidth\": 0, \"ticks\": \"\"}}, \"type\": \"scatterternary\"}], \"surface\": [{\"colorbar\": {\"outlinewidth\": 0, \"ticks\": \"\"}, \"colorscale\": [[0.0, \"#0d0887\"], [0.1111111111111111, \"#46039f\"], [0.2222222222222222, \"#7201a8\"], [0.3333333333333333, \"#9c179e\"], [0.4444444444444444, \"#bd3786\"], [0.5555555555555556, \"#d8576b\"], [0.6666666666666666, \"#ed7953\"], [0.7777777777777778, \"#fb9f3a\"], [0.8888888888888888, \"#fdca26\"], [1.0, \"#f0f921\"]], \"type\": \"surface\"}], \"table\": [{\"cells\": {\"fill\": {\"color\": \"#EBF0F8\"}, \"line\": {\"color\": \"white\"}}, \"header\": {\"fill\": {\"color\": \"#C8D4E3\"}, \"line\": {\"color\": \"white\"}}, \"type\": \"table\"}]}, \"layout\": {\"annotationdefaults\": {\"arrowcolor\": \"#2a3f5f\", \"arrowhead\": 0, \"arrowwidth\": 1}, \"coloraxis\": {\"colorbar\": {\"outlinewidth\": 0, \"ticks\": \"\"}}, \"colorscale\": {\"diverging\": [[0, \"#8e0152\"], [0.1, \"#c51b7d\"], [0.2, \"#de77ae\"], [0.3, \"#f1b6da\"], [0.4, \"#fde0ef\"], [0.5, \"#f7f7f7\"], [0.6, \"#e6f5d0\"], [0.7, \"#b8e186\"], [0.8, \"#7fbc41\"], [0.9, \"#4d9221\"], [1, \"#276419\"]], \"sequential\": [[0.0, \"#0d0887\"], [0.1111111111111111, \"#46039f\"], [0.2222222222222222, \"#7201a8\"], [0.3333333333333333, \"#9c179e\"], [0.4444444444444444, \"#bd3786\"], [0.5555555555555556, \"#d8576b\"], [0.6666666666666666, \"#ed7953\"], [0.7777777777777778, \"#fb9f3a\"], [0.8888888888888888, \"#fdca26\"], [1.0, \"#f0f921\"]], \"sequentialminus\": [[0.0, \"#0d0887\"], [0.1111111111111111, \"#46039f\"], [0.2222222222222222, \"#7201a8\"], [0.3333333333333333, \"#9c179e\"], [0.4444444444444444, \"#bd3786\"], [0.5555555555555556, \"#d8576b\"], [0.6666666666666666, \"#ed7953\"], [0.7777777777777778, \"#fb9f3a\"], [0.8888888888888888, \"#fdca26\"], [1.0, \"#f0f921\"]]}, \"colorway\": [\"#636efa\", \"#EF553B\", \"#00cc96\", \"#ab63fa\", \"#FFA15A\", \"#19d3f3\", \"#FF6692\", \"#B6E880\", \"#FF97FF\", \"#FECB52\"], \"font\": {\"color\": \"#2a3f5f\"}, \"geo\": {\"bgcolor\": \"white\", \"lakecolor\": \"white\", \"landcolor\": \"#E5ECF6\", \"showlakes\": true, \"showland\": true, \"subunitcolor\": \"white\"}, \"hoverlabel\": {\"align\": \"left\"}, \"hovermode\": \"closest\", \"mapbox\": {\"style\": \"light\"}, \"paper_bgcolor\": \"white\", \"plot_bgcolor\": \"#E5ECF6\", \"polar\": {\"angularaxis\": {\"gridcolor\": \"white\", \"linecolor\": \"white\", \"ticks\": \"\"}, \"bgcolor\": \"#E5ECF6\", \"radialaxis\": {\"gridcolor\": \"white\", \"linecolor\": \"white\", \"ticks\": \"\"}}, \"scene\": {\"xaxis\": {\"backgroundcolor\": \"#E5ECF6\", \"gridcolor\": \"white\", \"gridwidth\": 2, \"linecolor\": \"white\", \"showbackground\": true, \"ticks\": \"\", \"zerolinecolor\": \"white\"}, \"yaxis\": {\"backgroundcolor\": \"#E5ECF6\", \"gridcolor\": \"white\", \"gridwidth\": 2, \"linecolor\": \"white\", \"showbackground\": true, \"ticks\": \"\", \"zerolinecolor\": \"white\"}, \"zaxis\": {\"backgroundcolor\": \"#E5ECF6\", \"gridcolor\": \"white\", \"gridwidth\": 2, \"linecolor\": \"white\", \"showbackground\": true, \"ticks\": \"\", \"zerolinecolor\": \"white\"}}, \"shapedefaults\": {\"line\": {\"color\": \"#2a3f5f\"}}, \"ternary\": {\"aaxis\": {\"gridcolor\": \"white\", \"linecolor\": \"white\", \"ticks\": \"\"}, \"baxis\": {\"gridcolor\": \"white\", \"linecolor\": \"white\", \"ticks\": \"\"}, \"bgcolor\": \"#E5ECF6\", \"caxis\": {\"gridcolor\": \"white\", \"linecolor\": \"white\", \"ticks\": \"\"}}, \"title\": {\"x\": 0.05}, \"xaxis\": {\"automargin\": true, \"gridcolor\": \"white\", \"linecolor\": \"white\", \"ticks\": \"\", \"title\": {\"standoff\": 15}, \"zerolinecolor\": \"white\", \"zerolinewidth\": 2}, \"yaxis\": {\"automargin\": true, \"gridcolor\": \"white\", \"linecolor\": \"white\", \"ticks\": \"\", \"title\": {\"standoff\": 15}, \"zerolinecolor\": \"white\", \"zerolinewidth\": 2}}}},\n",
              "                        {\"responsive\": true}\n",
              "                    ).then(function(){\n",
              "                            \n",
              "var gd = document.getElementById('b987eae7-9929-48b7-b72a-98f7276eea9f');\n",
              "var x = new MutationObserver(function (mutations, observer) {{\n",
              "        var display = window.getComputedStyle(gd).display;\n",
              "        if (!display || display === 'none') {{\n",
              "            console.log([gd, 'removed!']);\n",
              "            Plotly.purge(gd);\n",
              "            observer.disconnect();\n",
              "        }}\n",
              "}});\n",
              "\n",
              "// Listen for the removal of the full notebook cells\n",
              "var notebookContainer = gd.closest('#notebook-container');\n",
              "if (notebookContainer) {{\n",
              "    x.observe(notebookContainer, {childList: true});\n",
              "}}\n",
              "\n",
              "// Listen for the clearing of the current output cell\n",
              "var outputEl = gd.closest('.output');\n",
              "if (outputEl) {{\n",
              "    x.observe(outputEl, {childList: true});\n",
              "}}\n",
              "\n",
              "                        })\n",
              "                };\n",
              "                \n",
              "            </script>\n",
              "        </div>\n",
              "</body>\n",
              "</html>"
            ]
          },
          "metadata": {}
        }
      ]
    },
    {
      "cell_type": "markdown",
      "source": [
        "# **D. Implications**"
      ],
      "metadata": {
        "id": "Gs9ZeJ-PY_GK"
      }
    },
    {
      "cell_type": "markdown",
      "source": [
        "**For the hiring firm:**\n",
        "\n",
        "According to the dataset, twitter sentiments alone cannot give any meaningful indication as to whether or not tweets and their emotions have any bearing on COVID-19's death total death count. Better methodologies must be made: perhaps tweets of a certain popularity (perhaps a ratio between likes, retweets, sharing, etc) should be curated into a dataset. Simply looking at tweets at random is a good measure against bias however there is too much statistical noise within the dataset to make any meaningful correlations.\n",
        "\n",
        "**For Social Science:**\n",
        "\n",
        "Better methodologies in general should be developed when looking at social media posts. Considerable weight should be given to popular/viral content when curating a dataset as that is a category of data that inherently has the most interaction and 'social proof' due to its popularity on the website."
      ],
      "metadata": {
        "id": "ewiQlNpNa4Vp"
      }
    },
    {
      "cell_type": "markdown",
      "source": [
        "# **E. Learning Outcomes**"
      ],
      "metadata": {
        "id": "G_BFwxSbczFC"
      }
    },
    {
      "cell_type": "markdown",
      "source": [
        "The more I developed my analytical skills, the more I realized that my project had a lot of statsitcal noise. First, I should have developed a better methodolgy for curating tweets. I simply used TWINT to currated 1300+ tweets randomly according to a fixed criteria. I did not add factors such as popularity of a tweet or its general social-media interaction score (primarily because I do not know how to do that yet). \n",
        "\n",
        "If I were to do this project again, I would start off by curating textual data that had a certain virality to it. I would alone curate tweets with specific likes, shares, and comments. \n",
        "\n",
        "This would be a difficult task, as I don't know if twitter has an ELO score for tweets: If twitter had a virality ratio for a tweet I would likely curate on that factor as it would come from a class of textual data that has genderated a certain amount of influence. \n",
        "\n",
        "However, this would add additional questions that would have to be considered as well: How much of the virality score would be coming from a particular state? \n",
        "\n",
        "For instance, if a score of 10 is VERY viral and that tweet comes from New York, are New York twitter users responsible for that tweet being a score of 10 or could it be users from another geographic location? This is a fair question because I would want to know how much influence the tweet has in its geographic location. It may be possible to develope a webscraper capable of achieving this goal, but It may involve many calculations that still would not gaurantee the results being adequately parsed."
      ],
      "metadata": {
        "id": "idrRi3xYc3rE"
      }
    }
  ]
}